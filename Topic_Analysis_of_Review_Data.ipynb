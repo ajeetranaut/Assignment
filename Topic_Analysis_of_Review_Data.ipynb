{
  "nbformat": 4,
  "nbformat_minor": 0,
  "metadata": {
    "colab": {
      "provenance": [],
      "authorship_tag": "ABX9TyN+//IOd4QSXEEe8jGmS14q",
      "include_colab_link": true
    },
    "kernelspec": {
      "name": "python3",
      "display_name": "Python 3"
    },
    "language_info": {
      "name": "python"
    }
  },
  "cells": [
    {
      "cell_type": "markdown",
      "metadata": {
        "id": "view-in-github",
        "colab_type": "text"
      },
      "source": [
        "<a href=\"https://colab.research.google.com/github/ajeetranaut/Assignment/blob/master/Topic_Analysis_of_Review_Data.ipynb\" target=\"_parent\"><img src=\"https://colab.research.google.com/assets/colab-badge.svg\" alt=\"Open In Colab\"/></a>"
      ]
    },
    {
      "cell_type": "markdown",
      "source": [
        "### Topic Analysis of Review Data\n",
        "Project 1 \n",
        "\n",
        "DESCRIPTION\n",
        "\n",
        "Help a leading mobile brand understand the voice of the customer by analyzing the reviews of their product on Amazon and the topics that customers are talking about. You will perform topic modeling on specific parts of speech. You’ll finally interpret the emerging topics.\n",
        "\n",
        "Problem Statement: \n",
        "\n",
        "A popular mobile phone brand, Lenovo has launched their budget smartphone in the Indian market. The client wants to understand the VOC (voice of the customer) on the product. This will be useful to not just evaluate the current product, but to also get some direction for developing the product pipeline. The client is particularly interested in the different aspects that customers care about. Product reviews by customers on a leading e-commerce site should provide a good view.\n",
        "\n",
        "Domain: Amazon reviews for a leading phone brand"
      ],
      "metadata": {
        "id": "Q059kHTKvk4M"
      }
    },
    {
      "cell_type": "code",
      "execution_count": 1,
      "metadata": {
        "id": "38BxKPeevZQc"
      },
      "outputs": [],
      "source": [
        "import warnings\n",
        "warnings.filterwarnings('ignore', category=DeprecationWarning)"
      ]
    },
    {
      "cell_type": "code",
      "source": [
        "from google.colab import files\n",
        "uploaded = files.upload()"
      ],
      "metadata": {
        "colab": {
          "base_uri": "https://localhost:8080/",
          "height": 73
        },
        "id": "_eYB9mnZvyDi",
        "outputId": "1b1b7608-f7d9-4823-f0c7-8a70d7aa8c96"
      },
      "execution_count": 2,
      "outputs": [
        {
          "output_type": "display_data",
          "data": {
            "text/plain": [
              "<IPython.core.display.HTML object>"
            ],
            "text/html": [
              "\n",
              "     <input type=\"file\" id=\"files-dd6e4509-aab7-4131-90df-1ba187fc03dc\" name=\"files[]\" multiple disabled\n",
              "        style=\"border:none\" />\n",
              "     <output id=\"result-dd6e4509-aab7-4131-90df-1ba187fc03dc\">\n",
              "      Upload widget is only available when the cell has been executed in the\n",
              "      current browser session. Please rerun this cell to enable.\n",
              "      </output>\n",
              "      <script>// Copyright 2017 Google LLC\n",
              "//\n",
              "// Licensed under the Apache License, Version 2.0 (the \"License\");\n",
              "// you may not use this file except in compliance with the License.\n",
              "// You may obtain a copy of the License at\n",
              "//\n",
              "//      http://www.apache.org/licenses/LICENSE-2.0\n",
              "//\n",
              "// Unless required by applicable law or agreed to in writing, software\n",
              "// distributed under the License is distributed on an \"AS IS\" BASIS,\n",
              "// WITHOUT WARRANTIES OR CONDITIONS OF ANY KIND, either express or implied.\n",
              "// See the License for the specific language governing permissions and\n",
              "// limitations under the License.\n",
              "\n",
              "/**\n",
              " * @fileoverview Helpers for google.colab Python module.\n",
              " */\n",
              "(function(scope) {\n",
              "function span(text, styleAttributes = {}) {\n",
              "  const element = document.createElement('span');\n",
              "  element.textContent = text;\n",
              "  for (const key of Object.keys(styleAttributes)) {\n",
              "    element.style[key] = styleAttributes[key];\n",
              "  }\n",
              "  return element;\n",
              "}\n",
              "\n",
              "// Max number of bytes which will be uploaded at a time.\n",
              "const MAX_PAYLOAD_SIZE = 100 * 1024;\n",
              "\n",
              "function _uploadFiles(inputId, outputId) {\n",
              "  const steps = uploadFilesStep(inputId, outputId);\n",
              "  const outputElement = document.getElementById(outputId);\n",
              "  // Cache steps on the outputElement to make it available for the next call\n",
              "  // to uploadFilesContinue from Python.\n",
              "  outputElement.steps = steps;\n",
              "\n",
              "  return _uploadFilesContinue(outputId);\n",
              "}\n",
              "\n",
              "// This is roughly an async generator (not supported in the browser yet),\n",
              "// where there are multiple asynchronous steps and the Python side is going\n",
              "// to poll for completion of each step.\n",
              "// This uses a Promise to block the python side on completion of each step,\n",
              "// then passes the result of the previous step as the input to the next step.\n",
              "function _uploadFilesContinue(outputId) {\n",
              "  const outputElement = document.getElementById(outputId);\n",
              "  const steps = outputElement.steps;\n",
              "\n",
              "  const next = steps.next(outputElement.lastPromiseValue);\n",
              "  return Promise.resolve(next.value.promise).then((value) => {\n",
              "    // Cache the last promise value to make it available to the next\n",
              "    // step of the generator.\n",
              "    outputElement.lastPromiseValue = value;\n",
              "    return next.value.response;\n",
              "  });\n",
              "}\n",
              "\n",
              "/**\n",
              " * Generator function which is called between each async step of the upload\n",
              " * process.\n",
              " * @param {string} inputId Element ID of the input file picker element.\n",
              " * @param {string} outputId Element ID of the output display.\n",
              " * @return {!Iterable<!Object>} Iterable of next steps.\n",
              " */\n",
              "function* uploadFilesStep(inputId, outputId) {\n",
              "  const inputElement = document.getElementById(inputId);\n",
              "  inputElement.disabled = false;\n",
              "\n",
              "  const outputElement = document.getElementById(outputId);\n",
              "  outputElement.innerHTML = '';\n",
              "\n",
              "  const pickedPromise = new Promise((resolve) => {\n",
              "    inputElement.addEventListener('change', (e) => {\n",
              "      resolve(e.target.files);\n",
              "    });\n",
              "  });\n",
              "\n",
              "  const cancel = document.createElement('button');\n",
              "  inputElement.parentElement.appendChild(cancel);\n",
              "  cancel.textContent = 'Cancel upload';\n",
              "  const cancelPromise = new Promise((resolve) => {\n",
              "    cancel.onclick = () => {\n",
              "      resolve(null);\n",
              "    };\n",
              "  });\n",
              "\n",
              "  // Wait for the user to pick the files.\n",
              "  const files = yield {\n",
              "    promise: Promise.race([pickedPromise, cancelPromise]),\n",
              "    response: {\n",
              "      action: 'starting',\n",
              "    }\n",
              "  };\n",
              "\n",
              "  cancel.remove();\n",
              "\n",
              "  // Disable the input element since further picks are not allowed.\n",
              "  inputElement.disabled = true;\n",
              "\n",
              "  if (!files) {\n",
              "    return {\n",
              "      response: {\n",
              "        action: 'complete',\n",
              "      }\n",
              "    };\n",
              "  }\n",
              "\n",
              "  for (const file of files) {\n",
              "    const li = document.createElement('li');\n",
              "    li.append(span(file.name, {fontWeight: 'bold'}));\n",
              "    li.append(span(\n",
              "        `(${file.type || 'n/a'}) - ${file.size} bytes, ` +\n",
              "        `last modified: ${\n",
              "            file.lastModifiedDate ? file.lastModifiedDate.toLocaleDateString() :\n",
              "                                    'n/a'} - `));\n",
              "    const percent = span('0% done');\n",
              "    li.appendChild(percent);\n",
              "\n",
              "    outputElement.appendChild(li);\n",
              "\n",
              "    const fileDataPromise = new Promise((resolve) => {\n",
              "      const reader = new FileReader();\n",
              "      reader.onload = (e) => {\n",
              "        resolve(e.target.result);\n",
              "      };\n",
              "      reader.readAsArrayBuffer(file);\n",
              "    });\n",
              "    // Wait for the data to be ready.\n",
              "    let fileData = yield {\n",
              "      promise: fileDataPromise,\n",
              "      response: {\n",
              "        action: 'continue',\n",
              "      }\n",
              "    };\n",
              "\n",
              "    // Use a chunked sending to avoid message size limits. See b/62115660.\n",
              "    let position = 0;\n",
              "    do {\n",
              "      const length = Math.min(fileData.byteLength - position, MAX_PAYLOAD_SIZE);\n",
              "      const chunk = new Uint8Array(fileData, position, length);\n",
              "      position += length;\n",
              "\n",
              "      const base64 = btoa(String.fromCharCode.apply(null, chunk));\n",
              "      yield {\n",
              "        response: {\n",
              "          action: 'append',\n",
              "          file: file.name,\n",
              "          data: base64,\n",
              "        },\n",
              "      };\n",
              "\n",
              "      let percentDone = fileData.byteLength === 0 ?\n",
              "          100 :\n",
              "          Math.round((position / fileData.byteLength) * 100);\n",
              "      percent.textContent = `${percentDone}% done`;\n",
              "\n",
              "    } while (position < fileData.byteLength);\n",
              "  }\n",
              "\n",
              "  // All done.\n",
              "  yield {\n",
              "    response: {\n",
              "      action: 'complete',\n",
              "    }\n",
              "  };\n",
              "}\n",
              "\n",
              "scope.google = scope.google || {};\n",
              "scope.google.colab = scope.google.colab || {};\n",
              "scope.google.colab._files = {\n",
              "  _uploadFiles,\n",
              "  _uploadFilesContinue,\n",
              "};\n",
              "})(self);\n",
              "</script> "
            ]
          },
          "metadata": {}
        },
        {
          "output_type": "stream",
          "name": "stdout",
          "text": [
            "Saving K8 Reviews v0.2.csv to K8 Reviews v0.2.csv\n"
          ]
        }
      ]
    },
    {
      "cell_type": "code",
      "source": [
        "import pandas as pd\n",
        "review = pd.read_csv('K8 Reviews v0.2.csv')\n",
        "review.head()"
      ],
      "metadata": {
        "colab": {
          "base_uri": "https://localhost:8080/",
          "height": 206
        },
        "id": "tP5FDy7Cv32i",
        "outputId": "7140febd-3007-45ac-f91a-a2b45840b704"
      },
      "execution_count": 9,
      "outputs": [
        {
          "output_type": "execute_result",
          "data": {
            "text/plain": [
              "   sentiment                                             review\n",
              "0          1             Good but need updates and improvements\n",
              "1          0  Worst mobile i have bought ever, Battery is dr...\n",
              "2          1  when I will get my 10% cash back.... its alrea...\n",
              "3          1                                               Good\n",
              "4          0  The worst phone everThey have changed the last..."
            ],
            "text/html": [
              "\n",
              "  <div id=\"df-bd6b152e-4bcf-468b-b433-20e43834017b\">\n",
              "    <div class=\"colab-df-container\">\n",
              "      <div>\n",
              "<style scoped>\n",
              "    .dataframe tbody tr th:only-of-type {\n",
              "        vertical-align: middle;\n",
              "    }\n",
              "\n",
              "    .dataframe tbody tr th {\n",
              "        vertical-align: top;\n",
              "    }\n",
              "\n",
              "    .dataframe thead th {\n",
              "        text-align: right;\n",
              "    }\n",
              "</style>\n",
              "<table border=\"1\" class=\"dataframe\">\n",
              "  <thead>\n",
              "    <tr style=\"text-align: right;\">\n",
              "      <th></th>\n",
              "      <th>sentiment</th>\n",
              "      <th>review</th>\n",
              "    </tr>\n",
              "  </thead>\n",
              "  <tbody>\n",
              "    <tr>\n",
              "      <th>0</th>\n",
              "      <td>1</td>\n",
              "      <td>Good but need updates and improvements</td>\n",
              "    </tr>\n",
              "    <tr>\n",
              "      <th>1</th>\n",
              "      <td>0</td>\n",
              "      <td>Worst mobile i have bought ever, Battery is dr...</td>\n",
              "    </tr>\n",
              "    <tr>\n",
              "      <th>2</th>\n",
              "      <td>1</td>\n",
              "      <td>when I will get my 10% cash back.... its alrea...</td>\n",
              "    </tr>\n",
              "    <tr>\n",
              "      <th>3</th>\n",
              "      <td>1</td>\n",
              "      <td>Good</td>\n",
              "    </tr>\n",
              "    <tr>\n",
              "      <th>4</th>\n",
              "      <td>0</td>\n",
              "      <td>The worst phone everThey have changed the last...</td>\n",
              "    </tr>\n",
              "  </tbody>\n",
              "</table>\n",
              "</div>\n",
              "      <button class=\"colab-df-convert\" onclick=\"convertToInteractive('df-bd6b152e-4bcf-468b-b433-20e43834017b')\"\n",
              "              title=\"Convert this dataframe to an interactive table.\"\n",
              "              style=\"display:none;\">\n",
              "        \n",
              "  <svg xmlns=\"http://www.w3.org/2000/svg\" height=\"24px\"viewBox=\"0 0 24 24\"\n",
              "       width=\"24px\">\n",
              "    <path d=\"M0 0h24v24H0V0z\" fill=\"none\"/>\n",
              "    <path d=\"M18.56 5.44l.94 2.06.94-2.06 2.06-.94-2.06-.94-.94-2.06-.94 2.06-2.06.94zm-11 1L8.5 8.5l.94-2.06 2.06-.94-2.06-.94L8.5 2.5l-.94 2.06-2.06.94zm10 10l.94 2.06.94-2.06 2.06-.94-2.06-.94-.94-2.06-.94 2.06-2.06.94z\"/><path d=\"M17.41 7.96l-1.37-1.37c-.4-.4-.92-.59-1.43-.59-.52 0-1.04.2-1.43.59L10.3 9.45l-7.72 7.72c-.78.78-.78 2.05 0 2.83L4 21.41c.39.39.9.59 1.41.59.51 0 1.02-.2 1.41-.59l7.78-7.78 2.81-2.81c.8-.78.8-2.07 0-2.86zM5.41 20L4 18.59l7.72-7.72 1.47 1.35L5.41 20z\"/>\n",
              "  </svg>\n",
              "      </button>\n",
              "      \n",
              "  <style>\n",
              "    .colab-df-container {\n",
              "      display:flex;\n",
              "      flex-wrap:wrap;\n",
              "      gap: 12px;\n",
              "    }\n",
              "\n",
              "    .colab-df-convert {\n",
              "      background-color: #E8F0FE;\n",
              "      border: none;\n",
              "      border-radius: 50%;\n",
              "      cursor: pointer;\n",
              "      display: none;\n",
              "      fill: #1967D2;\n",
              "      height: 32px;\n",
              "      padding: 0 0 0 0;\n",
              "      width: 32px;\n",
              "    }\n",
              "\n",
              "    .colab-df-convert:hover {\n",
              "      background-color: #E2EBFA;\n",
              "      box-shadow: 0px 1px 2px rgba(60, 64, 67, 0.3), 0px 1px 3px 1px rgba(60, 64, 67, 0.15);\n",
              "      fill: #174EA6;\n",
              "    }\n",
              "\n",
              "    [theme=dark] .colab-df-convert {\n",
              "      background-color: #3B4455;\n",
              "      fill: #D2E3FC;\n",
              "    }\n",
              "\n",
              "    [theme=dark] .colab-df-convert:hover {\n",
              "      background-color: #434B5C;\n",
              "      box-shadow: 0px 1px 3px 1px rgba(0, 0, 0, 0.15);\n",
              "      filter: drop-shadow(0px 1px 2px rgba(0, 0, 0, 0.3));\n",
              "      fill: #FFFFFF;\n",
              "    }\n",
              "  </style>\n",
              "\n",
              "      <script>\n",
              "        const buttonEl =\n",
              "          document.querySelector('#df-bd6b152e-4bcf-468b-b433-20e43834017b button.colab-df-convert');\n",
              "        buttonEl.style.display =\n",
              "          google.colab.kernel.accessAllowed ? 'block' : 'none';\n",
              "\n",
              "        async function convertToInteractive(key) {\n",
              "          const element = document.querySelector('#df-bd6b152e-4bcf-468b-b433-20e43834017b');\n",
              "          const dataTable =\n",
              "            await google.colab.kernel.invokeFunction('convertToInteractive',\n",
              "                                                     [key], {});\n",
              "          if (!dataTable) return;\n",
              "\n",
              "          const docLinkHtml = 'Like what you see? Visit the ' +\n",
              "            '<a target=\"_blank\" href=https://colab.research.google.com/notebooks/data_table.ipynb>data table notebook</a>'\n",
              "            + ' to learn more about interactive tables.';\n",
              "          element.innerHTML = '';\n",
              "          dataTable['output_type'] = 'display_data';\n",
              "          await google.colab.output.renderOutput(dataTable, element);\n",
              "          const docLink = document.createElement('div');\n",
              "          docLink.innerHTML = docLinkHtml;\n",
              "          element.appendChild(docLink);\n",
              "        }\n",
              "      </script>\n",
              "    </div>\n",
              "  </div>\n",
              "  "
            ]
          },
          "metadata": {},
          "execution_count": 9
        }
      ]
    },
    {
      "cell_type": "code",
      "source": [
        "review_data = review.drop('sentiment',axis=1)\n",
        "review_data.head()"
      ],
      "metadata": {
        "colab": {
          "base_uri": "https://localhost:8080/",
          "height": 206
        },
        "id": "fboB1FDGwK8_",
        "outputId": "5dbdcb99-79ab-4f5e-add8-39868fee62dd"
      },
      "execution_count": 10,
      "outputs": [
        {
          "output_type": "execute_result",
          "data": {
            "text/plain": [
              "                                              review\n",
              "0             Good but need updates and improvements\n",
              "1  Worst mobile i have bought ever, Battery is dr...\n",
              "2  when I will get my 10% cash back.... its alrea...\n",
              "3                                               Good\n",
              "4  The worst phone everThey have changed the last..."
            ],
            "text/html": [
              "\n",
              "  <div id=\"df-bd8d875e-b66d-48bb-a631-d12fff379dfc\">\n",
              "    <div class=\"colab-df-container\">\n",
              "      <div>\n",
              "<style scoped>\n",
              "    .dataframe tbody tr th:only-of-type {\n",
              "        vertical-align: middle;\n",
              "    }\n",
              "\n",
              "    .dataframe tbody tr th {\n",
              "        vertical-align: top;\n",
              "    }\n",
              "\n",
              "    .dataframe thead th {\n",
              "        text-align: right;\n",
              "    }\n",
              "</style>\n",
              "<table border=\"1\" class=\"dataframe\">\n",
              "  <thead>\n",
              "    <tr style=\"text-align: right;\">\n",
              "      <th></th>\n",
              "      <th>review</th>\n",
              "    </tr>\n",
              "  </thead>\n",
              "  <tbody>\n",
              "    <tr>\n",
              "      <th>0</th>\n",
              "      <td>Good but need updates and improvements</td>\n",
              "    </tr>\n",
              "    <tr>\n",
              "      <th>1</th>\n",
              "      <td>Worst mobile i have bought ever, Battery is dr...</td>\n",
              "    </tr>\n",
              "    <tr>\n",
              "      <th>2</th>\n",
              "      <td>when I will get my 10% cash back.... its alrea...</td>\n",
              "    </tr>\n",
              "    <tr>\n",
              "      <th>3</th>\n",
              "      <td>Good</td>\n",
              "    </tr>\n",
              "    <tr>\n",
              "      <th>4</th>\n",
              "      <td>The worst phone everThey have changed the last...</td>\n",
              "    </tr>\n",
              "  </tbody>\n",
              "</table>\n",
              "</div>\n",
              "      <button class=\"colab-df-convert\" onclick=\"convertToInteractive('df-bd8d875e-b66d-48bb-a631-d12fff379dfc')\"\n",
              "              title=\"Convert this dataframe to an interactive table.\"\n",
              "              style=\"display:none;\">\n",
              "        \n",
              "  <svg xmlns=\"http://www.w3.org/2000/svg\" height=\"24px\"viewBox=\"0 0 24 24\"\n",
              "       width=\"24px\">\n",
              "    <path d=\"M0 0h24v24H0V0z\" fill=\"none\"/>\n",
              "    <path d=\"M18.56 5.44l.94 2.06.94-2.06 2.06-.94-2.06-.94-.94-2.06-.94 2.06-2.06.94zm-11 1L8.5 8.5l.94-2.06 2.06-.94-2.06-.94L8.5 2.5l-.94 2.06-2.06.94zm10 10l.94 2.06.94-2.06 2.06-.94-2.06-.94-.94-2.06-.94 2.06-2.06.94z\"/><path d=\"M17.41 7.96l-1.37-1.37c-.4-.4-.92-.59-1.43-.59-.52 0-1.04.2-1.43.59L10.3 9.45l-7.72 7.72c-.78.78-.78 2.05 0 2.83L4 21.41c.39.39.9.59 1.41.59.51 0 1.02-.2 1.41-.59l7.78-7.78 2.81-2.81c.8-.78.8-2.07 0-2.86zM5.41 20L4 18.59l7.72-7.72 1.47 1.35L5.41 20z\"/>\n",
              "  </svg>\n",
              "      </button>\n",
              "      \n",
              "  <style>\n",
              "    .colab-df-container {\n",
              "      display:flex;\n",
              "      flex-wrap:wrap;\n",
              "      gap: 12px;\n",
              "    }\n",
              "\n",
              "    .colab-df-convert {\n",
              "      background-color: #E8F0FE;\n",
              "      border: none;\n",
              "      border-radius: 50%;\n",
              "      cursor: pointer;\n",
              "      display: none;\n",
              "      fill: #1967D2;\n",
              "      height: 32px;\n",
              "      padding: 0 0 0 0;\n",
              "      width: 32px;\n",
              "    }\n",
              "\n",
              "    .colab-df-convert:hover {\n",
              "      background-color: #E2EBFA;\n",
              "      box-shadow: 0px 1px 2px rgba(60, 64, 67, 0.3), 0px 1px 3px 1px rgba(60, 64, 67, 0.15);\n",
              "      fill: #174EA6;\n",
              "    }\n",
              "\n",
              "    [theme=dark] .colab-df-convert {\n",
              "      background-color: #3B4455;\n",
              "      fill: #D2E3FC;\n",
              "    }\n",
              "\n",
              "    [theme=dark] .colab-df-convert:hover {\n",
              "      background-color: #434B5C;\n",
              "      box-shadow: 0px 1px 3px 1px rgba(0, 0, 0, 0.15);\n",
              "      filter: drop-shadow(0px 1px 2px rgba(0, 0, 0, 0.3));\n",
              "      fill: #FFFFFF;\n",
              "    }\n",
              "  </style>\n",
              "\n",
              "      <script>\n",
              "        const buttonEl =\n",
              "          document.querySelector('#df-bd8d875e-b66d-48bb-a631-d12fff379dfc button.colab-df-convert');\n",
              "        buttonEl.style.display =\n",
              "          google.colab.kernel.accessAllowed ? 'block' : 'none';\n",
              "\n",
              "        async function convertToInteractive(key) {\n",
              "          const element = document.querySelector('#df-bd8d875e-b66d-48bb-a631-d12fff379dfc');\n",
              "          const dataTable =\n",
              "            await google.colab.kernel.invokeFunction('convertToInteractive',\n",
              "                                                     [key], {});\n",
              "          if (!dataTable) return;\n",
              "\n",
              "          const docLinkHtml = 'Like what you see? Visit the ' +\n",
              "            '<a target=\"_blank\" href=https://colab.research.google.com/notebooks/data_table.ipynb>data table notebook</a>'\n",
              "            + ' to learn more about interactive tables.';\n",
              "          element.innerHTML = '';\n",
              "          dataTable['output_type'] = 'display_data';\n",
              "          await google.colab.output.renderOutput(dataTable, element);\n",
              "          const docLink = document.createElement('div');\n",
              "          docLink.innerHTML = docLinkHtml;\n",
              "          element.appendChild(docLink);\n",
              "        }\n",
              "      </script>\n",
              "    </div>\n",
              "  </div>\n",
              "  "
            ]
          },
          "metadata": {},
          "execution_count": 10
        }
      ]
    },
    {
      "cell_type": "code",
      "source": [
        "review_data.shape\n",
        "\n",
        "# We have 14K reviews "
      ],
      "metadata": {
        "colab": {
          "base_uri": "https://localhost:8080/"
        },
        "id": "VSsjC3k2wVQz",
        "outputId": "82a4d558-4688-4a45-a231-15129f963c36"
      },
      "execution_count": 11,
      "outputs": [
        {
          "output_type": "execute_result",
          "data": {
            "text/plain": [
              "(14675, 1)"
            ]
          },
          "metadata": {},
          "execution_count": 11
        }
      ]
    },
    {
      "cell_type": "markdown",
      "source": [
        "### Data Pre-Processing\n"
      ],
      "metadata": {
        "id": "EN5m52jpvk6S"
      }
    },
    {
      "cell_type": "markdown",
      "source": [
        "### 1. Replacing/Dropping NULL values"
      ],
      "metadata": {
        "id": "tnS9CWVRvk9q"
      }
    },
    {
      "cell_type": "code",
      "source": [
        "review_data.isnull().sum()\n",
        "\n",
        "# Since our data has no null values will be skip this step"
      ],
      "metadata": {
        "colab": {
          "base_uri": "https://localhost:8080/"
        },
        "id": "szh34tw3w1m0",
        "outputId": "e214fa14-4934-4cac-c839-410ed49563bd"
      },
      "execution_count": 12,
      "outputs": [
        {
          "output_type": "execute_result",
          "data": {
            "text/plain": [
              "review    0\n",
              "dtype: int64"
            ]
          },
          "metadata": {},
          "execution_count": 12
        }
      ]
    },
    {
      "cell_type": "markdown",
      "source": [
        "### 2. Converting to LOWER case"
      ],
      "metadata": {
        "id": "h-MweH8MxNOI"
      }
    },
    {
      "cell_type": "code",
      "source": [
        "review_data['clean_review'] = review_data['review'].apply(lambda x: str(x).lower())\n",
        "review_data.head()"
      ],
      "metadata": {
        "colab": {
          "base_uri": "https://localhost:8080/",
          "height": 206
        },
        "id": "eTjpElKlxIar",
        "outputId": "87c9da5b-7095-43ea-a368-5135463d51fb"
      },
      "execution_count": 13,
      "outputs": [
        {
          "output_type": "execute_result",
          "data": {
            "text/plain": [
              "                                              review  \\\n",
              "0             Good but need updates and improvements   \n",
              "1  Worst mobile i have bought ever, Battery is dr...   \n",
              "2  when I will get my 10% cash back.... its alrea...   \n",
              "3                                               Good   \n",
              "4  The worst phone everThey have changed the last...   \n",
              "\n",
              "                                        clean_review  \n",
              "0             good but need updates and improvements  \n",
              "1  worst mobile i have bought ever, battery is dr...  \n",
              "2  when i will get my 10% cash back.... its alrea...  \n",
              "3                                               good  \n",
              "4  the worst phone everthey have changed the last...  "
            ],
            "text/html": [
              "\n",
              "  <div id=\"df-011bae55-1b09-44bf-a87e-2727d1c9dae2\">\n",
              "    <div class=\"colab-df-container\">\n",
              "      <div>\n",
              "<style scoped>\n",
              "    .dataframe tbody tr th:only-of-type {\n",
              "        vertical-align: middle;\n",
              "    }\n",
              "\n",
              "    .dataframe tbody tr th {\n",
              "        vertical-align: top;\n",
              "    }\n",
              "\n",
              "    .dataframe thead th {\n",
              "        text-align: right;\n",
              "    }\n",
              "</style>\n",
              "<table border=\"1\" class=\"dataframe\">\n",
              "  <thead>\n",
              "    <tr style=\"text-align: right;\">\n",
              "      <th></th>\n",
              "      <th>review</th>\n",
              "      <th>clean_review</th>\n",
              "    </tr>\n",
              "  </thead>\n",
              "  <tbody>\n",
              "    <tr>\n",
              "      <th>0</th>\n",
              "      <td>Good but need updates and improvements</td>\n",
              "      <td>good but need updates and improvements</td>\n",
              "    </tr>\n",
              "    <tr>\n",
              "      <th>1</th>\n",
              "      <td>Worst mobile i have bought ever, Battery is dr...</td>\n",
              "      <td>worst mobile i have bought ever, battery is dr...</td>\n",
              "    </tr>\n",
              "    <tr>\n",
              "      <th>2</th>\n",
              "      <td>when I will get my 10% cash back.... its alrea...</td>\n",
              "      <td>when i will get my 10% cash back.... its alrea...</td>\n",
              "    </tr>\n",
              "    <tr>\n",
              "      <th>3</th>\n",
              "      <td>Good</td>\n",
              "      <td>good</td>\n",
              "    </tr>\n",
              "    <tr>\n",
              "      <th>4</th>\n",
              "      <td>The worst phone everThey have changed the last...</td>\n",
              "      <td>the worst phone everthey have changed the last...</td>\n",
              "    </tr>\n",
              "  </tbody>\n",
              "</table>\n",
              "</div>\n",
              "      <button class=\"colab-df-convert\" onclick=\"convertToInteractive('df-011bae55-1b09-44bf-a87e-2727d1c9dae2')\"\n",
              "              title=\"Convert this dataframe to an interactive table.\"\n",
              "              style=\"display:none;\">\n",
              "        \n",
              "  <svg xmlns=\"http://www.w3.org/2000/svg\" height=\"24px\"viewBox=\"0 0 24 24\"\n",
              "       width=\"24px\">\n",
              "    <path d=\"M0 0h24v24H0V0z\" fill=\"none\"/>\n",
              "    <path d=\"M18.56 5.44l.94 2.06.94-2.06 2.06-.94-2.06-.94-.94-2.06-.94 2.06-2.06.94zm-11 1L8.5 8.5l.94-2.06 2.06-.94-2.06-.94L8.5 2.5l-.94 2.06-2.06.94zm10 10l.94 2.06.94-2.06 2.06-.94-2.06-.94-.94-2.06-.94 2.06-2.06.94z\"/><path d=\"M17.41 7.96l-1.37-1.37c-.4-.4-.92-.59-1.43-.59-.52 0-1.04.2-1.43.59L10.3 9.45l-7.72 7.72c-.78.78-.78 2.05 0 2.83L4 21.41c.39.39.9.59 1.41.59.51 0 1.02-.2 1.41-.59l7.78-7.78 2.81-2.81c.8-.78.8-2.07 0-2.86zM5.41 20L4 18.59l7.72-7.72 1.47 1.35L5.41 20z\"/>\n",
              "  </svg>\n",
              "      </button>\n",
              "      \n",
              "  <style>\n",
              "    .colab-df-container {\n",
              "      display:flex;\n",
              "      flex-wrap:wrap;\n",
              "      gap: 12px;\n",
              "    }\n",
              "\n",
              "    .colab-df-convert {\n",
              "      background-color: #E8F0FE;\n",
              "      border: none;\n",
              "      border-radius: 50%;\n",
              "      cursor: pointer;\n",
              "      display: none;\n",
              "      fill: #1967D2;\n",
              "      height: 32px;\n",
              "      padding: 0 0 0 0;\n",
              "      width: 32px;\n",
              "    }\n",
              "\n",
              "    .colab-df-convert:hover {\n",
              "      background-color: #E2EBFA;\n",
              "      box-shadow: 0px 1px 2px rgba(60, 64, 67, 0.3), 0px 1px 3px 1px rgba(60, 64, 67, 0.15);\n",
              "      fill: #174EA6;\n",
              "    }\n",
              "\n",
              "    [theme=dark] .colab-df-convert {\n",
              "      background-color: #3B4455;\n",
              "      fill: #D2E3FC;\n",
              "    }\n",
              "\n",
              "    [theme=dark] .colab-df-convert:hover {\n",
              "      background-color: #434B5C;\n",
              "      box-shadow: 0px 1px 3px 1px rgba(0, 0, 0, 0.15);\n",
              "      filter: drop-shadow(0px 1px 2px rgba(0, 0, 0, 0.3));\n",
              "      fill: #FFFFFF;\n",
              "    }\n",
              "  </style>\n",
              "\n",
              "      <script>\n",
              "        const buttonEl =\n",
              "          document.querySelector('#df-011bae55-1b09-44bf-a87e-2727d1c9dae2 button.colab-df-convert');\n",
              "        buttonEl.style.display =\n",
              "          google.colab.kernel.accessAllowed ? 'block' : 'none';\n",
              "\n",
              "        async function convertToInteractive(key) {\n",
              "          const element = document.querySelector('#df-011bae55-1b09-44bf-a87e-2727d1c9dae2');\n",
              "          const dataTable =\n",
              "            await google.colab.kernel.invokeFunction('convertToInteractive',\n",
              "                                                     [key], {});\n",
              "          if (!dataTable) return;\n",
              "\n",
              "          const docLinkHtml = 'Like what you see? Visit the ' +\n",
              "            '<a target=\"_blank\" href=https://colab.research.google.com/notebooks/data_table.ipynb>data table notebook</a>'\n",
              "            + ' to learn more about interactive tables.';\n",
              "          element.innerHTML = '';\n",
              "          dataTable['output_type'] = 'display_data';\n",
              "          await google.colab.output.renderOutput(dataTable, element);\n",
              "          const docLink = document.createElement('div');\n",
              "          docLink.innerHTML = docLinkHtml;\n",
              "          element.appendChild(docLink);\n",
              "        }\n",
              "      </script>\n",
              "    </div>\n",
              "  </div>\n",
              "  "
            ]
          },
          "metadata": {},
          "execution_count": 13
        }
      ]
    },
    {
      "cell_type": "markdown",
      "source": [
        "### 3. REMOVE NON-ALPHA DATA(DIGITS,PUNCTUATIONS,DIACRITICS"
      ],
      "metadata": {
        "id": "UGT8VaJQxVMS"
      }
    },
    {
      "cell_type": "code",
      "source": [
        "review_data['clean_review'] = review_data['clean_review'].str.replace(r'[^a-zA-Z\\s]', ' ',regex=True) \n",
        "review_data.head()\n"
      ],
      "metadata": {
        "colab": {
          "base_uri": "https://localhost:8080/",
          "height": 206
        },
        "id": "bXHa3B3OxR2q",
        "outputId": "44113a16-f882-4cd0-c603-f79438dbfff1"
      },
      "execution_count": 14,
      "outputs": [
        {
          "output_type": "execute_result",
          "data": {
            "text/plain": [
              "                                              review  \\\n",
              "0             Good but need updates and improvements   \n",
              "1  Worst mobile i have bought ever, Battery is dr...   \n",
              "2  when I will get my 10% cash back.... its alrea...   \n",
              "3                                               Good   \n",
              "4  The worst phone everThey have changed the last...   \n",
              "\n",
              "                                        clean_review  \n",
              "0             good but need updates and improvements  \n",
              "1  worst mobile i have bought ever  battery is dr...  \n",
              "2  when i will get my     cash back     its alrea...  \n",
              "3                                               good  \n",
              "4  the worst phone everthey have changed the last...  "
            ],
            "text/html": [
              "\n",
              "  <div id=\"df-9450b391-d5e9-4798-a3eb-76130265fc73\">\n",
              "    <div class=\"colab-df-container\">\n",
              "      <div>\n",
              "<style scoped>\n",
              "    .dataframe tbody tr th:only-of-type {\n",
              "        vertical-align: middle;\n",
              "    }\n",
              "\n",
              "    .dataframe tbody tr th {\n",
              "        vertical-align: top;\n",
              "    }\n",
              "\n",
              "    .dataframe thead th {\n",
              "        text-align: right;\n",
              "    }\n",
              "</style>\n",
              "<table border=\"1\" class=\"dataframe\">\n",
              "  <thead>\n",
              "    <tr style=\"text-align: right;\">\n",
              "      <th></th>\n",
              "      <th>review</th>\n",
              "      <th>clean_review</th>\n",
              "    </tr>\n",
              "  </thead>\n",
              "  <tbody>\n",
              "    <tr>\n",
              "      <th>0</th>\n",
              "      <td>Good but need updates and improvements</td>\n",
              "      <td>good but need updates and improvements</td>\n",
              "    </tr>\n",
              "    <tr>\n",
              "      <th>1</th>\n",
              "      <td>Worst mobile i have bought ever, Battery is dr...</td>\n",
              "      <td>worst mobile i have bought ever  battery is dr...</td>\n",
              "    </tr>\n",
              "    <tr>\n",
              "      <th>2</th>\n",
              "      <td>when I will get my 10% cash back.... its alrea...</td>\n",
              "      <td>when i will get my     cash back     its alrea...</td>\n",
              "    </tr>\n",
              "    <tr>\n",
              "      <th>3</th>\n",
              "      <td>Good</td>\n",
              "      <td>good</td>\n",
              "    </tr>\n",
              "    <tr>\n",
              "      <th>4</th>\n",
              "      <td>The worst phone everThey have changed the last...</td>\n",
              "      <td>the worst phone everthey have changed the last...</td>\n",
              "    </tr>\n",
              "  </tbody>\n",
              "</table>\n",
              "</div>\n",
              "      <button class=\"colab-df-convert\" onclick=\"convertToInteractive('df-9450b391-d5e9-4798-a3eb-76130265fc73')\"\n",
              "              title=\"Convert this dataframe to an interactive table.\"\n",
              "              style=\"display:none;\">\n",
              "        \n",
              "  <svg xmlns=\"http://www.w3.org/2000/svg\" height=\"24px\"viewBox=\"0 0 24 24\"\n",
              "       width=\"24px\">\n",
              "    <path d=\"M0 0h24v24H0V0z\" fill=\"none\"/>\n",
              "    <path d=\"M18.56 5.44l.94 2.06.94-2.06 2.06-.94-2.06-.94-.94-2.06-.94 2.06-2.06.94zm-11 1L8.5 8.5l.94-2.06 2.06-.94-2.06-.94L8.5 2.5l-.94 2.06-2.06.94zm10 10l.94 2.06.94-2.06 2.06-.94-2.06-.94-.94-2.06-.94 2.06-2.06.94z\"/><path d=\"M17.41 7.96l-1.37-1.37c-.4-.4-.92-.59-1.43-.59-.52 0-1.04.2-1.43.59L10.3 9.45l-7.72 7.72c-.78.78-.78 2.05 0 2.83L4 21.41c.39.39.9.59 1.41.59.51 0 1.02-.2 1.41-.59l7.78-7.78 2.81-2.81c.8-.78.8-2.07 0-2.86zM5.41 20L4 18.59l7.72-7.72 1.47 1.35L5.41 20z\"/>\n",
              "  </svg>\n",
              "      </button>\n",
              "      \n",
              "  <style>\n",
              "    .colab-df-container {\n",
              "      display:flex;\n",
              "      flex-wrap:wrap;\n",
              "      gap: 12px;\n",
              "    }\n",
              "\n",
              "    .colab-df-convert {\n",
              "      background-color: #E8F0FE;\n",
              "      border: none;\n",
              "      border-radius: 50%;\n",
              "      cursor: pointer;\n",
              "      display: none;\n",
              "      fill: #1967D2;\n",
              "      height: 32px;\n",
              "      padding: 0 0 0 0;\n",
              "      width: 32px;\n",
              "    }\n",
              "\n",
              "    .colab-df-convert:hover {\n",
              "      background-color: #E2EBFA;\n",
              "      box-shadow: 0px 1px 2px rgba(60, 64, 67, 0.3), 0px 1px 3px 1px rgba(60, 64, 67, 0.15);\n",
              "      fill: #174EA6;\n",
              "    }\n",
              "\n",
              "    [theme=dark] .colab-df-convert {\n",
              "      background-color: #3B4455;\n",
              "      fill: #D2E3FC;\n",
              "    }\n",
              "\n",
              "    [theme=dark] .colab-df-convert:hover {\n",
              "      background-color: #434B5C;\n",
              "      box-shadow: 0px 1px 3px 1px rgba(0, 0, 0, 0.15);\n",
              "      filter: drop-shadow(0px 1px 2px rgba(0, 0, 0, 0.3));\n",
              "      fill: #FFFFFF;\n",
              "    }\n",
              "  </style>\n",
              "\n",
              "      <script>\n",
              "        const buttonEl =\n",
              "          document.querySelector('#df-9450b391-d5e9-4798-a3eb-76130265fc73 button.colab-df-convert');\n",
              "        buttonEl.style.display =\n",
              "          google.colab.kernel.accessAllowed ? 'block' : 'none';\n",
              "\n",
              "        async function convertToInteractive(key) {\n",
              "          const element = document.querySelector('#df-9450b391-d5e9-4798-a3eb-76130265fc73');\n",
              "          const dataTable =\n",
              "            await google.colab.kernel.invokeFunction('convertToInteractive',\n",
              "                                                     [key], {});\n",
              "          if (!dataTable) return;\n",
              "\n",
              "          const docLinkHtml = 'Like what you see? Visit the ' +\n",
              "            '<a target=\"_blank\" href=https://colab.research.google.com/notebooks/data_table.ipynb>data table notebook</a>'\n",
              "            + ' to learn more about interactive tables.';\n",
              "          element.innerHTML = '';\n",
              "          dataTable['output_type'] = 'display_data';\n",
              "          await google.colab.output.renderOutput(dataTable, element);\n",
              "          const docLink = document.createElement('div');\n",
              "          docLink.innerHTML = docLinkHtml;\n",
              "          element.appendChild(docLink);\n",
              "        }\n",
              "      </script>\n",
              "    </div>\n",
              "  </div>\n",
              "  "
            ]
          },
          "metadata": {},
          "execution_count": 14
        }
      ]
    },
    {
      "cell_type": "markdown",
      "source": [
        "### 4. REMOVING WHITE SPACE"
      ],
      "metadata": {
        "id": "mE-idvA_xlVg"
      }
    },
    {
      "cell_type": "code",
      "source": [
        "review_data['clean_review'] = review_data['clean_review'].str.replace(r'\\s{2,}', ' ',regex=True)\n",
        "review_data.head()"
      ],
      "metadata": {
        "colab": {
          "base_uri": "https://localhost:8080/",
          "height": 206
        },
        "id": "Mn5RVJfmxgyZ",
        "outputId": "acbc90ba-0257-4de7-a1c5-cc08962219a0"
      },
      "execution_count": 15,
      "outputs": [
        {
          "output_type": "execute_result",
          "data": {
            "text/plain": [
              "                                              review  \\\n",
              "0             Good but need updates and improvements   \n",
              "1  Worst mobile i have bought ever, Battery is dr...   \n",
              "2  when I will get my 10% cash back.... its alrea...   \n",
              "3                                               Good   \n",
              "4  The worst phone everThey have changed the last...   \n",
              "\n",
              "                                        clean_review  \n",
              "0             good but need updates and improvements  \n",
              "1  worst mobile i have bought ever battery is dra...  \n",
              "2  when i will get my cash back its already january   \n",
              "3                                               good  \n",
              "4  the worst phone everthey have changed the last...  "
            ],
            "text/html": [
              "\n",
              "  <div id=\"df-2acb90f1-8886-490d-b31d-824b638a3c28\">\n",
              "    <div class=\"colab-df-container\">\n",
              "      <div>\n",
              "<style scoped>\n",
              "    .dataframe tbody tr th:only-of-type {\n",
              "        vertical-align: middle;\n",
              "    }\n",
              "\n",
              "    .dataframe tbody tr th {\n",
              "        vertical-align: top;\n",
              "    }\n",
              "\n",
              "    .dataframe thead th {\n",
              "        text-align: right;\n",
              "    }\n",
              "</style>\n",
              "<table border=\"1\" class=\"dataframe\">\n",
              "  <thead>\n",
              "    <tr style=\"text-align: right;\">\n",
              "      <th></th>\n",
              "      <th>review</th>\n",
              "      <th>clean_review</th>\n",
              "    </tr>\n",
              "  </thead>\n",
              "  <tbody>\n",
              "    <tr>\n",
              "      <th>0</th>\n",
              "      <td>Good but need updates and improvements</td>\n",
              "      <td>good but need updates and improvements</td>\n",
              "    </tr>\n",
              "    <tr>\n",
              "      <th>1</th>\n",
              "      <td>Worst mobile i have bought ever, Battery is dr...</td>\n",
              "      <td>worst mobile i have bought ever battery is dra...</td>\n",
              "    </tr>\n",
              "    <tr>\n",
              "      <th>2</th>\n",
              "      <td>when I will get my 10% cash back.... its alrea...</td>\n",
              "      <td>when i will get my cash back its already january</td>\n",
              "    </tr>\n",
              "    <tr>\n",
              "      <th>3</th>\n",
              "      <td>Good</td>\n",
              "      <td>good</td>\n",
              "    </tr>\n",
              "    <tr>\n",
              "      <th>4</th>\n",
              "      <td>The worst phone everThey have changed the last...</td>\n",
              "      <td>the worst phone everthey have changed the last...</td>\n",
              "    </tr>\n",
              "  </tbody>\n",
              "</table>\n",
              "</div>\n",
              "      <button class=\"colab-df-convert\" onclick=\"convertToInteractive('df-2acb90f1-8886-490d-b31d-824b638a3c28')\"\n",
              "              title=\"Convert this dataframe to an interactive table.\"\n",
              "              style=\"display:none;\">\n",
              "        \n",
              "  <svg xmlns=\"http://www.w3.org/2000/svg\" height=\"24px\"viewBox=\"0 0 24 24\"\n",
              "       width=\"24px\">\n",
              "    <path d=\"M0 0h24v24H0V0z\" fill=\"none\"/>\n",
              "    <path d=\"M18.56 5.44l.94 2.06.94-2.06 2.06-.94-2.06-.94-.94-2.06-.94 2.06-2.06.94zm-11 1L8.5 8.5l.94-2.06 2.06-.94-2.06-.94L8.5 2.5l-.94 2.06-2.06.94zm10 10l.94 2.06.94-2.06 2.06-.94-2.06-.94-.94-2.06-.94 2.06-2.06.94z\"/><path d=\"M17.41 7.96l-1.37-1.37c-.4-.4-.92-.59-1.43-.59-.52 0-1.04.2-1.43.59L10.3 9.45l-7.72 7.72c-.78.78-.78 2.05 0 2.83L4 21.41c.39.39.9.59 1.41.59.51 0 1.02-.2 1.41-.59l7.78-7.78 2.81-2.81c.8-.78.8-2.07 0-2.86zM5.41 20L4 18.59l7.72-7.72 1.47 1.35L5.41 20z\"/>\n",
              "  </svg>\n",
              "      </button>\n",
              "      \n",
              "  <style>\n",
              "    .colab-df-container {\n",
              "      display:flex;\n",
              "      flex-wrap:wrap;\n",
              "      gap: 12px;\n",
              "    }\n",
              "\n",
              "    .colab-df-convert {\n",
              "      background-color: #E8F0FE;\n",
              "      border: none;\n",
              "      border-radius: 50%;\n",
              "      cursor: pointer;\n",
              "      display: none;\n",
              "      fill: #1967D2;\n",
              "      height: 32px;\n",
              "      padding: 0 0 0 0;\n",
              "      width: 32px;\n",
              "    }\n",
              "\n",
              "    .colab-df-convert:hover {\n",
              "      background-color: #E2EBFA;\n",
              "      box-shadow: 0px 1px 2px rgba(60, 64, 67, 0.3), 0px 1px 3px 1px rgba(60, 64, 67, 0.15);\n",
              "      fill: #174EA6;\n",
              "    }\n",
              "\n",
              "    [theme=dark] .colab-df-convert {\n",
              "      background-color: #3B4455;\n",
              "      fill: #D2E3FC;\n",
              "    }\n",
              "\n",
              "    [theme=dark] .colab-df-convert:hover {\n",
              "      background-color: #434B5C;\n",
              "      box-shadow: 0px 1px 3px 1px rgba(0, 0, 0, 0.15);\n",
              "      filter: drop-shadow(0px 1px 2px rgba(0, 0, 0, 0.3));\n",
              "      fill: #FFFFFF;\n",
              "    }\n",
              "  </style>\n",
              "\n",
              "      <script>\n",
              "        const buttonEl =\n",
              "          document.querySelector('#df-2acb90f1-8886-490d-b31d-824b638a3c28 button.colab-df-convert');\n",
              "        buttonEl.style.display =\n",
              "          google.colab.kernel.accessAllowed ? 'block' : 'none';\n",
              "\n",
              "        async function convertToInteractive(key) {\n",
              "          const element = document.querySelector('#df-2acb90f1-8886-490d-b31d-824b638a3c28');\n",
              "          const dataTable =\n",
              "            await google.colab.kernel.invokeFunction('convertToInteractive',\n",
              "                                                     [key], {});\n",
              "          if (!dataTable) return;\n",
              "\n",
              "          const docLinkHtml = 'Like what you see? Visit the ' +\n",
              "            '<a target=\"_blank\" href=https://colab.research.google.com/notebooks/data_table.ipynb>data table notebook</a>'\n",
              "            + ' to learn more about interactive tables.';\n",
              "          element.innerHTML = '';\n",
              "          dataTable['output_type'] = 'display_data';\n",
              "          await google.colab.output.renderOutput(dataTable, element);\n",
              "          const docLink = document.createElement('div');\n",
              "          docLink.innerHTML = docLinkHtml;\n",
              "          element.appendChild(docLink);\n",
              "        }\n",
              "      </script>\n",
              "    </div>\n",
              "  </div>\n",
              "  "
            ]
          },
          "metadata": {},
          "execution_count": 15
        }
      ]
    },
    {
      "cell_type": "markdown",
      "source": [
        "### 5. WORD TOKENIZATION"
      ],
      "metadata": {
        "id": "A0IMVM0RxtHa"
      }
    },
    {
      "cell_type": "code",
      "source": [
        "import nltk\n",
        "from nltk.tokenize import word_tokenize\n",
        "nltk.download('punkt')"
      ],
      "metadata": {
        "colab": {
          "base_uri": "https://localhost:8080/"
        },
        "id": "QDxzE6Bbx8sH",
        "outputId": "b2d9e24d-5399-4304-a90b-e8ef438e345f"
      },
      "execution_count": 17,
      "outputs": [
        {
          "output_type": "stream",
          "name": "stderr",
          "text": [
            "[nltk_data] Downloading package punkt to /root/nltk_data...\n",
            "[nltk_data]   Unzipping tokenizers/punkt.zip.\n"
          ]
        },
        {
          "output_type": "execute_result",
          "data": {
            "text/plain": [
              "True"
            ]
          },
          "metadata": {},
          "execution_count": 17
        }
      ]
    },
    {
      "cell_type": "code",
      "source": [
        "review_data['clean_review'] = review_data['clean_review'].apply(lambda x: word_tokenize(x))\n",
        "review_data.head()"
      ],
      "metadata": {
        "colab": {
          "base_uri": "https://localhost:8080/",
          "height": 206
        },
        "id": "KfqxL8sCxw-o",
        "outputId": "805600a1-f211-4c86-918d-f3b7a982745b"
      },
      "execution_count": 18,
      "outputs": [
        {
          "output_type": "execute_result",
          "data": {
            "text/plain": [
              "                                              review  \\\n",
              "0             Good but need updates and improvements   \n",
              "1  Worst mobile i have bought ever, Battery is dr...   \n",
              "2  when I will get my 10% cash back.... its alrea...   \n",
              "3                                               Good   \n",
              "4  The worst phone everThey have changed the last...   \n",
              "\n",
              "                                        clean_review  \n",
              "0      [good, but, need, updates, and, improvements]  \n",
              "1  [worst, mobile, i, have, bought, ever, battery...  \n",
              "2  [when, i, will, get, my, cash, back, its, alre...  \n",
              "3                                             [good]  \n",
              "4  [the, worst, phone, everthey, have, changed, t...  "
            ],
            "text/html": [
              "\n",
              "  <div id=\"df-c24c85a2-10b7-416f-a68d-fbd5498f70d3\">\n",
              "    <div class=\"colab-df-container\">\n",
              "      <div>\n",
              "<style scoped>\n",
              "    .dataframe tbody tr th:only-of-type {\n",
              "        vertical-align: middle;\n",
              "    }\n",
              "\n",
              "    .dataframe tbody tr th {\n",
              "        vertical-align: top;\n",
              "    }\n",
              "\n",
              "    .dataframe thead th {\n",
              "        text-align: right;\n",
              "    }\n",
              "</style>\n",
              "<table border=\"1\" class=\"dataframe\">\n",
              "  <thead>\n",
              "    <tr style=\"text-align: right;\">\n",
              "      <th></th>\n",
              "      <th>review</th>\n",
              "      <th>clean_review</th>\n",
              "    </tr>\n",
              "  </thead>\n",
              "  <tbody>\n",
              "    <tr>\n",
              "      <th>0</th>\n",
              "      <td>Good but need updates and improvements</td>\n",
              "      <td>[good, but, need, updates, and, improvements]</td>\n",
              "    </tr>\n",
              "    <tr>\n",
              "      <th>1</th>\n",
              "      <td>Worst mobile i have bought ever, Battery is dr...</td>\n",
              "      <td>[worst, mobile, i, have, bought, ever, battery...</td>\n",
              "    </tr>\n",
              "    <tr>\n",
              "      <th>2</th>\n",
              "      <td>when I will get my 10% cash back.... its alrea...</td>\n",
              "      <td>[when, i, will, get, my, cash, back, its, alre...</td>\n",
              "    </tr>\n",
              "    <tr>\n",
              "      <th>3</th>\n",
              "      <td>Good</td>\n",
              "      <td>[good]</td>\n",
              "    </tr>\n",
              "    <tr>\n",
              "      <th>4</th>\n",
              "      <td>The worst phone everThey have changed the last...</td>\n",
              "      <td>[the, worst, phone, everthey, have, changed, t...</td>\n",
              "    </tr>\n",
              "  </tbody>\n",
              "</table>\n",
              "</div>\n",
              "      <button class=\"colab-df-convert\" onclick=\"convertToInteractive('df-c24c85a2-10b7-416f-a68d-fbd5498f70d3')\"\n",
              "              title=\"Convert this dataframe to an interactive table.\"\n",
              "              style=\"display:none;\">\n",
              "        \n",
              "  <svg xmlns=\"http://www.w3.org/2000/svg\" height=\"24px\"viewBox=\"0 0 24 24\"\n",
              "       width=\"24px\">\n",
              "    <path d=\"M0 0h24v24H0V0z\" fill=\"none\"/>\n",
              "    <path d=\"M18.56 5.44l.94 2.06.94-2.06 2.06-.94-2.06-.94-.94-2.06-.94 2.06-2.06.94zm-11 1L8.5 8.5l.94-2.06 2.06-.94-2.06-.94L8.5 2.5l-.94 2.06-2.06.94zm10 10l.94 2.06.94-2.06 2.06-.94-2.06-.94-.94-2.06-.94 2.06-2.06.94z\"/><path d=\"M17.41 7.96l-1.37-1.37c-.4-.4-.92-.59-1.43-.59-.52 0-1.04.2-1.43.59L10.3 9.45l-7.72 7.72c-.78.78-.78 2.05 0 2.83L4 21.41c.39.39.9.59 1.41.59.51 0 1.02-.2 1.41-.59l7.78-7.78 2.81-2.81c.8-.78.8-2.07 0-2.86zM5.41 20L4 18.59l7.72-7.72 1.47 1.35L5.41 20z\"/>\n",
              "  </svg>\n",
              "      </button>\n",
              "      \n",
              "  <style>\n",
              "    .colab-df-container {\n",
              "      display:flex;\n",
              "      flex-wrap:wrap;\n",
              "      gap: 12px;\n",
              "    }\n",
              "\n",
              "    .colab-df-convert {\n",
              "      background-color: #E8F0FE;\n",
              "      border: none;\n",
              "      border-radius: 50%;\n",
              "      cursor: pointer;\n",
              "      display: none;\n",
              "      fill: #1967D2;\n",
              "      height: 32px;\n",
              "      padding: 0 0 0 0;\n",
              "      width: 32px;\n",
              "    }\n",
              "\n",
              "    .colab-df-convert:hover {\n",
              "      background-color: #E2EBFA;\n",
              "      box-shadow: 0px 1px 2px rgba(60, 64, 67, 0.3), 0px 1px 3px 1px rgba(60, 64, 67, 0.15);\n",
              "      fill: #174EA6;\n",
              "    }\n",
              "\n",
              "    [theme=dark] .colab-df-convert {\n",
              "      background-color: #3B4455;\n",
              "      fill: #D2E3FC;\n",
              "    }\n",
              "\n",
              "    [theme=dark] .colab-df-convert:hover {\n",
              "      background-color: #434B5C;\n",
              "      box-shadow: 0px 1px 3px 1px rgba(0, 0, 0, 0.15);\n",
              "      filter: drop-shadow(0px 1px 2px rgba(0, 0, 0, 0.3));\n",
              "      fill: #FFFFFF;\n",
              "    }\n",
              "  </style>\n",
              "\n",
              "      <script>\n",
              "        const buttonEl =\n",
              "          document.querySelector('#df-c24c85a2-10b7-416f-a68d-fbd5498f70d3 button.colab-df-convert');\n",
              "        buttonEl.style.display =\n",
              "          google.colab.kernel.accessAllowed ? 'block' : 'none';\n",
              "\n",
              "        async function convertToInteractive(key) {\n",
              "          const element = document.querySelector('#df-c24c85a2-10b7-416f-a68d-fbd5498f70d3');\n",
              "          const dataTable =\n",
              "            await google.colab.kernel.invokeFunction('convertToInteractive',\n",
              "                                                     [key], {});\n",
              "          if (!dataTable) return;\n",
              "\n",
              "          const docLinkHtml = 'Like what you see? Visit the ' +\n",
              "            '<a target=\"_blank\" href=https://colab.research.google.com/notebooks/data_table.ipynb>data table notebook</a>'\n",
              "            + ' to learn more about interactive tables.';\n",
              "          element.innerHTML = '';\n",
              "          dataTable['output_type'] = 'display_data';\n",
              "          await google.colab.output.renderOutput(dataTable, element);\n",
              "          const docLink = document.createElement('div');\n",
              "          docLink.innerHTML = docLinkHtml;\n",
              "          element.appendChild(docLink);\n",
              "        }\n",
              "      </script>\n",
              "    </div>\n",
              "  </div>\n",
              "  "
            ]
          },
          "metadata": {},
          "execution_count": 18
        }
      ]
    },
    {
      "cell_type": "markdown",
      "source": [
        "### 6. REMOVE UNNECESSARY WORDS"
      ],
      "metadata": {
        "id": "90iBXULSxtnJ"
      }
    },
    {
      "cell_type": "code",
      "source": [
        "from nltk.corpus import stopwords\n",
        "nltk.download('stopwords')"
      ],
      "metadata": {
        "colab": {
          "base_uri": "https://localhost:8080/"
        },
        "id": "seaRe486xpLA",
        "outputId": "9c10488f-1c99-41ed-b408-ce8c95247b52"
      },
      "execution_count": 19,
      "outputs": [
        {
          "output_type": "stream",
          "name": "stderr",
          "text": [
            "[nltk_data] Downloading package stopwords to /root/nltk_data...\n",
            "[nltk_data]   Unzipping corpora/stopwords.zip.\n"
          ]
        },
        {
          "output_type": "execute_result",
          "data": {
            "text/plain": [
              "True"
            ]
          },
          "metadata": {},
          "execution_count": 19
        }
      ]
    },
    {
      "cell_type": "code",
      "source": [
        "review_data['clean_review'] = review_data['clean_review'].apply\\\n",
        "(lambda x:[word for word in x if word not in stopwords.words(\"english\") and len(word) > 3 and word.isalpha()])\n",
        "review_data.head()"
      ],
      "metadata": {
        "colab": {
          "base_uri": "https://localhost:8080/",
          "height": 206
        },
        "id": "P2uic8EIyJWe",
        "outputId": "523fc1ad-ded3-4e80-d29b-2e5c8287df39"
      },
      "execution_count": 20,
      "outputs": [
        {
          "output_type": "execute_result",
          "data": {
            "text/plain": [
              "                                              review  \\\n",
              "0             Good but need updates and improvements   \n",
              "1  Worst mobile i have bought ever, Battery is dr...   \n",
              "2  when I will get my 10% cash back.... its alrea...   \n",
              "3                                               Good   \n",
              "4  The worst phone everThey have changed the last...   \n",
              "\n",
              "                                        clean_review  \n",
              "0                [good, need, updates, improvements]  \n",
              "1  [worst, mobile, bought, ever, battery, drainin...  \n",
              "2                     [cash, back, already, january]  \n",
              "3                                             [good]  \n",
              "4  [worst, phone, everthey, changed, last, phone,...  "
            ],
            "text/html": [
              "\n",
              "  <div id=\"df-ed2174f5-5c10-417f-9508-570df5406a7b\">\n",
              "    <div class=\"colab-df-container\">\n",
              "      <div>\n",
              "<style scoped>\n",
              "    .dataframe tbody tr th:only-of-type {\n",
              "        vertical-align: middle;\n",
              "    }\n",
              "\n",
              "    .dataframe tbody tr th {\n",
              "        vertical-align: top;\n",
              "    }\n",
              "\n",
              "    .dataframe thead th {\n",
              "        text-align: right;\n",
              "    }\n",
              "</style>\n",
              "<table border=\"1\" class=\"dataframe\">\n",
              "  <thead>\n",
              "    <tr style=\"text-align: right;\">\n",
              "      <th></th>\n",
              "      <th>review</th>\n",
              "      <th>clean_review</th>\n",
              "    </tr>\n",
              "  </thead>\n",
              "  <tbody>\n",
              "    <tr>\n",
              "      <th>0</th>\n",
              "      <td>Good but need updates and improvements</td>\n",
              "      <td>[good, need, updates, improvements]</td>\n",
              "    </tr>\n",
              "    <tr>\n",
              "      <th>1</th>\n",
              "      <td>Worst mobile i have bought ever, Battery is dr...</td>\n",
              "      <td>[worst, mobile, bought, ever, battery, drainin...</td>\n",
              "    </tr>\n",
              "    <tr>\n",
              "      <th>2</th>\n",
              "      <td>when I will get my 10% cash back.... its alrea...</td>\n",
              "      <td>[cash, back, already, january]</td>\n",
              "    </tr>\n",
              "    <tr>\n",
              "      <th>3</th>\n",
              "      <td>Good</td>\n",
              "      <td>[good]</td>\n",
              "    </tr>\n",
              "    <tr>\n",
              "      <th>4</th>\n",
              "      <td>The worst phone everThey have changed the last...</td>\n",
              "      <td>[worst, phone, everthey, changed, last, phone,...</td>\n",
              "    </tr>\n",
              "  </tbody>\n",
              "</table>\n",
              "</div>\n",
              "      <button class=\"colab-df-convert\" onclick=\"convertToInteractive('df-ed2174f5-5c10-417f-9508-570df5406a7b')\"\n",
              "              title=\"Convert this dataframe to an interactive table.\"\n",
              "              style=\"display:none;\">\n",
              "        \n",
              "  <svg xmlns=\"http://www.w3.org/2000/svg\" height=\"24px\"viewBox=\"0 0 24 24\"\n",
              "       width=\"24px\">\n",
              "    <path d=\"M0 0h24v24H0V0z\" fill=\"none\"/>\n",
              "    <path d=\"M18.56 5.44l.94 2.06.94-2.06 2.06-.94-2.06-.94-.94-2.06-.94 2.06-2.06.94zm-11 1L8.5 8.5l.94-2.06 2.06-.94-2.06-.94L8.5 2.5l-.94 2.06-2.06.94zm10 10l.94 2.06.94-2.06 2.06-.94-2.06-.94-.94-2.06-.94 2.06-2.06.94z\"/><path d=\"M17.41 7.96l-1.37-1.37c-.4-.4-.92-.59-1.43-.59-.52 0-1.04.2-1.43.59L10.3 9.45l-7.72 7.72c-.78.78-.78 2.05 0 2.83L4 21.41c.39.39.9.59 1.41.59.51 0 1.02-.2 1.41-.59l7.78-7.78 2.81-2.81c.8-.78.8-2.07 0-2.86zM5.41 20L4 18.59l7.72-7.72 1.47 1.35L5.41 20z\"/>\n",
              "  </svg>\n",
              "      </button>\n",
              "      \n",
              "  <style>\n",
              "    .colab-df-container {\n",
              "      display:flex;\n",
              "      flex-wrap:wrap;\n",
              "      gap: 12px;\n",
              "    }\n",
              "\n",
              "    .colab-df-convert {\n",
              "      background-color: #E8F0FE;\n",
              "      border: none;\n",
              "      border-radius: 50%;\n",
              "      cursor: pointer;\n",
              "      display: none;\n",
              "      fill: #1967D2;\n",
              "      height: 32px;\n",
              "      padding: 0 0 0 0;\n",
              "      width: 32px;\n",
              "    }\n",
              "\n",
              "    .colab-df-convert:hover {\n",
              "      background-color: #E2EBFA;\n",
              "      box-shadow: 0px 1px 2px rgba(60, 64, 67, 0.3), 0px 1px 3px 1px rgba(60, 64, 67, 0.15);\n",
              "      fill: #174EA6;\n",
              "    }\n",
              "\n",
              "    [theme=dark] .colab-df-convert {\n",
              "      background-color: #3B4455;\n",
              "      fill: #D2E3FC;\n",
              "    }\n",
              "\n",
              "    [theme=dark] .colab-df-convert:hover {\n",
              "      background-color: #434B5C;\n",
              "      box-shadow: 0px 1px 3px 1px rgba(0, 0, 0, 0.15);\n",
              "      filter: drop-shadow(0px 1px 2px rgba(0, 0, 0, 0.3));\n",
              "      fill: #FFFFFF;\n",
              "    }\n",
              "  </style>\n",
              "\n",
              "      <script>\n",
              "        const buttonEl =\n",
              "          document.querySelector('#df-ed2174f5-5c10-417f-9508-570df5406a7b button.colab-df-convert');\n",
              "        buttonEl.style.display =\n",
              "          google.colab.kernel.accessAllowed ? 'block' : 'none';\n",
              "\n",
              "        async function convertToInteractive(key) {\n",
              "          const element = document.querySelector('#df-ed2174f5-5c10-417f-9508-570df5406a7b');\n",
              "          const dataTable =\n",
              "            await google.colab.kernel.invokeFunction('convertToInteractive',\n",
              "                                                     [key], {});\n",
              "          if (!dataTable) return;\n",
              "\n",
              "          const docLinkHtml = 'Like what you see? Visit the ' +\n",
              "            '<a target=\"_blank\" href=https://colab.research.google.com/notebooks/data_table.ipynb>data table notebook</a>'\n",
              "            + ' to learn more about interactive tables.';\n",
              "          element.innerHTML = '';\n",
              "          dataTable['output_type'] = 'display_data';\n",
              "          await google.colab.output.renderOutput(dataTable, element);\n",
              "          const docLink = document.createElement('div');\n",
              "          docLink.innerHTML = docLinkHtml;\n",
              "          element.appendChild(docLink);\n",
              "        }\n",
              "      </script>\n",
              "    </div>\n",
              "  </div>\n",
              "  "
            ]
          },
          "metadata": {},
          "execution_count": 20
        }
      ]
    },
    {
      "cell_type": "code",
      "source": [
        "review_data = review_data[review_data['clean_review'].map(lambda x: len(x)) > 1].reset_index(drop=True)\n",
        "# Keeping records with more than single words"
      ],
      "metadata": {
        "id": "W6vMdShSyTIe"
      },
      "execution_count": 21,
      "outputs": []
    },
    {
      "cell_type": "code",
      "source": [
        "review_data"
      ],
      "metadata": {
        "colab": {
          "base_uri": "https://localhost:8080/",
          "height": 423
        },
        "id": "nOlutI_jycOI",
        "outputId": "243cf4c3-5762-46d5-84be-680be8ede537"
      },
      "execution_count": 22,
      "outputs": [
        {
          "output_type": "execute_result",
          "data": {
            "text/plain": [
              "                                                  review  \\\n",
              "0                 Good but need updates and improvements   \n",
              "1      Worst mobile i have bought ever, Battery is dr...   \n",
              "2      when I will get my 10% cash back.... its alrea...   \n",
              "3      The worst phone everThey have changed the last...   \n",
              "4      Only I'm telling don't buyI'm totally disappoi...   \n",
              "...                                                  ...   \n",
              "12947  I really like the phone, Everything is working...   \n",
              "12948  The Lenovo K8 Note is awesome. It takes best p...   \n",
              "12949                       Awesome Gaget.. @ this price   \n",
              "12950  This phone is nice processing will be successf...   \n",
              "12951      Good product but the pakeging was not enough.   \n",
              "\n",
              "                                            clean_review  \n",
              "0                    [good, need, updates, improvements]  \n",
              "1      [worst, mobile, bought, ever, battery, drainin...  \n",
              "2                         [cash, back, already, january]  \n",
              "3      [worst, phone, everthey, changed, last, phone,...  \n",
              "4      [telling, buyi, totally, disappointedpoor, bat...  \n",
              "...                                                  ...  \n",
              "12947  [really, like, phone, everything, working, fin...  \n",
              "12948  [lenovo, note, awesome, takes, best, pictures,...  \n",
              "12949                            [awesome, gaget, price]  \n",
              "12950  [phone, nice, processing, successful, dual, ca...  \n",
              "12951                  [good, product, pakeging, enough]  \n",
              "\n",
              "[12952 rows x 2 columns]"
            ],
            "text/html": [
              "\n",
              "  <div id=\"df-fbdccd00-7202-45e4-bb60-c39b151309e8\">\n",
              "    <div class=\"colab-df-container\">\n",
              "      <div>\n",
              "<style scoped>\n",
              "    .dataframe tbody tr th:only-of-type {\n",
              "        vertical-align: middle;\n",
              "    }\n",
              "\n",
              "    .dataframe tbody tr th {\n",
              "        vertical-align: top;\n",
              "    }\n",
              "\n",
              "    .dataframe thead th {\n",
              "        text-align: right;\n",
              "    }\n",
              "</style>\n",
              "<table border=\"1\" class=\"dataframe\">\n",
              "  <thead>\n",
              "    <tr style=\"text-align: right;\">\n",
              "      <th></th>\n",
              "      <th>review</th>\n",
              "      <th>clean_review</th>\n",
              "    </tr>\n",
              "  </thead>\n",
              "  <tbody>\n",
              "    <tr>\n",
              "      <th>0</th>\n",
              "      <td>Good but need updates and improvements</td>\n",
              "      <td>[good, need, updates, improvements]</td>\n",
              "    </tr>\n",
              "    <tr>\n",
              "      <th>1</th>\n",
              "      <td>Worst mobile i have bought ever, Battery is dr...</td>\n",
              "      <td>[worst, mobile, bought, ever, battery, drainin...</td>\n",
              "    </tr>\n",
              "    <tr>\n",
              "      <th>2</th>\n",
              "      <td>when I will get my 10% cash back.... its alrea...</td>\n",
              "      <td>[cash, back, already, january]</td>\n",
              "    </tr>\n",
              "    <tr>\n",
              "      <th>3</th>\n",
              "      <td>The worst phone everThey have changed the last...</td>\n",
              "      <td>[worst, phone, everthey, changed, last, phone,...</td>\n",
              "    </tr>\n",
              "    <tr>\n",
              "      <th>4</th>\n",
              "      <td>Only I'm telling don't buyI'm totally disappoi...</td>\n",
              "      <td>[telling, buyi, totally, disappointedpoor, bat...</td>\n",
              "    </tr>\n",
              "    <tr>\n",
              "      <th>...</th>\n",
              "      <td>...</td>\n",
              "      <td>...</td>\n",
              "    </tr>\n",
              "    <tr>\n",
              "      <th>12947</th>\n",
              "      <td>I really like the phone, Everything is working...</td>\n",
              "      <td>[really, like, phone, everything, working, fin...</td>\n",
              "    </tr>\n",
              "    <tr>\n",
              "      <th>12948</th>\n",
              "      <td>The Lenovo K8 Note is awesome. It takes best p...</td>\n",
              "      <td>[lenovo, note, awesome, takes, best, pictures,...</td>\n",
              "    </tr>\n",
              "    <tr>\n",
              "      <th>12949</th>\n",
              "      <td>Awesome Gaget.. @ this price</td>\n",
              "      <td>[awesome, gaget, price]</td>\n",
              "    </tr>\n",
              "    <tr>\n",
              "      <th>12950</th>\n",
              "      <td>This phone is nice processing will be successf...</td>\n",
              "      <td>[phone, nice, processing, successful, dual, ca...</td>\n",
              "    </tr>\n",
              "    <tr>\n",
              "      <th>12951</th>\n",
              "      <td>Good product but the pakeging was not enough.</td>\n",
              "      <td>[good, product, pakeging, enough]</td>\n",
              "    </tr>\n",
              "  </tbody>\n",
              "</table>\n",
              "<p>12952 rows × 2 columns</p>\n",
              "</div>\n",
              "      <button class=\"colab-df-convert\" onclick=\"convertToInteractive('df-fbdccd00-7202-45e4-bb60-c39b151309e8')\"\n",
              "              title=\"Convert this dataframe to an interactive table.\"\n",
              "              style=\"display:none;\">\n",
              "        \n",
              "  <svg xmlns=\"http://www.w3.org/2000/svg\" height=\"24px\"viewBox=\"0 0 24 24\"\n",
              "       width=\"24px\">\n",
              "    <path d=\"M0 0h24v24H0V0z\" fill=\"none\"/>\n",
              "    <path d=\"M18.56 5.44l.94 2.06.94-2.06 2.06-.94-2.06-.94-.94-2.06-.94 2.06-2.06.94zm-11 1L8.5 8.5l.94-2.06 2.06-.94-2.06-.94L8.5 2.5l-.94 2.06-2.06.94zm10 10l.94 2.06.94-2.06 2.06-.94-2.06-.94-.94-2.06-.94 2.06-2.06.94z\"/><path d=\"M17.41 7.96l-1.37-1.37c-.4-.4-.92-.59-1.43-.59-.52 0-1.04.2-1.43.59L10.3 9.45l-7.72 7.72c-.78.78-.78 2.05 0 2.83L4 21.41c.39.39.9.59 1.41.59.51 0 1.02-.2 1.41-.59l7.78-7.78 2.81-2.81c.8-.78.8-2.07 0-2.86zM5.41 20L4 18.59l7.72-7.72 1.47 1.35L5.41 20z\"/>\n",
              "  </svg>\n",
              "      </button>\n",
              "      \n",
              "  <style>\n",
              "    .colab-df-container {\n",
              "      display:flex;\n",
              "      flex-wrap:wrap;\n",
              "      gap: 12px;\n",
              "    }\n",
              "\n",
              "    .colab-df-convert {\n",
              "      background-color: #E8F0FE;\n",
              "      border: none;\n",
              "      border-radius: 50%;\n",
              "      cursor: pointer;\n",
              "      display: none;\n",
              "      fill: #1967D2;\n",
              "      height: 32px;\n",
              "      padding: 0 0 0 0;\n",
              "      width: 32px;\n",
              "    }\n",
              "\n",
              "    .colab-df-convert:hover {\n",
              "      background-color: #E2EBFA;\n",
              "      box-shadow: 0px 1px 2px rgba(60, 64, 67, 0.3), 0px 1px 3px 1px rgba(60, 64, 67, 0.15);\n",
              "      fill: #174EA6;\n",
              "    }\n",
              "\n",
              "    [theme=dark] .colab-df-convert {\n",
              "      background-color: #3B4455;\n",
              "      fill: #D2E3FC;\n",
              "    }\n",
              "\n",
              "    [theme=dark] .colab-df-convert:hover {\n",
              "      background-color: #434B5C;\n",
              "      box-shadow: 0px 1px 3px 1px rgba(0, 0, 0, 0.15);\n",
              "      filter: drop-shadow(0px 1px 2px rgba(0, 0, 0, 0.3));\n",
              "      fill: #FFFFFF;\n",
              "    }\n",
              "  </style>\n",
              "\n",
              "      <script>\n",
              "        const buttonEl =\n",
              "          document.querySelector('#df-fbdccd00-7202-45e4-bb60-c39b151309e8 button.colab-df-convert');\n",
              "        buttonEl.style.display =\n",
              "          google.colab.kernel.accessAllowed ? 'block' : 'none';\n",
              "\n",
              "        async function convertToInteractive(key) {\n",
              "          const element = document.querySelector('#df-fbdccd00-7202-45e4-bb60-c39b151309e8');\n",
              "          const dataTable =\n",
              "            await google.colab.kernel.invokeFunction('convertToInteractive',\n",
              "                                                     [key], {});\n",
              "          if (!dataTable) return;\n",
              "\n",
              "          const docLinkHtml = 'Like what you see? Visit the ' +\n",
              "            '<a target=\"_blank\" href=https://colab.research.google.com/notebooks/data_table.ipynb>data table notebook</a>'\n",
              "            + ' to learn more about interactive tables.';\n",
              "          element.innerHTML = '';\n",
              "          dataTable['output_type'] = 'display_data';\n",
              "          await google.colab.output.renderOutput(dataTable, element);\n",
              "          const docLink = document.createElement('div');\n",
              "          docLink.innerHTML = docLinkHtml;\n",
              "          element.appendChild(docLink);\n",
              "        }\n",
              "      </script>\n",
              "    </div>\n",
              "  </div>\n",
              "  "
            ]
          },
          "metadata": {},
          "execution_count": 22
        }
      ]
    },
    {
      "cell_type": "markdown",
      "source": [
        "### 7. LEMMATIZATION"
      ],
      "metadata": {
        "id": "xbP4LV2wymR4"
      }
    },
    {
      "cell_type": "code",
      "source": [
        "from nltk.stem import WordNetLemmatizer\n",
        "nltk.download('wordnet')\n",
        "nltk.download('omw-1.4')"
      ],
      "metadata": {
        "colab": {
          "base_uri": "https://localhost:8080/"
        },
        "id": "pn8zYX7hye-e",
        "outputId": "1144f5c4-99e7-4842-8d8b-709ed36c87c6"
      },
      "execution_count": 25,
      "outputs": [
        {
          "output_type": "stream",
          "name": "stderr",
          "text": [
            "[nltk_data] Downloading package wordnet to /root/nltk_data...\n",
            "[nltk_data]   Package wordnet is already up-to-date!\n",
            "[nltk_data] Downloading package omw-1.4 to /root/nltk_data...\n"
          ]
        },
        {
          "output_type": "execute_result",
          "data": {
            "text/plain": [
              "True"
            ]
          },
          "metadata": {},
          "execution_count": 25
        }
      ]
    },
    {
      "cell_type": "code",
      "source": [
        "review_data['clean_review'] = review_data['clean_review'].apply\\\n",
        "(lambda x: [WordNetLemmatizer().lemmatize(word) for word in x])\n",
        "review_data.head()"
      ],
      "metadata": {
        "colab": {
          "base_uri": "https://localhost:8080/",
          "height": 206
        },
        "id": "hKnPbI9Typx7",
        "outputId": "b018d33e-58ce-4bdc-a62d-c712ff6cf4e6"
      },
      "execution_count": 26,
      "outputs": [
        {
          "output_type": "execute_result",
          "data": {
            "text/plain": [
              "                                              review  \\\n",
              "0             Good but need updates and improvements   \n",
              "1  Worst mobile i have bought ever, Battery is dr...   \n",
              "2  when I will get my 10% cash back.... its alrea...   \n",
              "3  The worst phone everThey have changed the last...   \n",
              "4  Only I'm telling don't buyI'm totally disappoi...   \n",
              "\n",
              "                                        clean_review  \n",
              "0                  [good, need, update, improvement]  \n",
              "1  [worst, mobile, bought, ever, battery, drainin...  \n",
              "2                     [cash, back, already, january]  \n",
              "3  [worst, phone, everthey, changed, last, phone,...  \n",
              "4  [telling, buyi, totally, disappointedpoor, bat...  "
            ],
            "text/html": [
              "\n",
              "  <div id=\"df-7b188c1f-f70a-4175-b301-a52e121e3537\">\n",
              "    <div class=\"colab-df-container\">\n",
              "      <div>\n",
              "<style scoped>\n",
              "    .dataframe tbody tr th:only-of-type {\n",
              "        vertical-align: middle;\n",
              "    }\n",
              "\n",
              "    .dataframe tbody tr th {\n",
              "        vertical-align: top;\n",
              "    }\n",
              "\n",
              "    .dataframe thead th {\n",
              "        text-align: right;\n",
              "    }\n",
              "</style>\n",
              "<table border=\"1\" class=\"dataframe\">\n",
              "  <thead>\n",
              "    <tr style=\"text-align: right;\">\n",
              "      <th></th>\n",
              "      <th>review</th>\n",
              "      <th>clean_review</th>\n",
              "    </tr>\n",
              "  </thead>\n",
              "  <tbody>\n",
              "    <tr>\n",
              "      <th>0</th>\n",
              "      <td>Good but need updates and improvements</td>\n",
              "      <td>[good, need, update, improvement]</td>\n",
              "    </tr>\n",
              "    <tr>\n",
              "      <th>1</th>\n",
              "      <td>Worst mobile i have bought ever, Battery is dr...</td>\n",
              "      <td>[worst, mobile, bought, ever, battery, drainin...</td>\n",
              "    </tr>\n",
              "    <tr>\n",
              "      <th>2</th>\n",
              "      <td>when I will get my 10% cash back.... its alrea...</td>\n",
              "      <td>[cash, back, already, january]</td>\n",
              "    </tr>\n",
              "    <tr>\n",
              "      <th>3</th>\n",
              "      <td>The worst phone everThey have changed the last...</td>\n",
              "      <td>[worst, phone, everthey, changed, last, phone,...</td>\n",
              "    </tr>\n",
              "    <tr>\n",
              "      <th>4</th>\n",
              "      <td>Only I'm telling don't buyI'm totally disappoi...</td>\n",
              "      <td>[telling, buyi, totally, disappointedpoor, bat...</td>\n",
              "    </tr>\n",
              "  </tbody>\n",
              "</table>\n",
              "</div>\n",
              "      <button class=\"colab-df-convert\" onclick=\"convertToInteractive('df-7b188c1f-f70a-4175-b301-a52e121e3537')\"\n",
              "              title=\"Convert this dataframe to an interactive table.\"\n",
              "              style=\"display:none;\">\n",
              "        \n",
              "  <svg xmlns=\"http://www.w3.org/2000/svg\" height=\"24px\"viewBox=\"0 0 24 24\"\n",
              "       width=\"24px\">\n",
              "    <path d=\"M0 0h24v24H0V0z\" fill=\"none\"/>\n",
              "    <path d=\"M18.56 5.44l.94 2.06.94-2.06 2.06-.94-2.06-.94-.94-2.06-.94 2.06-2.06.94zm-11 1L8.5 8.5l.94-2.06 2.06-.94-2.06-.94L8.5 2.5l-.94 2.06-2.06.94zm10 10l.94 2.06.94-2.06 2.06-.94-2.06-.94-.94-2.06-.94 2.06-2.06.94z\"/><path d=\"M17.41 7.96l-1.37-1.37c-.4-.4-.92-.59-1.43-.59-.52 0-1.04.2-1.43.59L10.3 9.45l-7.72 7.72c-.78.78-.78 2.05 0 2.83L4 21.41c.39.39.9.59 1.41.59.51 0 1.02-.2 1.41-.59l7.78-7.78 2.81-2.81c.8-.78.8-2.07 0-2.86zM5.41 20L4 18.59l7.72-7.72 1.47 1.35L5.41 20z\"/>\n",
              "  </svg>\n",
              "      </button>\n",
              "      \n",
              "  <style>\n",
              "    .colab-df-container {\n",
              "      display:flex;\n",
              "      flex-wrap:wrap;\n",
              "      gap: 12px;\n",
              "    }\n",
              "\n",
              "    .colab-df-convert {\n",
              "      background-color: #E8F0FE;\n",
              "      border: none;\n",
              "      border-radius: 50%;\n",
              "      cursor: pointer;\n",
              "      display: none;\n",
              "      fill: #1967D2;\n",
              "      height: 32px;\n",
              "      padding: 0 0 0 0;\n",
              "      width: 32px;\n",
              "    }\n",
              "\n",
              "    .colab-df-convert:hover {\n",
              "      background-color: #E2EBFA;\n",
              "      box-shadow: 0px 1px 2px rgba(60, 64, 67, 0.3), 0px 1px 3px 1px rgba(60, 64, 67, 0.15);\n",
              "      fill: #174EA6;\n",
              "    }\n",
              "\n",
              "    [theme=dark] .colab-df-convert {\n",
              "      background-color: #3B4455;\n",
              "      fill: #D2E3FC;\n",
              "    }\n",
              "\n",
              "    [theme=dark] .colab-df-convert:hover {\n",
              "      background-color: #434B5C;\n",
              "      box-shadow: 0px 1px 3px 1px rgba(0, 0, 0, 0.15);\n",
              "      filter: drop-shadow(0px 1px 2px rgba(0, 0, 0, 0.3));\n",
              "      fill: #FFFFFF;\n",
              "    }\n",
              "  </style>\n",
              "\n",
              "      <script>\n",
              "        const buttonEl =\n",
              "          document.querySelector('#df-7b188c1f-f70a-4175-b301-a52e121e3537 button.colab-df-convert');\n",
              "        buttonEl.style.display =\n",
              "          google.colab.kernel.accessAllowed ? 'block' : 'none';\n",
              "\n",
              "        async function convertToInteractive(key) {\n",
              "          const element = document.querySelector('#df-7b188c1f-f70a-4175-b301-a52e121e3537');\n",
              "          const dataTable =\n",
              "            await google.colab.kernel.invokeFunction('convertToInteractive',\n",
              "                                                     [key], {});\n",
              "          if (!dataTable) return;\n",
              "\n",
              "          const docLinkHtml = 'Like what you see? Visit the ' +\n",
              "            '<a target=\"_blank\" href=https://colab.research.google.com/notebooks/data_table.ipynb>data table notebook</a>'\n",
              "            + ' to learn more about interactive tables.';\n",
              "          element.innerHTML = '';\n",
              "          dataTable['output_type'] = 'display_data';\n",
              "          await google.colab.output.renderOutput(dataTable, element);\n",
              "          const docLink = document.createElement('div');\n",
              "          docLink.innerHTML = docLinkHtml;\n",
              "          element.appendChild(docLink);\n",
              "        }\n",
              "      </script>\n",
              "    </div>\n",
              "  </div>\n",
              "  "
            ]
          },
          "metadata": {},
          "execution_count": 26
        }
      ]
    },
    {
      "cell_type": "markdown",
      "source": [
        "### 8. Extracting only NOUN using  NLTK POS tagger."
      ],
      "metadata": {
        "id": "cqOGs-0zy-nK"
      }
    },
    {
      "cell_type": "code",
      "source": [
        "nltk.download('averaged_perceptron_tagger')"
      ],
      "metadata": {
        "colab": {
          "base_uri": "https://localhost:8080/"
        },
        "id": "kOQpsLBZys4r",
        "outputId": "68c23446-a0ec-4884-9612-c7a298e69238"
      },
      "execution_count": 27,
      "outputs": [
        {
          "output_type": "stream",
          "name": "stderr",
          "text": [
            "[nltk_data] Downloading package averaged_perceptron_tagger to\n",
            "[nltk_data]     /root/nltk_data...\n",
            "[nltk_data]   Unzipping taggers/averaged_perceptron_tagger.zip.\n"
          ]
        },
        {
          "output_type": "execute_result",
          "data": {
            "text/plain": [
              "True"
            ]
          },
          "metadata": {},
          "execution_count": 27
        }
      ]
    },
    {
      "cell_type": "code",
      "source": [
        "review_data['clean_review'] = review_data['clean_review'].apply\\\n",
        "(lambda x: [word for word in x if nltk.pos_tag([word])[0][1] == 'NN'])"
      ],
      "metadata": {
        "id": "Vv28E-YWzCVJ"
      },
      "execution_count": 28,
      "outputs": []
    },
    {
      "cell_type": "code",
      "source": [
        "review_data = review_data[review_data['clean_review'].map(lambda x: len(x)) > 1].reset_index(drop=True)\n",
        "# Keeping records with more than single words"
      ],
      "metadata": {
        "id": "-4kIwM-9zGjO"
      },
      "execution_count": 29,
      "outputs": []
    },
    {
      "cell_type": "code",
      "source": [
        "review_data.head()"
      ],
      "metadata": {
        "colab": {
          "base_uri": "https://localhost:8080/",
          "height": 206
        },
        "id": "yunVIBx7zTMI",
        "outputId": "2146a2c8-9e71-407a-e0c5-cc5f470e5f34"
      },
      "execution_count": 31,
      "outputs": [
        {
          "output_type": "execute_result",
          "data": {
            "text/plain": [
              "                                              review  \\\n",
              "0             Good but need updates and improvements   \n",
              "1  Worst mobile i have bought ever, Battery is dr...   \n",
              "2  when I will get my 10% cash back.... its alrea...   \n",
              "3  The worst phone everThey have changed the last...   \n",
              "4  Only I'm telling don't buyI'm totally disappoi...   \n",
              "\n",
              "                                        clean_review  \n",
              "0                        [need, update, improvement]  \n",
              "1  [mobile, bought, battery, hell, backup, hour, ...  \n",
              "2                                    [cash, january]  \n",
              "3  [phone, everthey, phone, problem, amazon, phon...  \n",
              "4  [buyi, disappointedpoor, batterypoor, camerawa...  "
            ],
            "text/html": [
              "\n",
              "  <div id=\"df-de40a214-9657-44ff-9c05-3876d6ef4b49\">\n",
              "    <div class=\"colab-df-container\">\n",
              "      <div>\n",
              "<style scoped>\n",
              "    .dataframe tbody tr th:only-of-type {\n",
              "        vertical-align: middle;\n",
              "    }\n",
              "\n",
              "    .dataframe tbody tr th {\n",
              "        vertical-align: top;\n",
              "    }\n",
              "\n",
              "    .dataframe thead th {\n",
              "        text-align: right;\n",
              "    }\n",
              "</style>\n",
              "<table border=\"1\" class=\"dataframe\">\n",
              "  <thead>\n",
              "    <tr style=\"text-align: right;\">\n",
              "      <th></th>\n",
              "      <th>review</th>\n",
              "      <th>clean_review</th>\n",
              "    </tr>\n",
              "  </thead>\n",
              "  <tbody>\n",
              "    <tr>\n",
              "      <th>0</th>\n",
              "      <td>Good but need updates and improvements</td>\n",
              "      <td>[need, update, improvement]</td>\n",
              "    </tr>\n",
              "    <tr>\n",
              "      <th>1</th>\n",
              "      <td>Worst mobile i have bought ever, Battery is dr...</td>\n",
              "      <td>[mobile, bought, battery, hell, backup, hour, ...</td>\n",
              "    </tr>\n",
              "    <tr>\n",
              "      <th>2</th>\n",
              "      <td>when I will get my 10% cash back.... its alrea...</td>\n",
              "      <td>[cash, january]</td>\n",
              "    </tr>\n",
              "    <tr>\n",
              "      <th>3</th>\n",
              "      <td>The worst phone everThey have changed the last...</td>\n",
              "      <td>[phone, everthey, phone, problem, amazon, phon...</td>\n",
              "    </tr>\n",
              "    <tr>\n",
              "      <th>4</th>\n",
              "      <td>Only I'm telling don't buyI'm totally disappoi...</td>\n",
              "      <td>[buyi, disappointedpoor, batterypoor, camerawa...</td>\n",
              "    </tr>\n",
              "  </tbody>\n",
              "</table>\n",
              "</div>\n",
              "      <button class=\"colab-df-convert\" onclick=\"convertToInteractive('df-de40a214-9657-44ff-9c05-3876d6ef4b49')\"\n",
              "              title=\"Convert this dataframe to an interactive table.\"\n",
              "              style=\"display:none;\">\n",
              "        \n",
              "  <svg xmlns=\"http://www.w3.org/2000/svg\" height=\"24px\"viewBox=\"0 0 24 24\"\n",
              "       width=\"24px\">\n",
              "    <path d=\"M0 0h24v24H0V0z\" fill=\"none\"/>\n",
              "    <path d=\"M18.56 5.44l.94 2.06.94-2.06 2.06-.94-2.06-.94-.94-2.06-.94 2.06-2.06.94zm-11 1L8.5 8.5l.94-2.06 2.06-.94-2.06-.94L8.5 2.5l-.94 2.06-2.06.94zm10 10l.94 2.06.94-2.06 2.06-.94-2.06-.94-.94-2.06-.94 2.06-2.06.94z\"/><path d=\"M17.41 7.96l-1.37-1.37c-.4-.4-.92-.59-1.43-.59-.52 0-1.04.2-1.43.59L10.3 9.45l-7.72 7.72c-.78.78-.78 2.05 0 2.83L4 21.41c.39.39.9.59 1.41.59.51 0 1.02-.2 1.41-.59l7.78-7.78 2.81-2.81c.8-.78.8-2.07 0-2.86zM5.41 20L4 18.59l7.72-7.72 1.47 1.35L5.41 20z\"/>\n",
              "  </svg>\n",
              "      </button>\n",
              "      \n",
              "  <style>\n",
              "    .colab-df-container {\n",
              "      display:flex;\n",
              "      flex-wrap:wrap;\n",
              "      gap: 12px;\n",
              "    }\n",
              "\n",
              "    .colab-df-convert {\n",
              "      background-color: #E8F0FE;\n",
              "      border: none;\n",
              "      border-radius: 50%;\n",
              "      cursor: pointer;\n",
              "      display: none;\n",
              "      fill: #1967D2;\n",
              "      height: 32px;\n",
              "      padding: 0 0 0 0;\n",
              "      width: 32px;\n",
              "    }\n",
              "\n",
              "    .colab-df-convert:hover {\n",
              "      background-color: #E2EBFA;\n",
              "      box-shadow: 0px 1px 2px rgba(60, 64, 67, 0.3), 0px 1px 3px 1px rgba(60, 64, 67, 0.15);\n",
              "      fill: #174EA6;\n",
              "    }\n",
              "\n",
              "    [theme=dark] .colab-df-convert {\n",
              "      background-color: #3B4455;\n",
              "      fill: #D2E3FC;\n",
              "    }\n",
              "\n",
              "    [theme=dark] .colab-df-convert:hover {\n",
              "      background-color: #434B5C;\n",
              "      box-shadow: 0px 1px 3px 1px rgba(0, 0, 0, 0.15);\n",
              "      filter: drop-shadow(0px 1px 2px rgba(0, 0, 0, 0.3));\n",
              "      fill: #FFFFFF;\n",
              "    }\n",
              "  </style>\n",
              "\n",
              "      <script>\n",
              "        const buttonEl =\n",
              "          document.querySelector('#df-de40a214-9657-44ff-9c05-3876d6ef4b49 button.colab-df-convert');\n",
              "        buttonEl.style.display =\n",
              "          google.colab.kernel.accessAllowed ? 'block' : 'none';\n",
              "\n",
              "        async function convertToInteractive(key) {\n",
              "          const element = document.querySelector('#df-de40a214-9657-44ff-9c05-3876d6ef4b49');\n",
              "          const dataTable =\n",
              "            await google.colab.kernel.invokeFunction('convertToInteractive',\n",
              "                                                     [key], {});\n",
              "          if (!dataTable) return;\n",
              "\n",
              "          const docLinkHtml = 'Like what you see? Visit the ' +\n",
              "            '<a target=\"_blank\" href=https://colab.research.google.com/notebooks/data_table.ipynb>data table notebook</a>'\n",
              "            + ' to learn more about interactive tables.';\n",
              "          element.innerHTML = '';\n",
              "          dataTable['output_type'] = 'display_data';\n",
              "          await google.colab.output.renderOutput(dataTable, element);\n",
              "          const docLink = document.createElement('div');\n",
              "          docLink.innerHTML = docLinkHtml;\n",
              "          element.appendChild(docLink);\n",
              "        }\n",
              "      </script>\n",
              "    </div>\n",
              "  </div>\n",
              "  "
            ]
          },
          "metadata": {},
          "execution_count": 31
        }
      ]
    },
    {
      "cell_type": "markdown",
      "source": [
        "### 9. Document Term Matrix"
      ],
      "metadata": {
        "id": "hax_Rc_tzfJ8"
      }
    },
    {
      "cell_type": "code",
      "source": [
        "import gensim\n",
        "from gensim import corpora"
      ],
      "metadata": {
        "id": "luCCXqIGzXEJ"
      },
      "execution_count": 32,
      "outputs": []
    },
    {
      "cell_type": "code",
      "source": [
        "dictionary = corpora.Dictionary(review_data['clean_review'])\n",
        "print(dictionary)\n",
        "\n",
        "# We have 6724 unique tokens"
      ],
      "metadata": {
        "colab": {
          "base_uri": "https://localhost:8080/"
        },
        "id": "j3jlKgFSzoKT",
        "outputId": "fe85d142-bd56-4f5b-846b-332d1956cc12"
      },
      "execution_count": 33,
      "outputs": [
        {
          "output_type": "stream",
          "name": "stdout",
          "text": [
            "Dictionary(6724 unique tokens: ['improvement', 'need', 'update', 'amazon', 'backup']...)\n"
          ]
        }
      ]
    },
    {
      "cell_type": "code",
      "source": [
        "doc_term_matrix = review_data['clean_review'].apply(lambda x: dictionary.doc2bow(x))\n",
        "doc_term_matrix[:10]\n",
        "\n",
        "# Each tokenized words has been assigned index value and thier count in corpus"
      ],
      "metadata": {
        "colab": {
          "base_uri": "https://localhost:8080/"
        },
        "id": "0fn-yQUDzq93",
        "outputId": "dd15db76-8e8e-4b2f-a5ad-029c981afaaa"
      },
      "execution_count": 34,
      "outputs": [
        {
          "output_type": "execute_result",
          "data": {
            "text/plain": [
              "0                             [(0, 1), (1, 1), (2, 1)]\n",
              "1    [(3, 1), (4, 1), (5, 2), (6, 1), (7, 1), (8, 1...\n",
              "2                                   [(19, 1), (20, 1)]\n",
              "3                  [(3, 2), (21, 1), (22, 3), (23, 1)]\n",
              "4        [(24, 1), (25, 1), (26, 1), (27, 1), (28, 1)]\n",
              "5    [(14, 1), (22, 1), (29, 1), (30, 1), (31, 1), ...\n",
              "6                           [(5, 1), (36, 1), (37, 1)]\n",
              "7    [(14, 2), (22, 2), (23, 2), (34, 1), (38, 1), ...\n",
              "8                 [(44, 1), (45, 1), (46, 1), (47, 1)]\n",
              "9                  [(8, 1), (22, 1), (48, 1), (49, 1)]\n",
              "Name: clean_review, dtype: object"
            ]
          },
          "metadata": {},
          "execution_count": 34
        }
      ]
    },
    {
      "cell_type": "markdown",
      "source": [
        "### LDA"
      ],
      "metadata": {
        "id": "Sz2ufB27zyhC"
      }
    },
    {
      "cell_type": "code",
      "source": [
        "from IPython.display import clear_output"
      ],
      "metadata": {
        "id": "NQaxwkN5zub7"
      },
      "execution_count": 35,
      "outputs": []
    },
    {
      "cell_type": "code",
      "source": [
        "Lda = gensim.models.ldamodel.LdaModel\n",
        "ldamodel = Lda(corpus=doc_term_matrix, num_topics=12, id2word=dictionary, passes=10,random_state=45)\n",
        "clear_output()\n",
        "\n",
        "# corpus requires document term matrix\n",
        "# num_topics is used to define number of topics to create from corpus\n",
        "# id2word requires mapping of words\n",
        "# passes is used to define number of iterations"
      ],
      "metadata": {
        "id": "tpOwCUdcz27T"
      },
      "execution_count": 36,
      "outputs": []
    },
    {
      "cell_type": "code",
      "source": [
        "ldamodel.print_topics()\n",
        "\n",
        "# We have printed all 12 topics and their keywords generated by LDA"
      ],
      "metadata": {
        "colab": {
          "base_uri": "https://localhost:8080/"
        },
        "id": "MRt2RbFXz57Y",
        "outputId": "c134cb52-aef1-441b-c2ee-1a24d16d05ec"
      },
      "execution_count": 37,
      "outputs": [
        {
          "output_type": "execute_result",
          "data": {
            "text/plain": [
              "[(0,\n",
              "  '0.199*\"camera\" + 0.099*\"quality\" + 0.041*\"phone\" + 0.031*\"sound\" + 0.026*\"front\" + 0.025*\"battery\" + 0.022*\"mode\" + 0.019*\"depth\" + 0.017*\"rear\" + 0.016*\"feature\"'),\n",
              " (1,\n",
              "  '0.057*\"android\" + 0.042*\"phone\" + 0.034*\"feature\" + 0.031*\"stock\" + 0.028*\"card\" + 0.026*\"contact\" + 0.022*\"user\" + 0.021*\"memory\" + 0.020*\"headphone\" + 0.017*\"slot\"'),\n",
              " (2,\n",
              "  '0.315*\"mobile\" + 0.162*\"problem\" + 0.091*\"heating\" + 0.031*\"battery\" + 0.022*\"heat\" + 0.014*\"network\" + 0.012*\"game\" + 0.008*\"month\" + 0.007*\"class\" + 0.007*\"hang\"'),\n",
              " (3,\n",
              "  '0.062*\"phone\" + 0.060*\"screen\" + 0.058*\"charger\" + 0.048*\"turbo\" + 0.039*\"feature\" + 0.027*\"glass\" + 0.018*\"gorilla\" + 0.017*\"time\" + 0.017*\"charge\" + 0.015*\"core\"'),\n",
              " (4,\n",
              "  '0.120*\"update\" + 0.053*\"phone\" + 0.049*\"software\" + 0.034*\"need\" + 0.034*\"system\" + 0.028*\"oreo\" + 0.026*\"problem\" + 0.019*\"lenovo\" + 0.013*\"bill\" + 0.012*\"please\"'),\n",
              " (5,\n",
              "  '0.196*\"phone\" + 0.101*\"battery\" + 0.057*\"price\" + 0.052*\"camera\" + 0.050*\"awesome\" + 0.047*\"performance\" + 0.044*\"backup\" + 0.027*\"range\" + 0.027*\"life\" + 0.020*\"superb\"'),\n",
              " (6,\n",
              "  '0.129*\"battery\" + 0.100*\"issue\" + 0.057*\"heating\" + 0.047*\"fast\" + 0.042*\"phone\" + 0.042*\"drain\" + 0.039*\"hour\" + 0.038*\"charge\" + 0.028*\"time\" + 0.021*\"usage\"'),\n",
              " (7,\n",
              "  '0.297*\"product\" + 0.036*\"price\" + 0.029*\"excellent\" + 0.018*\"performance\" + 0.013*\"awesome\" + 0.013*\"till\" + 0.013*\"amazon\" + 0.012*\"expectation\" + 0.012*\"feature\" + 0.010*\"lenovo\"'),\n",
              " (8,\n",
              "  '0.063*\"call\" + 0.049*\"phone\" + 0.036*\"network\" + 0.035*\"device\" + 0.030*\"work\" + 0.029*\"screen\" + 0.026*\"speaker\" + 0.025*\"issue\" + 0.025*\"support\" + 0.022*\"cast\"'),\n",
              " (9,\n",
              "  '0.149*\"note\" + 0.144*\"lenovo\" + 0.072*\"phone\" + 0.020*\"redmi\" + 0.016*\"killer\" + 0.013*\"review\" + 0.011*\"game\" + 0.011*\"model\" + 0.010*\"bought\" + 0.009*\"feature\"'),\n",
              " (10,\n",
              "  '0.104*\"phone\" + 0.071*\"amazon\" + 0.043*\"service\" + 0.035*\"lenovo\" + 0.034*\"return\" + 0.023*\"day\" + 0.022*\"please\" + 0.020*\"product\" + 0.020*\"problem\" + 0.019*\"customer\"'),\n",
              " (11,\n",
              "  '0.160*\"money\" + 0.086*\"waste\" + 0.074*\"worth\" + 0.061*\"value\" + 0.032*\"delivery\" + 0.017*\"super\" + 0.013*\"buying\" + 0.012*\"facility\" + 0.009*\"dont\" + 0.008*\"iron\"')]"
            ]
          },
          "metadata": {},
          "execution_count": 37
        }
      ]
    },
    {
      "cell_type": "markdown",
      "source": [
        "Visualizing LDA model topics"
      ],
      "metadata": {
        "id": "VWEkS9r10F8v"
      }
    },
    {
      "cell_type": "code",
      "source": [
        "pip install pyLDAvis # To visualize lda model"
      ],
      "metadata": {
        "colab": {
          "base_uri": "https://localhost:8080/"
        },
        "id": "3AKuU8As0AlP",
        "outputId": "d3687371-84d5-42a8-f9cf-7f29bcfc70c3"
      },
      "execution_count": 38,
      "outputs": [
        {
          "output_type": "stream",
          "name": "stdout",
          "text": [
            "Looking in indexes: https://pypi.org/simple, https://us-python.pkg.dev/colab-wheels/public/simple/\n",
            "Collecting pyLDAvis\n",
            "  Downloading pyLDAvis-3.3.1.tar.gz (1.7 MB)\n",
            "\u001b[K     |████████████████████████████████| 1.7 MB 7.1 MB/s \n",
            "\u001b[?25h  Installing build dependencies ... \u001b[?25l\u001b[?25hdone\n",
            "  Getting requirements to build wheel ... \u001b[?25l\u001b[?25hdone\n",
            "  Installing backend dependencies ... \u001b[?25l\u001b[?25hdone\n",
            "    Preparing wheel metadata ... \u001b[?25l\u001b[?25hdone\n",
            "Requirement already satisfied: gensim in /usr/local/lib/python3.7/dist-packages (from pyLDAvis) (3.6.0)\n",
            "Requirement already satisfied: pandas>=1.2.0 in /usr/local/lib/python3.7/dist-packages (from pyLDAvis) (1.3.5)\n",
            "Requirement already satisfied: joblib in /usr/local/lib/python3.7/dist-packages (from pyLDAvis) (1.1.0)\n",
            "Collecting funcy\n",
            "  Downloading funcy-1.17-py2.py3-none-any.whl (33 kB)\n",
            "Requirement already satisfied: scipy in /usr/local/lib/python3.7/dist-packages (from pyLDAvis) (1.7.3)\n",
            "Requirement already satisfied: jinja2 in /usr/local/lib/python3.7/dist-packages (from pyLDAvis) (2.11.3)\n",
            "Requirement already satisfied: scikit-learn in /usr/local/lib/python3.7/dist-packages (from pyLDAvis) (1.0.2)\n",
            "Requirement already satisfied: future in /usr/local/lib/python3.7/dist-packages (from pyLDAvis) (0.16.0)\n",
            "Collecting sklearn\n",
            "  Downloading sklearn-0.0.tar.gz (1.1 kB)\n",
            "Requirement already satisfied: numpy>=1.20.0 in /usr/local/lib/python3.7/dist-packages (from pyLDAvis) (1.21.6)\n",
            "Requirement already satisfied: setuptools in /usr/local/lib/python3.7/dist-packages (from pyLDAvis) (57.4.0)\n",
            "Requirement already satisfied: numexpr in /usr/local/lib/python3.7/dist-packages (from pyLDAvis) (2.8.3)\n",
            "Requirement already satisfied: python-dateutil>=2.7.3 in /usr/local/lib/python3.7/dist-packages (from pandas>=1.2.0->pyLDAvis) (2.8.2)\n",
            "Requirement already satisfied: pytz>=2017.3 in /usr/local/lib/python3.7/dist-packages (from pandas>=1.2.0->pyLDAvis) (2022.2.1)\n",
            "Requirement already satisfied: six>=1.5 in /usr/local/lib/python3.7/dist-packages (from python-dateutil>=2.7.3->pandas>=1.2.0->pyLDAvis) (1.15.0)\n",
            "Requirement already satisfied: smart-open>=1.2.1 in /usr/local/lib/python3.7/dist-packages (from gensim->pyLDAvis) (5.2.1)\n",
            "Requirement already satisfied: MarkupSafe>=0.23 in /usr/local/lib/python3.7/dist-packages (from jinja2->pyLDAvis) (2.0.1)\n",
            "Requirement already satisfied: packaging in /usr/local/lib/python3.7/dist-packages (from numexpr->pyLDAvis) (21.3)\n",
            "Requirement already satisfied: pyparsing!=3.0.5,>=2.0.2 in /usr/local/lib/python3.7/dist-packages (from packaging->numexpr->pyLDAvis) (3.0.9)\n",
            "Requirement already satisfied: threadpoolctl>=2.0.0 in /usr/local/lib/python3.7/dist-packages (from scikit-learn->pyLDAvis) (3.1.0)\n",
            "Building wheels for collected packages: pyLDAvis, sklearn\n",
            "  Building wheel for pyLDAvis (PEP 517) ... \u001b[?25l\u001b[?25hdone\n",
            "  Created wheel for pyLDAvis: filename=pyLDAvis-3.3.1-py2.py3-none-any.whl size=136898 sha256=1eb6367eeca0a443044d36e9dc77b0a4d6df2079a33ec28970d35f670d3ab55e\n",
            "  Stored in directory: /root/.cache/pip/wheels/c9/21/f6/17bcf2667e8a68532ba2fbf6d5c72fdf4c7f7d9abfa4852d2f\n",
            "  Building wheel for sklearn (setup.py) ... \u001b[?25l\u001b[?25hdone\n",
            "  Created wheel for sklearn: filename=sklearn-0.0-py2.py3-none-any.whl size=1310 sha256=f08f60e0d2841544bee621a604b915487e29e2fd6ebd4bd46f314075a5200c66\n",
            "  Stored in directory: /root/.cache/pip/wheels/46/ef/c3/157e41f5ee1372d1be90b09f74f82b10e391eaacca8f22d33e\n",
            "Successfully built pyLDAvis sklearn\n",
            "Installing collected packages: sklearn, funcy, pyLDAvis\n",
            "Successfully installed funcy-1.17 pyLDAvis-3.3.1 sklearn-0.0\n"
          ]
        }
      ]
    },
    {
      "cell_type": "code",
      "source": [
        "pip install gensim"
      ],
      "metadata": {
        "colab": {
          "base_uri": "https://localhost:8080/"
        },
        "id": "V6iWpwbG0jH8",
        "outputId": "d329214f-205a-45b1-8618-fac4d00c3207"
      },
      "execution_count": 40,
      "outputs": [
        {
          "output_type": "stream",
          "name": "stdout",
          "text": [
            "Looking in indexes: https://pypi.org/simple, https://us-python.pkg.dev/colab-wheels/public/simple/\n",
            "Requirement already satisfied: gensim in /usr/local/lib/python3.7/dist-packages (3.6.0)\n",
            "Requirement already satisfied: scipy>=0.18.1 in /usr/local/lib/python3.7/dist-packages (from gensim) (1.7.3)\n",
            "Requirement already satisfied: six>=1.5.0 in /usr/local/lib/python3.7/dist-packages (from gensim) (1.15.0)\n",
            "Requirement already satisfied: numpy>=1.11.3 in /usr/local/lib/python3.7/dist-packages (from gensim) (1.21.6)\n",
            "Requirement already satisfied: smart-open>=1.2.1 in /usr/local/lib/python3.7/dist-packages (from gensim) (5.2.1)\n"
          ]
        }
      ]
    },
    {
      "cell_type": "code",
      "source": [
        "import pyLDAvis\n",
        "import pyLDAvis.gensim_models\n",
        "\n",
        "pyLDAvis.enable_notebook()\n",
        "vis = pyLDAvis.gensim_models.prepare(ldamodel,doc_term_matrix,dictionary)\n",
        "vis"
      ],
      "metadata": {
        "colab": {
          "base_uri": "https://localhost:8080/",
          "height": 917
        },
        "id": "Jwd7oJss0Anv",
        "outputId": "d6c3b3ba-4942-41a7-819a-b2c9a8b26ba7"
      },
      "execution_count": 44,
      "outputs": [
        {
          "output_type": "stream",
          "name": "stderr",
          "text": [
            "/usr/local/lib/python3.7/dist-packages/pyLDAvis/_prepare.py:247: FutureWarning: In a future version of pandas all arguments of DataFrame.drop except for the argument 'labels' will be keyword-only\n",
            "  by='saliency', ascending=False).head(R).drop('saliency', 1)\n"
          ]
        },
        {
          "output_type": "execute_result",
          "data": {
            "text/plain": [
              "PreparedData(topic_coordinates=              x         y  topics  cluster       Freq\n",
              "topic                                                \n",
              "0      0.224589  0.116665       1        1  13.557574\n",
              "10    -0.062011  0.025181       2        1  11.629443\n",
              "5      0.193918  0.079661       3        1  11.234022\n",
              "6      0.164796 -0.195347       4        1  10.735535\n",
              "8      0.055475 -0.045687       5        1   9.355544\n",
              "9     -0.009636  0.141624       6        1   9.150064\n",
              "3      0.062384  0.023739       7        1   7.967725\n",
              "2     -0.028692 -0.324336       8        1   7.058665\n",
              "7     -0.132147  0.166424       9        1   5.326450\n",
              "1     -0.065289  0.081144      10        1   5.318140\n",
              "4     -0.115856 -0.042825      11        1   4.716447\n",
              "11    -0.287530 -0.026243      12        1   3.950393, topic_info=        Term         Freq        Total Category  logprob  loglift\n",
              "15    mobile  2202.000000  2202.000000  Default  30.0000  30.0000\n",
              "77    camera  3266.000000  3266.000000  Default  29.0000  29.0000\n",
              "68   product  1821.000000  1821.000000  Default  28.0000  28.0000\n",
              "34      note  1349.000000  1349.000000  Default  27.0000  27.0000\n",
              "5    battery  3103.000000  3103.000000  Default  26.0000  26.0000\n",
              "..       ...          ...          ...      ...      ...      ...\n",
              "44      dont    35.821576   206.228174  Topic12  -4.6935   1.4809\n",
              "553  upgrade    12.241737    24.861298  Topic12  -5.7672   2.5229\n",
              "60      time    30.032935   971.602327  Topic12  -4.8698  -0.2453\n",
              "552  restart    14.415835    76.073630  Topic12  -5.6038   1.5680\n",
              "68   product    17.800334  1821.713162  Topic12  -5.3929  -1.3970\n",
              "\n",
              "[699 rows x 6 columns], token_table=      Topic      Freq       Term\n",
              "term                            \n",
              "3159     12  0.908634       abhi\n",
              "806       2  0.934986     accept\n",
              "391      10  0.964483  accessory\n",
              "1482      7  0.932989   accurate\n",
              "1656     10  0.927617    adapter\n",
              "...     ...       ...        ...\n",
              "116      12  0.992281      worth\n",
              "1326     10  0.936594  worthless\n",
              "268       9  0.979720      wrost\n",
              "43        6  0.992584       year\n",
              "431       1  0.982757       zoom\n",
              "\n",
              "[1135 rows x 3 columns], R=30, lambda_step=0.01, plot_opts={'xlab': 'PC1', 'ylab': 'PC2'}, topic_order=[1, 11, 6, 7, 9, 10, 4, 3, 8, 2, 5, 12])"
            ],
            "text/html": [
              "\n",
              "<link rel=\"stylesheet\" type=\"text/css\" href=\"https://cdn.jsdelivr.net/gh/bmabey/pyLDAvis@3.3.1/pyLDAvis/js/ldavis.v1.0.0.css\">\n",
              "\n",
              "\n",
              "<div id=\"ldavis_el571397170498486569308922318\"></div>\n",
              "<script type=\"text/javascript\">\n",
              "\n",
              "var ldavis_el571397170498486569308922318_data = {\"mdsDat\": {\"x\": [0.2245886960339553, -0.06201145264678072, 0.19391817843258924, 0.16479631808439119, 0.055474691053494535, -0.009636056650819694, 0.06238391601785095, -0.02869170150705893, -0.1321473898705448, -0.06528868075881866, -0.11585638773211566, -0.28753013045614306], \"y\": [0.11666457189937336, 0.025181342182180693, 0.07966137792792359, -0.19534656388720106, -0.045686993700349184, 0.1416237200541939, 0.023739416728563615, -0.32433606515136915, 0.1664243436189754, 0.08114358517068904, -0.042825388215164926, -0.02624334662781632], \"topics\": [1, 2, 3, 4, 5, 6, 7, 8, 9, 10, 11, 12], \"cluster\": [1, 1, 1, 1, 1, 1, 1, 1, 1, 1, 1, 1], \"Freq\": [13.557573701037995, 11.629442690546696, 11.234021867779, 10.735534550474755, 9.355544179636125, 9.150064143499028, 7.967724947737133, 7.0586649006796165, 5.326449752375904, 5.318139533142416, 4.716447225221404, 3.95039250786993]}, \"tinfo\": {\"Term\": [\"mobile\", \"camera\", \"product\", \"note\", \"battery\", \"problem\", \"quality\", \"lenovo\", \"heating\", \"phone\", \"money\", \"issue\", \"update\", \"amazon\", \"price\", \"screen\", \"call\", \"charger\", \"awesome\", \"waste\", \"performance\", \"service\", \"backup\", \"drain\", \"fast\", \"turbo\", \"worth\", \"feature\", \"charge\", \"android\", \"front\", \"quality\", \"depth\", \"rear\", \"picture\", \"clarity\", \"effect\", \"selfie\", \"bokeh\", \"pic\", \"processing\", \"blur\", \"flash\", \"capture\", \"background\", \"focus\", \"dull\", \"zoom\", \"processer\", \"setup\", \"primary\", \"photography\", \"duel\", \"select\", \"pixel\", \"image\", \"theme\", \"gimmick\", \"clock\", \"fire\", \"fingerprint\", \"build\", \"camera\", \"photo\", \"sound\", \"weight\", \"mode\", \"design\", \"earphone\", \"sensor\", \"light\", \"dolby\", \"display\", \"mark\", \"music\", \"feature\", \"performance\", \"phone\", \"battery\", \"work\", \"video\", \"look\", \"fast\", \"speaker\", \"service\", \"return\", \"customer\", \"replacement\", \"center\", \"centre\", \"policy\", \"warranty\", \"team\", \"exchange\", \"told\", \"visit\", \"trust\", \"manufacturing\", \"sell\", \"phon\", \"september\", \"error\", \"atom\", \"atleast\", \"care\", \"accept\", \"alot\", \"couple\", \"help\", \"adjust\", \"cell\", \"camra\", \"moment\", \"trouble\", \"amazon\", \"refund\", \"defect\", \"head\", \"faulty\", \"request\", \"damage\", \"please\", \"want\", \"day\", \"sure\", \"check\", \"phone\", \"solution\", \"delivery\", \"purchase\", \"lenovo\", \"star\", \"experience\", \"problem\", \"time\", \"product\", \"bought\", \"month\", \"issue\", \"week\", \"need\", \"device\", \"superb\", \"beautiful\", \"protection\", \"bettery\", \"life\", \"clearity\", \"mast\", \"gamer\", \"plug\", \"lena\", \"effort\", \"jyada\", \"karta\", \"kharab\", \"booting\", \"bilkul\", \"buget\", \"agar\", \"ear\", \"remote\", \"phonecamera\", \"divice\", \"behave\", \"awsome\", \"hurt\", \"serf\", \"adequate\", \"awesome\", \"state\", \"blaster\", \"range\", \"backup\", \"budget\", \"price\", \"everything\", \"segment\", \"love\", \"performance\", \"decent\", \"okay\", \"capacity\", \"bahut\", \"phone\", \"excellent\", \"battery\", \"processor\", \"saver\", \"perfect\", \"smooth\", \"super\", \"fine\", \"camera\", \"smart\", \"nahi\", \"rest\", \"cool\", \"fast\", \"heat\", \"thing\", \"look\", \"month\", \"time\", \"speed\", \"drain\", \"notification\", \"auto\", \"lenova\", \"hotspot\", \"someone\", \"drainage\", \"percent\", \"china\", \"location\", \"shortcut\", \"share\", \"office\", \"control\", \"battry\", \"bhut\", \"longer\", \"facebook\", \"blink\", \"security\", \"gift\", \"silent\", \"spot\", \"text\", \"gesture\", \"navigation\", \"bank\", \"upset\", \"vibration\", \"whatsapp\", \"lock\", \"hour\", \"issue\", \"usage\", \"charge\", \"degree\", \"fast\", \"volume\", \"medium\", \"battery\", \"heating\", \"power\", \"apps\", \"faster\", \"min\", \"quick\", \"brightness\", \"internet\", \"time\", \"heat\", \"phone\", \"day\", \"month\", \"mode\", \"light\", \"work\", \"call\", \"network\", \"cast\", \"signal\", \"bluetooth\", \"volta\", \"voice\", \"recorder\", \"anything\", \"strength\", \"connect\", \"record\", \"reception\", \"home\", \"complain\", \"song\", \"movie\", \"batter\", \"reality\", \"connectivity\", \"forum\", \"clean\", \"chromecast\", \"chrome\", \"seem\", \"provider\", \"subject\", \"hearing\", \"left\", \"click\", \"stereo\", \"hello\", \"headset\", \"call\", \"audio\", \"support\", \"complaint\", \"wifi\", \"device\", \"speaker\", \"network\", \"work\", \"option\", \"side\", \"screen\", \"smart\", \"handset\", \"show\", \"issue\", \"phone\", \"time\", \"music\", \"video\", \"lenovo\", \"note\", \"redmi\", \"killer\", \"year\", \"warm\", \"vibe\", \"body\", \"space\", \"paid\", \"choose\", \"increase\", \"bakwas\", \"temperature\", \"hate\", \"test\", \"comparison\", \"category\", \"beat\", \"metal\", \"fact\", \"slim\", \"fraud\", \"frequent\", \"transparent\", \"panel\", \"sufficient\", \"socket\", \"selfi\", \"diya\", \"miui\", \"moto\", \"lenovo\", \"thought\", \"sale\", \"word\", \"model\", \"review\", \"lenevo\", \"hold\", \"spec\", \"recommend\", \"samsung\", \"suck\", \"game\", \"nothing\", \"brand\", \"compare\", \"wise\", \"phone\", \"play\", \"feel\", \"bought\", \"smartphone\", \"company\", \"dolby\", \"feature\", \"usage\", \"experience\", \"thing\", \"charger\", \"turbo\", \"glass\", \"gorilla\", \"broken\", \"scratch\", \"today\", \"cable\", \"fall\", \"broke\", \"guard\", \"concern\", \"alarm\", \"awsm\", \"aspect\", \"crack\", \"window\", \"mera\", \"purpose\", \"split\", \"deca\", \"mirror\", \"height\", \"continue\", \"claimed\", \"amazone\", \"approx\", \"accurate\", \"pocket\", \"resistant\", \"cost\", \"core\", \"screen\", \"market\", \"spent\", \"piece\", \"cover\", \"edge\", \"condition\", \"feature\", \"fake\", \"configuration\", \"hand\", \"display\", \"charge\", \"phone\", \"month\", \"le\", \"company\", \"time\", \"bought\", \"work\", \"processor\", \"hour\", \"touch\", \"day\", \"lenovo\", \"mobile\", \"ringtone\", \"hota\", \"cause\", \"discount\", \"manager\", \"bulky\", \"custom\", \"kiya\", \"bhai\", \"imei\", \"honest\", \"bettry\", \"efficient\", \"object\", \"rock\", \"store\", \"position\", \"impression\", \"gadget\", \"prob\", \"coolpad\", \"deep\", \"cemera\", \"lene\", \"strange\", \"unique\", \"owsum\", \"extreme\", \"waist\", \"player\", \"problem\", \"water\", \"heating\", \"class\", \"connection\", \"face\", \"heat\", \"game\", \"understand\", \"file\", \"network\", \"change\", \"battery\", \"hang\", \"play\", \"month\", \"solve\", \"switch\", \"time\", \"please\", \"purchase\", \"star\", \"internet\", \"gallery\", \"wrost\", \"bekar\", \"tray\", \"stylish\", \"october\", \"jata\", \"ghatiya\", \"launch\", \"beast\", \"world\", \"tone\", \"thik\", \"packaging\", \"listen\", \"sunlight\", \"cameragood\", \"isse\", \"packet\", \"indoor\", \"pickup\", \"cheaper\", \"round\", \"appreciate\", \"rough\", \"sleek\", \"fooling\", \"jammed\", \"payment\", \"vibrant\", \"shame\", \"product\", \"meet\", \"deal\", \"spend\", \"till\", \"choice\", \"cheap\", \"expectation\", \"excellent\", \"thank\", \"offer\", \"upto\", \"price\", \"smartphone\", \"date\", \"item\", \"guy\", \"feel\", \"purchase\", \"performance\", \"awesome\", \"dont\", \"amazon\", \"feature\", \"suggest\", \"range\", \"specification\", \"mark\", \"lenovo\", \"please\", \"look\", \"month\", \"android\", \"stock\", \"wonderful\", \"nougat\", \"paisa\", \"detail\", \"handle\", \"accessory\", \"functionality\", \"caller\", \"idea\", \"pack\", \"list\", \"motion\", \"adapter\", \"release\", \"status\", \"worthless\", \"boot\", \"daylight\", \"joke\", \"engineer\", \"delay\", \"self\", \"penny\", \"pure\", \"vary\", \"technology\", \"mobail\", \"elegant\", \"contact\", \"card\", \"memory\", \"headphone\", \"storage\", \"message\", \"provide\", \"user\", \"slot\", \"con\", \"version\", \"loud\", \"function\", \"interface\", \"feature\", \"google\", \"software\", \"phone\", \"speed\", \"cool\", \"option\", \"future\", \"lot\", \"update\", \"button\", \"oreo\", \"system\", \"bill\", \"order\", \"invoice\", \"mind\", \"resolve\", \"icon\", \"blowing\", \"wastage\", \"didnt\", \"copy\", \"turbocharger\", \"india\", \"west\", \"brilliant\", \"sake\", \"everytime\", \"operate\", \"update\", \"tower\", \"indicator\", \"helpful\", \"none\", \"section\", \"fail\", \"heard\", \"orio\", \"symbol\", \"hung\", \"mail\", \"software\", \"bug\", \"improvement\", \"result\", \"need\", \"send\", \"useless\", \"hope\", \"receive\", \"gallery\", \"think\", \"phone\", \"problem\", \"please\", \"lenovo\", \"name\", \"application\", \"hardware\", \"want\", \"network\", \"hang\", \"message\", \"issue\", \"money\", \"waste\", \"value\", \"worth\", \"facility\", \"fone\", \"cash\", \"iron\", \"mobil\", \"wireless\", \"hone\", \"worry\", \"prblm\", \"karne\", \"gaya\", \"dust\", \"band\", \"abhi\", \"deta\", \"manufacturer\", \"prize\", \"fair\", \"example\", \"cemara\", \"january\", \"avoid\", \"kabhi\", \"tooo\", \"executive\", \"spare\", \"question\", \"package\", \"delivery\", \"super\", \"buying\", \"airtel\", \"raha\", \"dont\", \"upgrade\", \"time\", \"restart\", \"product\"], \"Freq\": [2202.0, 3266.0, 1821.0, 1349.0, 3103.0, 1536.0, 1328.0, 2020.0, 1252.0, 6445.0, 626.0, 1467.0, 597.0, 891.0, 847.0, 743.0, 650.0, 456.0, 630.0, 337.0, 836.0, 491.0, 571.0, 449.0, 773.0, 380.0, 290.0, 862.0, 541.0, 298.0, 352.54292371346116, 1323.8096517923357, 251.10447750034314, 230.8019794880588, 164.01758018468044, 138.89395212935182, 118.80317949951413, 90.90181273470284, 62.06934457747313, 50.973808245285156, 44.19972792730821, 37.92486199096434, 152.00494137514394, 27.438226871264327, 27.24947134142065, 53.84162842545108, 23.599220623286033, 23.547994975277817, 21.613014717076638, 20.957600022095384, 31.363229358177215, 17.98057141938498, 17.90006593203912, 17.117632267218724, 16.413382402355445, 107.83004377720142, 12.560654747395798, 12.488232953412565, 12.059776098944326, 11.1807641473168, 64.86170444551439, 76.28565088511303, 2677.0393259378193, 171.41082091557965, 414.2159711062213, 54.77526256774813, 291.32589637292256, 67.40149599417731, 112.80626566466553, 100.50748240217449, 163.03124608379767, 182.79442471451893, 202.5549767898105, 113.69036422229931, 121.91846185022901, 215.31868537817033, 199.95156006271503, 551.2776131530075, 333.4529437467764, 156.41381478238813, 111.07949308074625, 107.27772919996478, 144.91250377797832, 108.40636006810273, 490.2233047847767, 391.25153583902375, 224.3007310191205, 178.2590581318559, 137.88023427548308, 89.83926538692218, 83.71418949296867, 83.29722134894847, 56.105045892021344, 46.419680017133, 35.29522152101069, 28.908125699170053, 28.52324956494788, 28.24863154512415, 27.14649563921962, 23.52435779752984, 20.92571903857171, 20.08703801460713, 19.935386169559873, 19.867402874420236, 116.56257832410219, 18.381106970241387, 18.15068285308729, 21.63636058758991, 142.45126297670794, 14.841090073807871, 59.441885364283074, 13.834283395838282, 13.791842282838774, 13.582691694787316, 821.3052592145275, 111.02406336811202, 45.510857902635344, 38.34574340414329, 52.55977062657746, 60.55803285892015, 33.97076429457553, 247.71094157444517, 173.59476546366932, 264.24438024902355, 48.704132233530636, 61.08226046569198, 1200.1517540569675, 43.50083059074965, 118.15943810858981, 100.8800164418588, 399.28478949299824, 79.45603978271413, 100.78528265280185, 230.0682914635112, 179.20184708397014, 235.61636562743453, 97.00399901910488, 107.82897053469746, 134.11794031411122, 68.53225759926033, 80.28804491763673, 82.63713175602457, 227.8678147974553, 27.84965827188784, 22.66167701446252, 22.460126297793465, 295.6941314527339, 16.367832912380827, 13.146137074121691, 11.975483408069447, 11.816845453257073, 11.127168385931336, 10.543246500534908, 10.415585406254941, 10.409525152671076, 10.366951158730636, 9.974139719880908, 9.76479215921987, 9.345622244623213, 8.628791924813974, 8.454457291389177, 8.38830815962933, 8.330151489281553, 8.229054204265626, 7.479910088973454, 19.734012295307547, 7.266576985313108, 7.062030472061605, 6.997781808879683, 559.3444816452758, 6.77847265780968, 6.718779548652483, 304.8602611118921, 484.6029363233531, 141.30635503109553, 633.6183691942726, 165.3509953863841, 38.47037315721573, 113.63154245933598, 527.2118615758133, 71.48759074606373, 31.070935670235134, 30.64953429202193, 31.337889970152382, 2183.5975728820677, 199.02691512524484, 1127.830696477822, 171.03885558542652, 20.368954053917612, 69.06809603798646, 61.48051345727093, 87.36847101230839, 92.86602007571929, 582.5596834117248, 64.23309669900985, 35.39541499813379, 42.99796295922572, 43.920821173212744, 120.55201522741386, 95.66339582021916, 65.27953848522571, 68.5419240423424, 65.11457729447001, 63.448523159789005, 44.81381599138633, 448.75637277702094, 107.31132246609643, 72.59961355625718, 48.37159531016807, 48.04425450237906, 40.62451797120561, 30.546228669585176, 24.36216493856299, 21.742901186299715, 19.58440070706093, 18.095512066468462, 17.60486730138762, 17.30700935117503, 17.16330162115916, 17.16049384786572, 16.535494407104085, 32.673956300166516, 15.19067375315376, 15.107382668758058, 17.17173236901116, 14.746707600078746, 14.271108191627182, 14.049245819629405, 13.35495454509034, 13.197604107096637, 12.873755683990522, 12.72685887813519, 12.072187166519408, 11.512640536174112, 43.767906832882986, 48.443072205613454, 412.8366825454377, 1058.2607080803548, 221.6285691613091, 403.9461729585937, 24.39348621912916, 498.40957051220215, 79.58015888214786, 45.780203783622845, 1373.8942798072171, 609.1181203920427, 93.9253945171134, 142.42906906763892, 59.481419418355664, 57.628051349590606, 57.59681920468455, 41.62984936969121, 76.99424919869936, 295.75315025458326, 182.50762121671312, 449.3618614121809, 104.94317615227595, 106.51012163322326, 87.41347992424714, 60.06559967876837, 73.2291638676655, 66.9893507332261, 50.70644450295662, 204.65921151733576, 204.23224259431717, 174.6054498833128, 165.63197340490643, 103.68966619647254, 67.02814835490236, 52.78590816373572, 44.49790798044809, 101.17239655590885, 35.58917809832747, 34.82903402687432, 31.36528639892296, 26.037932054791902, 25.466225672772044, 23.71286531879526, 21.785116166924357, 17.891185697363138, 82.90440129002958, 16.69423027949158, 16.36134534391405, 15.129131761060759, 15.032244900004343, 14.068269990255873, 13.201988927500794, 12.952372425864095, 12.731053296073604, 76.00596615872367, 19.392055471446398, 12.049933430384716, 11.899675453950975, 62.95032758323986, 582.0878116094823, 82.46022242093255, 229.70764071954397, 42.21752107813321, 102.82344662863512, 322.35989701458345, 244.48998322048743, 337.02353058956777, 279.4258112633102, 190.59102136258704, 76.72419227349863, 270.16273471934966, 72.53567633462013, 93.10943324778447, 76.2451964924255, 234.1075179269853, 451.3459399212585, 174.10052698186877, 76.0843603112965, 72.75874968785116, 99.18559717907205, 1347.2816432957145, 182.67433448456043, 145.64914611725666, 76.70779991294569, 57.86913511402867, 57.107413121044644, 52.69644872503596, 45.1864248898227, 32.277477219272775, 31.07585998396841, 28.63775449462559, 25.92754785462098, 22.9618208914899, 22.25305751718972, 21.5135867963875, 21.416615228858458, 19.13806301005602, 18.846348494100436, 17.498337978138633, 17.411289161159555, 17.09752701943392, 16.32200138728627, 15.369815130848073, 15.205139045131164, 14.61602901694596, 13.812669246478707, 13.073716610589296, 12.101147775208762, 11.772311578362237, 11.680662251770455, 79.18386171691881, 1309.6419450223823, 47.36868717623596, 63.07078783097733, 26.142520383390348, 99.0365210409858, 120.31372605630078, 40.09610450550146, 38.81368079607782, 43.76999973113878, 68.47028356452732, 47.360621512135154, 38.094359463249035, 102.52772538718656, 61.20068067341353, 54.15195711217275, 54.17274803910135, 43.76389244911164, 652.260421715083, 51.439192757649515, 65.44435956621167, 87.27143943782224, 52.53576432002199, 51.37971112281298, 61.60026236750843, 82.51633581952825, 55.723465871966, 54.264146236957394, 46.460571902594495, 455.84391210638887, 379.69468972440893, 215.21017068383367, 138.3530024578312, 69.4944270704064, 56.76312232455253, 54.4755513669969, 52.713169613378135, 38.31240872400738, 28.13459933528681, 26.879601924105977, 25.402300094501328, 21.210693162185024, 19.12647507628489, 19.097671959437537, 18.519806900937112, 18.444849701995967, 18.433386524575155, 18.07429578449448, 17.481303301093753, 86.04883563357615, 15.514796868426618, 15.333681237869115, 15.032455838250755, 14.916143545326499, 14.770075320952019, 14.538189465036682, 14.135772765666097, 29.355256830394758, 13.466868431084704, 94.30781423486933, 120.39485266014417, 470.8066553606967, 35.989683777343046, 19.93924339007945, 74.6760037810109, 57.04446449562117, 34.7156355870148, 58.61707718769901, 305.26384872410745, 41.55709067891798, 28.74641289325374, 49.437626388572525, 111.4391377983916, 131.3659844916322, 486.95704113006406, 115.13396355173872, 61.507297409249524, 55.649073482040116, 134.7878991508595, 70.95556137276702, 93.59027592753537, 64.31835591920438, 73.0674395655184, 53.181697128858225, 58.354177538046734, 49.736462860546276, 2201.1885920319783, 38.78366175662064, 27.240851209391227, 20.215949539781633, 19.7904699926871, 18.472298198451515, 18.294598156426087, 16.666686108092616, 14.9908334360755, 13.148369677419435, 12.566098178151725, 11.085581407178136, 11.028283994081905, 10.667205531349689, 10.586847844738147, 10.524680342815861, 26.33270784640592, 10.007510771380167, 9.736744251695029, 9.720905677672405, 9.60901736081416, 9.51779944937942, 9.507243655982082, 8.35346238974973, 8.195876799501102, 7.783946078833058, 7.088878666343899, 6.691973752910442, 6.589751947811149, 6.560018602559921, 42.9601971874369, 1129.7573028286524, 17.97996095190575, 635.7279385072533, 47.779988081226016, 39.30021513931468, 35.82913034897775, 155.73863897539667, 82.23726902648376, 17.120852212166554, 19.831447764988823, 97.14909518165763, 31.728533465171388, 219.06708281432415, 47.46930848524191, 27.042096559715002, 55.18447666747503, 18.39171178127669, 23.911017716728555, 34.2834457171628, 25.756280779324584, 23.217685726164376, 21.35883069579007, 20.675992635552728, 19.552080650529142, 31.79001737686885, 29.249171300031577, 20.522337946606378, 19.399682170703016, 19.142621972649135, 19.12523917860335, 18.65971566939715, 18.12759947470446, 17.740640052255152, 17.146197634529752, 16.787203012338978, 15.36388386581205, 13.642664168718722, 11.964610310295413, 10.884442259824384, 9.180071588295366, 9.052326479049007, 8.606642081676194, 8.268372295312231, 8.252439705391609, 8.022553789718629, 7.783259052872739, 7.189603467626937, 7.184817978283802, 6.980119915453065, 6.9332422667329165, 6.760131750425093, 6.629172974095783, 6.55249151149968, 6.549383492493614, 1567.5276609430962, 24.576931781454977, 22.942897545578845, 15.466560283419163, 69.41114031233734, 26.021025516682133, 38.05597287686344, 65.87210663576059, 151.51374970394605, 39.46371384591372, 32.99237357058863, 42.72952685407107, 191.43156355363615, 52.39958378100278, 32.36412622519172, 31.210201075462113, 36.06100304250026, 46.864425512013156, 54.16911536088329, 97.57893229441173, 70.39221292362129, 45.017205741641106, 66.88753698442068, 64.99659856567398, 31.633179121333498, 45.23438379067051, 31.32685129393642, 36.20348544423921, 54.467593290474525, 36.565956625239146, 34.20369265231958, 35.936748619422175, 297.99134995752127, 165.62651692998745, 37.565473968613276, 30.900895244046033, 30.631873714891, 29.320081603442382, 27.412358209028834, 27.124258930778925, 26.700532728013457, 25.85251856286535, 24.93259180742326, 23.38700221198527, 23.3274213491826, 18.093932608650768, 16.37849413437703, 14.55997154380332, 14.476528162764776, 14.07778186472261, 13.544138439047451, 13.53316082207438, 12.693825720356603, 12.680197530168023, 12.39425452573249, 12.38178542471034, 12.140461833710157, 12.02808415273924, 11.681774067346877, 11.41937467830778, 10.946288448743731, 10.714752721815625, 137.39197813890402, 145.62307629757166, 111.32303493750254, 106.62040535554766, 50.613604423237156, 67.08320909884253, 67.48573807518022, 116.80825208744601, 86.9264182261305, 75.2088583540008, 53.176263485208544, 31.333670928155335, 53.91457262049013, 31.442495295565248, 176.9472537335067, 39.434897132009944, 70.32406165776207, 222.80603153926876, 52.93032070923399, 36.47056522516983, 52.9359235868131, 31.135889840232693, 30.65990527447788, 37.33906031190635, 31.243176114716995, 130.04787716546292, 158.15079703716174, 60.00951239804676, 55.12534980996745, 37.720492063971186, 31.079319917657113, 28.58717907792486, 25.01809446119348, 23.069788255729247, 21.88198466691536, 20.69641972532084, 20.17301791387528, 18.995058716380775, 17.994951229462973, 17.108598131741246, 14.66958437179227, 14.579538105116189, 14.06523555702827, 13.05585476226541, 559.3362372241211, 11.985674789158432, 11.31048007801431, 11.159463851840835, 9.56102405053334, 9.557799876403987, 9.473791865663141, 8.618041771608139, 8.364553590135232, 8.210545430445297, 8.152672375045833, 31.78067133970354, 228.28980302942534, 44.92342760231306, 37.52857755881139, 40.18581047263677, 159.19793569569114, 46.54397322907829, 39.70800179022553, 42.476953860522286, 28.250537879255532, 48.6559595727315, 55.930827697721796, 245.8378906863394, 119.65634219099479, 57.270208806181074, 90.30869965642927, 25.53017902984491, 32.355794821696506, 26.418778389232333, 34.400667435446586, 37.97801263866187, 29.625885281039015, 26.99724134982756, 28.38988007143568, 625.5866810043366, 337.0886912594911, 236.98866647677752, 288.33113472249596, 46.73180449276368, 28.28881784091685, 27.5808119364654, 30.292880262889156, 21.358585378861786, 17.05962316370486, 16.5576823372001, 13.379298976491087, 12.75102152136563, 12.717187860834926, 12.497356077337704, 12.402425030472587, 12.234562332653873, 11.23387954815447, 10.649661017384572, 10.576016887030546, 10.421391546256414, 9.832737785663886, 8.97928221824104, 8.94133950132166, 8.881701695549255, 8.638860107374429, 8.628496356504986, 8.565044690412625, 8.19366161409147, 8.132909534269542, 18.203092468864323, 30.140149096889317, 125.42121467840445, 64.9905487093737, 52.76463543931356, 14.694014801071827, 14.593430385051112, 35.82157645659637, 12.241737237101947, 30.032934613609093, 14.415835327954387, 17.800333877053852], \"Total\": [2202.0, 3266.0, 1821.0, 1349.0, 3103.0, 1536.0, 1328.0, 2020.0, 1252.0, 6445.0, 626.0, 1467.0, 597.0, 891.0, 847.0, 743.0, 650.0, 456.0, 630.0, 337.0, 836.0, 491.0, 571.0, 449.0, 773.0, 380.0, 290.0, 862.0, 541.0, 298.0, 353.41606031412806, 1328.3719127702457, 251.97755138681885, 231.6750402287171, 164.8928967854743, 139.76707131906596, 119.73761833856518, 91.77487124720334, 62.94249670613185, 51.84687164801882, 45.072797928599854, 38.79792778206155, 156.0707881553782, 28.311295271149582, 28.122540294577263, 55.587192365359215, 24.47232060506721, 24.421093249689665, 22.486086511088217, 21.83066630130914, 32.69684147954829, 18.85363605789914, 18.77312240047301, 17.990728145888337, 17.286439903883164, 115.22508909819682, 13.433753795860522, 13.361299842568807, 12.93286278236548, 12.053971649703143, 70.10464375026498, 84.45116657698941, 3266.470921734672, 193.88584589322264, 487.9238665180703, 60.416550823792775, 379.5471765963313, 79.17707539724582, 141.07268084277607, 125.62907878816179, 223.89161810640437, 260.51516666868514, 406.83239090704603, 199.1096633661036, 236.38942346225943, 862.8424440011095, 836.8568835139071, 6445.319481652719, 3103.442272305018, 603.6899379957114, 281.76939384396843, 294.2178545916713, 773.7621157401195, 353.94767169594303, 491.0939416892501, 392.1231672454323, 225.17142457979358, 179.12957495609015, 138.7507785647236, 90.70977565355135, 84.58470309029815, 84.17173897481034, 56.97737410276808, 47.29025799284352, 36.16573176529909, 29.77863771709775, 29.393836213409884, 29.119143135385553, 28.017011008007966, 24.39487730385002, 21.796313857081053, 20.957577669523385, 20.80591793274581, 20.737929865155152, 121.67852850599476, 19.25162199783798, 19.021213606438035, 22.69037780862231, 150.40811747520218, 15.711676715067245, 63.062689079174255, 14.704797731075208, 14.66239600148874, 14.45320502728225, 891.2426439786763, 120.27104458723487, 49.744074535112134, 42.93714761698207, 61.09330688590789, 72.07780219319014, 38.39922411845527, 394.10814159307574, 267.00491442194163, 480.9922740956472, 63.75379390510131, 86.67773381293712, 6445.319481652719, 55.203457533464295, 244.37303245441848, 215.39550544846668, 2020.9986060551496, 171.02966412234804, 281.11207648315417, 1536.7556080370628, 971.6023274775995, 1821.713162166946, 284.84828331536437, 508.2367124508638, 1467.2605289204932, 144.33445550400194, 315.72357996066523, 448.5392096033881, 228.7437466099849, 28.724435477131884, 23.53649590024862, 23.334914819687565, 308.3681707174207, 17.242604184238957, 14.020905644755025, 12.850279269830379, 12.691634560982932, 12.001953536556083, 11.418091907885772, 11.29045050012312, 11.284346180532692, 11.24177628360909, 10.848960020837044, 10.639598416814563, 10.220388267259104, 9.50361282023548, 9.329264573439586, 9.263097925290873, 9.204974691427097, 9.103829242718268, 8.354718934132636, 22.06002092864726, 8.141382579488138, 7.936816666711817, 7.8725917600671345, 630.5334836833036, 7.653258795565883, 7.5935906976938705, 352.1166291182774, 571.7036123912619, 168.06152043416677, 847.4465230433825, 216.22951929329088, 46.70718553777804, 146.89514977750463, 836.8568835139071, 95.29883441636895, 38.51598472912451, 38.40545187810442, 40.2402006161729, 6445.319481652719, 377.35756803912363, 3103.442272305018, 336.2563003485609, 25.64025095593784, 126.68398384695394, 117.30049095245076, 190.0904013622802, 208.32210637779454, 3266.470921734672, 138.9876084713395, 60.29249366613967, 83.11389682292956, 88.22987059621758, 773.7621157401195, 522.3853178462239, 247.2108810644341, 294.2178545916713, 508.2367124508638, 971.6023274775995, 243.25307009201651, 449.63372238687026, 108.19090082940369, 73.47551317278732, 49.243655064166234, 48.91630323134526, 41.49658168218663, 31.418349172335923, 25.23421042926167, 22.61496170076427, 20.45646843825735, 18.967568531274846, 18.47694634955144, 18.179059733069423, 18.035406188234752, 18.032554120405145, 17.40756117498053, 34.4241877270013, 16.062720404582855, 15.979427690282016, 18.18650648109105, 15.618764351432144, 15.143173818480562, 14.921299770603046, 14.227018740407905, 14.06966295993064, 13.745809918489256, 13.59892982583467, 12.94424834707088, 12.384719047611263, 47.76622408086086, 54.91564529536126, 518.0676003259679, 1467.2605289204932, 279.57833501730346, 541.7457960996257, 27.049115744597437, 773.7621157401195, 106.09305111168337, 56.94558597886715, 3103.442272305018, 1252.1842108469757, 141.62358019899378, 236.156489368377, 81.44906697521346, 81.95379852820945, 82.3128358494401, 58.48122010363892, 134.91789414821702, 971.6023274775995, 522.3853178462239, 6445.319481652719, 480.9922740956472, 508.2367124508638, 379.5471765963313, 223.89161810640437, 603.6899379957114, 650.4008511411765, 523.489804966771, 205.529999489267, 205.11221646876032, 175.4760641377379, 166.5026492212345, 104.63177543195748, 67.93088926810432, 53.65655787255033, 45.368508857839345, 103.48922059019189, 36.45978062320353, 35.699638456643946, 32.266441045486786, 26.908558959786465, 26.336829535654214, 24.583478205099123, 22.65644845894726, 18.7618095277435, 87.17907487646711, 17.564830505532605, 17.23198423320125, 15.999753825604445, 15.902858506605961, 14.938901905156804, 14.07259535751975, 13.822991545509113, 13.60165429379315, 81.25343448562433, 20.75622737801901, 12.920540635173719, 12.770294889712844, 67.82724872613163, 650.4008511411765, 93.62059893287628, 287.2430120300924, 48.91577353959593, 128.12791129329918, 448.5392096033881, 353.94767169594303, 523.489804966771, 603.6899379957114, 385.1676910534287, 121.79242666412092, 743.9739154269467, 138.9876084713395, 214.80148433141983, 169.02283497875067, 1467.2605289204932, 6445.319481652719, 971.6023274775995, 236.38942346225943, 281.76939384396843, 2020.9986060551496, 1349.7392708251728, 183.5419252362216, 146.70009259788105, 77.57530178330008, 58.737144579223596, 57.9749478957727, 53.564023501033404, 46.062154998409284, 33.14496368433052, 31.943325888596075, 29.505249071454813, 26.795020144240645, 23.82929590221709, 23.120530761183787, 22.381060266699222, 22.2840801951283, 20.005528675339487, 19.713824426298753, 18.36580650947139, 18.278759429566342, 17.96947212040035, 17.189486402004473, 16.237306721705885, 16.07260987476445, 15.483505181686228, 14.680137545381449, 13.941183039936526, 12.96861887266642, 12.639884429314986, 12.548140992781764, 96.60156587546983, 2020.9986060551496, 58.631674628813066, 80.75270293837472, 30.747606411808487, 149.76678868825854, 205.9792307137725, 53.3613735622162, 52.009231243640386, 63.338992388419385, 119.19961206108135, 72.64696791135894, 54.14857448297255, 232.46560451150643, 109.22019639450242, 92.57641500318368, 97.8609480164763, 69.4501678305124, 6445.319481652719, 96.06471063635455, 158.59042398640855, 284.84828331536437, 130.9780527375196, 141.33617167228047, 260.51516666868514, 862.8424440011095, 279.57833501730346, 281.11207648315417, 247.2108810644341, 456.7139427880524, 380.5644340447501, 216.07990501113267, 139.22273864140337, 70.36416317254636, 57.63285685491136, 55.3453632661072, 53.58306977668546, 39.18214900881791, 29.004330649444547, 27.749338191640422, 26.27206949256146, 22.08043290502926, 19.996216032466783, 19.96744701847641, 19.389542478903287, 19.3146140847775, 19.30313468705985, 18.94404005183175, 18.351050924960845, 90.67402643895865, 16.384554524799697, 16.20341221625218, 15.902580212974806, 15.78589589154608, 15.639828259586794, 15.407947229933614, 15.00553909303543, 31.21341428150487, 14.336609598114732, 101.19504097895559, 131.5508463987977, 743.9739154269467, 44.014748638481116, 22.26840390037035, 108.27997785811463, 79.47169033691542, 45.7151443669312, 91.64443373654552, 862.8424440011095, 63.94802730513907, 37.508149321660376, 100.54439918952622, 406.83239090704603, 541.7457960996257, 6445.319481652719, 508.2367124508638, 164.01441734826685, 141.33617167228047, 971.6023274775995, 284.84828331536437, 603.6899379957114, 336.2563003485609, 518.0676003259679, 187.64360282620865, 480.9922740956472, 2020.9986060551496, 2202.992316500088, 39.656453505554396, 28.11364849304496, 21.088758773364987, 20.663288086701993, 19.345120365704947, 19.167436800999813, 17.539510079478593, 15.863697951984614, 14.02118785772523, 13.438920149241328, 11.958388603221682, 11.901069948174133, 11.54006940755397, 11.45963355816693, 11.3975087813997, 28.56144302110745, 10.891717480427129, 10.609584459184436, 10.593729395728165, 10.481804659813497, 10.390655856400382, 10.380067420078715, 9.226245844648242, 9.068691750453011, 8.656768418112252, 7.961688556580425, 7.564783893805523, 7.46256225420783, 7.43281389477265, 49.07812922727266, 1536.7556080370628, 22.095891824125314, 1252.1842108469757, 69.74057339879322, 64.03687565224239, 62.650767063660254, 522.3853178462239, 232.46560451150643, 24.196386612387197, 35.394288099359265, 523.489804966771, 86.81591804003986, 3103.442272305018, 220.77040785424074, 96.06471063635455, 508.2367124508638, 42.29415366066473, 102.20145618010427, 971.6023274775995, 394.10814159307574, 215.39550544846668, 171.02966412234804, 134.91789414821702, 112.72366090927576, 32.66238883428438, 30.121544198485243, 21.394718896964342, 20.272050155115817, 20.01499371236973, 19.99762493499487, 19.532241283527213, 18.9999793798791, 18.613016074383648, 18.018569019286904, 17.704874800024008, 16.236265454722318, 14.515025590985422, 12.836983819226747, 11.756853559465483, 10.052471342559729, 9.92469743402935, 9.479022088006886, 9.140774657040216, 9.124833444247814, 8.8949262998679, 8.655621270665693, 8.06201833274655, 8.057179568491357, 7.852512967825139, 7.805661100079122, 7.632522959687469, 7.501536488932388, 7.424883096360442, 7.421800370805194, 1821.713162166946, 28.904177643596892, 31.88041223178889, 20.781872870321408, 130.7721567096956, 39.53051784650372, 63.896120635840205, 127.07469528603886, 377.35756803912363, 68.23918702325349, 62.64363129297824, 95.75783387411235, 847.4465230433825, 130.9780527375196, 66.68443067416386, 65.96843814148333, 86.22876357353435, 158.59042398640855, 215.39550544846668, 836.8568835139071, 630.5334836833036, 206.228174490036, 891.2426439786763, 862.8424440011095, 106.7245409364483, 352.1166291182774, 107.08315021258423, 199.1096633661036, 2020.9986060551496, 394.10814159307574, 294.2178545916713, 508.2367124508638, 298.8625068465231, 166.49651252920052, 38.43546722408868, 31.770888239337953, 31.501879816826037, 30.190091908400248, 28.282362481215735, 27.99425955708335, 27.57069274941962, 26.72253532203109, 25.802597337159078, 24.257000616276837, 24.1974531569131, 18.963936773027783, 17.24848965346174, 15.430062319565865, 15.34660124393266, 14.94778576244246, 14.414144365217732, 14.403172648134978, 13.563836790331363, 13.550224019137618, 13.264265812075672, 13.251792673549932, 13.01046158238682, 12.898075458167746, 12.551760705008473, 12.289382240415579, 11.816283495272177, 11.584752490097227, 155.63905274419332, 166.44983789127238, 145.81676595283147, 139.83594417996707, 64.31648431008647, 94.86843243871819, 96.33318081161195, 188.06873853924202, 132.40772747309737, 113.10798602801223, 91.05496166563917, 45.84073641089218, 113.098114007717, 50.422203684515154, 862.8424440011095, 93.15353934820939, 315.5634638622877, 6445.319481652719, 243.25307009201651, 88.22987059621758, 385.1676910534287, 60.799260275675316, 60.39594110250697, 597.4637537324244, 123.1019197939196, 130.91620940036148, 160.24943281507643, 60.877838671277594, 55.99368194310474, 38.58880995223875, 31.947653854852557, 29.455507354224967, 25.886437965268023, 23.93811393572977, 22.750322586548254, 21.564755152128622, 21.04133906867847, 19.864043413251824, 18.864121703567502, 17.976922730283203, 15.537979012009348, 15.447868083112397, 14.933569491709967, 13.924186257397496, 597.4637537324244, 12.854017268483444, 12.1788249636288, 12.027810918874218, 10.429365750488397, 10.426155717844194, 10.34212358656666, 9.486366118313022, 9.232884336115307, 9.078883440664034, 9.021003189968619, 35.23356889382143, 315.5634638622877, 57.81471988688147, 48.924703089863954, 57.07617394377218, 315.72357996066523, 70.93289601876438, 72.98999641405393, 84.4683592402316, 47.51349172799427, 112.72366090927576, 186.2826495624187, 6445.319481652719, 1536.7556080370628, 394.10814159307574, 2020.9986060551496, 53.00426006101323, 117.31412801139965, 65.17607516221847, 267.00491442194163, 523.489804966771, 220.77040785424074, 94.86843243871819, 1467.2605289204932, 626.4978207002797, 337.9618320659932, 237.86093518879295, 290.2404257220963, 47.604027633069926, 29.161041798154933, 28.453019113714323, 31.50797767327972, 22.230790536097235, 17.931841505572706, 17.429890797098626, 14.25152791403443, 13.623232885103732, 13.589391606749038, 13.369580679722475, 13.274668449461473, 13.106776406690251, 12.106088319567293, 11.52186897684254, 11.448263767470666, 11.29360341838732, 10.704947190362063, 9.851587073318676, 9.813549880644839, 9.75394009502794, 9.511082267956548, 9.500705767571722, 9.437259780869548, 9.065898583144248, 9.00518034026945, 20.629856741977946, 43.06748213916134, 244.37303245441848, 190.0904013622802, 163.20375978752134, 23.983023304958007, 27.63232261892312, 206.228174490036, 24.861298423953603, 971.6023274775995, 76.07363013587332, 1821.713162166946], \"Category\": [\"Default\", \"Default\", \"Default\", \"Default\", \"Default\", \"Default\", \"Default\", \"Default\", \"Default\", \"Default\", \"Default\", \"Default\", \"Default\", \"Default\", \"Default\", \"Default\", \"Default\", \"Default\", \"Default\", \"Default\", \"Default\", \"Default\", \"Default\", \"Default\", \"Default\", \"Default\", \"Default\", \"Default\", \"Default\", \"Default\", \"Topic1\", \"Topic1\", \"Topic1\", \"Topic1\", \"Topic1\", \"Topic1\", \"Topic1\", \"Topic1\", \"Topic1\", \"Topic1\", \"Topic1\", \"Topic1\", \"Topic1\", \"Topic1\", \"Topic1\", \"Topic1\", \"Topic1\", \"Topic1\", \"Topic1\", \"Topic1\", \"Topic1\", \"Topic1\", \"Topic1\", \"Topic1\", \"Topic1\", \"Topic1\", \"Topic1\", \"Topic1\", \"Topic1\", \"Topic1\", \"Topic1\", \"Topic1\", \"Topic1\", \"Topic1\", \"Topic1\", \"Topic1\", \"Topic1\", \"Topic1\", \"Topic1\", \"Topic1\", \"Topic1\", \"Topic1\", \"Topic1\", \"Topic1\", \"Topic1\", \"Topic1\", \"Topic1\", \"Topic1\", \"Topic1\", \"Topic1\", \"Topic1\", \"Topic1\", \"Topic1\", \"Topic1\", \"Topic2\", \"Topic2\", \"Topic2\", \"Topic2\", \"Topic2\", \"Topic2\", \"Topic2\", \"Topic2\", \"Topic2\", \"Topic2\", \"Topic2\", \"Topic2\", \"Topic2\", \"Topic2\", \"Topic2\", \"Topic2\", \"Topic2\", \"Topic2\", \"Topic2\", \"Topic2\", \"Topic2\", \"Topic2\", \"Topic2\", \"Topic2\", \"Topic2\", \"Topic2\", \"Topic2\", \"Topic2\", \"Topic2\", \"Topic2\", \"Topic2\", \"Topic2\", \"Topic2\", \"Topic2\", \"Topic2\", \"Topic2\", \"Topic2\", \"Topic2\", \"Topic2\", \"Topic2\", \"Topic2\", \"Topic2\", \"Topic2\", \"Topic2\", \"Topic2\", \"Topic2\", \"Topic2\", \"Topic2\", \"Topic2\", \"Topic2\", \"Topic2\", \"Topic2\", \"Topic2\", \"Topic2\", \"Topic2\", \"Topic2\", \"Topic2\", \"Topic2\", \"Topic3\", \"Topic3\", \"Topic3\", \"Topic3\", \"Topic3\", \"Topic3\", \"Topic3\", \"Topic3\", \"Topic3\", \"Topic3\", \"Topic3\", \"Topic3\", \"Topic3\", \"Topic3\", \"Topic3\", \"Topic3\", \"Topic3\", \"Topic3\", \"Topic3\", \"Topic3\", \"Topic3\", \"Topic3\", \"Topic3\", \"Topic3\", \"Topic3\", \"Topic3\", \"Topic3\", \"Topic3\", \"Topic3\", \"Topic3\", \"Topic3\", \"Topic3\", \"Topic3\", \"Topic3\", \"Topic3\", \"Topic3\", \"Topic3\", \"Topic3\", \"Topic3\", \"Topic3\", \"Topic3\", \"Topic3\", \"Topic3\", \"Topic3\", \"Topic3\", \"Topic3\", \"Topic3\", \"Topic3\", \"Topic3\", \"Topic3\", \"Topic3\", \"Topic3\", \"Topic3\", \"Topic3\", \"Topic3\", \"Topic3\", \"Topic3\", \"Topic3\", \"Topic3\", \"Topic3\", \"Topic3\", \"Topic3\", \"Topic3\", \"Topic4\", \"Topic4\", \"Topic4\", \"Topic4\", \"Topic4\", \"Topic4\", \"Topic4\", \"Topic4\", \"Topic4\", \"Topic4\", \"Topic4\", \"Topic4\", \"Topic4\", \"Topic4\", \"Topic4\", \"Topic4\", \"Topic4\", \"Topic4\", \"Topic4\", \"Topic4\", \"Topic4\", \"Topic4\", \"Topic4\", \"Topic4\", \"Topic4\", \"Topic4\", \"Topic4\", \"Topic4\", \"Topic4\", \"Topic4\", \"Topic4\", \"Topic4\", \"Topic4\", \"Topic4\", \"Topic4\", \"Topic4\", \"Topic4\", \"Topic4\", \"Topic4\", \"Topic4\", \"Topic4\", \"Topic4\", \"Topic4\", \"Topic4\", \"Topic4\", \"Topic4\", \"Topic4\", \"Topic4\", \"Topic4\", \"Topic4\", \"Topic4\", \"Topic4\", \"Topic4\", \"Topic4\", \"Topic4\", \"Topic4\", \"Topic4\", \"Topic4\", \"Topic5\", \"Topic5\", \"Topic5\", \"Topic5\", \"Topic5\", \"Topic5\", \"Topic5\", \"Topic5\", \"Topic5\", \"Topic5\", \"Topic5\", \"Topic5\", \"Topic5\", \"Topic5\", \"Topic5\", \"Topic5\", \"Topic5\", \"Topic5\", \"Topic5\", \"Topic5\", \"Topic5\", \"Topic5\", \"Topic5\", \"Topic5\", \"Topic5\", \"Topic5\", \"Topic5\", \"Topic5\", \"Topic5\", \"Topic5\", \"Topic5\", \"Topic5\", \"Topic5\", \"Topic5\", \"Topic5\", \"Topic5\", \"Topic5\", \"Topic5\", \"Topic5\", \"Topic5\", \"Topic5\", \"Topic5\", \"Topic5\", \"Topic5\", \"Topic5\", \"Topic5\", \"Topic5\", \"Topic5\", \"Topic5\", \"Topic5\", \"Topic5\", \"Topic5\", \"Topic6\", \"Topic6\", \"Topic6\", \"Topic6\", \"Topic6\", \"Topic6\", \"Topic6\", \"Topic6\", \"Topic6\", \"Topic6\", \"Topic6\", \"Topic6\", \"Topic6\", \"Topic6\", \"Topic6\", \"Topic6\", \"Topic6\", \"Topic6\", \"Topic6\", \"Topic6\", \"Topic6\", \"Topic6\", \"Topic6\", \"Topic6\", \"Topic6\", \"Topic6\", \"Topic6\", \"Topic6\", \"Topic6\", \"Topic6\", \"Topic6\", \"Topic6\", \"Topic6\", \"Topic6\", \"Topic6\", \"Topic6\", \"Topic6\", \"Topic6\", \"Topic6\", \"Topic6\", \"Topic6\", \"Topic6\", \"Topic6\", \"Topic6\", \"Topic6\", \"Topic6\", \"Topic6\", \"Topic6\", \"Topic6\", \"Topic6\", \"Topic6\", \"Topic6\", \"Topic6\", \"Topic6\", \"Topic6\", \"Topic6\", \"Topic6\", \"Topic6\", \"Topic6\", \"Topic7\", \"Topic7\", \"Topic7\", \"Topic7\", \"Topic7\", \"Topic7\", \"Topic7\", \"Topic7\", \"Topic7\", \"Topic7\", \"Topic7\", \"Topic7\", \"Topic7\", \"Topic7\", \"Topic7\", \"Topic7\", \"Topic7\", \"Topic7\", \"Topic7\", \"Topic7\", \"Topic7\", \"Topic7\", \"Topic7\", \"Topic7\", \"Topic7\", \"Topic7\", \"Topic7\", \"Topic7\", \"Topic7\", \"Topic7\", \"Topic7\", \"Topic7\", \"Topic7\", \"Topic7\", \"Topic7\", \"Topic7\", \"Topic7\", \"Topic7\", \"Topic7\", \"Topic7\", \"Topic7\", \"Topic7\", \"Topic7\", \"Topic7\", \"Topic7\", \"Topic7\", \"Topic7\", \"Topic7\", \"Topic7\", \"Topic7\", \"Topic7\", \"Topic7\", \"Topic7\", \"Topic7\", \"Topic7\", \"Topic7\", \"Topic7\", \"Topic8\", \"Topic8\", \"Topic8\", \"Topic8\", \"Topic8\", \"Topic8\", \"Topic8\", \"Topic8\", \"Topic8\", \"Topic8\", \"Topic8\", \"Topic8\", \"Topic8\", \"Topic8\", \"Topic8\", \"Topic8\", \"Topic8\", \"Topic8\", \"Topic8\", \"Topic8\", \"Topic8\", \"Topic8\", \"Topic8\", \"Topic8\", \"Topic8\", \"Topic8\", \"Topic8\", \"Topic8\", \"Topic8\", \"Topic8\", \"Topic8\", \"Topic8\", \"Topic8\", \"Topic8\", \"Topic8\", \"Topic8\", \"Topic8\", \"Topic8\", \"Topic8\", \"Topic8\", \"Topic8\", \"Topic8\", \"Topic8\", \"Topic8\", \"Topic8\", \"Topic8\", \"Topic8\", \"Topic8\", \"Topic8\", \"Topic8\", \"Topic8\", \"Topic8\", \"Topic8\", \"Topic8\", \"Topic8\", \"Topic9\", \"Topic9\", \"Topic9\", \"Topic9\", \"Topic9\", \"Topic9\", \"Topic9\", \"Topic9\", \"Topic9\", \"Topic9\", \"Topic9\", \"Topic9\", \"Topic9\", \"Topic9\", \"Topic9\", \"Topic9\", \"Topic9\", \"Topic9\", \"Topic9\", \"Topic9\", \"Topic9\", \"Topic9\", \"Topic9\", \"Topic9\", \"Topic9\", \"Topic9\", \"Topic9\", \"Topic9\", \"Topic9\", \"Topic9\", \"Topic9\", \"Topic9\", \"Topic9\", \"Topic9\", \"Topic9\", \"Topic9\", \"Topic9\", \"Topic9\", \"Topic9\", \"Topic9\", \"Topic9\", \"Topic9\", \"Topic9\", \"Topic9\", \"Topic9\", \"Topic9\", \"Topic9\", \"Topic9\", \"Topic9\", \"Topic9\", \"Topic9\", \"Topic9\", \"Topic9\", \"Topic9\", \"Topic9\", \"Topic9\", \"Topic9\", \"Topic9\", \"Topic9\", \"Topic9\", \"Topic9\", \"Topic9\", \"Topic10\", \"Topic10\", \"Topic10\", \"Topic10\", \"Topic10\", \"Topic10\", \"Topic10\", \"Topic10\", \"Topic10\", \"Topic10\", \"Topic10\", \"Topic10\", \"Topic10\", \"Topic10\", \"Topic10\", \"Topic10\", \"Topic10\", \"Topic10\", \"Topic10\", \"Topic10\", \"Topic10\", \"Topic10\", \"Topic10\", \"Topic10\", \"Topic10\", \"Topic10\", \"Topic10\", \"Topic10\", \"Topic10\", \"Topic10\", \"Topic10\", \"Topic10\", \"Topic10\", \"Topic10\", \"Topic10\", \"Topic10\", \"Topic10\", \"Topic10\", \"Topic10\", \"Topic10\", \"Topic10\", \"Topic10\", \"Topic10\", \"Topic10\", \"Topic10\", \"Topic10\", \"Topic10\", \"Topic10\", \"Topic10\", \"Topic10\", \"Topic10\", \"Topic10\", \"Topic10\", \"Topic10\", \"Topic10\", \"Topic11\", \"Topic11\", \"Topic11\", \"Topic11\", \"Topic11\", \"Topic11\", \"Topic11\", \"Topic11\", \"Topic11\", \"Topic11\", \"Topic11\", \"Topic11\", \"Topic11\", \"Topic11\", \"Topic11\", \"Topic11\", \"Topic11\", \"Topic11\", \"Topic11\", \"Topic11\", \"Topic11\", \"Topic11\", \"Topic11\", \"Topic11\", \"Topic11\", \"Topic11\", \"Topic11\", \"Topic11\", \"Topic11\", \"Topic11\", \"Topic11\", \"Topic11\", \"Topic11\", \"Topic11\", \"Topic11\", \"Topic11\", \"Topic11\", \"Topic11\", \"Topic11\", \"Topic11\", \"Topic11\", \"Topic11\", \"Topic11\", \"Topic11\", \"Topic11\", \"Topic11\", \"Topic11\", \"Topic11\", \"Topic11\", \"Topic11\", \"Topic11\", \"Topic11\", \"Topic11\", \"Topic11\", \"Topic12\", \"Topic12\", \"Topic12\", \"Topic12\", \"Topic12\", \"Topic12\", \"Topic12\", \"Topic12\", \"Topic12\", \"Topic12\", \"Topic12\", \"Topic12\", \"Topic12\", \"Topic12\", \"Topic12\", \"Topic12\", \"Topic12\", \"Topic12\", \"Topic12\", \"Topic12\", \"Topic12\", \"Topic12\", \"Topic12\", \"Topic12\", \"Topic12\", \"Topic12\", \"Topic12\", \"Topic12\", \"Topic12\", \"Topic12\", \"Topic12\", \"Topic12\", \"Topic12\", \"Topic12\", \"Topic12\", \"Topic12\", \"Topic12\", \"Topic12\", \"Topic12\", \"Topic12\", \"Topic12\", \"Topic12\"], \"logprob\": [30.0, 29.0, 28.0, 27.0, 26.0, 25.0, 24.0, 23.0, 22.0, 21.0, 20.0, 19.0, 18.0, 17.0, 16.0, 15.0, 14.0, 13.0, 12.0, 11.0, 10.0, 9.0, 8.0, 7.0, 6.0, 5.0, 4.0, 3.0, 2.0, 1.0, -3.6401, -2.317, -3.9794, -4.0637, -4.4053, -4.5715, -4.7278, -4.9954, -5.377, -5.5739, -5.7165, -5.8696, -4.4813, -6.1933, -6.2002, -5.5192, -6.344, -6.3462, -6.4319, -6.4627, -6.0596, -6.6159, -6.6204, -6.6651, -6.7071, -4.8247, -6.9747, -6.9804, -7.0154, -7.091, -5.333, -5.1707, -1.6128, -4.3612, -3.4788, -5.502, -3.8308, -5.2946, -4.7796, -4.895, -4.4113, -4.2969, -4.1942, -4.7717, -4.7019, -4.1331, -4.2072, -3.193, -3.6957, -4.4527, -4.795, -4.8298, -4.5291, -4.8193, -3.157, -3.3825, -3.9388, -4.1686, -4.4254, -4.8538, -4.9244, -4.9294, -5.3246, -5.5141, -5.7881, -5.9877, -6.0011, -6.0108, -6.0506, -6.1938, -6.3108, -6.3517, -6.3593, -6.3627, -4.5934, -6.4405, -6.4531, -6.2774, -4.3928, -6.6544, -5.2668, -6.7247, -6.7277, -6.743, -2.6409, -4.6421, -5.5339, -5.7052, -5.3899, -5.2482, -5.8263, -3.8396, -4.1951, -3.7749, -5.4661, -5.2396, -2.2616, -5.579, -4.5798, -4.7379, -3.3621, -4.9766, -4.7388, -3.9134, -4.1633, -3.8896, -4.7771, -4.6713, -4.4531, -5.1245, -4.9662, -4.9374, -3.8885, -5.9904, -6.1966, -6.2055, -3.6279, -6.5219, -6.7411, -6.8344, -6.8477, -6.9078, -6.9617, -6.9739, -6.9745, -6.9786, -7.0172, -7.0384, -7.0823, -7.1621, -7.1825, -7.1904, -7.1973, -7.2096, -7.305, -6.3349, -7.3339, -7.3625, -7.3716, -2.9905, -7.4035, -7.4123, -3.5974, -3.1339, -4.3663, -2.8658, -4.2092, -5.6673, -4.5843, -3.0496, -5.0477, -5.881, -5.8946, -5.8724, -1.6285, -4.0238, -2.2892, -4.1753, -6.3032, -5.0821, -5.1985, -4.8471, -4.7861, -2.9498, -5.1547, -5.7506, -5.5561, -5.5348, -4.5251, -4.7564, -5.1385, -5.0898, -5.1411, -5.167, -5.5147, -3.1654, -4.5961, -4.9869, -5.3929, -5.3997, -5.5675, -5.8526, -6.0788, -6.1926, -6.2971, -6.3762, -6.4037, -6.4207, -6.4291, -6.4292, -6.4663, -5.7853, -6.5512, -6.5567, -6.4286, -6.5808, -6.6136, -6.6293, -6.68, -6.6918, -6.7166, -6.7281, -6.7809, -6.8284, -5.4929, -5.3915, -3.2488, -2.3075, -3.8708, -3.2706, -6.0775, -3.0604, -4.8951, -5.448, -2.0464, -2.8598, -4.7293, -4.313, -5.1862, -5.2178, -5.2184, -5.543, -4.9281, -3.5823, -4.065, -3.164, -4.6184, -4.6036, -4.8012, -5.1764, -4.9782, -5.0673, -5.3458, -3.8129, -3.815, -3.9717, -4.0245, -4.4928, -4.9291, -5.168, -5.3388, -4.5174, -5.5622, -5.5838, -5.6885, -5.8747, -5.8969, -5.9682, -6.053, -6.2499, -4.7166, -6.3192, -6.3393, -6.4176, -6.4241, -6.4903, -6.5539, -6.573, -6.5902, -4.8034, -6.1694, -6.6452, -6.6577, -4.9919, -2.7676, -4.7219, -3.6974, -5.3914, -4.5012, -3.3586, -3.6351, -3.3141, -3.5015, -3.8841, -4.794, -3.5352, -4.8502, -4.6005, -4.8003, -3.6785, -3.022, -3.9746, -4.8024, -4.8471, -4.5373, -1.9062, -3.9043, -4.1308, -4.772, -5.0539, -5.0671, -5.1475, -5.3012, -5.6377, -5.6756, -5.7573, -5.8567, -5.9782, -6.0096, -6.0434, -6.0479, -6.1604, -6.1757, -6.2499, -6.2549, -6.2731, -6.3195, -6.3796, -6.3904, -6.4299, -6.4865, -6.5414, -6.6187, -6.6463, -6.6541, -4.7403, -1.9345, -5.2541, -4.9678, -5.8485, -4.5166, -4.3219, -5.4208, -5.4533, -5.3331, -4.8856, -5.2543, -5.472, -4.4819, -4.9979, -5.1202, -5.1199, -5.3332, -2.6316, -5.1716, -4.9308, -4.643, -5.1505, -5.1728, -4.9914, -4.699, -5.0916, -5.1182, -5.2734, -2.8515, -3.0343, -3.6021, -4.0439, -4.7324, -4.9348, -4.9759, -5.0088, -5.3279, -5.6367, -5.6823, -5.7388, -5.9192, -6.0226, -6.0241, -6.0548, -6.0589, -6.0595, -6.0792, -6.1125, -4.5188, -6.2319, -6.2436, -6.2635, -6.2712, -6.2811, -6.2969, -6.325, -5.5942, -6.3734, -4.4271, -4.1829, -2.8192, -5.3904, -5.981, -4.6605, -4.9298, -5.4265, -4.9027, -3.2525, -5.2466, -5.6152, -5.073, -4.2602, -4.0957, -2.7855, -4.2276, -4.8545, -4.9546, -4.07, -4.7116, -4.4348, -4.8098, -4.6823, -5.0, -4.9071, -5.0669, -1.1558, -5.1945, -5.5478, -5.8461, -5.8673, -5.9363, -5.9459, -6.0391, -6.1451, -6.2762, -6.3215, -6.4469, -6.4521, -6.4854, -6.4929, -6.4988, -5.5817, -6.5492, -6.5766, -6.5783, -6.5898, -6.5994, -6.6005, -6.7299, -6.7489, -6.8005, -6.894, -6.9516, -6.967, -6.9715, -5.0923, -1.8228, -5.9633, -2.3978, -4.9859, -5.1813, -5.2738, -3.8044, -4.4429, -6.0122, -5.8653, -4.2763, -5.3953, -3.4632, -4.9925, -5.5551, -4.8419, -5.9406, -5.6782, -5.3179, -5.6039, -5.7076, -5.7911, -5.8236, -5.8795, -5.1118, -5.1951, -5.5495, -5.6057, -5.619, -5.62, -5.6446, -5.6735, -5.6951, -5.7292, -5.7503, -5.8389, -5.9578, -6.089, -6.1836, -6.3539, -6.3679, -6.4184, -6.4585, -6.4605, -6.4887, -6.519, -6.5983, -6.599, -6.6279, -6.6346, -6.6599, -6.6795, -6.6911, -6.6916, -1.2137, -5.3692, -5.438, -5.8323, -4.3309, -5.3121, -4.9319, -4.3833, -3.5503, -4.8956, -5.0747, -4.8161, -3.3164, -4.6121, -5.0939, -5.1302, -4.9858, -4.7237, -4.5789, -3.9903, -4.3169, -4.7639, -4.368, -4.3966, -5.1168, -4.7591, -5.1265, -4.9818, -4.5734, -4.9718, -5.0386, -4.9892, -2.8723, -3.4597, -4.9433, -5.1386, -5.1474, -5.1911, -5.2584, -5.269, -5.2847, -5.317, -5.3532, -5.4172, -5.4198, -5.6738, -5.7734, -5.8911, -5.8969, -5.9248, -5.9635, -5.9643, -6.0283, -6.0294, -6.0522, -6.0532, -6.0729, -6.0822, -6.1114, -6.1341, -6.1764, -6.1978, -3.6466, -3.5884, -3.857, -3.9001, -4.6452, -4.3635, -4.3575, -3.8089, -4.1043, -4.2491, -4.5958, -5.1247, -4.582, -5.1212, -3.3936, -4.8948, -4.3163, -3.1631, -4.6004, -4.9729, -4.6003, -5.131, -5.1464, -4.9494, -5.1276, -3.5814, -3.3858, -4.3548, -4.4397, -4.8191, -5.0128, -5.0964, -5.2297, -5.3108, -5.3637, -5.4194, -5.445, -5.5052, -5.5592, -5.6098, -5.7636, -5.7697, -5.8056, -5.8801, -2.1226, -5.9656, -6.0236, -6.037, -6.1916, -6.192, -6.2008, -6.2955, -6.3253, -6.3439, -6.351, -4.9905, -3.0187, -4.6444, -4.8242, -4.7558, -3.3792, -4.6089, -4.7678, -4.7004, -5.1082, -4.5646, -4.4252, -2.9447, -3.6647, -4.4016, -3.9461, -5.2095, -4.9725, -5.1753, -4.9113, -4.8123, -5.0607, -5.1536, -5.1033, -1.8334, -2.4517, -2.8041, -2.608, -4.4277, -4.9296, -4.955, -4.8612, -5.2106, -5.4354, -5.4652, -5.6784, -5.7265, -5.7291, -5.7466, -5.7542, -5.7678, -5.8532, -5.9066, -5.9135, -5.9282, -5.9864, -6.0772, -6.0814, -6.0881, -6.1158, -6.117, -6.1244, -6.1687, -6.1762, -5.3705, -4.8662, -3.4404, -4.0979, -4.3063, -5.5847, -5.5915, -4.6935, -5.7672, -4.8698, -5.6038, -5.3929], \"loglift\": [30.0, 29.0, 28.0, 27.0, 26.0, 25.0, 24.0, 23.0, 22.0, 21.0, 20.0, 19.0, 18.0, 17.0, 16.0, 15.0, 14.0, 13.0, 12.0, 11.0, 10.0, 9.0, 8.0, 7.0, 6.0, 5.0, 4.0, 3.0, 2.0, 1.0, 1.9958, 1.9948, 1.9948, 1.9944, 1.9929, 1.992, 1.9904, 1.9887, 1.9843, 1.9812, 1.9787, 1.9755, 1.9718, 1.9669, 1.9667, 1.9663, 1.9619, 1.9618, 1.9586, 1.9574, 1.9566, 1.9508, 1.9506, 1.9485, 1.9464, 1.9319, 1.931, 1.9306, 1.9283, 1.923, 1.9205, 1.8965, 1.7992, 1.875, 1.8345, 1.9002, 1.7337, 1.8372, 1.7746, 1.7751, 1.681, 1.6439, 1.3008, 1.4378, 1.3361, 0.6101, 0.5666, -0.4606, -0.2325, 0.6477, 1.0674, 0.9893, 0.3231, 0.815, 2.1499, 2.1494, 2.1478, 2.1468, 2.1453, 2.142, 2.1413, 2.1412, 2.1362, 2.133, 2.1273, 2.122, 2.1216, 2.1213, 2.1201, 2.1153, 2.1109, 2.1092, 2.1089, 2.1087, 2.1087, 2.1054, 2.1048, 2.1041, 2.0973, 2.0946, 2.0925, 2.0906, 2.0904, 2.0895, 2.0699, 2.0716, 2.0627, 2.0385, 2.0012, 1.9775, 2.0291, 1.6873, 1.7211, 1.5527, 1.8824, 1.8017, 0.4707, 1.9134, 1.425, 1.3931, 0.53, 1.385, 1.1259, 0.2526, 0.4612, 0.1063, 1.0744, 0.6012, -0.2408, 1.4068, 0.7824, 0.4601, 2.1824, 2.1553, 2.1483, 2.148, 2.1443, 2.1342, 2.1218, 2.1157, 2.1148, 2.1105, 2.1065, 2.1056, 2.1055, 2.1052, 2.1021, 2.1004, 2.0967, 2.0897, 2.0878, 2.087, 2.0864, 2.0852, 2.0756, 2.0748, 2.0725, 2.0694, 2.0684, 2.0664, 2.0648, 2.0638, 2.0421, 2.0209, 2.0128, 1.8954, 1.918, 1.9922, 1.9295, 1.7242, 1.8987, 1.9714, 1.9606, 1.9362, 1.1038, 1.5465, 1.174, 1.5102, 1.9561, 1.5796, 1.5402, 1.4089, 1.3783, 0.4622, 1.4144, 1.6536, 1.5272, 1.4887, 0.327, 0.4887, 0.8547, 0.7293, 0.1314, -0.5425, 0.4946, 2.2297, 2.2234, 2.2196, 2.2137, 2.2136, 2.2104, 2.2035, 2.1964, 2.1923, 2.188, 2.1845, 2.1833, 2.1825, 2.182, 2.182, 2.1802, 2.1794, 2.1758, 2.1755, 2.1742, 2.1742, 2.1723, 2.1714, 2.1684, 2.1676, 2.1661, 2.1653, 2.1619, 2.1586, 2.1442, 2.1062, 2.0046, 1.9048, 1.9993, 1.9381, 2.1283, 1.7918, 1.9441, 2.0134, 1.4167, 1.511, 1.8209, 1.726, 1.9173, 1.8795, 1.8746, 1.8917, 1.6707, 1.0422, 1.18, -0.4317, 0.7092, 0.6689, 0.7633, 0.9159, 0.1221, -0.0414, -0.1029, 2.365, 2.3649, 2.3642, 2.364, 2.3602, 2.3558, 2.3528, 2.3498, 2.3466, 2.345, 2.3445, 2.3409, 2.3363, 2.3356, 2.3331, 2.33, 2.3217, 2.3189, 2.3184, 2.3174, 2.3132, 2.3129, 2.3092, 2.3053, 2.3041, 2.3031, 2.3024, 2.3012, 2.2994, 2.2986, 2.2946, 2.2582, 2.2423, 2.1457, 2.2219, 2.1492, 2.0389, 1.9992, 1.9288, 1.5989, 1.6657, 1.9071, 1.3562, 1.7189, 1.5333, 1.5731, 0.5338, -0.2897, 0.6499, 1.2356, 1.0153, -0.6452, 2.3896, 2.3867, 2.3842, 2.3802, 2.3765, 2.3763, 2.3751, 2.3722, 2.3649, 2.3639, 2.3616, 2.3585, 2.3543, 2.3532, 2.3519, 2.3517, 2.3471, 2.3464, 2.343, 2.3428, 2.3417, 2.3396, 2.3365, 2.3359, 2.3338, 2.3305, 2.3272, 2.3222, 2.3203, 2.3198, 2.1926, 1.9576, 2.1781, 2.1443, 2.2292, 1.9778, 1.8537, 2.1056, 2.0988, 2.0219, 1.837, 1.9636, 2.0397, 1.5728, 1.8122, 1.8552, 1.8, 1.9296, 0.1007, 1.7668, 1.5063, 1.2085, 1.4779, 1.3795, 0.9494, 0.0442, 0.7785, 0.7465, 0.7198, 2.5279, 2.5275, 2.5257, 2.5235, 2.5173, 2.5146, 2.5139, 2.5134, 2.5073, 2.4993, 2.4979, 2.4961, 2.4896, 2.4853, 2.4852, 2.4839, 2.4837, 2.4837, 2.4828, 2.4812, 2.4774, 2.4752, 2.4746, 2.4735, 2.4731, 2.4726, 2.4717, 2.4701, 2.4684, 2.4672, 2.4593, 2.4412, 2.0722, 2.3285, 2.4193, 2.1582, 2.1982, 2.2545, 2.0829, 1.4907, 2.0988, 2.2637, 1.8199, 1.2348, 1.113, -0.0532, 1.0449, 1.549, 1.5977, 0.5545, 1.1399, 0.6656, 0.8757, 0.571, 1.2689, 0.4205, -1.1748, 2.6501, 2.6287, 2.6194, 2.6086, 2.6078, 2.6047, 2.6043, 2.5999, 2.5943, 2.5866, 2.5838, 2.5751, 2.5747, 2.5723, 2.5717, 2.5712, 2.5697, 2.5662, 2.5651, 2.5649, 2.564, 2.5632, 2.5631, 2.5515, 2.5497, 2.5446, 2.5348, 2.5283, 2.5265, 2.526, 2.5178, 2.3432, 2.4448, 1.973, 2.2727, 2.1627, 2.0921, 1.4407, 1.6118, 2.305, 2.0716, 0.9666, 1.6443, 0.0, 1.1139, 1.3833, 0.4306, 1.8182, 1.1983, -0.6934, -0.077, 0.4234, 0.5705, 0.7752, 0.8991, 2.9054, 2.9031, 2.8909, 2.8885, 2.8879, 2.8879, 2.8868, 2.8855, 2.8845, 2.8829, 2.8793, 2.8773, 2.8705, 2.8621, 2.8554, 2.8417, 2.8405, 2.8359, 2.8322, 2.832, 2.8293, 2.8263, 2.818, 2.8179, 2.8147, 2.814, 2.8111, 2.8089, 2.8075, 2.8074, 2.7822, 2.7703, 2.6035, 2.6371, 2.2991, 2.5143, 2.4143, 2.2754, 2.02, 2.3848, 2.2913, 2.1256, 1.4448, 2.0164, 2.2096, 2.1841, 2.0607, 1.7134, 1.5521, 0.7835, 0.74, 1.4105, 0.3429, 0.3466, 1.7164, 0.8804, 1.7034, 1.2278, -0.6813, 0.555, 0.7805, 0.2833, 2.9311, 2.9288, 2.9112, 2.9063, 2.906, 2.9048, 2.9028, 2.9025, 2.902, 2.9009, 2.8997, 2.8975, 2.8974, 2.8871, 2.8823, 2.876, 2.8757, 2.8741, 2.8718, 2.8717, 2.8678, 2.8677, 2.8662, 2.8661, 2.8648, 2.8642, 2.8622, 2.8606, 2.8576, 2.856, 2.8093, 2.8004, 2.6641, 2.6629, 2.6945, 2.5875, 2.5782, 2.4578, 2.5132, 2.526, 2.3962, 2.5536, 2.1932, 2.4618, 1.3497, 2.0744, 1.4328, -0.4308, 1.4089, 2.0506, 0.9495, 2.2648, 2.2561, 0.1614, 1.5628, 3.0475, 3.0409, 3.0397, 3.0385, 3.0314, 3.0266, 3.0242, 3.02, 3.0172, 3.0152, 3.013, 3.012, 3.0094, 3.0069, 3.0046, 2.9966, 2.9963, 2.9942, 2.9897, 2.9882, 2.9842, 2.9801, 2.9792, 2.9672, 2.9672, 2.9664, 2.9581, 2.9553, 2.9536, 2.9529, 2.951, 2.7304, 2.8018, 2.7889, 2.7032, 2.3694, 2.6328, 2.4453, 2.3667, 2.5342, 2.2139, 1.851, -0.2123, 0.5013, 1.1253, -0.054, 2.3236, 1.7661, 2.1511, 1.0049, 0.4306, 1.0456, 1.7974, -0.891, 3.2299, 3.2288, 3.2277, 3.2248, 3.2129, 3.201, 3.2002, 3.192, 3.1913, 3.1815, 3.18, 3.1682, 3.1652, 3.165, 3.1639, 3.1634, 3.1625, 3.1566, 3.1526, 3.1521, 3.151, 3.1464, 3.1386, 3.1383, 3.1377, 3.1352, 3.1351, 3.1344, 3.1302, 3.1295, 3.1062, 2.8744, 2.5643, 2.1581, 2.1022, 2.7414, 2.5929, 1.4809, 2.5229, -0.2453, 1.568, -1.397]}, \"token.table\": {\"Topic\": [12, 2, 10, 7, 10, 3, 2, 3, 6, 12, 7, 2, 2, 9, 12, 7, 10, 5, 4, 5, 6, 7, 8, 9, 11, 9, 7, 1, 4, 5, 7, 8, 11, 7, 2, 2, 5, 7, 4, 12, 3, 9, 7, 3, 8, 1, 1, 3, 3, 9, 6, 12, 4, 5, 1, 2, 3, 4, 7, 8, 4, 9, 6, 3, 3, 9, 3, 8, 8, 4, 3, 11, 3, 4, 11, 5, 1, 6, 1, 10, 3, 2, 3, 5, 6, 7, 2, 6, 4, 7, 11, 7, 7, 1, 3, 9, 10, 11, 3, 1, 4, 8, 4, 5, 7, 10, 2, 5, 6, 7, 9, 11, 12, 7, 4, 5, 11, 10, 1, 3, 6, 9, 2, 3, 8, 1, 6, 10, 2, 11, 12, 5, 6, 8, 2, 11, 12, 8, 2, 2, 1, 2, 8, 2, 4, 7, 7, 3, 6, 7, 9, 9, 2, 5, 6, 10, 4, 2, 6, 9, 6, 5, 5, 7, 1, 3, 7, 8, 5, 3, 4, 5, 1, 2, 5, 6, 7, 8, 1, 3, 4, 6, 10, 6, 5, 5, 9, 5, 6, 7, 10, 7, 1, 2, 7, 7, 8, 4, 5, 2, 4, 8, 5, 11, 2, 10, 11, 7, 4, 3, 8, 10, 8, 11, 5, 7, 2, 7, 2, 1, 6, 7, 8, 7, 8, 2, 2, 11, 2, 9, 1, 2, 4, 6, 7, 8, 9, 11, 10, 4, 9, 5, 7, 3, 5, 7, 8, 2, 9, 4, 5, 10, 2, 12, 1, 1, 7, 10, 12, 10, 1, 2, 5, 6, 9, 11, 8, 1, 2, 4, 5, 6, 7, 10, 3, 6, 1, 5, 6, 2, 5, 6, 9, 11, 12, 4, 4, 1, 1, 12, 3, 1, 5, 9, 5, 7, 1, 8, 3, 10, 10, 2, 1, 3, 7, 11, 12, 1, 3, 9, 2, 12, 1, 6, 9, 10, 1, 2, 3, 5, 6, 7, 9, 10, 8, 2, 4, 5, 8, 11, 4, 12, 6, 11, 12, 1, 2, 7, 7, 1, 3, 4, 7, 11, 4, 6, 7, 2, 5, 1, 3, 4, 5, 6, 7, 9, 10, 1, 6, 7, 9, 5, 8, 1, 2, 3, 6, 7, 8, 9, 1, 3, 4, 1, 1, 2, 1, 10, 12, 9, 5, 6, 6, 1, 1, 5, 10, 10, 3, 5, 10, 8, 1, 8, 11, 3, 5, 6, 8, 3, 12, 4, 9, 4, 1, 7, 5, 10, 11, 7, 7, 2, 4, 6, 9, 2, 6, 7, 10, 2, 3, 4, 5, 7, 8, 1, 2, 3, 4, 7, 8, 11, 12, 6, 10, 11, 6, 2, 7, 1, 6, 10, 5, 8, 11, 5, 2, 3, 4, 6, 7, 8, 3, 4, 8, 7, 5, 2, 4, 11, 11, 2, 6, 5, 12, 8, 2, 6, 7, 11, 8, 4, 2, 4, 7, 11, 3, 11, 10, 1, 8, 8, 8, 1, 11, 6, 11, 11, 9, 5, 10, 12, 2, 4, 5, 8, 11, 12, 9, 2, 3, 4, 5, 6, 8, 11, 2, 9, 9, 12, 9, 10, 3, 12, 12, 3, 3, 6, 8, 9, 2, 3, 4, 6, 7, 10, 1, 5, 3, 8, 2, 6, 4, 2, 4, 5, 6, 7, 9, 10, 11, 3, 10, 1, 4, 10, 9, 4, 4, 8, 4, 7, 1, 3, 4, 6, 7, 9, 10, 5, 8, 10, 4, 10, 3, 6, 2, 11, 8, 12, 2, 1, 3, 4, 9, 10, 2, 7, 3, 4, 6, 9, 10, 1, 10, 7, 10, 11, 6, 4, 5, 7, 11, 7, 6, 10, 12, 7, 8, 1, 4, 4, 5, 6, 2, 12, 2, 3, 4, 5, 7, 8, 9, 10, 4, 6, 7, 5, 1, 4, 5, 6, 8, 3, 8, 10, 5, 7, 9, 11, 4, 1, 2, 5, 7, 10, 11, 4, 5, 8, 11, 11, 2, 6, 1, 2, 6, 7, 4, 10, 8, 9, 6, 9, 10, 4, 3, 6, 7, 11, 1, 2, 4, 5, 6, 7, 8, 10, 11, 11, 11, 11, 8, 10, 10, 12, 9, 9, 6, 10, 6, 9, 10, 4, 1, 2, 3, 7, 1, 3, 6, 9, 2, 1, 2, 3, 4, 5, 6, 7, 10, 11, 12, 3, 1, 10, 11, 1, 1, 9, 1, 2, 7, 9, 1, 5, 6, 8, 4, 8, 2, 4, 6, 8, 9, 11, 3, 4, 7, 2, 8, 4, 7, 10, 12, 1, 3, 6, 7, 8, 9, 10, 1, 6, 12, 8, 2, 5, 8, 11, 1, 1, 1, 3, 5, 6, 7, 2, 9, 12, 3, 2, 10, 12, 5, 2, 5, 6, 7, 8, 9, 11, 12, 10, 7, 1, 2, 6, 7, 5, 12, 1, 2, 4, 7, 3, 12, 1, 3, 9, 5, 1, 5, 11, 5, 2, 3, 6, 9, 5, 5, 6, 2, 12, 10, 3, 2, 2, 11, 7, 11, 3, 5, 7, 8, 2, 4, 5, 12, 2, 11, 2, 1, 2, 3, 6, 7, 8, 11, 8, 8, 9, 9, 11, 2, 6, 6, 8, 9, 3, 7, 7, 1, 5, 7, 11, 4, 5, 1, 3, 4, 1, 10, 6, 1, 2, 2, 11, 1, 5, 8, 2, 3, 2, 1, 9, 4, 4, 1, 2, 4, 5, 6, 10, 1, 5, 6, 7, 5, 4, 9, 6, 5, 10, 2, 3, 5, 1, 4, 6, 9, 1, 3, 7, 10, 6, 2, 4, 10, 11, 2, 5, 2, 8, 11, 4, 5, 1, 5, 6, 6, 12, 1, 5, 3, 5, 6, 9, 3, 5, 6, 7, 9, 1, 3, 4, 5, 6, 10, 2, 9, 4, 7, 7, 4, 2, 3, 4, 5, 6, 7, 8, 10, 3, 10, 5, 10, 6, 10, 11, 2, 8, 8, 5, 9, 5, 6, 7, 6, 1, 2, 8, 9, 10, 9, 1, 3, 12, 3, 2, 5, 1, 2, 5, 2, 4, 5, 8, 11, 10, 11, 2, 10, 6, 6, 4, 2, 9, 1, 9, 1, 2, 3, 4, 5, 6, 7, 8, 10, 1, 2, 4, 6, 7, 10, 11, 6, 7, 2, 3, 7, 9, 11, 1, 2, 3, 4, 5, 6, 7, 8, 9, 10, 11, 12, 7, 2, 9, 12, 1, 2, 3, 4, 5, 7, 8, 11, 6, 9, 2, 2, 7, 11, 2, 7, 8, 8, 10, 11, 5, 12, 4, 1, 2, 7, 9, 2, 4, 6, 5, 7, 11, 5, 6, 10, 11, 12, 10, 6, 10, 11, 6, 9, 4, 1, 4, 5, 6, 7, 8, 10, 2, 5, 5, 4, 6, 8, 1, 2, 3, 5, 8, 9, 11, 6, 2, 11, 12, 8, 11, 1, 2, 5, 6, 11, 12, 1, 7, 11, 11, 4, 11, 4, 5, 7, 12, 1, 6, 9, 10, 10, 2, 6, 1, 4, 5, 7, 9, 12, 1, 12, 10, 9, 6, 1], \"Freq\": [0.908633714675656, 0.9349861534795073, 0.9644834486493223, 0.9329888058802143, 0.9276174506553871, 0.8891608015935412, 0.9547039613929456, 0.9470082767720538, 0.33356928766967264, 0.6254424143806362, 0.9510683096805059, 0.9463118585613071, 0.9211857237159347, 0.07517593604015545, 0.0022440577922434464, 0.959089815503914, 0.997114034625407, 0.9877636975128028, 0.306868410567752, 0.10228947018925066, 0.05114473509462533, 0.0681929801261671, 0.11933771522079244, 0.076717102641938, 0.2727719205046684, 0.8682689261034284, 0.9735235833920122, 0.11856544816908764, 0.6012962014289445, 0.19478609342064399, 0.01270344087525939, 0.00423448029175313, 0.06351720437629695, 0.9515487875049221, 0.9644164162019345, 0.9612649662778204, 0.8758756185568951, 0.10681409982401159, 0.9935282769421551, 0.9462645518608942, 0.886550856481981, 0.11101710188504234, 0.9501797724704873, 0.9066174535685909, 0.0906617453568591, 0.9600839652883806, 0.15042759593609742, 0.8483416747558982, 0.7703738929060115, 0.1988061659112288, 0.97032955601597, 0.9155569323571198, 0.9559575765515865, 0.9710259769911986, 0.10730020757005126, 0.015466696586674057, 0.36346736978684036, 0.4427341897935449, 0.00032222284555570954, 0.07056680317670039, 0.9427394414839585, 0.9670651939517036, 0.9637906673579535, 0.9747798184681951, 0.8378498493111451, 0.9627660457546647, 0.9427932422293951, 0.924286643797739, 0.9271682350962448, 0.9765871180411931, 0.9398850979371781, 0.9855803246232564, 0.9218300378141081, 0.9387069606455517, 0.9608108667939143, 0.9972870138153759, 0.9794337525822584, 0.9894701057880291, 0.9850260673558564, 0.9712681963823612, 0.9217473362233348, 0.3405321558234855, 0.035106407816854174, 0.06670217485202293, 0.3054257480066313, 0.24925549549966464, 0.41047171678329936, 0.5833019133236359, 0.7181792706371153, 0.27359210309985343, 0.965376513149262, 0.9653730795727299, 0.980612813241292, 0.15470525277191424, 0.8389784861861503, 0.10377979884256844, 0.10377979884256844, 0.7783484913192633, 0.8805927685576679, 0.8999283619216207, 0.082888138598044, 0.9390927011722863, 0.28431725564144095, 0.39804415789801734, 0.05686345112828819, 0.25182385499670484, 0.3124928008178124, 0.018381929459871316, 0.1348008160390563, 0.1225461963991421, 0.01225461963991421, 0.07965502765944237, 0.3247474204577266, 0.9891183954350603, 0.10301339532757918, 0.8948327773231506, 0.0015375133630981968, 0.9729615729449368, 0.8195389042613515, 0.17848008262397008, 0.0018368447611386287, 0.8953022290047403, 0.9520702192600867, 0.8071770669016294, 0.1822657893003679, 0.9536829643931605, 0.12015632008644136, 0.8771411366310219, 0.9615500897040823, 0.032873507340310505, 0.9840783464171657, 0.9974213035051621, 0.9497374604961584, 0.9483725531186745, 0.9355769768384978, 0.04757171068670328, 0.9170993279150296, 0.8670915705807324, 0.9945890136798521, 0.992175312435319, 0.1958166242296664, 0.4377077482780778, 0.3685959985499602, 0.009229420949822216, 0.745737212745635, 0.24181082888534203, 0.9984367834629833, 0.09390241442349034, 0.1878048288469807, 0.10955281682740539, 0.5947152913487721, 0.8993891270486198, 0.7037562856874717, 0.05768494144979276, 0.18459181263933683, 0.04614795315983421, 0.9728073074409193, 0.15178146725266517, 0.1770783784614427, 0.6577196914282157, 0.9704687642142847, 0.9432266528542074, 0.9375144245029234, 0.9502153126470981, 0.9945117879925032, 0.01433885543615711, 0.3011159641592993, 0.6882650609355413, 0.9285059563351064, 0.9279340770708644, 0.048178312069321765, 0.9153879293171134, 0.9278688100180358, 0.11320527371506552, 0.11320527371506552, 0.36084180996677134, 0.3962184580027293, 0.007075329607191595, 0.2145901958405752, 0.06131148452587863, 0.13284154980607038, 0.5518033607329077, 0.030655742262939316, 0.9423767916878605, 0.9662353171292353, 0.8586187432158706, 0.1226598204594101, 0.008841108706085005, 0.06188776094259503, 0.26523326118255014, 0.6630831529563753, 0.9515809177909784, 0.31644038614901193, 0.03273521236024261, 0.643792509751438, 0.7731653127245324, 0.21328698282056063, 0.01932568424608996, 0.9759470544275429, 0.2030080304135634, 0.17177602573455364, 0.6090240912406902, 0.952063326177883, 0.034411927452212644, 0.10280196209043645, 0.8802418003993621, 0.006425122630652278, 0.9432431592303243, 0.9425903593504763, 0.49869731988348037, 0.07933820998146279, 0.4080250799046658, 0.9624031570480945, 0.9505098480054163, 0.07601623458723254, 0.9121948150467905, 0.05929144295961848, 0.9288992730340229, 0.9695739835429287, 0.06291548573841582, 0.06291548573841582, 0.7172365374179404, 0.15099716577219796, 0.9799096611316576, 0.9692402993564897, 0.9947976321507951, 0.8854345570919768, 0.10416877142258552, 0.509864141543506, 0.47987213321741745, 0.010395177364128993, 0.5488653648260109, 0.21829872464670885, 0.03326456756521278, 0.12058405742389632, 0.01663228378260639, 0.03118553209238698, 0.020790354728257986, 0.9720080666958343, 0.2509377840485691, 0.7214461291396361, 0.04411406614542238, 0.9484524221265813, 0.745024851928354, 0.11542638551002668, 0.12591969328366545, 0.9633848794331017, 0.9247332557675918, 0.0603086905935386, 0.8872748457514201, 0.07393957047928501, 0.9046863331911899, 0.48286833786379385, 0.5115130697709681, 0.9961204822356649, 0.8462045316001986, 0.0757795102925551, 0.06314959191046259, 0.9547062218906126, 0.9605800501697344, 0.004458918991203602, 0.18504513813494947, 0.7178859575837798, 0.07134270385925763, 0.020065135460416206, 0.9738111957152049, 0.9679001674893718, 0.49897698545439045, 0.05653433825345311, 0.007374044120015622, 0.11061066180023434, 0.014748088240031244, 0.272839632440578, 0.03932823530674999, 0.8787511042563578, 0.9493757689879714, 0.7024543036787319, 0.05757822161301081, 0.23798998266711135, 0.3054868722752713, 0.0969799594524671, 0.13577194323345393, 0.21820490876805096, 0.06788597161672696, 0.17456392701444076, 0.9985905808320912, 0.9866845590759338, 0.9588175912359933, 0.9806998031494646, 0.9039773795997758, 0.8575166817303047, 0.8010055478135929, 0.05670835736733401, 0.13468234874741827, 0.21874589129010089, 0.7656106195153531, 0.9938397109546682, 0.9532005061251669, 0.9633833821571341, 0.9495239548193127, 0.9593937326526476, 0.9543087619846496, 0.19423804916770754, 0.7630780503017082, 0.03699772365099191, 0.9374851744435102, 0.9135583873967827, 0.06890016843998839, 0.5273512892137573, 0.402800984726086, 0.9727161989042483, 0.882427696122035, 0.24395100795024952, 0.19673468383084639, 0.5193795653134344, 0.03934693676616927, 0.12806280132243741, 0.3592873037101716, 0.11739090121223429, 0.021343800220406235, 0.1920942019836561, 0.0035573000367343723, 0.09604710099182805, 0.0782606008081562, 0.9380156254043964, 0.015961496512626686, 0.3351914267651604, 0.06384598605050675, 0.5746138744545607, 0.015961496512626686, 0.933839326227726, 0.9873114174765684, 0.9300412353204934, 0.8702274658262702, 0.9341475321805656, 0.2502031833390768, 0.0938261937521538, 0.6567833562650766, 0.9698293983683267, 0.18739609635876847, 0.1563788114442137, 0.6436086619770117, 0.002584773742879565, 0.009046708100078479, 0.7243790775154595, 0.012277611483312873, 0.24555222966625745, 0.8675254737638906, 0.1309472413228514, 0.24917643017538385, 0.010430641263155602, 0.0011589601403506225, 0.008112720982454358, 0.09619369164910167, 0.35348284280693987, 0.07533240912279046, 0.20513594484206019, 0.23961093642865006, 0.4098608123121646, 0.050444407669189485, 0.2963608950564882, 0.4237971945612191, 0.5650629260816254, 0.13920750180688057, 0.09600517365991763, 0.446424057518617, 0.04320232814696293, 0.1296069844408888, 0.06240336287894646, 0.08640465629392587, 0.9271853692253348, 0.042793170887323144, 0.014264390295774382, 0.9125622923022969, 0.9739170398029547, 0.01922204683821621, 0.9714467974038509, 0.017989755507478722, 0.9601851742406406, 0.8967850269503815, 0.9678430995759001, 0.930801515869272, 0.923798525031749, 0.9988227464429368, 0.08841880421911963, 0.4244102602517742, 0.477461542783246, 0.97930074682539, 0.21381839089909233, 0.26316109649119057, 0.5098746244516816, 0.9439546383006931, 0.3903350871066266, 0.1774250395939212, 0.4346913470051069, 0.14625819622410888, 0.0559222514974534, 0.44307630032597695, 0.35274035559932143, 0.9338318450536209, 0.8975599375528879, 0.9239738035675082, 0.972750629290245, 0.9603832712044594, 0.8981162118500077, 0.9950022885696982, 0.3971937111449241, 0.4186636414770821, 0.16102447749118542, 0.991217392695077, 0.9729961779100676, 0.371105866231179, 0.0811794082380704, 0.12756764151696778, 0.4174940995100764, 0.089512693621402, 0.40778004871972023, 0.4873468874942998, 0.9546585798103875, 0.15828568459769574, 0.1536302232859988, 0.013966383935090799, 0.4329579019878148, 0.22811760427314973, 0.009310922623393867, 0.03623674059288707, 0.1132398143527721, 0.1902428881126571, 0.11776940692688298, 0.14947655494565917, 0.21289085098321153, 0.1358877772233265, 0.045295925741108835, 0.16877358712720592, 0.41426244113041455, 0.39891938775521396, 0.951535249222522, 0.8850145412307413, 0.0931594253927096, 0.16447845462679678, 0.07151237157686816, 0.7651823758724893, 0.9288302442338068, 0.0589733488402417, 0.9487299865673419, 0.9557660942707754, 0.0382859152367821, 0.18377239313655405, 0.3503161244165562, 0.06508605590252955, 0.06317176014069045, 0.2986301388469003, 0.005590231804045197, 0.4863501669519321, 0.5079124896246778, 0.9257309386324725, 0.939680728098663, 0.9440979807716268, 0.03989146397626592, 0.006648577329377653, 0.9145471336549394, 0.23072827098299675, 0.7498668806947394, 0.9607505195970807, 0.9753360016937005, 0.9198563757190927, 0.20125879267586194, 0.2367750502068964, 0.04735501004137928, 0.4972276054344824, 0.9603876212181971, 0.9812679378690641, 0.05983775086590016, 0.7971932615360247, 0.14090825203905522, 0.8868193294617192, 0.8598048220502741, 0.9657566650746865, 0.9688947075105794, 0.9372958688533582, 0.06075065816642137, 0.9673396266688803, 0.9425439835528399, 0.2248352939372041, 0.7767037426921597, 0.9828759597917233, 0.9541923171856932, 0.9032070033727163, 0.8751993458058183, 0.2578229242287629, 0.6148085116224347, 0.09916266316490881, 0.022235745813704178, 0.5707174758850739, 0.2520051192219807, 0.15565022069592924, 0.9847414327374304, 0.9521398139570679, 0.9068286524424625, 0.09132665764449327, 0.0013630844424551234, 0.7210716700587603, 0.15948087976724945, 0.0013630844424551234, 0.005452337769820494, 0.019083182194371728, 0.5153979836096737, 0.4699216909382319, 0.9171279322671871, 0.9227040470125237, 0.9501128289865525, 0.9584308777046565, 0.8857042506754671, 0.9472980450272699, 0.9566285508722611, 0.886183376512465, 0.8895391393422725, 0.9952277289980991, 0.9455550682697812, 0.9473694492038199, 0.060970249821185436, 0.012194049964237086, 0.2621720742310974, 0.20120182440991194, 0.3780155488913497, 0.08535834974965961, 0.049228688304956456, 0.9353450777941728, 0.9165174624693981, 0.8821559073942913, 0.22488176744567323, 0.7496058914855774, 0.9747448668758298, 0.19742715250003096, 0.003463634254386508, 0.0489856844548949, 0.6481944104637608, 0.02474024467418934, 0.02671946424812449, 0.005442853828321655, 0.04453244041354082, 0.9598915455877107, 0.03567164527521898, 0.7280308274985727, 0.2679868076681863, 0.950513256533736, 0.9347990282598048, 0.9776858630493781, 0.8740678497326986, 0.10925848121658732, 0.9586282837435198, 0.029049341931621814, 0.363676093514105, 0.23452009768666585, 0.003398841995458925, 0.12915599582743917, 0.08497104988647312, 0.11556062784560346, 0.06797683990917851, 0.2980332729553715, 0.18213144458383815, 0.5132795256453621, 0.30540521588727076, 0.6762544066075282, 0.7760637446006257, 0.21784245462473703, 0.08514607217454151, 0.9082247698617761, 0.9304672010162532, 0.9608443885836757, 0.9615667559247109, 0.5725488058828557, 0.11049187481949847, 0.13058130660486184, 0.18080488606827022, 0.00502235794634084, 0.15903760027110675, 0.8179076585371204, 0.9271868971504755, 0.8077886847467137, 0.175606235814503, 0.864926873487377, 0.1383882997579803, 0.23316934632193292, 0.7612293365216045, 0.9324910327681947, 0.706241246721134, 0.2846046815144868, 0.9256331863908599, 0.7077158233249643, 0.10981797258490826, 0.18302995430818045, 0.9703372942765055, 0.9765294488649274, 0.9563169561852167, 0.9309187617579774, 0.9446357728890145, 0.0004539280470976441, 0.9990956316619147, 0.7667031081869805, 0.22922051688064365, 0.013354095507536221, 0.32049829218086934, 0.661027727623043, 0.9548234816859753, 0.9992053911700391, 0.2124994069774946, 0.12789316160682546, 0.21053181987585112, 0.043286916236156305, 0.22627251668899886, 0.10821729059039076, 0.07083313565916487, 0.9491700070209694, 0.10351799072171473, 0.8177921267015463, 0.0724625935052003, 0.9762654332218093, 0.516097540292355, 0.004230307707314385, 0.32150338575589327, 0.12690923121943154, 0.029612153951200697, 0.5805034403421273, 0.24878718871805458, 0.14927231323083273, 0.2829961211180666, 0.2075304888199155, 0.018866408074537773, 0.49052660993798214, 0.945742744668244, 0.1710356888982687, 0.25338620577521287, 0.04750991358285241, 0.003167327572190161, 0.019003965433140965, 0.5036050839782356, 0.09742310072922485, 0.6437565675637015, 0.1852949170732316, 0.07258976132765774, 0.9588310774825123, 0.001481767659303034, 0.9979705185405934, 0.33876518465830546, 0.05493489480945494, 0.5585047638961252, 0.03662326320630329, 0.9889925971567469, 0.9757360186617805, 0.9598910771593248, 0.9492883321895604, 0.11174320286864714, 0.5267893849521936, 0.35119292330146246, 0.9351418747513877, 0.8048606369022373, 0.1038529854067403, 0.07788973905505522, 0.933627269822931, 0.0025962717622161216, 0.04932916348210631, 0.05711797876875467, 0.4958879065832792, 0.07788815286648364, 0.08827323991534813, 0.03375153290880958, 0.13760240339745444, 0.05971425053097079, 0.9822536774039181, 0.9930015587484696, 0.8664681272684461, 0.925340379615074, 0.9481798827414232, 0.27863249495814796, 0.6965812373953699, 0.9645177621109204, 0.949465030932573, 0.9654558775434167, 0.984068258156519, 0.9687728859833292, 0.9331421649854874, 0.9223346861302174, 0.9510897940428334, 0.1973414416000868, 0.10261754963204514, 0.5446623788162396, 0.1420858379520625, 0.2389894902461854, 0.6297373067986985, 0.013144421963540197, 0.11710485022063084, 0.9838131055577106, 0.08548839224626173, 0.18618161650728507, 0.3388505420432588, 0.0696629548431425, 0.06997325753732131, 0.10115867830229155, 0.07555870603253986, 0.03459875040093714, 0.03816723138399344, 0.00015515134708940422, 0.8690952738252142, 0.8819622660551178, 0.08252278512796424, 0.025788370352488824, 0.9547230011612804, 0.9836659065224203, 0.8767283314133371, 0.9945849893908046, 0.2955301675618313, 0.6926488302230421, 0.009235317736307229, 0.9255809807550841, 0.17696404733213814, 0.5308921419964144, 0.28106054576280765, 0.10187837390552991, 0.8761540155875572, 0.6292689082684945, 0.0076121238903446905, 0.05835961649264263, 0.06597174038298732, 0.09388286131425119, 0.14463035391654913, 0.9455046899073837, 0.03203750768760141, 0.929087722940441, 0.9930873660492259, 0.9181288458840782, 0.6637312788443959, 0.15534136313379476, 0.17652427628840314, 0.9542522035437562, 0.016520216461237767, 0.7481298026017675, 0.004720061846067934, 0.002360030923033967, 0.0011800154615169835, 0.22538295314974385, 0.002360030923033967, 0.9481038105588989, 0.030583993888996738, 0.8854569821106715, 0.9540341882480694, 0.14966595781211098, 0.03709112867517533, 0.7353153579464583, 0.07808658668457964, 0.9783827874695528, 0.9761985503917622, 0.005947843945011035, 0.5085406572984436, 0.16356570848780347, 0.12787864481773725, 0.19033100624035312, 0.12954838604738173, 0.860728259840231, 0.009880809105308775, 0.9772057870244417, 0.25951598181824503, 0.6955028312728967, 0.031141917818189407, 0.9237812691781403, 0.4689048631247518, 0.03249835685023032, 0.013927867221527281, 0.06035409129328489, 0.1067803153650425, 0.2507016099874911, 0.018570489628703044, 0.041783601664581844, 0.9303713595814764, 0.9501669100546234, 0.9967088187214616, 0.0007528012225992912, 0.0007528012225992912, 0.0015056024451985824, 0.09694686807642099, 0.8725218126877888, 0.10933896162272994, 0.08504141459545661, 0.7046288637909263, 0.09719018810909327, 0.43427402630939826, 0.5428425328867479, 0.0028399681165415676, 0.8661902755451781, 0.12779856524437055, 0.9593957327720977, 0.9970862626027789, 0.37883976414628895, 0.5893062997831161, 0.9804020856543509, 0.08389289048084912, 0.12583933572127368, 0.5704716552697741, 0.2097322262021228, 0.9873893749401521, 0.9862965246276939, 0.9970474035535798, 0.9229154064550391, 0.06651642569045327, 0.9721282836932855, 0.863641954832167, 0.9936940901223763, 0.8463077139408566, 0.15261286644835118, 0.9067694778903307, 0.9845357491640818, 0.5173623382333953, 0.21657028112095617, 0.14438018741397077, 0.12031682284497565, 0.09201611632700404, 0.1971773921292944, 0.4995160600608791, 0.1840322326540081, 0.28032712942115184, 0.7008178235528797, 0.9971356774114566, 0.05825830088993355, 0.09709716814988925, 0.1165166017798671, 0.5825830088993355, 0.014564575222483387, 0.04369372566745016, 0.08253259292740586, 0.9834464898515837, 0.9651231870908124, 0.8687903677081252, 0.9242548570271178, 0.9710077739722541, 0.21051926909459995, 0.7801596442917528, 0.6469643723788666, 0.02753039882463262, 0.31659958648327513, 0.7800235666323829, 0.15600471332647659, 0.9890191656383692, 0.0026882662933851026, 0.36291594960698886, 0.6330867120921917, 0.9591262849532511, 0.9347589663619733, 0.9371505408417802, 0.02140998196500564, 0.8135793146702143, 0.12845989179003384, 0.9449311813366064, 0.9055378616020411, 0.9253105606559269, 0.9915568255594044, 0.9637002317014731, 0.33834795062718304, 0.6625980699782335, 0.803953996751884, 0.1910385734855962, 0.007959940561899841, 0.96346566385938, 0.881965691529582, 0.9977724390460058, 0.961949567189375, 0.9431673785697051, 0.9741869494813455, 0.9489882675431244, 0.11241084674972264, 0.22482169349944528, 0.13607628817071687, 0.44964338699889056, 0.02366544142099424, 0.04733088284198848, 0.23811004340997474, 0.6322232187092434, 0.008210691152068095, 0.12316036728102142, 0.994577522061297, 0.9245089680549367, 0.8914343763177186, 0.9460489371137547, 0.33985931832523225, 0.6570613487621157, 0.014389772023542788, 0.4604727047533692, 0.5252266788593117, 0.17560193879269276, 0.01526973380806024, 0.4046479459135964, 0.3970130790095662, 0.3069040863144644, 0.5200319240328425, 0.008525113508735123, 0.1534520431572322, 0.9324890120701829, 0.0031689346661386672, 0.04753401999208001, 0.22182542662970672, 0.7225171038796161, 0.7970515247768173, 0.19926288119420432, 0.3310150171658492, 0.4255907363560918, 0.2127953681780459, 0.9880331906374882, 0.9492410605519376, 0.8484930301819279, 0.09632650342645076, 0.053287001895483396, 0.9769408313951884, 0.8883775446700968, 0.30512985007788623, 0.6893674390648541, 0.2368209444825733, 0.015788062965504886, 0.694674770482215, 0.04736418889651466, 0.3175102705934811, 0.09338537370396502, 0.06536976159277552, 0.22412489688951606, 0.28949465848229156, 0.353541272747219, 0.18499252643749833, 0.08632984567083256, 0.1068845708305546, 0.04933134038333289, 0.2178800866930536, 0.24059429249711656, 0.7217828774913496, 0.08981335209061561, 0.8981335209061561, 0.9263774630409224, 0.9382560645006188, 0.4619081748502204, 0.1520204119760219, 0.011693877844309376, 0.017540816766464067, 0.023387755688618752, 0.11109183952093908, 0.12278571736524846, 0.09355102275447501, 0.914643054283704, 0.9122541061353865, 0.9287537061206462, 0.9970178803047696, 0.031096227062994936, 0.7929537901063709, 0.17102924884647216, 0.035012236575756375, 0.9103181509696658, 0.9241323798453337, 0.969835710004763, 0.9372510355202133, 0.9404621248013068, 0.7017728603723336, 0.27701560277855275, 0.9536695386348455, 0.18739832305214113, 0.38416656225688933, 0.11243899383128468, 0.2998373168834258, 0.009369916152607056, 0.9356244801691743, 0.19464423103344522, 0.45767697567323606, 0.3419425680317281, 0.9967485598141705, 0.19843824779984034, 0.8007157367361979, 0.0627413641602894, 0.7685817109635451, 0.15685341040072348, 0.19569192795800333, 0.45009143430340764, 0.10763056037690183, 0.23483031354960401, 0.8811656248573752, 0.006240271696649144, 0.9859629280705647, 0.9828462768220027, 0.8950816066103598, 0.9651984722662355, 0.9829739850499307, 0.9137543316139102, 0.4103214182557391, 0.5715191182847794, 0.9677116461674191, 0.923857770238491, 0.2224821163339674, 0.05258668204257411, 0.26293341021287053, 0.07281232898202569, 0.076857458369916, 0.18607595184295453, 0.1011282346972579, 0.008090258775780632, 0.008090258775780632, 0.16104559426479353, 0.1503092213138073, 0.182518340166766, 0.0590500512304243, 0.13420466188732794, 0.005368186475493118, 0.3006184426276146, 0.801614490760307, 0.17055627462985257, 0.1911721931412214, 0.14529086678732828, 0.02294066317694657, 0.5276352530697711, 0.10705642815908399, 0.011321504373664242, 0.1842317529896272, 0.06484134323098611, 0.30465139041860145, 0.17908561463796166, 0.006175366021998678, 0.13894573549497025, 0.03499374079132584, 0.020584553406662258, 0.022643008747328483, 0.001029227670333113, 0.030876830109993387, 0.9756914909088494, 0.9677669520731885, 0.960187529819581, 0.9536666584344827, 0.28777959486321314, 0.03730476229708318, 0.16520680445851124, 0.03730476229708318, 0.12790204216142806, 0.282450343106487, 0.05862176932398786, 0.933560283089288, 0.9332647352780863, 0.9815506387877642, 0.9686432852487203, 0.9866014013771292, 0.9985168502512147, 0.9565021382970096, 0.041328484951883515, 0.20664242475941758, 0.7025842441820197, 0.8792104778093112, 0.06192844297056812, 0.9356216113661509, 0.4826779275710767, 0.4826779275710767, 0.9270526706724882, 0.4594924323146702, 0.04177203930133365, 0.04177203930133365, 0.44904942248933677, 0.003576815063077433, 0.7940529440031902, 0.20030164353233626, 0.32881218220444924, 0.12330456832666847, 0.548020303674082, 0.09039248166410611, 0.20737098734706697, 0.6221129620412008, 0.07975807205656421, 0.9963805103679189, 0.9560411707985872, 0.23062993620395578, 0.5820660294671265, 0.17571804663158536, 0.9831832898319208, 0.9427757863866284, 0.9689359890900822, 0.39393916594598966, 0.12066605083030314, 0.25907710913565085, 0.1561560657803923, 0.0035490014950089158, 0.04968602093012482, 0.021294008970053496, 0.9738524735585642, 0.9939619161640976, 0.9969811337922521, 0.7540550409449964, 0.24506788830712384, 0.9417698464000236, 0.07490498833438873, 0.6516733985091819, 0.07865023775110817, 0.026216745917036058, 0.01123574825015831, 0.026216745917036058, 0.12733848016846083, 0.98745011211382, 0.9860791877525424, 0.9670192550591831, 0.9971540216239407, 0.8146310700320668, 0.13577184500534445, 0.13856705199158398, 0.4780563293709647, 0.11085364159326717, 0.24249234098527195, 0.006928352599579198, 0.020785057798737596, 0.9103465730840816, 0.01655175587425603, 0.06620702349702412, 0.945656843223923, 0.9211529872136173, 0.06280588549183753, 0.19511751770285393, 0.8038841729357582, 0.9319368184625759, 0.9480342548598193, 0.07199406648234605, 0.6335477850446452, 0.07199406648234605, 0.23038101274350734, 0.9886701722253096, 0.13009142716435373, 0.8455942765682993, 0.2584108002825587, 0.12092300269632553, 0.46215777742842223, 0.1557090719651315, 0.9434711481141129, 0.9121828956457386, 0.003445419422577249, 0.9922807937022478, 0.9365935679367409, 0.9797201350567141, 0.9925839568770595, 0.9827569861273505], \"Term\": [\"abhi\", \"accept\", \"accessory\", \"accurate\", \"adapter\", \"adequate\", \"adjust\", \"agar\", \"airtel\", \"airtel\", \"alarm\", \"alot\", \"amazon\", \"amazon\", \"amazon\", \"amazone\", \"android\", \"anything\", \"application\", \"application\", \"application\", \"application\", \"application\", \"application\", \"application\", \"appreciate\", \"approx\", \"apps\", \"apps\", \"apps\", \"apps\", \"apps\", \"apps\", \"aspect\", \"atleast\", \"atom\", \"audio\", \"audio\", \"auto\", \"avoid\", \"awesome\", \"awesome\", \"awsm\", \"awsome\", \"awsome\", \"background\", \"backup\", \"backup\", \"bahut\", \"bahut\", \"bakwas\", \"band\", \"bank\", \"batter\", \"battery\", \"battery\", \"battery\", \"battery\", \"battery\", \"battery\", \"battry\", \"beast\", \"beat\", \"beautiful\", \"behave\", \"bekar\", \"bettery\", \"bettry\", \"bhai\", \"bhut\", \"bilkul\", \"bill\", \"blaster\", \"blink\", \"blowing\", \"bluetooth\", \"blur\", \"body\", \"bokeh\", \"boot\", \"booting\", \"bought\", \"bought\", \"bought\", \"bought\", \"bought\", \"brand\", \"brand\", \"brightness\", \"brightness\", \"brilliant\", \"broke\", \"broken\", \"budget\", \"budget\", \"bug\", \"bug\", \"bug\", \"buget\", \"build\", \"build\", \"bulky\", \"button\", \"button\", \"button\", \"button\", \"buying\", \"buying\", \"buying\", \"buying\", \"buying\", \"buying\", \"buying\", \"cable\", \"call\", \"call\", \"call\", \"caller\", \"camera\", \"camera\", \"camera\", \"cameragood\", \"camra\", \"capacity\", \"capacity\", \"capture\", \"card\", \"card\", \"care\", \"care\", \"cash\", \"cast\", \"category\", \"cause\", \"cell\", \"cell\", \"cemara\", \"cemera\", \"center\", \"centre\", \"change\", \"change\", \"change\", \"charge\", \"charge\", \"charge\", \"charger\", \"cheap\", \"cheap\", \"cheap\", \"cheap\", \"cheaper\", \"check\", \"check\", \"check\", \"check\", \"china\", \"choice\", \"choice\", \"choice\", \"choose\", \"chrome\", \"chromecast\", \"claimed\", \"clarity\", \"class\", \"class\", \"class\", \"clean\", \"clearity\", \"click\", \"click\", \"clock\", \"company\", \"company\", \"company\", \"company\", \"company\", \"compare\", \"compare\", \"compare\", \"compare\", \"compare\", \"comparison\", \"complain\", \"complaint\", \"complaint\", \"con\", \"con\", \"con\", \"con\", \"concern\", \"condition\", \"condition\", \"condition\", \"configuration\", \"configuration\", \"connect\", \"connect\", \"connection\", \"connection\", \"connection\", \"connectivity\", \"connectivity\", \"contact\", \"contact\", \"contact\", \"continue\", \"control\", \"cool\", \"cool\", \"cool\", \"coolpad\", \"copy\", \"core\", \"core\", \"cost\", \"cost\", \"couple\", \"cover\", \"cover\", \"cover\", \"cover\", \"crack\", \"custom\", \"customer\", \"damage\", \"damage\", \"date\", \"date\", \"day\", \"day\", \"day\", \"day\", \"day\", \"day\", \"day\", \"day\", \"daylight\", \"deal\", \"deal\", \"deca\", \"deca\", \"decent\", \"decent\", \"decent\", \"deep\", \"defect\", \"defect\", \"degree\", \"degree\", \"delay\", \"delivery\", \"delivery\", \"depth\", \"design\", \"design\", \"design\", \"deta\", \"detail\", \"device\", \"device\", \"device\", \"device\", \"device\", \"didnt\", \"discount\", \"display\", \"display\", \"display\", \"display\", \"display\", \"display\", \"display\", \"divice\", \"diya\", \"dolby\", \"dolby\", \"dolby\", \"dont\", \"dont\", \"dont\", \"dont\", \"dont\", \"dont\", \"drain\", \"drainage\", \"duel\", \"dull\", \"dust\", \"ear\", \"earphone\", \"earphone\", \"earphone\", \"edge\", \"edge\", \"effect\", \"efficient\", \"effort\", \"elegant\", \"engineer\", \"error\", \"everything\", \"everything\", \"everything\", \"everytime\", \"example\", \"excellent\", \"excellent\", \"excellent\", \"exchange\", \"executive\", \"expectation\", \"expectation\", \"expectation\", \"expectation\", \"experience\", \"experience\", \"experience\", \"experience\", \"experience\", \"experience\", \"experience\", \"experience\", \"extreme\", \"face\", \"face\", \"face\", \"face\", \"face\", \"facebook\", \"facility\", \"fact\", \"fail\", \"fair\", \"fake\", \"fake\", \"fake\", \"fall\", \"fast\", \"fast\", \"fast\", \"fast\", \"fast\", \"faster\", \"faster\", \"faster\", \"faulty\", \"faulty\", \"feature\", \"feature\", \"feature\", \"feature\", \"feature\", \"feature\", \"feature\", \"feature\", \"feel\", \"feel\", \"feel\", \"feel\", \"file\", \"file\", \"fine\", \"fine\", \"fine\", \"fine\", \"fine\", \"fine\", \"fine\", \"fingerprint\", \"fingerprint\", \"fingerprint\", \"fire\", \"flash\", \"flash\", \"focus\", \"focus\", \"fone\", \"fooling\", \"forum\", \"fraud\", \"frequent\", \"front\", \"function\", \"function\", \"function\", \"functionality\", \"future\", \"future\", \"future\", \"gadget\", \"gallery\", \"gallery\", \"gallery\", \"game\", \"game\", \"game\", \"game\", \"gamer\", \"gaya\", \"gesture\", \"ghatiya\", \"gift\", \"gimmick\", \"glass\", \"google\", \"google\", \"google\", \"gorilla\", \"guard\", \"guy\", \"guy\", \"guy\", \"guy\", \"hand\", \"hand\", \"hand\", \"handle\", \"handset\", \"handset\", \"handset\", \"handset\", \"handset\", \"handset\", \"hang\", \"hang\", \"hang\", \"hang\", \"hang\", \"hang\", \"hang\", \"hang\", \"hardware\", \"hardware\", \"hardware\", \"hate\", \"head\", \"head\", \"headphone\", \"headphone\", \"headphone\", \"headset\", \"headset\", \"heard\", \"hearing\", \"heat\", \"heat\", \"heat\", \"heat\", \"heat\", \"heat\", \"heating\", \"heating\", \"heating\", \"height\", \"hello\", \"help\", \"help\", \"help\", \"helpful\", \"hold\", \"hold\", \"home\", \"hone\", \"honest\", \"hope\", \"hope\", \"hope\", \"hope\", \"hota\", \"hotspot\", \"hour\", \"hour\", \"hour\", \"hung\", \"hurt\", \"icon\", \"idea\", \"image\", \"image\", \"imei\", \"impression\", \"improvement\", \"improvement\", \"increase\", \"india\", \"indicator\", \"indoor\", \"interface\", \"interface\", \"interface\", \"internet\", \"internet\", \"internet\", \"internet\", \"invoice\", \"iron\", \"isse\", \"issue\", \"issue\", \"issue\", \"issue\", \"issue\", \"issue\", \"issue\", \"item\", \"item\", \"jammed\", \"january\", \"jata\", \"joke\", \"jyada\", \"kabhi\", \"karne\", \"karta\", \"kharab\", \"killer\", \"kiya\", \"launch\", \"le\", \"le\", \"le\", \"le\", \"le\", \"le\", \"left\", \"left\", \"lena\", \"lene\", \"lenevo\", \"lenevo\", \"lenova\", \"lenovo\", \"lenovo\", \"lenovo\", \"lenovo\", \"lenovo\", \"lenovo\", \"lenovo\", \"lenovo\", \"life\", \"life\", \"light\", \"light\", \"list\", \"listen\", \"location\", \"lock\", \"lock\", \"longer\", \"longer\", \"look\", \"look\", \"look\", \"look\", \"look\", \"look\", \"look\", \"lot\", \"lot\", \"lot\", \"loud\", \"loud\", \"love\", \"love\", \"mail\", \"mail\", \"manager\", \"manufacturer\", \"manufacturing\", \"mark\", \"mark\", \"mark\", \"mark\", \"mark\", \"market\", \"market\", \"mast\", \"medium\", \"medium\", \"meet\", \"meet\", \"memory\", \"memory\", \"mera\", \"message\", \"message\", \"metal\", \"min\", \"min\", \"min\", \"mind\", \"mirror\", \"miui\", \"mobail\", \"mobil\", \"mobile\", \"mobile\", \"mode\", \"mode\", \"model\", \"model\", \"model\", \"moment\", \"money\", \"month\", \"month\", \"month\", \"month\", \"month\", \"month\", \"month\", \"motion\", \"moto\", \"moto\", \"moto\", \"movie\", \"music\", \"music\", \"music\", \"music\", \"music\", \"nahi\", \"nahi\", \"nahi\", \"name\", \"name\", \"name\", \"name\", \"navigation\", \"need\", \"need\", \"need\", \"need\", \"need\", \"need\", \"network\", \"network\", \"network\", \"network\", \"none\", \"note\", \"note\", \"nothing\", \"nothing\", \"nothing\", \"nothing\", \"notification\", \"nougat\", \"object\", \"october\", \"offer\", \"offer\", \"offer\", \"office\", \"okay\", \"okay\", \"okay\", \"operate\", \"option\", \"option\", \"option\", \"option\", \"option\", \"option\", \"option\", \"option\", \"option\", \"order\", \"oreo\", \"orio\", \"owsum\", \"pack\", \"package\", \"package\", \"packaging\", \"packet\", \"paid\", \"paisa\", \"panel\", \"payment\", \"penny\", \"percent\", \"perfect\", \"perfect\", \"perfect\", \"perfect\", \"performance\", \"performance\", \"performance\", \"performance\", \"phon\", \"phone\", \"phone\", \"phone\", \"phone\", \"phone\", \"phone\", \"phone\", \"phone\", \"phone\", \"phone\", \"phonecamera\", \"photo\", \"photo\", \"photo\", \"photography\", \"pic\", \"pickup\", \"picture\", \"piece\", \"piece\", \"piece\", \"pixel\", \"play\", \"play\", \"play\", \"player\", \"player\", \"please\", \"please\", \"please\", \"please\", \"please\", \"please\", \"plug\", \"pocket\", \"pocket\", \"policy\", \"position\", \"power\", \"power\", \"power\", \"prblm\", \"price\", \"price\", \"price\", \"price\", \"price\", \"price\", \"price\", \"primary\", \"primary\", \"prize\", \"prob\", \"problem\", \"problem\", \"problem\", \"problem\", \"processer\", \"processing\", \"processor\", \"processor\", \"processor\", \"processor\", \"processor\", \"product\", \"product\", \"product\", \"protection\", \"provide\", \"provide\", \"provide\", \"provider\", \"purchase\", \"purchase\", \"purchase\", \"purchase\", \"purchase\", \"purchase\", \"purchase\", \"purchase\", \"pure\", \"purpose\", \"quality\", \"quality\", \"quality\", \"quality\", \"question\", \"question\", \"quick\", \"quick\", \"quick\", \"quick\", \"raha\", \"raha\", \"range\", \"range\", \"range\", \"reality\", \"rear\", \"receive\", \"receive\", \"reception\", \"recommend\", \"recommend\", \"recommend\", \"recommend\", \"record\", \"recorder\", \"redmi\", \"refund\", \"refund\", \"release\", \"remote\", \"replacement\", \"request\", \"request\", \"resistant\", \"resolve\", \"rest\", \"rest\", \"rest\", \"rest\", \"restart\", \"restart\", \"restart\", \"restart\", \"result\", \"result\", \"return\", \"review\", \"review\", \"review\", \"review\", \"review\", \"review\", \"review\", \"ringtone\", \"rock\", \"rough\", \"round\", \"sake\", \"sale\", \"sale\", \"samsung\", \"samsung\", \"samsung\", \"saver\", \"saver\", \"scratch\", \"screen\", \"screen\", \"screen\", \"section\", \"security\", \"seem\", \"segment\", \"segment\", \"segment\", \"select\", \"self\", \"selfi\", \"selfie\", \"sell\", \"send\", \"send\", \"sensor\", \"sensor\", \"sensor\", \"september\", \"serf\", \"service\", \"setup\", \"shame\", \"share\", \"shortcut\", \"show\", \"show\", \"show\", \"show\", \"show\", \"show\", \"side\", \"side\", \"side\", \"side\", \"signal\", \"silent\", \"sleek\", \"slim\", \"slot\", \"slot\", \"smart\", \"smart\", \"smart\", \"smartphone\", \"smartphone\", \"smartphone\", \"smartphone\", \"smooth\", \"smooth\", \"smooth\", \"smooth\", \"socket\", \"software\", \"software\", \"software\", \"software\", \"solution\", \"solution\", \"solve\", \"solve\", \"solve\", \"someone\", \"song\", \"sound\", \"sound\", \"sound\", \"space\", \"spare\", \"speaker\", \"speaker\", \"spec\", \"spec\", \"spec\", \"spec\", \"specification\", \"specification\", \"specification\", \"specification\", \"specification\", \"speed\", \"speed\", \"speed\", \"speed\", \"speed\", \"speed\", \"spend\", \"spend\", \"spent\", \"spent\", \"split\", \"spot\", \"star\", \"star\", \"star\", \"star\", \"star\", \"star\", \"star\", \"star\", \"state\", \"status\", \"stereo\", \"stock\", \"storage\", \"storage\", \"storage\", \"store\", \"store\", \"strange\", \"strength\", \"stylish\", \"subject\", \"suck\", \"suck\", \"sufficient\", \"suggest\", \"suggest\", \"suggest\", \"suggest\", \"suggest\", \"sunlight\", \"super\", \"super\", \"super\", \"superb\", \"support\", \"support\", \"sure\", \"sure\", \"sure\", \"switch\", \"switch\", \"switch\", \"switch\", \"symbol\", \"system\", \"system\", \"team\", \"technology\", \"temperature\", \"test\", \"text\", \"thank\", \"thank\", \"theme\", \"thik\", \"thing\", \"thing\", \"thing\", \"thing\", \"thing\", \"thing\", \"thing\", \"thing\", \"thing\", \"think\", \"think\", \"think\", \"think\", \"think\", \"think\", \"think\", \"thought\", \"thought\", \"till\", \"till\", \"till\", \"till\", \"till\", \"time\", \"time\", \"time\", \"time\", \"time\", \"time\", \"time\", \"time\", \"time\", \"time\", \"time\", \"time\", \"today\", \"told\", \"tone\", \"tooo\", \"touch\", \"touch\", \"touch\", \"touch\", \"touch\", \"touch\", \"touch\", \"tower\", \"transparent\", \"tray\", \"trouble\", \"trust\", \"turbo\", \"turbocharger\", \"understand\", \"understand\", \"understand\", \"unique\", \"update\", \"update\", \"upgrade\", \"upgrade\", \"upset\", \"upto\", \"upto\", \"upto\", \"upto\", \"usage\", \"usage\", \"usage\", \"useless\", \"useless\", \"useless\", \"user\", \"user\", \"user\", \"user\", \"value\", \"vary\", \"version\", \"version\", \"version\", \"vibe\", \"vibrant\", \"vibration\", \"video\", \"video\", \"video\", \"video\", \"video\", \"video\", \"video\", \"visit\", \"voice\", \"volta\", \"volume\", \"volume\", \"waist\", \"want\", \"want\", \"want\", \"want\", \"want\", \"want\", \"want\", \"warm\", \"warranty\", \"wastage\", \"waste\", \"water\", \"water\", \"week\", \"week\", \"week\", \"week\", \"week\", \"week\", \"weight\", \"weight\", \"weight\", \"west\", \"whatsapp\", \"whatsapp\", \"wifi\", \"wifi\", \"window\", \"wireless\", \"wise\", \"wise\", \"wise\", \"wise\", \"wonderful\", \"word\", \"word\", \"work\", \"work\", \"work\", \"work\", \"world\", \"worry\", \"worth\", \"worth\", \"worthless\", \"wrost\", \"year\", \"zoom\"]}, \"R\": 30, \"lambda.step\": 0.01, \"plot.opts\": {\"xlab\": \"PC1\", \"ylab\": \"PC2\"}, \"topic.order\": [1, 11, 6, 7, 9, 10, 4, 3, 8, 2, 5, 12]};\n",
              "\n",
              "function LDAvis_load_lib(url, callback){\n",
              "  var s = document.createElement('script');\n",
              "  s.src = url;\n",
              "  s.async = true;\n",
              "  s.onreadystatechange = s.onload = callback;\n",
              "  s.onerror = function(){console.warn(\"failed to load library \" + url);};\n",
              "  document.getElementsByTagName(\"head\")[0].appendChild(s);\n",
              "}\n",
              "\n",
              "if(typeof(LDAvis) !== \"undefined\"){\n",
              "   // already loaded: just create the visualization\n",
              "   !function(LDAvis){\n",
              "       new LDAvis(\"#\" + \"ldavis_el571397170498486569308922318\", ldavis_el571397170498486569308922318_data);\n",
              "   }(LDAvis);\n",
              "}else if(typeof define === \"function\" && define.amd){\n",
              "   // require.js is available: use it to load d3/LDAvis\n",
              "   require.config({paths: {d3: \"https://d3js.org/d3.v5\"}});\n",
              "   require([\"d3\"], function(d3){\n",
              "      window.d3 = d3;\n",
              "      LDAvis_load_lib(\"https://cdn.jsdelivr.net/gh/bmabey/pyLDAvis@3.3.1/pyLDAvis/js/ldavis.v3.0.0.js\", function(){\n",
              "        new LDAvis(\"#\" + \"ldavis_el571397170498486569308922318\", ldavis_el571397170498486569308922318_data);\n",
              "      });\n",
              "    });\n",
              "}else{\n",
              "    // require.js not available: dynamically load d3 & LDAvis\n",
              "    LDAvis_load_lib(\"https://d3js.org/d3.v5.js\", function(){\n",
              "         LDAvis_load_lib(\"https://cdn.jsdelivr.net/gh/bmabey/pyLDAvis@3.3.1/pyLDAvis/js/ldavis.v3.0.0.js\", function(){\n",
              "                 new LDAvis(\"#\" + \"ldavis_el571397170498486569308922318\", ldavis_el571397170498486569308922318_data);\n",
              "            })\n",
              "         });\n",
              "}\n",
              "</script>"
            ]
          },
          "metadata": {},
          "execution_count": 44
        }
      ]
    },
    {
      "cell_type": "code",
      "source": [
        "from gensim.models.coherencemodel import CoherenceModel\n",
        "coherence_model_lda = CoherenceModel(model=ldamodel,texts=review_data['clean_review'],\\\n",
        "                                     dictionary=dictionary , coherence='c_v')\n",
        "print('\\nCoherence Score: ', coherence_model_lda.get_coherence())\n",
        "\n",
        "# Compute Coherence Score"
      ],
      "metadata": {
        "colab": {
          "base_uri": "https://localhost:8080/"
        },
        "id": "OfddesLy0Aqe",
        "outputId": "8641afc4-1bc1-4ab8-cce7-ee9e9dc82c30"
      },
      "execution_count": 45,
      "outputs": [
        {
          "output_type": "stream",
          "name": "stdout",
          "text": [
            "\n",
            "Coherence Score:  0.5758709646389434\n"
          ]
        }
      ]
    },
    {
      "cell_type": "code",
      "source": [
        "# Computing coherence score for different size of topic\n",
        "\n",
        "def calculate_topic_cv(ldamodel,texts,dictionary,topic_range):\n",
        "  cv_score =[]\n",
        "  topic_num = []\n",
        "  for i in range(2,topic_range):\n",
        "    topic_num.append(i)\n",
        "    Lda = gensim.models.ldamodel.LdaModel\n",
        "    ldamodel = Lda(doc_term_matrix, num_topics=i, id2word=dictionary, passes=10,random_state=45)\n",
        "    cv_score.append(CoherenceModel(model=ldamodel,texts=texts,\\\n",
        "                                   dictionary=dictionary , coherence='c_v').get_coherence())\n",
        "    clear_output()\n",
        "  return topic_num,cv_score"
      ],
      "metadata": {
        "id": "HBtUoka60AtL"
      },
      "execution_count": 46,
      "outputs": []
    },
    {
      "cell_type": "code",
      "source": [
        "topic_num,cv_score = calculate_topic_cv(ldamodel,review_data['clean_review'],dictionary,15)"
      ],
      "metadata": {
        "id": "rciK3uS00Avy"
      },
      "execution_count": 47,
      "outputs": []
    },
    {
      "cell_type": "code",
      "source": [
        "pd.DataFrame(zip(topic_num,cv_score),columns=['Topic','Coherence_Score']).set_index\\\n",
        "('Topic').sort_values('Coherence_Score',ascending=False)"
      ],
      "metadata": {
        "colab": {
          "base_uri": "https://localhost:8080/",
          "height": 488
        },
        "id": "e0AoklNj1rIr",
        "outputId": "b901ad31-0f5c-4080-ab31-265ec82d1a27"
      },
      "execution_count": 48,
      "outputs": [
        {
          "output_type": "execute_result",
          "data": {
            "text/plain": [
              "       Coherence_Score\n",
              "Topic                 \n",
              "6             0.609116\n",
              "10            0.605270\n",
              "7             0.602581\n",
              "8             0.597894\n",
              "3             0.589486\n",
              "2             0.582708\n",
              "9             0.582576\n",
              "5             0.579579\n",
              "12            0.575871\n",
              "13            0.571891\n",
              "11            0.568505\n",
              "4             0.568473\n",
              "14            0.555884"
            ],
            "text/html": [
              "\n",
              "  <div id=\"df-769aa6ac-532c-4c2a-a9ce-30cb30f855a1\">\n",
              "    <div class=\"colab-df-container\">\n",
              "      <div>\n",
              "<style scoped>\n",
              "    .dataframe tbody tr th:only-of-type {\n",
              "        vertical-align: middle;\n",
              "    }\n",
              "\n",
              "    .dataframe tbody tr th {\n",
              "        vertical-align: top;\n",
              "    }\n",
              "\n",
              "    .dataframe thead th {\n",
              "        text-align: right;\n",
              "    }\n",
              "</style>\n",
              "<table border=\"1\" class=\"dataframe\">\n",
              "  <thead>\n",
              "    <tr style=\"text-align: right;\">\n",
              "      <th></th>\n",
              "      <th>Coherence_Score</th>\n",
              "    </tr>\n",
              "    <tr>\n",
              "      <th>Topic</th>\n",
              "      <th></th>\n",
              "    </tr>\n",
              "  </thead>\n",
              "  <tbody>\n",
              "    <tr>\n",
              "      <th>6</th>\n",
              "      <td>0.609116</td>\n",
              "    </tr>\n",
              "    <tr>\n",
              "      <th>10</th>\n",
              "      <td>0.605270</td>\n",
              "    </tr>\n",
              "    <tr>\n",
              "      <th>7</th>\n",
              "      <td>0.602581</td>\n",
              "    </tr>\n",
              "    <tr>\n",
              "      <th>8</th>\n",
              "      <td>0.597894</td>\n",
              "    </tr>\n",
              "    <tr>\n",
              "      <th>3</th>\n",
              "      <td>0.589486</td>\n",
              "    </tr>\n",
              "    <tr>\n",
              "      <th>2</th>\n",
              "      <td>0.582708</td>\n",
              "    </tr>\n",
              "    <tr>\n",
              "      <th>9</th>\n",
              "      <td>0.582576</td>\n",
              "    </tr>\n",
              "    <tr>\n",
              "      <th>5</th>\n",
              "      <td>0.579579</td>\n",
              "    </tr>\n",
              "    <tr>\n",
              "      <th>12</th>\n",
              "      <td>0.575871</td>\n",
              "    </tr>\n",
              "    <tr>\n",
              "      <th>13</th>\n",
              "      <td>0.571891</td>\n",
              "    </tr>\n",
              "    <tr>\n",
              "      <th>11</th>\n",
              "      <td>0.568505</td>\n",
              "    </tr>\n",
              "    <tr>\n",
              "      <th>4</th>\n",
              "      <td>0.568473</td>\n",
              "    </tr>\n",
              "    <tr>\n",
              "      <th>14</th>\n",
              "      <td>0.555884</td>\n",
              "    </tr>\n",
              "  </tbody>\n",
              "</table>\n",
              "</div>\n",
              "      <button class=\"colab-df-convert\" onclick=\"convertToInteractive('df-769aa6ac-532c-4c2a-a9ce-30cb30f855a1')\"\n",
              "              title=\"Convert this dataframe to an interactive table.\"\n",
              "              style=\"display:none;\">\n",
              "        \n",
              "  <svg xmlns=\"http://www.w3.org/2000/svg\" height=\"24px\"viewBox=\"0 0 24 24\"\n",
              "       width=\"24px\">\n",
              "    <path d=\"M0 0h24v24H0V0z\" fill=\"none\"/>\n",
              "    <path d=\"M18.56 5.44l.94 2.06.94-2.06 2.06-.94-2.06-.94-.94-2.06-.94 2.06-2.06.94zm-11 1L8.5 8.5l.94-2.06 2.06-.94-2.06-.94L8.5 2.5l-.94 2.06-2.06.94zm10 10l.94 2.06.94-2.06 2.06-.94-2.06-.94-.94-2.06-.94 2.06-2.06.94z\"/><path d=\"M17.41 7.96l-1.37-1.37c-.4-.4-.92-.59-1.43-.59-.52 0-1.04.2-1.43.59L10.3 9.45l-7.72 7.72c-.78.78-.78 2.05 0 2.83L4 21.41c.39.39.9.59 1.41.59.51 0 1.02-.2 1.41-.59l7.78-7.78 2.81-2.81c.8-.78.8-2.07 0-2.86zM5.41 20L4 18.59l7.72-7.72 1.47 1.35L5.41 20z\"/>\n",
              "  </svg>\n",
              "      </button>\n",
              "      \n",
              "  <style>\n",
              "    .colab-df-container {\n",
              "      display:flex;\n",
              "      flex-wrap:wrap;\n",
              "      gap: 12px;\n",
              "    }\n",
              "\n",
              "    .colab-df-convert {\n",
              "      background-color: #E8F0FE;\n",
              "      border: none;\n",
              "      border-radius: 50%;\n",
              "      cursor: pointer;\n",
              "      display: none;\n",
              "      fill: #1967D2;\n",
              "      height: 32px;\n",
              "      padding: 0 0 0 0;\n",
              "      width: 32px;\n",
              "    }\n",
              "\n",
              "    .colab-df-convert:hover {\n",
              "      background-color: #E2EBFA;\n",
              "      box-shadow: 0px 1px 2px rgba(60, 64, 67, 0.3), 0px 1px 3px 1px rgba(60, 64, 67, 0.15);\n",
              "      fill: #174EA6;\n",
              "    }\n",
              "\n",
              "    [theme=dark] .colab-df-convert {\n",
              "      background-color: #3B4455;\n",
              "      fill: #D2E3FC;\n",
              "    }\n",
              "\n",
              "    [theme=dark] .colab-df-convert:hover {\n",
              "      background-color: #434B5C;\n",
              "      box-shadow: 0px 1px 3px 1px rgba(0, 0, 0, 0.15);\n",
              "      filter: drop-shadow(0px 1px 2px rgba(0, 0, 0, 0.3));\n",
              "      fill: #FFFFFF;\n",
              "    }\n",
              "  </style>\n",
              "\n",
              "      <script>\n",
              "        const buttonEl =\n",
              "          document.querySelector('#df-769aa6ac-532c-4c2a-a9ce-30cb30f855a1 button.colab-df-convert');\n",
              "        buttonEl.style.display =\n",
              "          google.colab.kernel.accessAllowed ? 'block' : 'none';\n",
              "\n",
              "        async function convertToInteractive(key) {\n",
              "          const element = document.querySelector('#df-769aa6ac-532c-4c2a-a9ce-30cb30f855a1');\n",
              "          const dataTable =\n",
              "            await google.colab.kernel.invokeFunction('convertToInteractive',\n",
              "                                                     [key], {});\n",
              "          if (!dataTable) return;\n",
              "\n",
              "          const docLinkHtml = 'Like what you see? Visit the ' +\n",
              "            '<a target=\"_blank\" href=https://colab.research.google.com/notebooks/data_table.ipynb>data table notebook</a>'\n",
              "            + ' to learn more about interactive tables.';\n",
              "          element.innerHTML = '';\n",
              "          dataTable['output_type'] = 'display_data';\n",
              "          await google.colab.output.renderOutput(dataTable, element);\n",
              "          const docLink = document.createElement('div');\n",
              "          docLink.innerHTML = docLinkHtml;\n",
              "          element.appendChild(docLink);\n",
              "        }\n",
              "      </script>\n",
              "    </div>\n",
              "  </div>\n",
              "  "
            ]
          },
          "metadata": {},
          "execution_count": 48
        }
      ]
    },
    {
      "cell_type": "code",
      "source": [
        "import matplotlib.pyplot as plt\n",
        "\n",
        "plt.plot(topic_num,cv_score,color='green', marker='o', linestyle='dashed')\n",
        "plt.xticks(range(2,15))\n",
        "plt.xlabel('Number of topics')\n",
        "plt.ylabel('Coherence score')\n",
        "plt.show()"
      ],
      "metadata": {
        "colab": {
          "base_uri": "https://localhost:8080/",
          "height": 279
        },
        "id": "hbMC2cf312sy",
        "outputId": "3a76f9e1-b3be-40da-f6d5-fe69be531bb1"
      },
      "execution_count": 49,
      "outputs": [
        {
          "output_type": "display_data",
          "data": {
            "text/plain": [
              "<Figure size 432x288 with 1 Axes>"
            ],
            "image/png": "[encoded data removed]"
          },
          "metadata": {
            "needs_background": "light"
          }
        }
      ]
    },
    {
      "cell_type": "markdown",
      "source": [
        "### we will be going with number of topic 6 as with 8 topics there will be many overlaps "
      ],
      "metadata": {
        "id": "3QCciqvN3yzE"
      }
    },
    {
      "cell_type": "code",
      "source": [
        "# Creating LDA model with number of topics as 6\n",
        "\n",
        "Lda = gensim.models.ldamodel.LdaModel\n",
        "ldamodel = Lda(doc_term_matrix, num_topics=6, id2word=dictionary, passes=10,random_state=45)\n",
        "clear_output()\n",
        "print(CoherenceModel(model=ldamodel,texts=review_data['clean_review'],\\\n",
        "                     dictionary=dictionary , coherence='c_v').get_coherence())"
      ],
      "metadata": {
        "colab": {
          "base_uri": "https://localhost:8080/"
        },
        "id": "EO9-EgyE3n3P",
        "outputId": "095aea5e-ea71-4ee8-d1d5-347876dee3ea"
      },
      "execution_count": 50,
      "outputs": [
        {
          "output_type": "stream",
          "name": "stdout",
          "text": [
            "0.6091161154634883\n"
          ]
        }
      ]
    },
    {
      "cell_type": "code",
      "source": [
        "ldamodel.print_topics()"
      ],
      "metadata": {
        "colab": {
          "base_uri": "https://localhost:8080/"
        },
        "id": "1JSY6Ohh33oF",
        "outputId": "0abee208-d820-46a4-bc6e-0e6138826783"
      },
      "execution_count": 51,
      "outputs": [
        {
          "output_type": "execute_result",
          "data": {
            "text/plain": [
              "[(0,\n",
              "  '0.156*\"camera\" + 0.078*\"quality\" + 0.039*\"phone\" + 0.022*\"sound\" + 0.021*\"front\" + 0.018*\"mode\" + 0.015*\"depth\" + 0.014*\"performance\" + 0.014*\"display\" + 0.014*\"rear\"'),\n",
              " (1,\n",
              "  '0.082*\"note\" + 0.070*\"lenovo\" + 0.039*\"phone\" + 0.025*\"call\" + 0.024*\"feature\" + 0.017*\"android\" + 0.016*\"product\" + 0.012*\"option\" + 0.011*\"speaker\" + 0.011*\"stock\"'),\n",
              " (2,\n",
              "  '0.154*\"mobile\" + 0.084*\"problem\" + 0.046*\"heating\" + 0.038*\"product\" + 0.038*\"amazon\" + 0.034*\"issue\" + 0.022*\"return\" + 0.018*\"network\" + 0.015*\"lenovo\" + 0.013*\"time\"'),\n",
              " (3,\n",
              "  '0.076*\"phone\" + 0.036*\"money\" + 0.034*\"screen\" + 0.025*\"charger\" + 0.022*\"product\" + 0.021*\"lenovo\" + 0.021*\"turbo\" + 0.019*\"waste\" + 0.014*\"amazon\" + 0.013*\"value\"'),\n",
              " (4,\n",
              "  '0.086*\"phone\" + 0.040*\"update\" + 0.038*\"issue\" + 0.026*\"problem\" + 0.025*\"service\" + 0.022*\"lenovo\" + 0.021*\"network\" + 0.021*\"software\" + 0.013*\"volta\" + 0.012*\"call\"'),\n",
              " (5,\n",
              "  '0.135*\"battery\" + 0.126*\"phone\" + 0.035*\"price\" + 0.030*\"awesome\" + 0.030*\"camera\" + 0.030*\"fast\" + 0.029*\"performance\" + 0.027*\"backup\" + 0.023*\"product\" + 0.022*\"heating\"')]"
            ]
          },
          "metadata": {},
          "execution_count": 51
        }
      ]
    },
    {
      "cell_type": "code",
      "source": [
        "pyLDAvis.gensim_models.prepare(ldamodel,doc_term_matrix,dictionary)"
      ],
      "metadata": {
        "colab": {
          "base_uri": "https://localhost:8080/",
          "height": 917
        },
        "id": "kpoun7ZA4UHm",
        "outputId": "c13c7ed3-c02e-4aaf-e11b-8f6ddbd724d1"
      },
      "execution_count": 54,
      "outputs": [
        {
          "output_type": "stream",
          "name": "stderr",
          "text": [
            "/usr/local/lib/python3.7/dist-packages/pyLDAvis/_prepare.py:247: FutureWarning: In a future version of pandas all arguments of DataFrame.drop except for the argument 'labels' will be keyword-only\n",
            "  by='saliency', ascending=False).head(R).drop('saliency', 1)\n"
          ]
        },
        {
          "output_type": "execute_result",
          "data": {
            "text/plain": [
              "PreparedData(topic_coordinates=              x         y  topics  cluster       Freq\n",
              "topic                                                \n",
              "5     -0.151077 -0.183800       1        1  21.159834\n",
              "3      0.081218 -0.004608       2        1  18.222326\n",
              "0     -0.279494  0.006759       3        1  17.256118\n",
              "1     -0.012698  0.279254       4        1  15.857927\n",
              "2      0.224529 -0.098105       5        1  14.428330\n",
              "4      0.137521  0.000500       6        1  13.075465, topic_info=        Term         Freq        Total Category  logprob  loglift\n",
              "15    mobile  2208.000000  2208.000000  Default  30.0000  30.0000\n",
              "77    camera  3300.000000  3300.000000  Default  29.0000  29.0000\n",
              "5    battery  3096.000000  3096.000000  Default  28.0000  28.0000\n",
              "117  quality  1341.000000  1341.000000  Default  27.0000  27.0000\n",
              "34      note  1312.000000  1312.000000  Default  26.0000  26.0000\n",
              "..       ...          ...          ...      ...      ...      ...\n",
              "50   heating   132.785938  1249.732989   Topic6  -4.5803  -0.2075\n",
              "150     work    88.727584   604.697023   Topic6  -4.9834   0.1153\n",
              "49     month    79.606514   509.547508   Topic6  -5.0919   0.1780\n",
              "205     hang    63.683875   221.282255   Topic6  -5.3151   0.7889\n",
              "108      day    66.222488   479.081646   Topic6  -5.2760   0.0556\n",
              "\n",
              "[398 rows x 6 columns], token_table=      Topic      Freq       Term\n",
              "term                            \n",
              "806       6  0.971243     accept\n",
              "391       2  0.966050  accessory\n",
              "534       5  0.983278     airtel\n",
              "1748      6  0.944513      alarm\n",
              "3         1  0.084377     amazon\n",
              "...     ...       ...        ...\n",
              "116       2  0.629777      worth\n",
              "116       3  0.108934      worth\n",
              "116       6  0.003404      worth\n",
              "1151      1  0.961934  yesterday\n",
              "431       3  0.973765       zoom\n",
              "\n",
              "[608 rows x 3 columns], R=30, lambda_step=0.01, plot_opts={'xlab': 'PC1', 'ylab': 'PC2'}, topic_order=[6, 4, 1, 2, 3, 5])"
            ],
            "text/html": [
              "\n",
              "<link rel=\"stylesheet\" type=\"text/css\" href=\"https://cdn.jsdelivr.net/gh/bmabey/pyLDAvis@3.3.1/pyLDAvis/js/ldavis.v1.0.0.css\">\n",
              "\n",
              "\n",
              "<div id=\"ldavis_el571397170051781924642140235\"></div>\n",
              "<script type=\"text/javascript\">\n",
              "\n",
              "var ldavis_el571397170051781924642140235_data = {\"mdsDat\": {\"x\": [-0.151077174419279, 0.08121812348745096, -0.2794938653013879, -0.012697673090497973, 0.22452914229027823, 0.13752144703343597], \"y\": [-0.18379955732827066, -0.004608072512684884, 0.006758995188565319, 0.27925368148371466, -0.09810513687879686, 0.0005000900474722684], \"topics\": [1, 2, 3, 4, 5, 6], \"cluster\": [1, 1, 1, 1, 1, 1], \"Freq\": [21.159833962077084, 18.22232635587731, 17.256118125630174, 15.857926584594182, 14.428330041545276, 13.075464930275974]}, \"tinfo\": {\"Term\": [\"mobile\", \"camera\", \"battery\", \"quality\", \"note\", \"problem\", \"phone\", \"lenovo\", \"heating\", \"money\", \"update\", \"issue\", \"awesome\", \"amazon\", \"screen\", \"backup\", \"price\", \"performance\", \"charger\", \"fast\", \"network\", \"drain\", \"front\", \"turbo\", \"service\", \"excellent\", \"sound\", \"return\", \"waste\", \"call\", \"awesome\", \"excellent\", \"life\", \"backup\", \"discharge\", \"drain\", \"stand\", \"drainage\", \"yesterday\", \"bekar\", \"hota\", \"ghatiya\", \"capacity\", \"clearity\", \"mast\", \"plug\", \"penny\", \"bahut\", \"iska\", \"lena\", \"percent\", \"karta\", \"jyada\", \"mobail\", \"effort\", \"kharab\", \"heatup\", \"vivo\", \"booting\", \"bilkul\", \"battery\", \"thank\", \"price\", \"fast\", \"range\", \"bettery\", \"performance\", \"budget\", \"half\", \"super\", \"hour\", \"charge\", \"quick\", \"usage\", \"phone\", \"heat\", \"superb\", \"perfect\", \"love\", \"heating\", \"faster\", \"product\", \"issue\", \"game\", \"camera\", \"time\", \"feature\", \"delivery\", \"look\", \"everything\", \"month\", \"processor\", \"money\", \"charger\", \"value\", \"glass\", \"cast\", \"gorilla\", \"piece\", \"broken\", \"scratch\", \"today\", \"cable\", \"hotspot\", \"fall\", \"turbo\", \"iron\", \"pick\", \"trust\", \"manufacturing\", \"broke\", \"accessory\", \"guard\", \"wait\", \"present\", \"concern\", \"bakwas\", \"deal\", \"protection\", \"phon\", \"break\", \"fool\", \"waste\", \"screen\", \"cost\", \"stop\", \"buying\", \"faulty\", \"wifi\", \"sure\", \"care\", \"customer\", \"worth\", \"cell\", \"handset\", \"hand\", \"day\", \"bought\", \"phone\", \"smart\", \"product\", \"amazon\", \"lenovo\", \"month\", \"charge\", \"time\", \"option\", \"work\", \"please\", \"hour\", \"device\", \"display\", \"feature\", \"front\", \"depth\", \"rear\", \"quality\", \"picture\", \"flash\", \"earphone\", \"clarity\", \"selfie\", \"bokeh\", \"focus\", \"pic\", \"lenova\", \"improvement\", \"space\", \"blur\", \"primary\", \"fone\", \"capture\", \"background\", \"minor\", \"cash\", \"satisfactory\", \"effect\", \"dull\", \"zoom\", \"awsome\", \"processer\", \"slight\", \"setup\", \"build\", \"image\", \"camera\", \"photo\", \"design\", \"weight\", \"mode\", \"sound\", \"edge\", \"light\", \"fingerprint\", \"display\", \"mark\", \"sensor\", \"con\", \"speed\", \"look\", \"work\", \"dolby\", \"touch\", \"performance\", \"video\", \"phone\", \"music\", \"feature\", \"battery\", \"speaker\", \"screen\", \"stock\", \"volume\", \"voice\", \"version\", \"headset\", \"recorder\", \"button\", \"vibe\", \"player\", \"processing\", \"loud\", \"seller\", \"inbuilt\", \"bottom\", \"note\", \"audio\", \"record\", \"nougat\", \"paisa\", \"handy\", \"handle\", \"standard\", \"caller\", \"described\", \"list\", \"mobil\", \"comparison\", \"didnt\", \"category\", \"decacore\", \"google\", \"android\", \"contact\", \"redmi\", \"gallery\", \"slot\", \"smartphone\", \"lenovo\", \"call\", \"compare\", \"notification\", \"message\", \"auto\", \"feature\", \"user\", \"killer\", \"option\", \"speaker\", \"music\", \"headphone\", \"apps\", \"dolby\", \"delivery\", \"phone\", \"product\", \"memory\", \"card\", \"sound\", \"time\", \"mobile\", \"exchange\", \"place\", \"suggestion\", \"visit\", \"detail\", \"store\", \"degree\", \"site\", \"airtel\", \"invoice\", \"cause\", \"discount\", \"jata\", \"custom\", \"kiya\", \"department\", \"refund\", \"moment\", \"bhai\", \"imei\", \"satisfy\", \"decide\", \"bettry\", \"honest\", \"handsfree\", \"position\", \"deta\", \"prob\", \"impression\", \"ringtone\", \"october\", \"problem\", \"return\", \"policy\", \"hate\", \"bluetooth\", \"amazon\", \"team\", \"want\", \"heating\", \"switch\", \"replacement\", \"network\", \"item\", \"connectivity\", \"facility\", \"issue\", \"product\", \"restart\", \"face\", \"solution\", \"device\", \"service\", \"heat\", \"please\", \"month\", \"time\", \"lenovo\", \"purchase\", \"hang\", \"day\", \"work\", \"game\", \"call\", \"dont\", \"need\", \"speaker\", \"oreo\", \"deca\", \"warranty\", \"centre\", \"storage\", \"bill\", \"result\", \"lenevo\", \"reception\", \"receive\", \"volta\", \"repair\", \"increase\", \"icon\", \"helio\", \"blowing\", \"water\", \"ring\", \"resolve\", \"coverage\", \"alarm\", \"location\", \"turbocharger\", \"accept\", \"blue\", \"india\", \"battry\", \"tone\", \"told\", \"west\", \"fact\", \"update\", \"software\", \"core\", \"center\", \"strength\", \"signal\", \"service\", \"system\", \"network\", \"date\", \"medium\", \"talk\", \"till\", \"issue\", \"hope\", \"phone\", \"processor\", \"problem\", \"please\", \"support\", \"lenovo\", \"call\", \"show\", \"time\", \"heating\", \"work\", \"month\", \"hang\", \"day\"], \"Freq\": [2208.0, 3300.0, 3096.0, 1341.0, 1312.0, 1540.0, 6470.0, 1983.0, 1249.0, 643.0, 591.0, 1466.0, 638.0, 877.0, 740.0, 579.0, 857.0, 845.0, 454.0, 768.0, 524.0, 441.0, 356.0, 378.0, 492.0, 378.0, 493.0, 384.0, 346.0, 657.0, 637.9610585286302, 377.4025283200675, 310.95996061506196, 573.6779400103231, 39.7546117388804, 432.7590984543117, 35.647609182722874, 30.040872553261682, 30.369622304698435, 28.88724466051098, 27.044178800005266, 18.453597982270924, 37.21122750608864, 16.712108591784872, 13.438627010053859, 12.082435461339687, 11.682350615428305, 38.107683531796674, 11.735320299563668, 11.384769477419923, 23.0920249703647, 10.652474818707132, 10.65627161382942, 10.538836935905033, 10.771678568908934, 10.599696682397669, 10.275711225611474, 10.423238432999621, 10.205747467164304, 9.999214989050191, 2831.558522952909, 61.04163640394998, 727.4862470597838, 624.2954461248356, 296.07377130324016, 21.28139535507786, 602.5821116424044, 134.1220805067789, 67.5160895649352, 143.449263979234, 348.84223505751953, 361.06326940147073, 63.85663789396689, 190.01509191792815, 2646.9217621326798, 296.5242722689582, 147.90141131666545, 88.42042851495425, 97.17142636670494, 462.0220233036547, 57.902106534965185, 490.4912325248628, 419.1908948302612, 116.05889115508681, 636.0967052384029, 265.98047076797496, 213.22916579473664, 100.39960017733657, 106.26962112357137, 92.18608796515952, 108.64536074705615, 95.50774687522886, 642.3839253094493, 453.72194609996143, 243.3861016936912, 214.2499768904689, 205.95010093436488, 137.76321962865396, 107.29992192844811, 69.23733535454828, 56.56672379384037, 54.2880327774912, 52.53479783310145, 49.294027294270315, 38.20216268169843, 370.21307875354415, 31.520381519602747, 31.449292727834553, 28.732782590773173, 28.45982306418988, 28.077351495543354, 27.152913519822945, 26.82704821403931, 26.057429565020442, 25.508278630040696, 25.350618273292724, 25.168529681123378, 31.71672779584384, 24.129725536559224, 23.711310314847523, 23.422281737402532, 22.650345295379815, 334.6634547017301, 610.5951862276137, 90.26309687605043, 60.630632356137426, 133.2951619341313, 54.98941417155623, 106.94444014524264, 57.02758005390094, 98.32631839145287, 150.66550542206787, 184.9670935528957, 52.954795374062385, 137.37429270179544, 72.63622014250167, 232.4384193559754, 153.74741783260777, 1376.8911917692828, 91.70235597323841, 403.1501319206536, 255.8462542874836, 385.22615741189486, 179.93502415084276, 173.12001507012764, 234.055738750511, 144.1823757210956, 170.04011995902897, 138.6795694944271, 151.525866822932, 117.12907896930585, 103.9580972957319, 105.53488578232705, 356.0185346024715, 253.60127601031346, 233.10364641836645, 1335.2463381513737, 165.67367361130667, 156.66574113718605, 141.19001750251465, 140.30844541441374, 91.8546075077467, 62.73605554059698, 55.282395931810356, 51.53966258414072, 48.26572159534524, 46.40668653533467, 42.62087512149314, 38.365714167581594, 32.17386301441834, 28.32410908855253, 27.775492563639045, 27.585981309394747, 27.902322923281137, 27.615987506725034, 26.501483829759028, 117.31320335360424, 23.89925462157397, 23.84628260930975, 21.91161020196022, 21.894697762732807, 21.64844755335366, 21.214733730625024, 79.77285761092332, 107.30904682073597, 2663.6017139836667, 175.86021942877636, 73.81135312386289, 56.244986145656036, 315.4602646707647, 374.0058400345589, 40.114861156170114, 151.60351118079237, 58.02057138198846, 238.7195871277501, 133.89325215875283, 88.72180847559574, 76.776249582505, 131.68381380439283, 147.58784262432724, 230.9560472170163, 132.8881211606027, 105.000955555782, 242.5877459424751, 128.8222107797331, 671.8744934390783, 105.19565854481208, 160.366252089806, 195.31170152682606, 110.03511153963534, 115.48933438678425, 166.31272257152096, 106.98149435498244, 104.87503307882304, 89.43190759326271, 67.90439313970722, 67.89225059259891, 123.05760496946965, 55.641155696437856, 50.14913284285603, 46.19531469033899, 45.56800217905219, 44.92833864921575, 37.74805188815125, 37.09518150963766, 1285.0186665010626, 92.36666613710757, 35.95145963645131, 31.090739510690963, 30.819452332450076, 28.345839931587072, 27.584427251324325, 26.636981240138454, 26.022597615607054, 23.739824360998593, 23.490914946155982, 22.12149713598741, 20.91058345430692, 20.419916658016373, 18.696726469325597, 18.240424544309082, 89.50779119790229, 269.45151770960234, 136.6919444527098, 151.5931465978683, 96.5115904256198, 109.55359305359632, 107.61957057594991, 1092.3187261056764, 387.34789645674294, 76.57927018187667, 85.4092572911738, 72.85380506287022, 60.35200314285941, 377.7286291558301, 114.62439387390546, 94.06722985962799, 189.27594692488714, 175.45687980027736, 132.69223332395325, 92.76140863993925, 126.73098880208377, 128.99326236496267, 119.5783702244152, 614.2606775845353, 244.84082767555873, 89.64547744140827, 92.4629287394844, 114.39669185647477, 121.02793433158925, 2205.061489980489, 45.285826157826534, 34.17361904249715, 43.063648952444325, 28.22802900276282, 28.43376606209015, 27.79272870507695, 26.030310235352598, 23.217183891780905, 22.59140560515145, 35.29390202125854, 20.334485770973803, 19.905830847523312, 19.13602397418591, 16.77619567820097, 15.100130469071582, 14.55826126307921, 110.96737402887999, 13.493978124237758, 13.246255743564507, 12.671776118862482, 11.775737084160559, 11.89392541434307, 11.1291067312805, 11.174299934831181, 10.417917749029627, 10.119602174299702, 10.622629051417519, 9.709373439374433, 9.819485493508235, 35.521844680121525, 18.208435218339446, 1206.5624979977852, 316.15279075806455, 70.0205679422852, 19.40012685294312, 125.88778655787634, 536.7563741865652, 44.58905683902356, 175.8747241546363, 653.0738102311873, 69.28356698877728, 109.57942589138193, 253.273800523236, 47.12229546022987, 58.40964495751047, 36.20733649602829, 483.36747085629895, 549.6016396630165, 49.68357975697739, 43.69324907798682, 38.70000073163019, 137.31401006765827, 144.80301739074795, 148.80444446439358, 125.88141072561045, 141.0405975074288, 191.24770763343753, 212.8038241636999, 73.40475056116249, 68.49356276996085, 78.27343058547243, 75.08465591143741, 60.31991884437376, 71.11238595799728, 54.45335784455734, 56.259378887444534, 54.65314834216277, 128.818921053366, 90.57782454667627, 84.80011452193027, 91.15446708898367, 63.90533255727915, 59.48579762430975, 56.1490114763538, 51.96438443537867, 35.53750558280366, 46.307469708487794, 164.8780906715069, 28.69273725473834, 28.123106123143774, 24.8385074883452, 24.156642519116467, 22.914093883060897, 22.109636282306138, 21.97940347484852, 28.15028325576486, 21.71831060254478, 21.442608362843913, 20.38393359577477, 18.87833944722769, 18.767883341471038, 18.082420689239978, 17.892039024847833, 17.86771470708022, 17.60361672906666, 35.1375083712123, 17.014617517771807, 17.12653320322094, 520.6370461152703, 270.3893575576041, 116.46827132431551, 116.12077073108499, 40.29848867833663, 151.8305338585457, 317.78026965302536, 107.56313436766844, 270.5568111550502, 52.94030646207327, 45.68392459808721, 36.497637611006915, 84.6463942424998, 495.8368812426276, 57.512264940448844, 1119.390218365117, 149.63375785758825, 332.913433157474, 127.83838506607329, 105.63411283310705, 291.1987420476032, 152.4148120532939, 76.20521665710824, 127.74146173690752, 132.78593803109905, 88.7275841275824, 79.60651381494327, 63.68387451121142, 66.22248769493973], \"Total\": [2208.0, 3300.0, 3096.0, 1341.0, 1312.0, 1540.0, 6470.0, 1983.0, 1249.0, 643.0, 591.0, 1466.0, 638.0, 877.0, 740.0, 579.0, 857.0, 845.0, 454.0, 768.0, 524.0, 441.0, 356.0, 378.0, 492.0, 378.0, 493.0, 384.0, 346.0, 657.0, 638.7602067041589, 378.247360666835, 312.77749900202457, 579.2981205256774, 40.555111903555535, 441.5753026452759, 36.44780673504788, 30.841134637343956, 31.187159171219562, 29.68656700411525, 27.854686555691003, 19.254909538724604, 38.89371126620353, 17.511895715713784, 14.23676425253282, 12.88559961786157, 12.480263915086477, 40.72440619103289, 12.548111344908676, 12.184419125674834, 24.812986779335464, 11.454922189137909, 11.461219600533552, 11.338542318513728, 11.591717175936177, 11.412016217903636, 11.074901205098303, 11.234520367141299, 11.012588660144843, 10.799464497295045, 3096.0341698289153, 66.8101947854462, 857.5113399932023, 768.6538288447541, 357.9994291906001, 23.79771392287035, 845.8731069992052, 170.80687283415065, 82.3092994879315, 190.94994114668447, 512.6733780258288, 535.079018810991, 81.31602228297072, 275.17951822942024, 6470.552960953884, 519.1283748488767, 233.71486272432134, 126.90050930565747, 148.81831883756414, 1249.73298936351, 79.6416017196841, 1828.5652161812313, 1466.6388254623853, 226.0034489902336, 3300.932760338685, 970.223471067254, 857.179432540109, 243.75413121663868, 293.41684845985327, 220.19417218256723, 509.54750771102226, 340.4168375562126, 643.1781937450643, 454.5151003241258, 244.17784484586562, 215.0414958408817, 206.74259672556414, 138.5549654236122, 108.09584070175518, 70.02845146775682, 57.3585104281402, 55.082046878291344, 53.32830190484871, 50.087353777013604, 38.99682750501899, 378.40573948820594, 32.31477859498597, 32.24890230695201, 29.529544742531616, 29.253678507040085, 28.86808898897757, 27.94886306291118, 27.619101653041145, 26.852968254891177, 26.308004268784973, 26.14878508801918, 25.962142080207705, 32.724805902268045, 24.924644352216188, 24.506588790861485, 24.215062919425307, 23.444031803516566, 346.59572339946857, 740.2239685941821, 100.50756937323663, 67.5403250983658, 163.7214088437667, 61.458500883229945, 128.87191537536506, 64.23804652745126, 122.39266246977252, 225.24951888206988, 293.75497851065023, 63.40490588458303, 216.34401688202723, 99.33336543371422, 479.08164642259516, 281.42470461887154, 6470.552960953884, 141.70063345411688, 1828.5652161812313, 877.020917930514, 1983.3749115241665, 509.54750771102226, 535.079018810991, 970.223471067254, 385.23544627275146, 604.6970226621638, 392.87354712708554, 512.6733780258288, 441.39865224710564, 406.2752374822229, 857.179432540109, 356.814891984201, 254.39798198963928, 233.89961578332188, 1341.1113555598786, 166.4732809108793, 157.46323239353165, 141.99055554219532, 141.1051707817971, 92.6499931490896, 63.53947144117109, 56.07974831272708, 52.33692247092948, 49.074092876886866, 47.204089261900585, 43.41938924052963, 39.16210885921777, 32.970765925233394, 29.12282350538116, 28.574392178427008, 28.383751305221043, 28.71027571123316, 28.41573490867547, 27.30524675779758, 120.99241695807846, 24.698357261670296, 24.646594752239164, 22.708021210472435, 22.692899427114618, 22.44683496609308, 22.03187397606119, 85.34412847749634, 116.27447275848441, 3300.932760338685, 195.4184625202285, 79.63026588088641, 60.883022431102304, 382.04794426940373, 493.20506868660385, 44.52904372374046, 227.73101297610938, 70.64195064036878, 406.2752374822229, 199.85432209480135, 127.24354462658061, 109.94546074862117, 246.5826736331402, 293.41684845985327, 604.6970226621638, 262.52116146229247, 188.52588446895837, 845.8731069992052, 282.34508898411445, 6470.552960953884, 238.52683877156684, 857.179432540109, 3096.0341698289153, 355.6242967010549, 740.2239685941821, 167.10467644257014, 107.77571971411177, 105.79829873150507, 90.41841466694218, 68.69562028742618, 68.68681318422932, 124.8065520567471, 56.43275459077882, 50.939520629497395, 46.990080037234655, 46.36235793057167, 45.72279234859862, 38.53839240426717, 37.889864245714364, 1312.6584167896003, 94.54612239384431, 36.85896098023096, 31.883297543398072, 31.613165718787286, 29.14295801287347, 28.381736961075692, 27.428755646824694, 26.816342207327136, 24.531425479743742, 24.282001681265623, 22.913639911131497, 21.706379846625723, 21.218225509120487, 19.489463809339284, 19.035598711092376, 93.49930254221391, 300.1346810913312, 156.41584316441129, 177.3632185149366, 114.44280008314465, 132.485885566487, 131.63783020639903, 1983.3749115241665, 657.1093326733552, 97.15704568935716, 111.29945733530428, 94.806291145649, 75.12339591671852, 857.179432540109, 186.87683446037607, 141.66900426625526, 385.23544627275146, 355.6242967010549, 238.52683877156684, 139.411527519312, 239.98032693558088, 262.52116146229247, 243.75413121663868, 6470.552960953884, 1828.5652161812313, 145.83079717601032, 165.34558049156004, 493.20506868660385, 970.223471067254, 2208.647593637568, 46.08448691420595, 35.00820572467715, 44.12936658836344, 29.02832000621683, 29.246388570435286, 28.592192076327148, 26.834195571304775, 24.023396151518217, 23.391140145527235, 36.65616647594983, 21.139285763494534, 20.71265605543131, 19.941940926308362, 17.58108480245576, 15.900771384593302, 15.368437122246311, 117.5216035461422, 14.305272229844682, 14.053631862155093, 13.469889617584178, 12.577491445928214, 12.707363151459262, 11.928055654904687, 11.98586880948525, 11.220843955449126, 10.91579979269143, 11.469531070384365, 10.505159625268902, 10.633617958106404, 39.766218630036974, 19.994351557969143, 1540.113424693099, 384.0147823458294, 82.77589441604569, 21.75369911312766, 172.5328085850279, 877.020917930514, 55.843662492608416, 262.89171720761436, 1249.73298936351, 101.14933569255521, 176.5241324379021, 524.465320296063, 65.57678168228682, 85.96401836390218, 47.706593386155454, 1466.6388254623853, 1828.5652161812313, 75.52181292696089, 63.113050914149966, 54.36091256038368, 441.39865224710564, 492.69856896694324, 519.1283748488767, 392.87354712708554, 509.54750771102226, 970.223471067254, 1983.3749115241665, 214.973574150364, 221.2822554055052, 479.08164642259516, 604.6970226621638, 226.0034489902336, 657.1093326733552, 206.59079425254365, 311.04991246822385, 355.6242967010549, 129.6087512985929, 91.36916413476274, 85.59013359733557, 92.23603401879316, 64.69908410897219, 60.27445175933114, 56.945057379351375, 52.75577240636519, 36.330583866743616, 47.55892668892489, 169.36310363266244, 29.48164604847987, 28.921619104180255, 25.634647340551847, 24.946222172600372, 23.705913369565966, 22.901173284845125, 22.769627001796554, 29.165183250095097, 22.508162770357632, 22.233686692642177, 21.175541168018437, 19.672741781218033, 19.562570598935963, 18.873546835983223, 18.683031854965368, 18.662021198162893, 18.39369542505077, 36.72983914630974, 17.804749351300003, 17.924153159076248, 591.7534819337656, 314.26904755118005, 132.0171256293299, 140.32658570069108, 45.96008651640752, 206.4454087449847, 492.69856896694324, 158.29165739979368, 524.465320296063, 68.32362976776601, 57.91631530212794, 43.841500149285864, 133.2541586403949, 1466.6388254623853, 83.6709190957894, 6470.552960953884, 340.4168375562126, 1540.113424693099, 392.87354712708554, 289.2510364925133, 1983.3749115241665, 657.1093326733552, 170.838091419557, 970.223471067254, 1249.73298936351, 604.6970226621638, 509.54750771102226, 221.2822554055052, 479.08164642259516], \"Category\": [\"Default\", \"Default\", \"Default\", \"Default\", \"Default\", \"Default\", \"Default\", \"Default\", \"Default\", \"Default\", \"Default\", \"Default\", \"Default\", \"Default\", \"Default\", \"Default\", \"Default\", \"Default\", \"Default\", \"Default\", \"Default\", \"Default\", \"Default\", \"Default\", \"Default\", \"Default\", \"Default\", \"Default\", \"Default\", \"Default\", \"Topic1\", \"Topic1\", \"Topic1\", \"Topic1\", \"Topic1\", \"Topic1\", \"Topic1\", \"Topic1\", \"Topic1\", \"Topic1\", \"Topic1\", \"Topic1\", \"Topic1\", \"Topic1\", \"Topic1\", \"Topic1\", \"Topic1\", \"Topic1\", \"Topic1\", \"Topic1\", \"Topic1\", \"Topic1\", \"Topic1\", \"Topic1\", \"Topic1\", \"Topic1\", \"Topic1\", \"Topic1\", \"Topic1\", \"Topic1\", \"Topic1\", \"Topic1\", \"Topic1\", \"Topic1\", \"Topic1\", \"Topic1\", \"Topic1\", \"Topic1\", \"Topic1\", \"Topic1\", \"Topic1\", \"Topic1\", \"Topic1\", \"Topic1\", \"Topic1\", \"Topic1\", \"Topic1\", \"Topic1\", \"Topic1\", \"Topic1\", \"Topic1\", \"Topic1\", \"Topic1\", \"Topic1\", \"Topic1\", \"Topic1\", \"Topic1\", \"Topic1\", \"Topic1\", \"Topic1\", \"Topic1\", \"Topic1\", \"Topic2\", \"Topic2\", \"Topic2\", \"Topic2\", \"Topic2\", \"Topic2\", \"Topic2\", \"Topic2\", \"Topic2\", \"Topic2\", \"Topic2\", \"Topic2\", \"Topic2\", \"Topic2\", \"Topic2\", \"Topic2\", \"Topic2\", \"Topic2\", \"Topic2\", \"Topic2\", \"Topic2\", \"Topic2\", \"Topic2\", \"Topic2\", \"Topic2\", \"Topic2\", \"Topic2\", \"Topic2\", \"Topic2\", \"Topic2\", \"Topic2\", \"Topic2\", \"Topic2\", \"Topic2\", \"Topic2\", \"Topic2\", \"Topic2\", \"Topic2\", \"Topic2\", \"Topic2\", \"Topic2\", \"Topic2\", \"Topic2\", \"Topic2\", \"Topic2\", \"Topic2\", \"Topic2\", \"Topic2\", \"Topic2\", \"Topic2\", \"Topic2\", \"Topic2\", \"Topic2\", \"Topic2\", \"Topic2\", \"Topic2\", \"Topic2\", \"Topic2\", \"Topic2\", \"Topic2\", \"Topic2\", \"Topic3\", \"Topic3\", \"Topic3\", \"Topic3\", \"Topic3\", \"Topic3\", \"Topic3\", \"Topic3\", \"Topic3\", \"Topic3\", \"Topic3\", \"Topic3\", \"Topic3\", \"Topic3\", \"Topic3\", \"Topic3\", \"Topic3\", \"Topic3\", \"Topic3\", \"Topic3\", \"Topic3\", \"Topic3\", \"Topic3\", \"Topic3\", \"Topic3\", \"Topic3\", \"Topic3\", \"Topic3\", \"Topic3\", \"Topic3\", \"Topic3\", \"Topic3\", \"Topic3\", \"Topic3\", \"Topic3\", \"Topic3\", \"Topic3\", \"Topic3\", \"Topic3\", \"Topic3\", \"Topic3\", \"Topic3\", \"Topic3\", \"Topic3\", \"Topic3\", \"Topic3\", \"Topic3\", \"Topic3\", \"Topic3\", \"Topic3\", \"Topic3\", \"Topic3\", \"Topic3\", \"Topic3\", \"Topic3\", \"Topic3\", \"Topic3\", \"Topic3\", \"Topic4\", \"Topic4\", \"Topic4\", \"Topic4\", \"Topic4\", \"Topic4\", \"Topic4\", \"Topic4\", \"Topic4\", \"Topic4\", \"Topic4\", \"Topic4\", \"Topic4\", \"Topic4\", \"Topic4\", \"Topic4\", \"Topic4\", \"Topic4\", \"Topic4\", \"Topic4\", \"Topic4\", \"Topic4\", \"Topic4\", \"Topic4\", \"Topic4\", \"Topic4\", \"Topic4\", \"Topic4\", \"Topic4\", \"Topic4\", \"Topic4\", \"Topic4\", \"Topic4\", \"Topic4\", \"Topic4\", \"Topic4\", \"Topic4\", \"Topic4\", \"Topic4\", \"Topic4\", \"Topic4\", \"Topic4\", \"Topic4\", \"Topic4\", \"Topic4\", \"Topic4\", \"Topic4\", \"Topic4\", \"Topic4\", \"Topic4\", \"Topic4\", \"Topic4\", \"Topic4\", \"Topic4\", \"Topic4\", \"Topic4\", \"Topic4\", \"Topic4\", \"Topic4\", \"Topic5\", \"Topic5\", \"Topic5\", \"Topic5\", \"Topic5\", \"Topic5\", \"Topic5\", \"Topic5\", \"Topic5\", \"Topic5\", \"Topic5\", \"Topic5\", \"Topic5\", \"Topic5\", \"Topic5\", \"Topic5\", \"Topic5\", \"Topic5\", \"Topic5\", \"Topic5\", \"Topic5\", \"Topic5\", \"Topic5\", \"Topic5\", \"Topic5\", \"Topic5\", \"Topic5\", \"Topic5\", \"Topic5\", \"Topic5\", \"Topic5\", \"Topic5\", \"Topic5\", \"Topic5\", \"Topic5\", \"Topic5\", \"Topic5\", \"Topic5\", \"Topic5\", \"Topic5\", \"Topic5\", \"Topic5\", \"Topic5\", \"Topic5\", \"Topic5\", \"Topic5\", \"Topic5\", \"Topic5\", \"Topic5\", \"Topic5\", \"Topic5\", \"Topic5\", \"Topic5\", \"Topic5\", \"Topic5\", \"Topic5\", \"Topic5\", \"Topic5\", \"Topic5\", \"Topic5\", \"Topic5\", \"Topic5\", \"Topic5\", \"Topic5\", \"Topic5\", \"Topic5\", \"Topic5\", \"Topic5\", \"Topic6\", \"Topic6\", \"Topic6\", \"Topic6\", \"Topic6\", \"Topic6\", \"Topic6\", \"Topic6\", \"Topic6\", \"Topic6\", \"Topic6\", \"Topic6\", \"Topic6\", \"Topic6\", \"Topic6\", \"Topic6\", \"Topic6\", \"Topic6\", \"Topic6\", \"Topic6\", \"Topic6\", \"Topic6\", \"Topic6\", \"Topic6\", \"Topic6\", \"Topic6\", \"Topic6\", \"Topic6\", \"Topic6\", \"Topic6\", \"Topic6\", \"Topic6\", \"Topic6\", \"Topic6\", \"Topic6\", \"Topic6\", \"Topic6\", \"Topic6\", \"Topic6\", \"Topic6\", \"Topic6\", \"Topic6\", \"Topic6\", \"Topic6\", \"Topic6\", \"Topic6\", \"Topic6\", \"Topic6\", \"Topic6\", \"Topic6\", \"Topic6\", \"Topic6\", \"Topic6\", \"Topic6\", \"Topic6\", \"Topic6\", \"Topic6\", \"Topic6\", \"Topic6\", \"Topic6\"], \"logprob\": [30.0, 29.0, 28.0, 27.0, 26.0, 25.0, 24.0, 23.0, 22.0, 21.0, 20.0, 19.0, 18.0, 17.0, 16.0, 15.0, 14.0, 13.0, 12.0, 11.0, 10.0, 9.0, 8.0, 7.0, 6.0, 5.0, 4.0, 3.0, 2.0, 1.0, -3.4921, -4.0171, -4.2107, -3.5983, -6.2677, -3.8802, -6.3767, -6.5478, -6.5369, -6.587, -6.6529, -7.0351, -6.3338, -7.1343, -7.3523, -7.4586, -7.4923, -6.31, -7.4878, -7.5181, -6.8109, -7.5846, -7.5842, -7.5953, -7.5735, -7.5896, -7.6206, -7.6063, -7.6274, -7.6479, -2.0018, -5.8388, -3.3608, -3.5138, -4.2598, -6.8926, -3.5492, -5.0516, -5.738, -4.9844, -4.0958, -4.0613, -5.7937, -4.7033, -2.0692, -4.2583, -4.9538, -5.4683, -5.3739, -3.8148, -5.8916, -3.755, -3.9121, -5.1963, -3.495, -4.367, -4.588, -5.3412, -5.2844, -5.4266, -5.2623, -5.3912, -3.3357, -3.6834, -4.3063, -4.4338, -4.4733, -4.8754, -5.1253, -5.5634, -5.7655, -5.8066, -5.8395, -5.9031, -6.158, -3.8868, -6.3503, -6.3526, -6.4429, -6.4524, -6.466, -6.4994, -6.5115, -6.5406, -6.5619, -6.5681, -6.5753, -6.3441, -6.6175, -6.635, -6.6472, -6.6808, -3.9878, -3.3865, -5.2982, -5.6961, -4.9084, -5.7938, -5.1286, -5.7574, -5.2126, -4.7859, -4.5808, -5.8315, -4.8782, -5.5155, -4.3523, -4.7656, -2.5733, -5.2824, -3.8016, -4.2564, -3.8471, -4.6083, -4.6469, -4.3454, -4.8298, -4.6649, -4.8688, -4.7802, -5.0377, -5.1569, -5.1419, -3.8715, -4.2107, -4.295, -2.5496, -4.6364, -4.6923, -4.7963, -4.8026, -5.2262, -5.6075, -5.734, -5.8041, -5.8697, -5.909, -5.9941, -6.0993, -6.2753, -6.4027, -6.4223, -6.4291, -6.4177, -6.4281, -6.4692, -4.9816, -6.5726, -6.5748, -6.6594, -6.6602, -6.6715, -6.6918, -5.3673, -5.0707, -1.859, -4.5768, -5.4449, -5.7167, -3.9924, -3.8222, -6.0547, -4.7252, -5.6856, -4.2712, -4.8494, -5.2609, -5.4056, -4.866, -4.752, -4.3042, -4.8569, -5.0925, -4.2551, -4.888, -3.2364, -5.0906, -4.669, -4.4719, -5.0456, -4.9973, -4.5481, -4.9893, -5.0092, -5.1685, -5.4438, -5.444, -4.8493, -5.643, -5.7469, -5.8291, -5.8427, -5.8569, -6.031, -6.0485, -2.5034, -5.1362, -6.0798, -6.225, -6.2338, -6.3175, -6.3447, -6.3796, -6.403, -6.4948, -6.5053, -6.5654, -6.6217, -6.6454, -6.7336, -6.7583, -5.1676, -4.0656, -4.7442, -4.6407, -5.0923, -4.9655, -4.9833, -2.6659, -3.7026, -5.3236, -5.2145, -5.3735, -5.5618, -3.7278, -4.9203, -5.1179, -4.4187, -4.4946, -4.7739, -5.1319, -4.8199, -4.8022, -4.878, -3.2415, -4.1613, -5.1661, -5.1351, -4.9223, -4.8659, -1.869, -5.7545, -6.036, -5.8048, -6.2272, -6.2199, -6.2427, -6.3082, -6.4226, -6.4499, -6.0038, -6.5552, -6.5765, -6.6159, -6.7475, -6.8528, -6.8893, -4.8582, -6.9652, -6.9838, -7.0281, -7.1014, -7.0914, -7.1579, -7.1539, -7.2239, -7.253, -7.2045, -7.2944, -7.2831, -5.9973, -6.6656, -2.4719, -3.8112, -5.3187, -6.6022, -4.7321, -3.2819, -5.77, -4.3977, -3.0858, -5.3293, -4.8708, -4.033, -5.7147, -5.5, -5.9782, -3.3867, -3.2583, -5.6618, -5.7903, -5.9116, -4.6452, -4.5921, -4.5648, -4.7321, -4.6184, -4.3139, -4.2071, -5.2715, -5.3407, -5.2073, -5.2489, -5.4678, -5.3032, -5.5701, -5.5375, -5.5665, -4.6106, -4.9628, -5.0287, -4.9565, -5.3116, -5.3833, -5.441, -5.5185, -5.8984, -5.6337, -4.3638, -6.1124, -6.1324, -6.2566, -6.2845, -6.3373, -6.373, -6.3789, -6.1315, -6.3909, -6.4036, -6.4543, -6.531, -6.5369, -6.5741, -6.5847, -6.586, -6.6009, -5.9097, -6.6349, -6.6284, -3.214, -3.8692, -4.7114, -4.7144, -5.7727, -4.4463, -3.7077, -4.7909, -3.8685, -5.4999, -5.6473, -5.8718, -5.0305, -3.2628, -5.417, -2.4485, -4.4608, -3.6611, -4.6183, -4.809, -3.795, -4.4424, -5.1356, -4.619, -4.5803, -4.9834, -5.0919, -5.3151, -5.276], \"loglift\": [30.0, 29.0, 28.0, 27.0, 26.0, 25.0, 24.0, 23.0, 22.0, 21.0, 20.0, 19.0, 18.0, 17.0, 16.0, 15.0, 14.0, 13.0, 12.0, 11.0, 10.0, 9.0, 8.0, 7.0, 6.0, 5.0, 4.0, 3.0, 2.0, 1.0, 1.5518, 1.5508, 1.5472, 1.5433, 1.5331, 1.5329, 1.5309, 1.5268, 1.5265, 1.5258, 1.5235, 1.5106, 1.5088, 1.5063, 1.4954, 1.4887, 1.487, 1.4867, 1.4861, 1.4852, 1.4812, 1.4804, 1.4802, 1.4799, 1.4797, 1.4792, 1.4782, 1.4781, 1.477, 1.4761, 1.4638, 1.4628, 1.3886, 1.345, 1.3631, 1.4413, 1.2139, 1.3113, 1.3549, 1.267, 1.168, 1.1597, 1.3114, 1.1827, 0.6592, 0.993, 1.0955, 1.1918, 1.1268, 0.558, 1.2343, 0.2372, 0.3007, 0.8866, -0.0935, 0.259, 0.1618, 0.6661, 0.5375, 0.6824, 0.0076, 0.2821, 1.7013, 1.7008, 1.6993, 1.6988, 1.6987, 1.6968, 1.6951, 1.6912, 1.6886, 1.688, 1.6875, 1.6866, 1.6819, 1.6806, 1.6776, 1.6774, 1.6752, 1.675, 1.6747, 1.6736, 1.6734, 1.6724, 1.6717, 1.6715, 1.6715, 1.6712, 1.6701, 1.6695, 1.6692, 1.6681, 1.6675, 1.51, 1.595, 1.5946, 1.4969, 1.5913, 1.516, 1.5835, 1.4836, 1.3004, 1.24, 1.5224, 1.2484, 1.3895, 0.9793, 1.098, 0.1551, 1.2674, 0.1905, 0.4706, 0.0638, 0.6616, 0.5741, 0.2806, 0.7197, 0.4338, 0.6612, 0.4836, 0.3759, 0.3395, -0.3921, 1.7548, 1.7539, 1.7536, 1.7526, 1.7522, 1.7519, 1.7513, 1.7513, 1.7484, 1.7443, 1.7427, 1.7417, 1.7404, 1.74, 1.7384, 1.7365, 1.7325, 1.7292, 1.7286, 1.7285, 1.7285, 1.7285, 1.7271, 1.7261, 1.7241, 1.724, 1.7213, 1.7212, 1.7208, 1.7192, 1.6895, 1.6768, 1.5425, 1.6515, 1.6811, 1.6778, 1.5655, 1.4803, 1.6526, 1.3501, 1.5602, 1.2253, 1.3565, 1.3964, 1.3979, 1.1297, 1.0698, 0.7945, 1.0762, 1.1717, 0.508, 0.9723, -0.5079, 0.9383, 0.0808, -1.0063, 0.5839, -0.1008, 1.8368, 1.8341, 1.8327, 1.8305, 1.8299, 1.8299, 1.8274, 1.8274, 1.8259, 1.8244, 1.8242, 1.824, 1.8208, 1.8203, 1.8202, 1.8182, 1.8166, 1.8163, 1.8161, 1.8138, 1.813, 1.8122, 1.8115, 1.8087, 1.8084, 1.8063, 1.8041, 1.8032, 1.8, 1.7988, 1.7979, 1.7337, 1.7067, 1.6845, 1.6711, 1.6514, 1.64, 1.245, 1.313, 1.6035, 1.5767, 1.5781, 1.6226, 1.022, 1.3527, 1.432, 1.1309, 1.135, 1.2551, 1.4341, 1.203, 1.1309, 1.1293, -0.5131, -0.1692, 1.3549, 1.2603, 0.3802, -0.24, 1.9344, 1.9185, 1.9118, 1.9115, 1.908, 1.9078, 1.9076, 1.9056, 1.9018, 1.9012, 1.8981, 1.8972, 1.8962, 1.8947, 1.8891, 1.8843, 1.8818, 1.8786, 1.8776, 1.8768, 1.8749, 1.8701, 1.8698, 1.8666, 1.8659, 1.8617, 1.8602, 1.8593, 1.8572, 1.8563, 1.8231, 1.8424, 1.6919, 1.7415, 1.7686, 1.8215, 1.6208, 1.445, 1.7109, 1.534, 1.287, 1.5576, 1.4592, 1.2081, 1.6055, 1.5495, 1.6602, 0.826, 0.7339, 1.5172, 1.5682, 1.5962, 0.7683, 0.7115, 0.6865, 0.7978, 0.6515, 0.312, -0.2962, 0.8615, 0.7633, 0.1243, -0.1501, 0.6151, -0.2876, 0.6026, 0.226, 0.0631, 2.0283, 2.0257, 2.0252, 2.0226, 2.0221, 2.0213, 2.0204, 2.0193, 2.0124, 2.0078, 2.0076, 2.0073, 2.0064, 2.0029, 2.0023, 2.0005, 1.9993, 1.9991, 1.999, 1.9987, 1.9982, 1.9963, 1.9932, 1.993, 1.9916, 1.9912, 1.9909, 1.9905, 1.9901, 1.989, 1.9889, 1.9064, 1.884, 1.9091, 1.8451, 1.903, 1.7272, 1.5959, 1.6481, 1.3725, 1.7793, 1.7972, 1.8511, 1.5807, 0.95, 1.6595, 0.28, 1.2125, 0.5027, 0.9117, 1.0271, 0.1159, 0.5732, 1.2271, 0.0069, -0.2075, 0.1153, 0.178, 0.7889, 0.0556]}, \"token.table\": {\"Topic\": [6, 2, 5, 6, 1, 2, 4, 5, 6, 2, 4, 6, 2, 3, 4, 5, 6, 2, 4, 4, 5, 1, 3, 3, 1, 3, 1, 4, 2, 1, 2, 3, 4, 5, 6, 6, 1, 1, 6, 5, 5, 1, 6, 6, 6, 2, 5, 3, 3, 1, 4, 1, 2, 4, 5, 6, 2, 2, 2, 1, 3, 3, 6, 2, 4, 2, 3, 6, 2, 2, 4, 5, 6, 4, 1, 3, 4, 1, 6, 3, 3, 4, 6, 2, 5, 6, 3, 2, 4, 5, 2, 6, 2, 5, 6, 6, 1, 2, 2, 3, 1, 1, 3, 4, 4, 1, 2, 3, 4, 2, 2, 5, 6, 4, 6, 3, 6, 2, 3, 6, 5, 2, 5, 6, 2, 4, 5, 6, 1, 2, 4, 5, 6, 2, 6, 4, 5, 5, 1, 4, 5, 5, 3, 4, 2, 3, 5, 5, 1, 2, 3, 4, 5, 6, 4, 1, 5, 2, 3, 4, 5, 3, 4, 1, 2, 4, 5, 6, 1, 6, 1, 3, 3, 3, 6, 3, 6, 1, 1, 3, 5, 1, 5, 4, 5, 2, 5, 6, 2, 1, 2, 3, 4, 6, 1, 3, 2, 6, 1, 2, 3, 4, 1, 3, 3, 3, 3, 2, 3, 3, 4, 6, 1, 2, 3, 5, 6, 1, 2, 4, 6, 2, 2, 1, 2, 6, 2, 6, 4, 2, 4, 5, 5, 4, 1, 2, 5, 6, 3, 5, 3, 4, 4, 1, 2, 5, 1, 3, 5, 6, 1, 6, 5, 2, 4, 6, 1, 2, 1, 2, 5, 6, 6, 3, 5, 5, 5, 3, 4, 6, 6, 5, 6, 2, 1, 1, 2, 3, 4, 5, 6, 2, 5, 6, 5, 1, 1, 1, 2, 3, 4, 5, 1, 6, 3, 2, 3, 4, 5, 6, 1, 3, 3, 4, 6, 4, 6, 1, 2, 3, 4, 4, 1, 4, 2, 1, 2, 3, 1, 5, 6, 3, 4, 4, 6, 3, 1, 4, 2, 5, 1, 3, 4, 6, 5, 2, 1, 2, 5, 6, 3, 4, 1, 2, 3, 4, 5, 6, 5, 6, 2, 3, 4, 5, 3, 4, 6, 4, 4, 5, 2, 3, 4, 5, 6, 6, 4, 1, 1, 2, 1, 3, 1, 3, 2, 1, 2, 3, 4, 5, 6, 3, 4, 3, 2, 3, 2, 5, 4, 2, 5, 6, 1, 2, 5, 5, 2, 1, 2, 3, 4, 3, 5, 5, 6, 3, 4, 1, 3, 6, 1, 2, 3, 4, 5, 6, 2, 1, 2, 4, 5, 6, 1, 2, 3, 1, 4, 1, 3, 4, 3, 2, 6, 6, 4, 4, 1, 4, 2, 5, 6, 2, 5, 6, 2, 5, 6, 2, 5, 6, 6, 3, 5, 3, 5, 2, 2, 3, 4, 3, 4, 2, 3, 4, 2, 5, 6, 3, 2, 3, 4, 5, 6, 5, 6, 5, 3, 3, 4, 5, 1, 2, 4, 3, 4, 3, 4, 6, 2, 5, 6, 2, 3, 4, 3, 2, 3, 4, 5, 3, 4, 6, 1, 4, 4, 2, 5, 6, 5, 5, 6, 5, 1, 3, 1, 3, 5, 2, 4, 5, 6, 2, 4, 1, 2, 4, 5, 4, 5, 6, 2, 6, 2, 5, 1, 2, 1, 2, 6, 1, 2, 3, 4, 5, 6, 2, 5, 6, 6, 2, 3, 4, 5, 2, 1, 2, 6, 4, 6, 1, 2, 3, 6, 2, 3, 4, 6, 2, 4, 4, 2, 3, 4, 5, 5, 1, 4, 3, 6, 4, 2, 1, 2, 3, 5, 6, 6, 2, 5, 6, 3, 6, 6, 2, 5, 6, 1, 2, 3, 4, 5, 6, 1, 2, 3, 6, 1, 3], \"Freq\": [0.971242501281168, 0.9660500299860016, 0.9832782778824046, 0.9445127247812464, 0.08437655076074593, 0.2918972566858237, 0.002280447317857998, 0.6123001048448725, 0.009121789271431991, 0.0066636750965524, 0.8962643004862978, 0.0932914513517336, 0.10834221426400219, 0.12501024722769483, 0.5292100465972415, 0.11250922250492536, 0.12084323898677167, 0.010576848364382078, 0.9730700495231512, 0.7986859388853473, 0.18636005240658104, 0.9988098715352333, 0.9688206557537514, 0.9864798947434952, 0.9908542418178922, 0.008631134510608816, 0.933101389416139, 0.04911059944295468, 0.9629405741161398, 0.9147185866351386, 0.003552932363342699, 0.06298380098652967, 0.003552932363342699, 0.005490895470620536, 0.00968981553638918, 0.9645257503925639, 0.9768728056693091, 0.882437702548325, 0.08404168595698333, 0.9221955629857344, 0.9250277883688978, 0.9259718389281906, 0.9788558548086032, 0.9702220556297051, 0.9537158095627384, 0.26661595772568786, 0.730295884205145, 0.9703256823222829, 0.9915096643246306, 0.9080517132352853, 0.976514451465341, 0.06396026967276053, 0.5472156405336178, 0.08172701124852734, 0.1527939775515946, 0.15634732586674796, 0.9498220209681725, 0.9699291148330247, 0.9853138053719444, 0.7845117574988376, 0.21076435276088176, 0.9373814160056073, 0.05858633850035046, 0.008012399858184686, 0.9855251825567163, 0.812355579757544, 0.07329524027887616, 0.10994286041831423, 0.9938437585086718, 0.07000357126698473, 0.5889430887026759, 0.10804899043382427, 0.23131614853438434, 0.9695580328959226, 0.19267281286115764, 0.8070446123618301, 0.0003029446743099963, 0.9513106051196235, 0.0257110974356655, 0.9798983588228113, 0.24191756369346548, 0.5564103964949706, 0.19958199004710903, 0.8007015945437349, 0.008170424434119744, 0.18791976198475413, 0.985369552819535, 0.9964081097106955, 0.974885722145689, 0.946105758905915, 0.8358974634624764, 0.1577165025400899, 0.057009867090072025, 0.10689350079388504, 0.8266430728060443, 0.9865992284691977, 0.6746667077363354, 0.32331673251630483, 0.9988667036061982, 0.9921677513611026, 0.9707686863818833, 0.18526705780609967, 0.03087784296768328, 0.7925313028372042, 0.967457500899878, 0.1273358618416229, 0.027286256108919195, 0.700347240128926, 0.13643128054459597, 0.9560673628181092, 0.10469496623460844, 0.6747008935119211, 0.2093899324692169, 0.8758703544883047, 0.12147107106042183, 0.11362162241068736, 0.8786738799759822, 0.8954549449483095, 0.09949499388314549, 0.9774231786244738, 0.9669482964797148, 0.6703676915689953, 0.190899408857396, 0.13762515522277385, 0.14636224735117687, 0.029272449470235374, 0.04390867420535306, 0.7757199109612375, 0.18785941952076268, 0.48425983698685493, 0.02296059571920433, 0.16281149691799432, 0.13776357431522598, 0.9778514835372083, 0.99595964198361, 0.9455967355264263, 0.9443343876280084, 0.9689129652093307, 0.41024945711022265, 0.4922993485322672, 0.09435737513535121, 0.9760263767020925, 0.9984355929770878, 0.9783369506927938, 0.06279019597246059, 0.9292949003924167, 0.9590627491653301, 0.9573831631405171, 0.13140049183369548, 0.2650665093886616, 0.18350758342291956, 0.05890366875303591, 0.31037702381407384, 0.052107091589224074, 0.9425858911435906, 0.9863121594911228, 0.9655932076734101, 0.2559840974914221, 0.5882711471197103, 0.049227711056042706, 0.10830096432329395, 0.5066258249779365, 0.49138895806130684, 0.009680973478204125, 0.40176039934547114, 0.08228827456473506, 0.26138628391151136, 0.2420243369551031, 0.9805802032090446, 0.01811695525559436, 0.9727268582289619, 0.97172454611975, 0.9930237927557023, 0.8982901193243946, 0.08982901193243946, 0.9670027505983143, 0.0247949423230337, 0.9489534495230308, 0.4178130560318419, 0.42235450229305754, 0.15440917288133288, 0.9967022620735914, 0.9764674191507241, 0.3010470849499084, 0.6971616704103142, 0.23057609481695293, 0.7546126739463914, 0.9484409025701566, 0.9744382410366408, 0.8118088749233694, 0.0013009757610951433, 0.1353014791538949, 0.005203903044380573, 0.04683512739942516, 0.7282626007967994, 0.2636812864953929, 0.8949128144941091, 0.09762685249026645, 0.24848939663520606, 0.12366138987479738, 0.18665870169780738, 0.4409811827610699, 0.1698707339083942, 0.8210418805572385, 0.997058155186514, 0.9807461990252543, 0.9614452388116251, 0.9810599214658137, 0.9977162052299178, 0.061165927388305605, 0.8475849938093777, 0.0961178858959088, 0.5132665033134639, 0.01769884494184358, 0.1814131606538967, 0.26548267412765375, 0.01769884494184358, 0.9348265160009821, 0.9951567680609311, 0.9625740251844764, 0.03208580083948255, 0.9959946190169694, 0.9775842943474964, 0.8261520924494129, 0.06074647738598624, 0.10934365929477524, 0.7348990913703952, 0.261744881857949, 0.9865499084288172, 0.6332506993928394, 0.17102391151485444, 0.1941352509087537, 0.8911985622207808, 0.9607809882453049, 0.2847042564915607, 0.11749699474254886, 0.3072998324035893, 0.28922337167396645, 0.09193838664400135, 0.8734146731180128, 0.32995836727797023, 0.6670897425402442, 0.9898738771916511, 0.5721128229341338, 0.14062032348212716, 0.2870195643676294, 0.3696789665729293, 0.0016003418466360576, 0.5225116129266728, 0.10642273280129784, 0.9029425919751343, 0.9620695203444611, 0.9177474052857091, 0.26293484328543865, 0.04780633514280702, 0.6931918595707018, 0.9693162386163565, 0.9782908519812317, 0.6807453145780805, 0.2964850653749806, 0.0019505596406248723, 0.021456156046873596, 0.9752425952219795, 0.9202363808800186, 0.06880272006579578, 0.9651155554407244, 0.9404136992129406, 0.9744918442294271, 0.986029712951712, 0.968133903539064, 0.9634410592313025, 0.9548188849197735, 0.027280539569136383, 0.9902589895808598, 0.956319215709616, 0.2856872412796671, 0.035455218488168704, 0.009545635746814652, 0.0013636622495449503, 0.32932443326510547, 0.3381882378871477, 0.22873949613254205, 0.7167170878819651, 0.04574789922650841, 0.9527658350915227, 0.9597582441826626, 0.9602858769683056, 0.963896281775586, 0.11999801994831485, 0.2117612116734968, 0.6635184632436233, 0.9433504599993128, 0.9027923191529875, 0.9856741286897734, 0.9781128327816173, 0.19411357770182672, 0.0005041911109138357, 0.5505766931179086, 0.10739270662464699, 0.14671961327592617, 0.9943170496352967, 0.0031971609313032044, 0.667454107429566, 0.3073801810530896, 0.026346872661693395, 0.9472036243925175, 0.9444858972580183, 0.361260781568593, 0.054529929293372525, 0.5044018459636959, 0.078386773359223, 0.9921842212789456, 0.6518014768455753, 0.3426997455579829, 0.9571445858770076, 0.32023325454848783, 0.005003644602320122, 0.6704883767108964, 0.9131288380846236, 0.20719550160262182, 0.7942494228100503, 0.3840066781806785, 0.6171535899332333, 0.7699910957159116, 0.2215042878086869, 0.9752605750506514, 0.9701423420221353, 0.9601268102896368, 0.0013582972714352773, 0.9983484945049288, 0.1230212090000349, 0.8245038475534253, 0.005234945063831272, 0.04449703304256581, 0.9087558622532517, 0.9981681690136229, 0.21391528434639456, 0.35325459800322034, 0.2767161017691893, 0.15700204355698683, 0.4402020357153886, 0.5575892452394922, 0.009644754361750458, 0.22182935032026052, 0.30863213957601465, 0.08680278925575412, 0.1800354147526752, 0.19289508723500914, 0.4823960521492257, 0.5167167198910678, 0.007618128122361975, 0.0007618128122361974, 0.9789294637235137, 0.012950817808015356, 0.06289338840989653, 0.7637054306916008, 0.17071062568400489, 0.9722959163118003, 0.050014125094315964, 0.9002542516976874, 0.37379737870239027, 0.06749119337682047, 0.4906090595468872, 0.05970374798718733, 0.00519163025975542, 0.9953031620743691, 0.9806041025994784, 0.9615181282740407, 0.9269339561795382, 0.040301476355632096, 0.6934566337164164, 0.2994471827411798, 0.712872882481375, 0.28727713174622577, 0.9793284656961154, 0.4090840482989851, 0.21281025104182189, 0.10385511161953835, 0.09489142639047105, 0.006336398179168262, 0.1729373064021777, 0.9006313821642189, 0.09722725148363727, 0.993562432504192, 0.9612730289215834, 0.9971570157788103, 0.9898623231510019, 0.9712008740863155, 0.9815561548697938, 0.3538034082886133, 0.3207138808947142, 0.32580457741685254, 0.9312721453308247, 0.14496974130760779, 0.8456568242943788, 0.9161032805580956, 0.9882923742280814, 0.8478021993339039, 0.0034984960082554495, 0.11661653360851498, 0.031486464074299045, 0.9705567675487199, 0.9519131890148721, 0.783708511754919, 0.2162178412712411, 0.9694662451865138, 0.9789300201989415, 0.28200720237331867, 0.2790696273485966, 0.44063625370831044, 0.2679696604003625, 0.22039137375784915, 0.04921891721639311, 0.13398483020018126, 0.3007822718779579, 0.027890719755956098, 0.9629024053804013, 0.1535072398104059, 0.24189019606488202, 0.15815897435011517, 0.3395766213987767, 0.1069898944133132, 0.0007456502369130462, 0.0029826009476521848, 0.9954430662789167, 0.7870527628280576, 0.2090608901262028, 0.8268169607678582, 0.12290522389792485, 0.050279409776423804, 0.9961538381313322, 0.021026546846627456, 0.9672211549448629, 0.9909006728888212, 0.9766960066863616, 0.9900007999732471, 0.1409536893236668, 0.8569984310878942, 0.05105444291903519, 0.9445071940021509, 0.9836628508568399, 0.37388655640733753, 0.6231442606788958, 0.9600488280802659, 0.33103018890950286, 0.6620603778190057, 0.9834040490458078, 0.17447245022891408, 0.822884989139356, 0.002604066421327076, 0.966199402311868, 0.10058788936443266, 0.905291004279894, 0.9888209485706109, 0.9540853238969867, 0.9937496558842938, 0.8254258520706894, 0.15535838459595627, 0.01891319464646424, 0.9929844231284114, 0.9841918589947892, 0.11788417278079007, 0.6994460918326877, 0.18075573159721142, 0.06088915594559561, 0.2942975870703788, 0.6454250530233134, 0.9531644935341236, 0.20487234263255946, 0.0878024325568112, 0.15219088309847276, 0.11121641457196085, 0.4448656582878434, 0.2615703605533047, 0.7362721260018946, 0.9574000218344008, 0.9800936316069485, 0.1660554247415244, 0.8302771237076221, 0.007547973851887473, 0.2752281274213804, 0.6492560954555641, 0.07057131472343087, 0.17472181031803385, 0.8204328484498982, 0.003181986924236138, 0.13682543774215394, 0.8591364695437572, 0.11037342306082971, 0.7174272498953932, 0.16556013459124458, 0.008110216731251216, 0.7583052643719888, 0.23114117684065966, 0.9903409686809193, 0.0421793452785632, 0.3093151987094635, 0.4920923615832374, 0.15465759935473175, 0.5353174172991021, 0.3203793633835535, 0.14194022428385283, 0.9877137535791072, 0.9843683886959587, 0.9933893146135273, 0.9031641454369599, 0.08883581758396326, 0.9891948376302403, 0.9792883289694513, 0.10879004760391443, 0.8703203808313155, 0.9744078223714807, 0.7488873740482059, 0.24613780825360615, 0.6332502703286508, 0.21393590213805772, 0.14975513149664038, 0.17286022759435868, 0.31114840966984564, 0.14865979573114846, 0.3664636825000404, 0.8873246165049838, 0.10896968974622609, 0.22738656504783, 0.009886372393383913, 0.06920460675368739, 0.6821596951434901, 0.3095551642133723, 0.006317452330885149, 0.682284851735596, 0.15966606927600818, 0.8211397848480421, 0.17907134943600128, 0.8058210724620057, 0.9130343085496904, 0.07483887774997462, 0.24764705534673137, 0.11256684333942335, 0.637878778923399, 0.2741636416066061, 0.241181549383255, 0.030920711459391667, 0.1247135362195464, 0.19686186295812697, 0.13192836889340445, 0.9803557249663902, 0.027225820293320567, 0.9529037102662199, 0.9785961757029755, 0.27582419330095775, 0.5569526980115493, 0.05834742550597183, 0.10608622819267606, 0.982067290669439, 0.021141328381593806, 0.9777864376487135, 0.9658033542706125, 0.11829250209267891, 0.8804341941469388, 0.6904583641344807, 0.15626162977780353, 0.014535965560725908, 0.13809167282689613, 0.05886229843181743, 0.11772459686363486, 0.615378574514455, 0.20869360353098906, 0.995176282899011, 0.9843127677899802, 0.9923314997838235, 0.1487541368299239, 0.4568877059776234, 0.3045918039850823, 0.0885441290654309, 0.9645752835163522, 0.8901136562311978, 0.9924545220379111, 0.023617895009031838, 0.9742381691225632, 0.9928024631506107, 0.968235606328704, 0.05325386493232015, 0.1673692897872919, 0.0760769499033145, 0.6694771591491676, 0.03423462745649152, 0.9931051212034334, 0.9665439513051812, 0.031737264072707445, 0.960649470940361, 0.9197966487845092, 0.06569976062746494, 0.954801422057579, 0.8302817544718043, 0.13191392360766985, 0.03879821282578525, 0.013229765816904797, 0.2811325236092269, 0.382009487963126, 0.052919063267619186, 0.12402905453348247, 0.14718114471306587, 0.2553148218295842, 0.6297765605129744, 0.1089343239806226, 0.003404197624394456, 0.9619343600774286, 0.9737653514110537], \"Term\": [\"accept\", \"accessory\", \"airtel\", \"alarm\", \"amazon\", \"amazon\", \"amazon\", \"amazon\", \"amazon\", \"android\", \"android\", \"android\", \"apps\", \"apps\", \"apps\", \"apps\", \"apps\", \"audio\", \"audio\", \"auto\", \"auto\", \"awesome\", \"awsome\", \"background\", \"backup\", \"backup\", \"bahut\", \"bahut\", \"bakwas\", \"battery\", \"battery\", \"battery\", \"battery\", \"battery\", \"battery\", \"battry\", \"bekar\", \"bettery\", \"bettery\", \"bettry\", \"bhai\", \"bilkul\", \"bill\", \"blowing\", \"blue\", \"bluetooth\", \"bluetooth\", \"blur\", \"bokeh\", \"booting\", \"bottom\", \"bought\", \"bought\", \"bought\", \"bought\", \"bought\", \"break\", \"broke\", \"broken\", \"budget\", \"budget\", \"build\", \"build\", \"button\", \"button\", \"buying\", \"buying\", \"buying\", \"cable\", \"call\", \"call\", \"call\", \"call\", \"caller\", \"camera\", \"camera\", \"camera\", \"capacity\", \"capacity\", \"capture\", \"card\", \"card\", \"card\", \"care\", \"care\", \"care\", \"cash\", \"cast\", \"category\", \"cause\", \"cell\", \"cell\", \"center\", \"center\", \"center\", \"centre\", \"charge\", \"charge\", \"charger\", \"clarity\", \"clearity\", \"compare\", \"compare\", \"compare\", \"comparison\", \"con\", \"con\", \"con\", \"con\", \"concern\", \"connectivity\", \"connectivity\", \"connectivity\", \"contact\", \"contact\", \"core\", \"core\", \"cost\", \"cost\", \"coverage\", \"custom\", \"customer\", \"customer\", \"customer\", \"date\", \"date\", \"date\", \"date\", \"day\", \"day\", \"day\", \"day\", \"day\", \"deal\", \"deca\", \"decacore\", \"decide\", \"degree\", \"delivery\", \"delivery\", \"delivery\", \"department\", \"depth\", \"described\", \"design\", \"design\", \"deta\", \"detail\", \"device\", \"device\", \"device\", \"device\", \"device\", \"device\", \"didnt\", \"discharge\", \"discount\", \"display\", \"display\", \"display\", \"display\", \"dolby\", \"dolby\", \"dont\", \"dont\", \"dont\", \"dont\", \"dont\", \"drain\", \"drain\", \"drainage\", \"dull\", \"earphone\", \"edge\", \"edge\", \"effect\", \"effect\", \"effort\", \"everything\", \"everything\", \"everything\", \"excellent\", \"exchange\", \"face\", \"face\", \"facility\", \"facility\", \"fact\", \"fall\", \"fast\", \"fast\", \"fast\", \"fast\", \"fast\", \"faster\", \"faster\", \"faulty\", \"faulty\", \"feature\", \"feature\", \"feature\", \"feature\", \"fingerprint\", \"fingerprint\", \"flash\", \"focus\", \"fone\", \"fool\", \"front\", \"gallery\", \"gallery\", \"gallery\", \"game\", \"game\", \"game\", \"game\", \"game\", \"ghatiya\", \"glass\", \"google\", \"google\", \"gorilla\", \"guard\", \"half\", \"half\", \"half\", \"hand\", \"hand\", \"handle\", \"handset\", \"handset\", \"handset\", \"handsfree\", \"handy\", \"hang\", \"hang\", \"hang\", \"hang\", \"hate\", \"hate\", \"headphone\", \"headphone\", \"headset\", \"heat\", \"heat\", \"heat\", \"heating\", \"heating\", \"heating\", \"heating\", \"heatup\", \"helio\", \"honest\", \"hope\", \"hope\", \"hope\", \"hota\", \"hotspot\", \"hour\", \"hour\", \"hour\", \"hour\", \"icon\", \"image\", \"image\", \"imei\", \"impression\", \"improvement\", \"inbuilt\", \"increase\", \"india\", \"invoice\", \"invoice\", \"iron\", \"iska\", \"issue\", \"issue\", \"issue\", \"issue\", \"issue\", \"issue\", \"item\", \"item\", \"item\", \"jata\", \"jyada\", \"karta\", \"kharab\", \"killer\", \"killer\", \"killer\", \"kiya\", \"lena\", \"lenevo\", \"lenova\", \"lenovo\", \"lenovo\", \"lenovo\", \"lenovo\", \"lenovo\", \"life\", \"life\", \"light\", \"light\", \"light\", \"list\", \"location\", \"look\", \"look\", \"look\", \"look\", \"loud\", \"love\", \"love\", \"manufacturing\", \"mark\", \"mark\", \"mark\", \"mast\", \"medium\", \"medium\", \"memory\", \"memory\", \"message\", \"message\", \"minor\", \"mobail\", \"mobil\", \"mobile\", \"mobile\", \"mode\", \"mode\", \"mode\", \"mode\", \"moment\", \"money\", \"month\", \"month\", \"month\", \"month\", \"music\", \"music\", \"need\", \"need\", \"need\", \"need\", \"need\", \"need\", \"network\", \"network\", \"note\", \"note\", \"note\", \"note\", \"notification\", \"notification\", \"notification\", \"nougat\", \"october\", \"october\", \"option\", \"option\", \"option\", \"option\", \"option\", \"oreo\", \"paisa\", \"penny\", \"percent\", \"percent\", \"perfect\", \"perfect\", \"performance\", \"performance\", \"phon\", \"phone\", \"phone\", \"phone\", \"phone\", \"phone\", \"phone\", \"photo\", \"photo\", \"pic\", \"pick\", \"picture\", \"piece\", \"place\", \"player\", \"please\", \"please\", \"please\", \"plug\", \"policy\", \"policy\", \"position\", \"present\", \"price\", \"price\", \"price\", \"price\", \"primary\", \"prob\", \"problem\", \"problem\", \"processer\", \"processing\", \"processor\", \"processor\", \"processor\", \"product\", \"product\", \"product\", \"product\", \"product\", \"product\", \"protection\", \"purchase\", \"purchase\", \"purchase\", \"purchase\", \"purchase\", \"quality\", \"quality\", \"quality\", \"quick\", \"quick\", \"range\", \"range\", \"range\", \"rear\", \"receive\", \"receive\", \"reception\", \"record\", \"recorder\", \"redmi\", \"redmi\", \"refund\", \"refund\", \"repair\", \"replacement\", \"replacement\", \"resolve\", \"restart\", \"restart\", \"result\", \"return\", \"return\", \"return\", \"ring\", \"ringtone\", \"ringtone\", \"satisfactory\", \"satisfy\", \"scratch\", \"screen\", \"screen\", \"screen\", \"selfie\", \"seller\", \"sensor\", \"sensor\", \"sensor\", \"service\", \"service\", \"service\", \"setup\", \"show\", \"show\", \"show\", \"show\", \"show\", \"signal\", \"signal\", \"site\", \"slight\", \"slot\", \"slot\", \"slot\", \"smart\", \"smart\", \"smart\", \"smartphone\", \"smartphone\", \"software\", \"software\", \"software\", \"solution\", \"solution\", \"solution\", \"sound\", \"sound\", \"sound\", \"space\", \"speaker\", \"speaker\", \"speaker\", \"speaker\", \"speed\", \"speed\", \"speed\", \"stand\", \"standard\", \"stock\", \"stop\", \"stop\", \"storage\", \"store\", \"strength\", \"strength\", \"suggestion\", \"super\", \"super\", \"superb\", \"superb\", \"superb\", \"support\", \"support\", \"support\", \"support\", \"sure\", \"sure\", \"switch\", \"switch\", \"switch\", \"switch\", \"system\", \"system\", \"system\", \"talk\", \"talk\", \"team\", \"team\", \"thank\", \"thank\", \"till\", \"till\", \"till\", \"time\", \"time\", \"time\", \"time\", \"time\", \"time\", \"today\", \"told\", \"told\", \"tone\", \"touch\", \"touch\", \"touch\", \"touch\", \"trust\", \"turbo\", \"turbo\", \"turbocharger\", \"update\", \"update\", \"usage\", \"usage\", \"usage\", \"usage\", \"user\", \"user\", \"user\", \"user\", \"value\", \"version\", \"vibe\", \"video\", \"video\", \"video\", \"video\", \"visit\", \"vivo\", \"voice\", \"volta\", \"volta\", \"volume\", \"wait\", \"want\", \"want\", \"want\", \"want\", \"want\", \"warranty\", \"waste\", \"waste\", \"water\", \"weight\", \"weight\", \"west\", \"wifi\", \"wifi\", \"wifi\", \"work\", \"work\", \"work\", \"work\", \"work\", \"work\", \"worth\", \"worth\", \"worth\", \"worth\", \"yesterday\", \"zoom\"]}, \"R\": 30, \"lambda.step\": 0.01, \"plot.opts\": {\"xlab\": \"PC1\", \"ylab\": \"PC2\"}, \"topic.order\": [6, 4, 1, 2, 3, 5]};\n",
              "\n",
              "function LDAvis_load_lib(url, callback){\n",
              "  var s = document.createElement('script');\n",
              "  s.src = url;\n",
              "  s.async = true;\n",
              "  s.onreadystatechange = s.onload = callback;\n",
              "  s.onerror = function(){console.warn(\"failed to load library \" + url);};\n",
              "  document.getElementsByTagName(\"head\")[0].appendChild(s);\n",
              "}\n",
              "\n",
              "if(typeof(LDAvis) !== \"undefined\"){\n",
              "   // already loaded: just create the visualization\n",
              "   !function(LDAvis){\n",
              "       new LDAvis(\"#\" + \"ldavis_el571397170051781924642140235\", ldavis_el571397170051781924642140235_data);\n",
              "   }(LDAvis);\n",
              "}else if(typeof define === \"function\" && define.amd){\n",
              "   // require.js is available: use it to load d3/LDAvis\n",
              "   require.config({paths: {d3: \"https://d3js.org/d3.v5\"}});\n",
              "   require([\"d3\"], function(d3){\n",
              "      window.d3 = d3;\n",
              "      LDAvis_load_lib(\"https://cdn.jsdelivr.net/gh/bmabey/pyLDAvis@3.3.1/pyLDAvis/js/ldavis.v3.0.0.js\", function(){\n",
              "        new LDAvis(\"#\" + \"ldavis_el571397170051781924642140235\", ldavis_el571397170051781924642140235_data);\n",
              "      });\n",
              "    });\n",
              "}else{\n",
              "    // require.js not available: dynamically load d3 & LDAvis\n",
              "    LDAvis_load_lib(\"https://d3js.org/d3.v5.js\", function(){\n",
              "         LDAvis_load_lib(\"https://cdn.jsdelivr.net/gh/bmabey/pyLDAvis@3.3.1/pyLDAvis/js/ldavis.v3.0.0.js\", function(){\n",
              "                 new LDAvis(\"#\" + \"ldavis_el571397170051781924642140235\", ldavis_el571397170051781924642140235_data);\n",
              "            })\n",
              "         });\n",
              "}\n",
              "</script>"
            ]
          },
          "metadata": {},
          "execution_count": 54
        }
      ]
    },
    {
      "cell_type": "code",
      "source": [
        "review_data.head()"
      ],
      "metadata": {
        "colab": {
          "base_uri": "https://localhost:8080/",
          "height": 206
        },
        "id": "qManBEi44ZtS",
        "outputId": "d0827af5-790f-494d-cfb3-5e07714d59ff"
      },
      "execution_count": 55,
      "outputs": [
        {
          "output_type": "execute_result",
          "data": {
            "text/plain": [
              "                                              review  \\\n",
              "0             Good but need updates and improvements   \n",
              "1  Worst mobile i have bought ever, Battery is dr...   \n",
              "2  when I will get my 10% cash back.... its alrea...   \n",
              "3  The worst phone everThey have changed the last...   \n",
              "4  Only I'm telling don't buyI'm totally disappoi...   \n",
              "\n",
              "                                        clean_review  \n",
              "0                        [need, update, improvement]  \n",
              "1  [mobile, bought, battery, hell, backup, hour, ...  \n",
              "2                                    [cash, january]  \n",
              "3  [phone, everthey, phone, problem, amazon, phon...  \n",
              "4  [buyi, disappointedpoor, batterypoor, camerawa...  "
            ],
            "text/html": [
              "\n",
              "  <div id=\"df-3c64ccad-1ed0-4334-94c0-8aa241133abf\">\n",
              "    <div class=\"colab-df-container\">\n",
              "      <div>\n",
              "<style scoped>\n",
              "    .dataframe tbody tr th:only-of-type {\n",
              "        vertical-align: middle;\n",
              "    }\n",
              "\n",
              "    .dataframe tbody tr th {\n",
              "        vertical-align: top;\n",
              "    }\n",
              "\n",
              "    .dataframe thead th {\n",
              "        text-align: right;\n",
              "    }\n",
              "</style>\n",
              "<table border=\"1\" class=\"dataframe\">\n",
              "  <thead>\n",
              "    <tr style=\"text-align: right;\">\n",
              "      <th></th>\n",
              "      <th>review</th>\n",
              "      <th>clean_review</th>\n",
              "    </tr>\n",
              "  </thead>\n",
              "  <tbody>\n",
              "    <tr>\n",
              "      <th>0</th>\n",
              "      <td>Good but need updates and improvements</td>\n",
              "      <td>[need, update, improvement]</td>\n",
              "    </tr>\n",
              "    <tr>\n",
              "      <th>1</th>\n",
              "      <td>Worst mobile i have bought ever, Battery is dr...</td>\n",
              "      <td>[mobile, bought, battery, hell, backup, hour, ...</td>\n",
              "    </tr>\n",
              "    <tr>\n",
              "      <th>2</th>\n",
              "      <td>when I will get my 10% cash back.... its alrea...</td>\n",
              "      <td>[cash, january]</td>\n",
              "    </tr>\n",
              "    <tr>\n",
              "      <th>3</th>\n",
              "      <td>The worst phone everThey have changed the last...</td>\n",
              "      <td>[phone, everthey, phone, problem, amazon, phon...</td>\n",
              "    </tr>\n",
              "    <tr>\n",
              "      <th>4</th>\n",
              "      <td>Only I'm telling don't buyI'm totally disappoi...</td>\n",
              "      <td>[buyi, disappointedpoor, batterypoor, camerawa...</td>\n",
              "    </tr>\n",
              "  </tbody>\n",
              "</table>\n",
              "</div>\n",
              "      <button class=\"colab-df-convert\" onclick=\"convertToInteractive('df-3c64ccad-1ed0-4334-94c0-8aa241133abf')\"\n",
              "              title=\"Convert this dataframe to an interactive table.\"\n",
              "              style=\"display:none;\">\n",
              "        \n",
              "  <svg xmlns=\"http://www.w3.org/2000/svg\" height=\"24px\"viewBox=\"0 0 24 24\"\n",
              "       width=\"24px\">\n",
              "    <path d=\"M0 0h24v24H0V0z\" fill=\"none\"/>\n",
              "    <path d=\"M18.56 5.44l.94 2.06.94-2.06 2.06-.94-2.06-.94-.94-2.06-.94 2.06-2.06.94zm-11 1L8.5 8.5l.94-2.06 2.06-.94-2.06-.94L8.5 2.5l-.94 2.06-2.06.94zm10 10l.94 2.06.94-2.06 2.06-.94-2.06-.94-.94-2.06-.94 2.06-2.06.94z\"/><path d=\"M17.41 7.96l-1.37-1.37c-.4-.4-.92-.59-1.43-.59-.52 0-1.04.2-1.43.59L10.3 9.45l-7.72 7.72c-.78.78-.78 2.05 0 2.83L4 21.41c.39.39.9.59 1.41.59.51 0 1.02-.2 1.41-.59l7.78-7.78 2.81-2.81c.8-.78.8-2.07 0-2.86zM5.41 20L4 18.59l7.72-7.72 1.47 1.35L5.41 20z\"/>\n",
              "  </svg>\n",
              "      </button>\n",
              "      \n",
              "  <style>\n",
              "    .colab-df-container {\n",
              "      display:flex;\n",
              "      flex-wrap:wrap;\n",
              "      gap: 12px;\n",
              "    }\n",
              "\n",
              "    .colab-df-convert {\n",
              "      background-color: #E8F0FE;\n",
              "      border: none;\n",
              "      border-radius: 50%;\n",
              "      cursor: pointer;\n",
              "      display: none;\n",
              "      fill: #1967D2;\n",
              "      height: 32px;\n",
              "      padding: 0 0 0 0;\n",
              "      width: 32px;\n",
              "    }\n",
              "\n",
              "    .colab-df-convert:hover {\n",
              "      background-color: #E2EBFA;\n",
              "      box-shadow: 0px 1px 2px rgba(60, 64, 67, 0.3), 0px 1px 3px 1px rgba(60, 64, 67, 0.15);\n",
              "      fill: #174EA6;\n",
              "    }\n",
              "\n",
              "    [theme=dark] .colab-df-convert {\n",
              "      background-color: #3B4455;\n",
              "      fill: #D2E3FC;\n",
              "    }\n",
              "\n",
              "    [theme=dark] .colab-df-convert:hover {\n",
              "      background-color: #434B5C;\n",
              "      box-shadow: 0px 1px 3px 1px rgba(0, 0, 0, 0.15);\n",
              "      filter: drop-shadow(0px 1px 2px rgba(0, 0, 0, 0.3));\n",
              "      fill: #FFFFFF;\n",
              "    }\n",
              "  </style>\n",
              "\n",
              "      <script>\n",
              "        const buttonEl =\n",
              "          document.querySelector('#df-3c64ccad-1ed0-4334-94c0-8aa241133abf button.colab-df-convert');\n",
              "        buttonEl.style.display =\n",
              "          google.colab.kernel.accessAllowed ? 'block' : 'none';\n",
              "\n",
              "        async function convertToInteractive(key) {\n",
              "          const element = document.querySelector('#df-3c64ccad-1ed0-4334-94c0-8aa241133abf');\n",
              "          const dataTable =\n",
              "            await google.colab.kernel.invokeFunction('convertToInteractive',\n",
              "                                                     [key], {});\n",
              "          if (!dataTable) return;\n",
              "\n",
              "          const docLinkHtml = 'Like what you see? Visit the ' +\n",
              "            '<a target=\"_blank\" href=https://colab.research.google.com/notebooks/data_table.ipynb>data table notebook</a>'\n",
              "            + ' to learn more about interactive tables.';\n",
              "          element.innerHTML = '';\n",
              "          dataTable['output_type'] = 'display_data';\n",
              "          await google.colab.output.renderOutput(dataTable, element);\n",
              "          const docLink = document.createElement('div');\n",
              "          docLink.innerHTML = docLinkHtml;\n",
              "          element.appendChild(docLink);\n",
              "        }\n",
              "      </script>\n",
              "    </div>\n",
              "  </div>\n",
              "  "
            ]
          },
          "metadata": {},
          "execution_count": 55
        }
      ]
    },
    {
      "cell_type": "markdown",
      "source": [
        "### Creating a lookup table for topics"
      ],
      "metadata": {
        "id": "V339Zry44xmo"
      }
    },
    {
      "cell_type": "code",
      "source": [
        "topic_lookup_data = pd.DataFrame((ldamodel.print_topics()),columns=['Topic_Number','Top_Keywords'])\n",
        "topic_lookup_data['Topic_Name'] = ['Camera, Sound','Mixed issues','Heating issue','turbo charger','Connectivity','Battery']\n",
        "topic_lookup_data = topic_lookup_data[['Topic_Number','Topic_Name','Top_Keywords']]\n",
        "topic_lookup_data['Top_Keywords'] = topic_lookup_data.Top_Keywords.str\\\n",
        ".replace(r'[^a-z]',' ',regex=True).apply(lambda x: x.split())\n",
        "topic_lookup_data.style.set_properties(subset=['Top_Keywords'], **{'width': '300px'})"
      ],
      "metadata": {
        "colab": {
          "base_uri": "https://localhost:8080/",
          "height": 359
        },
        "id": "9KSRlOpX4shw",
        "outputId": "e6d4da42-98f0-402e-97a5-6989edd92730"
      },
      "execution_count": 56,
      "outputs": [
        {
          "output_type": "execute_result",
          "data": {
            "text/plain": [
              "<pandas.io.formats.style.Styler at 0x7f1266814cd0>"
            ],
            "text/html": [
              "<style type=\"text/css\">\n",
              "#T_3b2e9_row0_col2, #T_3b2e9_row1_col2, #T_3b2e9_row2_col2, #T_3b2e9_row3_col2, #T_3b2e9_row4_col2, #T_3b2e9_row5_col2 {\n",
              "  width: 300px;\n",
              "}\n",
              "</style>\n",
              "<table id=\"T_3b2e9_\" class=\"dataframe\">\n",
              "  <thead>\n",
              "    <tr>\n",
              "      <th class=\"blank level0\" >&nbsp;</th>\n",
              "      <th class=\"col_heading level0 col0\" >Topic_Number</th>\n",
              "      <th class=\"col_heading level0 col1\" >Topic_Name</th>\n",
              "      <th class=\"col_heading level0 col2\" >Top_Keywords</th>\n",
              "    </tr>\n",
              "  </thead>\n",
              "  <tbody>\n",
              "    <tr>\n",
              "      <th id=\"T_3b2e9_level0_row0\" class=\"row_heading level0 row0\" >0</th>\n",
              "      <td id=\"T_3b2e9_row0_col0\" class=\"data row0 col0\" >0</td>\n",
              "      <td id=\"T_3b2e9_row0_col1\" class=\"data row0 col1\" >Camera, Sound</td>\n",
              "      <td id=\"T_3b2e9_row0_col2\" class=\"data row0 col2\" >['camera', 'quality', 'phone', 'sound', 'front', 'mode', 'depth', 'performance', 'display', 'rear']</td>\n",
              "    </tr>\n",
              "    <tr>\n",
              "      <th id=\"T_3b2e9_level0_row1\" class=\"row_heading level0 row1\" >1</th>\n",
              "      <td id=\"T_3b2e9_row1_col0\" class=\"data row1 col0\" >1</td>\n",
              "      <td id=\"T_3b2e9_row1_col1\" class=\"data row1 col1\" >Mixed issues</td>\n",
              "      <td id=\"T_3b2e9_row1_col2\" class=\"data row1 col2\" >['note', 'lenovo', 'phone', 'call', 'feature', 'android', 'product', 'option', 'speaker', 'stock']</td>\n",
              "    </tr>\n",
              "    <tr>\n",
              "      <th id=\"T_3b2e9_level0_row2\" class=\"row_heading level0 row2\" >2</th>\n",
              "      <td id=\"T_3b2e9_row2_col0\" class=\"data row2 col0\" >2</td>\n",
              "      <td id=\"T_3b2e9_row2_col1\" class=\"data row2 col1\" >Heating issue</td>\n",
              "      <td id=\"T_3b2e9_row2_col2\" class=\"data row2 col2\" >['mobile', 'problem', 'heating', 'product', 'amazon', 'issue', 'return', 'network', 'lenovo', 'time']</td>\n",
              "    </tr>\n",
              "    <tr>\n",
              "      <th id=\"T_3b2e9_level0_row3\" class=\"row_heading level0 row3\" >3</th>\n",
              "      <td id=\"T_3b2e9_row3_col0\" class=\"data row3 col0\" >3</td>\n",
              "      <td id=\"T_3b2e9_row3_col1\" class=\"data row3 col1\" >turbo charger</td>\n",
              "      <td id=\"T_3b2e9_row3_col2\" class=\"data row3 col2\" >['phone', 'money', 'screen', 'charger', 'product', 'lenovo', 'turbo', 'waste', 'amazon', 'value']</td>\n",
              "    </tr>\n",
              "    <tr>\n",
              "      <th id=\"T_3b2e9_level0_row4\" class=\"row_heading level0 row4\" >4</th>\n",
              "      <td id=\"T_3b2e9_row4_col0\" class=\"data row4 col0\" >4</td>\n",
              "      <td id=\"T_3b2e9_row4_col1\" class=\"data row4 col1\" >Connectivity</td>\n",
              "      <td id=\"T_3b2e9_row4_col2\" class=\"data row4 col2\" >['phone', 'update', 'issue', 'problem', 'service', 'lenovo', 'network', 'software', 'volta', 'call']</td>\n",
              "    </tr>\n",
              "    <tr>\n",
              "      <th id=\"T_3b2e9_level0_row5\" class=\"row_heading level0 row5\" >5</th>\n",
              "      <td id=\"T_3b2e9_row5_col0\" class=\"data row5 col0\" >5</td>\n",
              "      <td id=\"T_3b2e9_row5_col1\" class=\"data row5 col1\" >Battery</td>\n",
              "      <td id=\"T_3b2e9_row5_col2\" class=\"data row5 col2\" >['battery', 'phone', 'price', 'awesome', 'camera', 'fast', 'performance', 'backup', 'product', 'heating']</td>\n",
              "    </tr>\n",
              "  </tbody>\n",
              "</table>\n"
            ]
          },
          "metadata": {},
          "execution_count": 56
        }
      ]
    },
    {
      "cell_type": "markdown",
      "source": [
        "### Creating new columns and inserting topic numbers and names"
      ],
      "metadata": {
        "id": "E-E8Y7XE45ni"
      }
    },
    {
      "cell_type": "code",
      "source": [
        "for index,sent in enumerate(ldamodel[doc_term_matrix]):\n",
        "  topic_num =[]\n",
        "  topic_details = sorted(sent,key=lambda x: x[1], reverse=True)[:2] # Getting top 2 topics in descending order\n",
        "  topic_num.append(topic_details[0][0]) # Appending top topic\n",
        "  if len(topic_details) > 1:\n",
        "    if topic_details[1][1] > 0.35: # Appending second topic only if it has more than 35% influence on current row\n",
        "      topic_num.append(topic_details[1][0])\n",
        "  review_data.loc[index,'Topic_Number'] = ','.join(str(x) for x in sorted(topic_num))"
      ],
      "metadata": {
        "id": "VOyM4hwH41Ih"
      },
      "execution_count": 57,
      "outputs": []
    },
    {
      "cell_type": "code",
      "source": [
        "for index,topic_num in enumerate(review_data.Topic_Number):\n",
        "  topic_name_list=[]\n",
        "  for single_topic_num in topic_num.split(','):\n",
        "    single_topic_num=int(single_topic_num)\n",
        "    topic_name_list.append(topic_lookup_data.loc\\\n",
        "                           [topic_lookup_data.Topic_Number == single_topic_num,'Topic_Name'][single_topic_num]) \n",
        "  # Extracting topic names from lookup table\n",
        "  review_data.loc[index,'Topic_Name'] =' & '.join(topic_name_list)"
      ],
      "metadata": {
        "id": "NLoYyipx4-D7"
      },
      "execution_count": 58,
      "outputs": []
    },
    {
      "cell_type": "code",
      "source": [
        "review_data.head()"
      ],
      "metadata": {
        "colab": {
          "base_uri": "https://localhost:8080/",
          "height": 206
        },
        "id": "QPrtsje_5Lni",
        "outputId": "0fdd55b9-5aff-411d-97af-df27ee3b66c2"
      },
      "execution_count": 59,
      "outputs": [
        {
          "output_type": "execute_result",
          "data": {
            "text/plain": [
              "                                              review  \\\n",
              "0             Good but need updates and improvements   \n",
              "1  Worst mobile i have bought ever, Battery is dr...   \n",
              "2  when I will get my 10% cash back.... its alrea...   \n",
              "3  The worst phone everThey have changed the last...   \n",
              "4  Only I'm telling don't buyI'm totally disappoi...   \n",
              "\n",
              "                                        clean_review Topic_Number  \\\n",
              "0                        [need, update, improvement]          0,4   \n",
              "1  [mobile, bought, battery, hell, backup, hour, ...            3   \n",
              "2                                    [cash, january]            0   \n",
              "3  [phone, everthey, phone, problem, amazon, phon...            3   \n",
              "4  [buyi, disappointedpoor, batterypoor, camerawa...            4   \n",
              "\n",
              "                     Topic_Name  \n",
              "0  Camera, Sound & Connectivity  \n",
              "1                 turbo charger  \n",
              "2                 Camera, Sound  \n",
              "3                 turbo charger  \n",
              "4                  Connectivity  "
            ],
            "text/html": [
              "\n",
              "  <div id=\"df-456f3952-f4b5-4519-a2b1-519d0bcd60f3\">\n",
              "    <div class=\"colab-df-container\">\n",
              "      <div>\n",
              "<style scoped>\n",
              "    .dataframe tbody tr th:only-of-type {\n",
              "        vertical-align: middle;\n",
              "    }\n",
              "\n",
              "    .dataframe tbody tr th {\n",
              "        vertical-align: top;\n",
              "    }\n",
              "\n",
              "    .dataframe thead th {\n",
              "        text-align: right;\n",
              "    }\n",
              "</style>\n",
              "<table border=\"1\" class=\"dataframe\">\n",
              "  <thead>\n",
              "    <tr style=\"text-align: right;\">\n",
              "      <th></th>\n",
              "      <th>review</th>\n",
              "      <th>clean_review</th>\n",
              "      <th>Topic_Number</th>\n",
              "      <th>Topic_Name</th>\n",
              "    </tr>\n",
              "  </thead>\n",
              "  <tbody>\n",
              "    <tr>\n",
              "      <th>0</th>\n",
              "      <td>Good but need updates and improvements</td>\n",
              "      <td>[need, update, improvement]</td>\n",
              "      <td>0,4</td>\n",
              "      <td>Camera, Sound &amp; Connectivity</td>\n",
              "    </tr>\n",
              "    <tr>\n",
              "      <th>1</th>\n",
              "      <td>Worst mobile i have bought ever, Battery is dr...</td>\n",
              "      <td>[mobile, bought, battery, hell, backup, hour, ...</td>\n",
              "      <td>3</td>\n",
              "      <td>turbo charger</td>\n",
              "    </tr>\n",
              "    <tr>\n",
              "      <th>2</th>\n",
              "      <td>when I will get my 10% cash back.... its alrea...</td>\n",
              "      <td>[cash, january]</td>\n",
              "      <td>0</td>\n",
              "      <td>Camera, Sound</td>\n",
              "    </tr>\n",
              "    <tr>\n",
              "      <th>3</th>\n",
              "      <td>The worst phone everThey have changed the last...</td>\n",
              "      <td>[phone, everthey, phone, problem, amazon, phon...</td>\n",
              "      <td>3</td>\n",
              "      <td>turbo charger</td>\n",
              "    </tr>\n",
              "    <tr>\n",
              "      <th>4</th>\n",
              "      <td>Only I'm telling don't buyI'm totally disappoi...</td>\n",
              "      <td>[buyi, disappointedpoor, batterypoor, camerawa...</td>\n",
              "      <td>4</td>\n",
              "      <td>Connectivity</td>\n",
              "    </tr>\n",
              "  </tbody>\n",
              "</table>\n",
              "</div>\n",
              "      <button class=\"colab-df-convert\" onclick=\"convertToInteractive('df-456f3952-f4b5-4519-a2b1-519d0bcd60f3')\"\n",
              "              title=\"Convert this dataframe to an interactive table.\"\n",
              "              style=\"display:none;\">\n",
              "        \n",
              "  <svg xmlns=\"http://www.w3.org/2000/svg\" height=\"24px\"viewBox=\"0 0 24 24\"\n",
              "       width=\"24px\">\n",
              "    <path d=\"M0 0h24v24H0V0z\" fill=\"none\"/>\n",
              "    <path d=\"M18.56 5.44l.94 2.06.94-2.06 2.06-.94-2.06-.94-.94-2.06-.94 2.06-2.06.94zm-11 1L8.5 8.5l.94-2.06 2.06-.94-2.06-.94L8.5 2.5l-.94 2.06-2.06.94zm10 10l.94 2.06.94-2.06 2.06-.94-2.06-.94-.94-2.06-.94 2.06-2.06.94z\"/><path d=\"M17.41 7.96l-1.37-1.37c-.4-.4-.92-.59-1.43-.59-.52 0-1.04.2-1.43.59L10.3 9.45l-7.72 7.72c-.78.78-.78 2.05 0 2.83L4 21.41c.39.39.9.59 1.41.59.51 0 1.02-.2 1.41-.59l7.78-7.78 2.81-2.81c.8-.78.8-2.07 0-2.86zM5.41 20L4 18.59l7.72-7.72 1.47 1.35L5.41 20z\"/>\n",
              "  </svg>\n",
              "      </button>\n",
              "      \n",
              "  <style>\n",
              "    .colab-df-container {\n",
              "      display:flex;\n",
              "      flex-wrap:wrap;\n",
              "      gap: 12px;\n",
              "    }\n",
              "\n",
              "    .colab-df-convert {\n",
              "      background-color: #E8F0FE;\n",
              "      border: none;\n",
              "      border-radius: 50%;\n",
              "      cursor: pointer;\n",
              "      display: none;\n",
              "      fill: #1967D2;\n",
              "      height: 32px;\n",
              "      padding: 0 0 0 0;\n",
              "      width: 32px;\n",
              "    }\n",
              "\n",
              "    .colab-df-convert:hover {\n",
              "      background-color: #E2EBFA;\n",
              "      box-shadow: 0px 1px 2px rgba(60, 64, 67, 0.3), 0px 1px 3px 1px rgba(60, 64, 67, 0.15);\n",
              "      fill: #174EA6;\n",
              "    }\n",
              "\n",
              "    [theme=dark] .colab-df-convert {\n",
              "      background-color: #3B4455;\n",
              "      fill: #D2E3FC;\n",
              "    }\n",
              "\n",
              "    [theme=dark] .colab-df-convert:hover {\n",
              "      background-color: #434B5C;\n",
              "      box-shadow: 0px 1px 3px 1px rgba(0, 0, 0, 0.15);\n",
              "      filter: drop-shadow(0px 1px 2px rgba(0, 0, 0, 0.3));\n",
              "      fill: #FFFFFF;\n",
              "    }\n",
              "  </style>\n",
              "\n",
              "      <script>\n",
              "        const buttonEl =\n",
              "          document.querySelector('#df-456f3952-f4b5-4519-a2b1-519d0bcd60f3 button.colab-df-convert');\n",
              "        buttonEl.style.display =\n",
              "          google.colab.kernel.accessAllowed ? 'block' : 'none';\n",
              "\n",
              "        async function convertToInteractive(key) {\n",
              "          const element = document.querySelector('#df-456f3952-f4b5-4519-a2b1-519d0bcd60f3');\n",
              "          const dataTable =\n",
              "            await google.colab.kernel.invokeFunction('convertToInteractive',\n",
              "                                                     [key], {});\n",
              "          if (!dataTable) return;\n",
              "\n",
              "          const docLinkHtml = 'Like what you see? Visit the ' +\n",
              "            '<a target=\"_blank\" href=https://colab.research.google.com/notebooks/data_table.ipynb>data table notebook</a>'\n",
              "            + ' to learn more about interactive tables.';\n",
              "          element.innerHTML = '';\n",
              "          dataTable['output_type'] = 'display_data';\n",
              "          await google.colab.output.renderOutput(dataTable, element);\n",
              "          const docLink = document.createElement('div');\n",
              "          docLink.innerHTML = docLinkHtml;\n",
              "          element.appendChild(docLink);\n",
              "        }\n",
              "      </script>\n",
              "    </div>\n",
              "  </div>\n",
              "  "
            ]
          },
          "metadata": {},
          "execution_count": 59
        }
      ]
    },
    {
      "cell_type": "markdown",
      "source": [
        "### Visualization"
      ],
      "metadata": {
        "id": "qm0baibZ5Rax"
      }
    },
    {
      "cell_type": "code",
      "source": [
        "import seaborn as sns"
      ],
      "metadata": {
        "id": "wfufwBH15VgI"
      },
      "execution_count": 60,
      "outputs": []
    },
    {
      "cell_type": "code",
      "source": [
        "plt.figure(figsize=(12,6))\n",
        "ax = sns.barplot(x=review_data.Topic_Name.value_counts()[:6].index,y=review_data.Topic_Name.value_counts()[:6].values)\n",
        "for p in ax.patches:\n",
        "    ax.annotate(p.get_height(), (p.get_x() + p.get_width() / 2., p.get_height()+50),ha = 'center', va = 'center')\n",
        "plt.xlabel('Topic Names',size=15)\n",
        "plt.ylabel('Count of topics',size=15)\n",
        "plt.title('Most talked topics in reviews',size=15)\n",
        "plt.show()"
      ],
      "metadata": {
        "colab": {
          "base_uri": "https://localhost:8080/",
          "height": 411
        },
        "id": "6hBFacJV5Ywm",
        "outputId": "be36b183-74d3-4d07-d0ee-e2bcdd616354"
      },
      "execution_count": 61,
      "outputs": [
        {
          "output_type": "display_data",
          "data": {
            "text/plain": [
              "<Figure size 864x432 with 1 Axes>"
            ],
            "image/png": "[encoded data removed]"
          },
          "metadata": {
            "needs_background": "light"
          }
        }
      ]
    },
    {
      "cell_type": "markdown",
      "source": [
        "### From above graph we can say that most of customers had issues with Battery of mobile"
      ],
      "metadata": {
        "id": "slSBvd9P5gZI"
      }
    },
    {
      "cell_type": "code",
      "source": [
        "plt.figure(figsize=(12,6))\n",
        "ax = sns.barplot(x=review_data.Topic_Name.value_counts()[6:].index,y=review_data.Topic_Name.value_counts()[6:].values)\n",
        "for p in ax.patches:\n",
        "    ax.annotate(p.get_height(), (p.get_x() + p.get_width() / 2., p.get_height()+5),ha = 'center', va = 'center')\n",
        "plt.xlabel('Topic Names combined',size=15)\n",
        "plt.ylabel('Count of combined topics',size=15)\n",
        "plt.title('Most talked combined topics in reviews',size=15)\n",
        "plt.xticks(rotation=45)\n",
        "plt.show()"
      ],
      "metadata": {
        "colab": {
          "base_uri": "https://localhost:8080/",
          "height": 521
        },
        "id": "TRNVt41e5a6x",
        "outputId": "e0f6b5bb-11e6-4f10-9f5a-b8f4fe6b08c0"
      },
      "execution_count": 62,
      "outputs": [
        {
          "output_type": "display_data",
          "data": {
            "text/plain": [
              "<Figure size 864x432 with 1 Axes>"
            ],
            "image/png": "[encoded data removed]"
          },
          "metadata": {
            "needs_background": "light"
          }
        }
      ]
    },
    {
      "cell_type": "markdown",
      "source": [
        "From above graph we can say that most of customers had combined issues with,\n",
        "\n",
        "1.Heating issue & Battery\n",
        "\n",
        "2.Camera, Sound & Battery\n",
        "\n",
        "3.turbo charger & Battery"
      ],
      "metadata": {
        "id": "Nx9iUG6E5qac"
      }
    },
    {
      "cell_type": "markdown",
      "source": [
        "### Extracting reviews of 5 topic(review of battery)"
      ],
      "metadata": {
        "id": "cwtHYFaS55h4"
      }
    },
    {
      "cell_type": "code",
      "source": [
        "review_data.loc[review_data.Topic_Number.str.contains('5'),['review','Topic_Name']].head(10)\\\n",
        ".style.set_properties(subset=['review'], **{'width': '300px'})"
      ],
      "metadata": {
        "colab": {
          "base_uri": "https://localhost:8080/",
          "height": 693
        },
        "id": "tuuFRFCP5lBm",
        "outputId": "fbf43ad8-4533-424d-f708-985c6e462c46"
      },
      "execution_count": 63,
      "outputs": [
        {
          "output_type": "execute_result",
          "data": {
            "text/plain": [
              "<pandas.io.formats.style.Styler at 0x7f126970a150>"
            ],
            "text/html": [
              "<style type=\"text/css\">\n",
              "#T_a3560_row0_col0, #T_a3560_row1_col0, #T_a3560_row2_col0, #T_a3560_row3_col0, #T_a3560_row4_col0, #T_a3560_row5_col0, #T_a3560_row6_col0, #T_a3560_row7_col0, #T_a3560_row8_col0, #T_a3560_row9_col0 {\n",
              "  width: 300px;\n",
              "}\n",
              "</style>\n",
              "<table id=\"T_a3560_\" class=\"dataframe\">\n",
              "  <thead>\n",
              "    <tr>\n",
              "      <th class=\"blank level0\" >&nbsp;</th>\n",
              "      <th class=\"col_heading level0 col0\" >review</th>\n",
              "      <th class=\"col_heading level0 col1\" >Topic_Name</th>\n",
              "    </tr>\n",
              "  </thead>\n",
              "  <tbody>\n",
              "    <tr>\n",
              "      <th id=\"T_a3560_level0_row0\" class=\"row_heading level0 row0\" >5</th>\n",
              "      <td id=\"T_a3560_row0_col0\" class=\"data row0 col0\" >Phone is awesome. But while charging, it heats up allot..Really a genuine reason to hate Lenovo k8 note</td>\n",
              "      <td id=\"T_a3560_row0_col1\" class=\"data row0 col1\" >Battery</td>\n",
              "    </tr>\n",
              "    <tr>\n",
              "      <th id=\"T_a3560_level0_row1\" class=\"row_heading level0 row1\" >10</th>\n",
              "      <td id=\"T_a3560_row1_col0\" class=\"data row1 col0\" >Don't purchase this item, It is so much of heating &Battery life is very poor</td>\n",
              "      <td id=\"T_a3560_row1_col1\" class=\"data row1 col1\" >Heating issue & Battery</td>\n",
              "    </tr>\n",
              "    <tr>\n",
              "      <th id=\"T_a3560_level0_row2\" class=\"row_heading level0 row2\" >12</th>\n",
              "      <td id=\"T_a3560_row2_col0\" class=\"data row2 col0\" >Very good phone slim good battry backup good screen love it</td>\n",
              "      <td id=\"T_a3560_row2_col1\" class=\"data row2 col1\" >Battery</td>\n",
              "    </tr>\n",
              "    <tr>\n",
              "      <th id=\"T_a3560_level0_row3\" class=\"row_heading level0 row3\" >15</th>\n",
              "      <td id=\"T_a3560_row3_col0\" class=\"data row3 col0\" >Battery draining very rapidly I don't know why..Tell me possible solutions for battery life</td>\n",
              "      <td id=\"T_a3560_row3_col1\" class=\"data row3 col1\" >Heating issue & Battery</td>\n",
              "    </tr>\n",
              "    <tr>\n",
              "      <th id=\"T_a3560_level0_row4\" class=\"row_heading level0 row4\" >17</th>\n",
              "      <td id=\"T_a3560_row4_col0\" class=\"data row4 col0\" >Excellent camera , excellent speed.excellent features.excelent battery.</td>\n",
              "      <td id=\"T_a3560_row4_col1\" class=\"data row4 col1\" >Battery</td>\n",
              "    </tr>\n",
              "    <tr>\n",
              "      <th id=\"T_a3560_level0_row5\" class=\"row_heading level0 row5\" >18</th>\n",
              "      <td id=\"T_a3560_row5_col0\" class=\"data row5 col0\" >It is not a very good product camera are very poor ...Os is not good...Battery draining very quickly...Like a odinary phone..It was fully unexpected product from Lenovo..</td>\n",
              "      <td id=\"T_a3560_row5_col1\" class=\"data row5 col1\" >Battery</td>\n",
              "    </tr>\n",
              "    <tr>\n",
              "      <th id=\"T_a3560_level0_row6\" class=\"row_heading level0 row6\" >21</th>\n",
              "      <td id=\"T_a3560_row6_col0\" class=\"data row6 col0\" >Awesome phone in this price and this is my second mobile from lenovo. It is fast and display has been improved.</td>\n",
              "      <td id=\"T_a3560_row6_col1\" class=\"data row6 col1\" >Heating issue & Battery</td>\n",
              "    </tr>\n",
              "    <tr>\n",
              "      <th id=\"T_a3560_level0_row7\" class=\"row_heading level0 row7\" >24</th>\n",
              "      <td id=\"T_a3560_row7_col0\" class=\"data row7 col0\" >Before the new update of 8.0 Oreo, it worked superbly, the battery back-up is also superb and there is not that much heating problem...But... After that update, my phone got heating up simply, battery is also draining unnecessarily... really very much disappointed after that update of 8.0 Oreo...😒😒☹️</td>\n",
              "      <td id=\"T_a3560_row7_col1\" class=\"data row7 col1\" >Connectivity & Battery</td>\n",
              "    </tr>\n",
              "    <tr>\n",
              "      <th id=\"T_a3560_level0_row8\" class=\"row_heading level0 row8\" >26</th>\n",
              "      <td id=\"T_a3560_row8_col0\" class=\"data row8 col0\" >Good performance but the battery gets oveheated</td>\n",
              "      <td id=\"T_a3560_row8_col1\" class=\"data row8 col1\" >Battery</td>\n",
              "    </tr>\n",
              "    <tr>\n",
              "      <th id=\"T_a3560_level0_row9\" class=\"row_heading level0 row9\" >27</th>\n",
              "      <td id=\"T_a3560_row9_col0\" class=\"data row9 col0\" >Best camera and better backup is very bestIn this priceFull passa wasole phone</td>\n",
              "      <td id=\"T_a3560_row9_col1\" class=\"data row9 col1\" >Battery</td>\n",
              "    </tr>\n",
              "  </tbody>\n",
              "</table>\n"
            ]
          },
          "metadata": {},
          "execution_count": 63
        }
      ]
    },
    {
      "cell_type": "code",
      "source": [],
      "metadata": {
        "id": "zB2wBZ4X59hB"
      },
      "execution_count": null,
      "outputs": []
    }
  ]
}