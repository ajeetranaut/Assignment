{
  "nbformat": 4,
  "nbformat_minor": 0,
  "metadata": {
    "colab": {
      "name": "Pet Classification Model Using CNN project3",
      "provenance": [],
      "collapsed_sections": [],
      "mount_file_id": "1cDqULJUY8SVEZL2XCv3w0nh5_2ZIHgkC",
      "authorship_tag": "ABX9TyOtU1bt9GGEgV7h+rCRU7Z1",
      "include_colab_link": true
    },
    "kernelspec": {
      "name": "python3",
      "display_name": "Python 3"
    },
    "language_info": {
      "name": "python"
    }
  },
  "cells": [
    {
      "cell_type": "markdown",
      "metadata": {
        "id": "view-in-github",
        "colab_type": "text"
      },
      "source": [
        "<a href=\"https://colab.research.google.com/github/ajeetranaut/Assignment/blob/master/Pet_Classification_Model_Using_CNN_project3.ipynb\" target=\"_parent\"><img src=\"https://colab.research.google.com/assets/colab-badge.svg\" alt=\"Open In Colab\"/></a>"
      ]
    },
    {
      "cell_type": "markdown",
      "source": [
        "Begin by creating the ipynb file in the same parent folder where the downloaded data set is kept. The CNN model should have the following layers:\n",
        "\n",
        " ● Input layer ● Convolutional layer 1 with 32 filters of kernel size[5,5]\n",
        "\n",
        " ● Pooling layer 1 with pool size[2,2] and stride 2 \n",
        "\n",
        " ● Convolutional layer 2 with 64 filters of kernel size[5,5] ● Pooling layer 2 with pool size[2,2] and stride 2 \n",
        "\n",
        "● Dense layer whose output size is fixed in the hyper parameter: fc_size=32\n",
        "\n",
        " ● Dropout layer with dropout probability 0.4 Predict the class by doing a softmax on the output of the dropout layers.\n",
        " This should be followed by training and evaluation:\n",
        "\n",
        "● For the training step, define the loss function and minimize it\n",
        "\n",
        "● For the evaluation step, calculate the accuracy Run the program for 100, 200, and 300 iterations, respectively. Follow this by a report on the final accuracy and loss on the evaluation data."
      ],
      "metadata": {
        "id": "MoEouHXO2MME"
      }
    },
    {
      "cell_type": "markdown",
      "source": [
        "\n",
        "Building convolution Neural Network CNN"
      ],
      "metadata": {
        "id": "T6C1WRc69YSE"
      }
    },
    {
      "cell_type": "markdown",
      "source": [
        "###Importing Libraries"
      ],
      "metadata": {
        "id": "BzPc_-DR9i4E"
      }
    },
    {
      "cell_type": "code",
      "execution_count": null,
      "metadata": {
        "id": "YjBFPR4a9KzT"
      },
      "outputs": [],
      "source": [
        "#import all the require labraries "
      ]
    },
    {
      "cell_type": "code",
      "source": [
        "import tensorflow as tf\n",
        "from tensorflow import keras\n",
        "from keras.preprocessing.image import ImageDataGenerator\n",
        "from tensorflow.keras import models, layers"
      ],
      "metadata": {
        "id": "i2hNpa2yOWRq"
      },
      "execution_count": null,
      "outputs": []
    },
    {
      "cell_type": "code",
      "source": [
        "dataflow = ImageDataGenerator(rescale = 1.0 / 255.0 )"
      ],
      "metadata": {
        "id": "MZh2ob4_aXJ-"
      },
      "execution_count": null,
      "outputs": []
    },
    {
      "cell_type": "code",
      "source": [
        "from google.colab import drive\n",
        "drive.mount('/content/gdrive')"
      ],
      "metadata": {
        "colab": {
          "base_uri": "https://localhost:8080/"
        },
        "id": "CQLElCCg9guR",
        "outputId": "5217e910-baf6-4d93-aa01-207ff86d5058"
      },
      "execution_count": null,
      "outputs": [
        {
          "output_type": "stream",
          "name": "stdout",
          "text": [
            "Mounted at /content/gdrive\n"
          ]
        }
      ]
    },
    {
      "cell_type": "code",
      "source": [
        "test='/content/gdrive/MyDrive/data/test'\n",
        "train='/content/gdrive/MyDrive/data/train'"
      ],
      "metadata": {
        "id": "ov_kUqK3IuN5"
      },
      "execution_count": null,
      "outputs": []
    },
    {
      "cell_type": "code",
      "source": [
        "#import training data from file "
      ],
      "metadata": {
        "id": "9PDR5EqtUoDj"
      },
      "execution_count": null,
      "outputs": []
    },
    {
      "cell_type": "code",
      "source": [
        "train = dataflow.flow_from_directory('/content/gdrive/MyDrive/data/train', class_mode = 'categorical')"
      ],
      "metadata": {
        "colab": {
          "base_uri": "https://localhost:8080/"
        },
        "id": "CVWHJQHAUoHW",
        "outputId": "6cd5f2f4-2985-4dc3-bb54-ab529f03dffb"
      },
      "execution_count": null,
      "outputs": [
        {
          "output_type": "stream",
          "name": "stdout",
          "text": [
            "Found 40 images belonging to 2 classes.\n"
          ]
        }
      ]
    },
    {
      "cell_type": "code",
      "source": [
        "#import test data from file "
      ],
      "metadata": {
        "id": "o6v3kHv-aoXp"
      },
      "execution_count": null,
      "outputs": []
    },
    {
      "cell_type": "code",
      "source": [
        "test = dataflow.flow_from_directory('/content/gdrive/MyDrive/data/test', class_mode = 'categorical')"
      ],
      "metadata": {
        "colab": {
          "base_uri": "https://localhost:8080/"
        },
        "id": "WAK4WEbga7Y4",
        "outputId": "553a18b4-4326-48c2-d016-c2039d1b3dff"
      },
      "execution_count": null,
      "outputs": [
        {
          "output_type": "stream",
          "name": "stdout",
          "text": [
            "Found 20 images belonging to 2 classes.\n"
          ]
        }
      ]
    },
    {
      "cell_type": "code",
      "source": [
        "#build model according to \n",
        "#Input layer ● Convolutional layer 1 with 32 filters of kernel size[5,5] \n",
        "#Pooling layer 1 with pool size[2,2] and stride\n",
        "#Convolutional layer 2 with 64 filters of kernel size[5,5]\n",
        "#Pooling layer 2 with pool size[2,2] and stride 2\n",
        "#Dense layer whose output size is fixed in the hyper parameter: fc_size=32 \n",
        "#Dropout layer with dropout probability 0.4 Predict the class by doing a softmax on the output of the dropout layers. This should be followed by training and evaluation: \n",
        "#test = dataflow.flow_from_directory('../input/dog-cat-classification/data/test', class_mode = 'categorical')"
      ],
      "metadata": {
        "id": "ik0BpR6qazmh"
      },
      "execution_count": null,
      "outputs": []
    },
    {
      "cell_type": "code",
      "source": [
        "model = models.Sequential()\n",
        "model.add( layers.Conv2D( 32, (5, 5 ), activation = 'relu', padding = 'same', input_shape = (256,  256 , 3 )))\n",
        "model.add(layers.MaxPooling2D(2,2))\n",
        "model.add(layers.Conv2D(64, (5, 5 ), activation = 'relu'))\n",
        "model.add(layers.MaxPooling2D((2,2)))\n",
        "model.add(layers.Dropout(0.4))\n",
        "model.add(layers.Flatten())\n",
        "model.add(layers.Dense(32, activation = 'relu'))\n",
        "model.add(layers.Dense(2, activation = 'softmax'))"
      ],
      "metadata": {
        "id": "DV73GI4BbNZU"
      },
      "execution_count": null,
      "outputs": []
    },
    {
      "cell_type": "code",
      "source": [
        "model.summary()"
      ],
      "metadata": {
        "colab": {
          "base_uri": "https://localhost:8080/"
        },
        "id": "oVHTBtmBcsj2",
        "outputId": "df5e0452-cd59-4842-b3f8-a78b1acb375c"
      },
      "execution_count": null,
      "outputs": [
        {
          "output_type": "stream",
          "name": "stdout",
          "text": [
            "Model: \"sequential\"\n",
            "_________________________________________________________________\n",
            " Layer (type)                Output Shape              Param #   \n",
            "=================================================================\n",
            " conv2d (Conv2D)             (None, 256, 256, 32)      2432      \n",
            "                                                                 \n",
            " max_pooling2d (MaxPooling2D  (None, 128, 128, 32)     0         \n",
            " )                                                               \n",
            "                                                                 \n",
            " conv2d_1 (Conv2D)           (None, 124, 124, 64)      51264     \n",
            "                                                                 \n",
            " max_pooling2d_1 (MaxPooling  (None, 62, 62, 64)       0         \n",
            " 2D)                                                             \n",
            "                                                                 \n",
            " dropout (Dropout)           (None, 62, 62, 64)        0         \n",
            "                                                                 \n",
            " flatten (Flatten)           (None, 246016)            0         \n",
            "                                                                 \n",
            " dense (Dense)               (None, 32)                7872544   \n",
            "                                                                 \n",
            " dense_1 (Dense)             (None, 2)                 66        \n",
            "                                                                 \n",
            "=================================================================\n",
            "Total params: 7,926,306\n",
            "Trainable params: 7,926,306\n",
            "Non-trainable params: 0\n",
            "_________________________________________________________________\n"
          ]
        }
      ]
    },
    {
      "cell_type": "code",
      "source": [
        "#For the training step, define the loss function and minimize it"
      ],
      "metadata": {
        "id": "9cg2qsXpbR9G"
      },
      "execution_count": null,
      "outputs": []
    },
    {
      "cell_type": "code",
      "source": [
        "sgd_opt = tf.keras.optimizers.SGD(lr = 0.001)"
      ],
      "metadata": {
        "colab": {
          "base_uri": "https://localhost:8080/"
        },
        "id": "Hva_2DB0bWmz",
        "outputId": "6e9719f3-df50-4361-d82e-179364bd3a47"
      },
      "execution_count": null,
      "outputs": [
        {
          "output_type": "stream",
          "name": "stderr",
          "text": [
            "/usr/local/lib/python3.7/dist-packages/keras/optimizer_v2/gradient_descent.py:102: UserWarning: The `lr` argument is deprecated, use `learning_rate` instead.\n",
            "  super(SGD, self).__init__(name, **kwargs)\n"
          ]
        }
      ]
    },
    {
      "cell_type": "code",
      "source": [
        "#compiling model "
      ],
      "metadata": {
        "id": "Adud939AbZqo"
      },
      "execution_count": null,
      "outputs": []
    },
    {
      "cell_type": "code",
      "source": [
        "history=model.compile( optimizer = sgd_opt, loss = 'binary_crossentropy', metrics =  ['accuracy'])"
      ],
      "metadata": {
        "id": "Jqi9C4WAbnEz"
      },
      "execution_count": null,
      "outputs": []
    },
    {
      "cell_type": "markdown",
      "source": [
        "#model train for 100 epochs "
      ],
      "metadata": {
        "id": "lbKpSY5llyk7"
      }
    },
    {
      "cell_type": "code",
      "source": [
        "history =model.fit(train, validation_data = test, epochs =100)"
      ],
      "metadata": {
        "colab": {
          "base_uri": "https://localhost:8080/"
        },
        "id": "wYGAfHNGl3TH",
        "outputId": "cba163d7-d5c3-4e46-b6f5-a8a76f053aac"
      },
      "execution_count": null,
      "outputs": [
        {
          "output_type": "stream",
          "name": "stdout",
          "text": [
            "Epoch 1/100\n",
            "2/2 [==============================] - 13s 11s/step - loss: 0.7086 - accuracy: 0.3750 - val_loss: 0.6864 - val_accuracy: 0.6000\n",
            "Epoch 2/100\n",
            "2/2 [==============================] - 9s 7s/step - loss: 0.7085 - accuracy: 0.5250 - val_loss: 0.6950 - val_accuracy: 0.5000\n",
            "Epoch 3/100\n",
            "2/2 [==============================] - 9s 3s/step - loss: 0.6957 - accuracy: 0.5000 - val_loss: 0.6973 - val_accuracy: 0.5000\n",
            "Epoch 4/100\n",
            "2/2 [==============================] - 9s 3s/step - loss: 0.6900 - accuracy: 0.5000 - val_loss: 0.6894 - val_accuracy: 0.6000\n",
            "Epoch 5/100\n",
            "2/2 [==============================] - 9s 3s/step - loss: 0.6897 - accuracy: 0.5750 - val_loss: 0.6966 - val_accuracy: 0.5000\n",
            "Epoch 6/100\n",
            "2/2 [==============================] - 9s 7s/step - loss: 0.6867 - accuracy: 0.5000 - val_loss: 0.6947 - val_accuracy: 0.5000\n",
            "Epoch 7/100\n",
            "2/2 [==============================] - 9s 7s/step - loss: 0.6870 - accuracy: 0.5500 - val_loss: 0.6890 - val_accuracy: 0.5000\n",
            "Epoch 8/100\n",
            "2/2 [==============================] - 9s 7s/step - loss: 0.6789 - accuracy: 0.6000 - val_loss: 0.6906 - val_accuracy: 0.5000\n",
            "Epoch 9/100\n",
            "2/2 [==============================] - 9s 7s/step - loss: 0.6869 - accuracy: 0.4500 - val_loss: 0.6895 - val_accuracy: 0.5000\n",
            "Epoch 10/100\n",
            "2/2 [==============================] - 9s 3s/step - loss: 0.6821 - accuracy: 0.6500 - val_loss: 0.6933 - val_accuracy: 0.5000\n",
            "Epoch 11/100\n",
            "2/2 [==============================] - 9s 3s/step - loss: 0.6835 - accuracy: 0.5500 - val_loss: 0.6914 - val_accuracy: 0.5000\n",
            "Epoch 12/100\n",
            "2/2 [==============================] - 9s 3s/step - loss: 0.6902 - accuracy: 0.5000 - val_loss: 0.6991 - val_accuracy: 0.5000\n",
            "Epoch 13/100\n",
            "2/2 [==============================] - 9s 7s/step - loss: 0.6798 - accuracy: 0.5500 - val_loss: 0.6937 - val_accuracy: 0.5000\n",
            "Epoch 14/100\n",
            "2/2 [==============================] - 9s 7s/step - loss: 0.6753 - accuracy: 0.6250 - val_loss: 0.6907 - val_accuracy: 0.5500\n",
            "Epoch 15/100\n",
            "2/2 [==============================] - 9s 7s/step - loss: 0.6794 - accuracy: 0.6750 - val_loss: 0.6903 - val_accuracy: 0.5000\n",
            "Epoch 16/100\n",
            "2/2 [==============================] - 9s 3s/step - loss: 0.6734 - accuracy: 0.6500 - val_loss: 0.6906 - val_accuracy: 0.5000\n",
            "Epoch 17/100\n",
            "2/2 [==============================] - 9s 7s/step - loss: 0.6730 - accuracy: 0.6250 - val_loss: 0.6924 - val_accuracy: 0.5500\n",
            "Epoch 18/100\n",
            "2/2 [==============================] - 9s 3s/step - loss: 0.6756 - accuracy: 0.5750 - val_loss: 0.6943 - val_accuracy: 0.5000\n",
            "Epoch 19/100\n",
            "2/2 [==============================] - 9s 7s/step - loss: 0.6715 - accuracy: 0.6750 - val_loss: 0.6923 - val_accuracy: 0.5500\n",
            "Epoch 20/100\n",
            "2/2 [==============================] - 9s 7s/step - loss: 0.6812 - accuracy: 0.5250 - val_loss: 0.6963 - val_accuracy: 0.5500\n",
            "Epoch 21/100\n",
            "2/2 [==============================] - 9s 3s/step - loss: 0.6648 - accuracy: 0.5750 - val_loss: 0.6931 - val_accuracy: 0.5500\n",
            "Epoch 22/100\n",
            "2/2 [==============================] - 11s 9s/step - loss: 0.6723 - accuracy: 0.6000 - val_loss: 0.6942 - val_accuracy: 0.5500\n",
            "Epoch 23/100\n",
            "2/2 [==============================] - 9s 7s/step - loss: 0.6608 - accuracy: 0.7250 - val_loss: 0.6949 - val_accuracy: 0.5000\n",
            "Epoch 24/100\n",
            "2/2 [==============================] - 9s 7s/step - loss: 0.6565 - accuracy: 0.7250 - val_loss: 0.6962 - val_accuracy: 0.4000\n",
            "Epoch 25/100\n",
            "2/2 [==============================] - 9s 3s/step - loss: 0.6555 - accuracy: 0.6750 - val_loss: 0.6955 - val_accuracy: 0.5500\n",
            "Epoch 26/100\n",
            "2/2 [==============================] - 9s 3s/step - loss: 0.6413 - accuracy: 0.7500 - val_loss: 0.6974 - val_accuracy: 0.4000\n",
            "Epoch 27/100\n",
            "2/2 [==============================] - 9s 7s/step - loss: 0.6462 - accuracy: 0.7000 - val_loss: 0.7004 - val_accuracy: 0.4000\n",
            "Epoch 28/100\n",
            "2/2 [==============================] - 9s 3s/step - loss: 0.6523 - accuracy: 0.6750 - val_loss: 0.7028 - val_accuracy: 0.5000\n",
            "Epoch 29/100\n",
            "2/2 [==============================] - 9s 3s/step - loss: 0.6505 - accuracy: 0.6250 - val_loss: 0.7014 - val_accuracy: 0.4000\n",
            "Epoch 30/100\n",
            "2/2 [==============================] - 9s 3s/step - loss: 0.6408 - accuracy: 0.8000 - val_loss: 0.7159 - val_accuracy: 0.5000\n",
            "Epoch 31/100\n",
            "2/2 [==============================] - 9s 7s/step - loss: 0.6469 - accuracy: 0.5750 - val_loss: 0.7060 - val_accuracy: 0.4500\n",
            "Epoch 32/100\n",
            "2/2 [==============================] - 9s 7s/step - loss: 0.6571 - accuracy: 0.6500 - val_loss: 0.7004 - val_accuracy: 0.5000\n",
            "Epoch 33/100\n",
            "2/2 [==============================] - 9s 3s/step - loss: 0.6436 - accuracy: 0.6750 - val_loss: 0.6999 - val_accuracy: 0.5000\n",
            "Epoch 34/100\n",
            "2/2 [==============================] - 9s 7s/step - loss: 0.6171 - accuracy: 0.8250 - val_loss: 0.7006 - val_accuracy: 0.4500\n",
            "Epoch 35/100\n",
            "2/2 [==============================] - 9s 7s/step - loss: 0.6351 - accuracy: 0.7500 - val_loss: 0.7025 - val_accuracy: 0.5000\n",
            "Epoch 36/100\n",
            "2/2 [==============================] - 9s 7s/step - loss: 0.6513 - accuracy: 0.6500 - val_loss: 0.7046 - val_accuracy: 0.4500\n",
            "Epoch 37/100\n",
            "2/2 [==============================] - 9s 3s/step - loss: 0.6200 - accuracy: 0.8750 - val_loss: 0.7065 - val_accuracy: 0.4000\n",
            "Epoch 38/100\n",
            "2/2 [==============================] - 9s 3s/step - loss: 0.6250 - accuracy: 0.7750 - val_loss: 0.7169 - val_accuracy: 0.5000\n",
            "Epoch 39/100\n",
            "2/2 [==============================] - 9s 7s/step - loss: 0.6440 - accuracy: 0.6250 - val_loss: 0.7097 - val_accuracy: 0.4500\n",
            "Epoch 40/100\n",
            "2/2 [==============================] - 9s 7s/step - loss: 0.6058 - accuracy: 0.7250 - val_loss: 0.7130 - val_accuracy: 0.4500\n",
            "Epoch 41/100\n",
            "2/2 [==============================] - 9s 7s/step - loss: 0.6141 - accuracy: 0.7500 - val_loss: 0.7145 - val_accuracy: 0.4000\n",
            "Epoch 42/100\n",
            "2/2 [==============================] - 9s 7s/step - loss: 0.6211 - accuracy: 0.6750 - val_loss: 0.7161 - val_accuracy: 0.4000\n",
            "Epoch 43/100\n",
            "2/2 [==============================] - 9s 7s/step - loss: 0.6186 - accuracy: 0.7250 - val_loss: 0.7170 - val_accuracy: 0.5000\n",
            "Epoch 44/100\n",
            "2/2 [==============================] - 9s 7s/step - loss: 0.6042 - accuracy: 0.7750 - val_loss: 0.7174 - val_accuracy: 0.4500\n",
            "Epoch 45/100\n",
            "2/2 [==============================] - 9s 7s/step - loss: 0.5945 - accuracy: 0.8250 - val_loss: 0.7174 - val_accuracy: 0.5000\n",
            "Epoch 46/100\n",
            "2/2 [==============================] - 9s 3s/step - loss: 0.5878 - accuracy: 0.8250 - val_loss: 0.7199 - val_accuracy: 0.4500\n",
            "Epoch 47/100\n",
            "2/2 [==============================] - 9s 3s/step - loss: 0.5986 - accuracy: 0.7750 - val_loss: 0.7183 - val_accuracy: 0.4500\n",
            "Epoch 48/100\n",
            "2/2 [==============================] - 9s 7s/step - loss: 0.6319 - accuracy: 0.5750 - val_loss: 0.7213 - val_accuracy: 0.4000\n",
            "Epoch 49/100\n",
            "2/2 [==============================] - 9s 7s/step - loss: 0.6038 - accuracy: 0.8000 - val_loss: 0.7215 - val_accuracy: 0.4500\n",
            "Epoch 50/100\n",
            "2/2 [==============================] - 9s 3s/step - loss: 0.5908 - accuracy: 0.8000 - val_loss: 0.7292 - val_accuracy: 0.4000\n",
            "Epoch 51/100\n",
            "2/2 [==============================] - 11s 9s/step - loss: 0.6165 - accuracy: 0.7250 - val_loss: 0.7252 - val_accuracy: 0.4500\n",
            "Epoch 52/100\n",
            "2/2 [==============================] - 9s 3s/step - loss: 0.5881 - accuracy: 0.7750 - val_loss: 0.7263 - val_accuracy: 0.5000\n",
            "Epoch 53/100\n",
            "2/2 [==============================] - 9s 7s/step - loss: 0.6067 - accuracy: 0.7000 - val_loss: 0.7254 - val_accuracy: 0.5000\n",
            "Epoch 54/100\n",
            "2/2 [==============================] - 9s 7s/step - loss: 0.6040 - accuracy: 0.7750 - val_loss: 0.7258 - val_accuracy: 0.4500\n",
            "Epoch 55/100\n",
            "2/2 [==============================] - 9s 3s/step - loss: 0.5835 - accuracy: 0.7500 - val_loss: 0.7286 - val_accuracy: 0.4500\n",
            "Epoch 56/100\n",
            "2/2 [==============================] - 9s 3s/step - loss: 0.5808 - accuracy: 0.7750 - val_loss: 0.7336 - val_accuracy: 0.4500\n",
            "Epoch 57/100\n",
            "2/2 [==============================] - 9s 3s/step - loss: 0.5891 - accuracy: 0.6750 - val_loss: 0.7510 - val_accuracy: 0.4000\n",
            "Epoch 58/100\n",
            "2/2 [==============================] - 9s 3s/step - loss: 0.5848 - accuracy: 0.7250 - val_loss: 0.7385 - val_accuracy: 0.4500\n",
            "Epoch 59/100\n",
            "2/2 [==============================] - 9s 3s/step - loss: 0.5699 - accuracy: 0.7500 - val_loss: 0.7316 - val_accuracy: 0.4500\n",
            "Epoch 60/100\n",
            "2/2 [==============================] - 9s 3s/step - loss: 0.5644 - accuracy: 0.8000 - val_loss: 0.7342 - val_accuracy: 0.4500\n",
            "Epoch 61/100\n",
            "2/2 [==============================] - 9s 7s/step - loss: 0.5669 - accuracy: 0.7500 - val_loss: 0.7315 - val_accuracy: 0.4500\n",
            "Epoch 62/100\n",
            "2/2 [==============================] - 9s 7s/step - loss: 0.5589 - accuracy: 0.8500 - val_loss: 0.7314 - val_accuracy: 0.4500\n",
            "Epoch 63/100\n",
            "2/2 [==============================] - 9s 3s/step - loss: 0.5541 - accuracy: 0.8250 - val_loss: 0.7349 - val_accuracy: 0.4500\n",
            "Epoch 64/100\n",
            "2/2 [==============================] - 9s 7s/step - loss: 0.5602 - accuracy: 0.7250 - val_loss: 0.7307 - val_accuracy: 0.5000\n",
            "Epoch 65/100\n",
            "2/2 [==============================] - 9s 7s/step - loss: 0.5672 - accuracy: 0.7750 - val_loss: 0.7308 - val_accuracy: 0.4500\n",
            "Epoch 66/100\n",
            "2/2 [==============================] - 9s 3s/step - loss: 0.5568 - accuracy: 0.7500 - val_loss: 0.7395 - val_accuracy: 0.5000\n",
            "Epoch 67/100\n",
            "2/2 [==============================] - 9s 7s/step - loss: 0.5594 - accuracy: 0.8000 - val_loss: 0.7308 - val_accuracy: 0.4500\n",
            "Epoch 68/100\n",
            "2/2 [==============================] - 9s 7s/step - loss: 0.5556 - accuracy: 0.8000 - val_loss: 0.7296 - val_accuracy: 0.4500\n",
            "Epoch 69/100\n",
            "2/2 [==============================] - 9s 7s/step - loss: 0.5505 - accuracy: 0.7750 - val_loss: 0.7312 - val_accuracy: 0.4500\n",
            "Epoch 70/100\n",
            "2/2 [==============================] - 9s 3s/step - loss: 0.5438 - accuracy: 0.7500 - val_loss: 0.7349 - val_accuracy: 0.4500\n",
            "Epoch 71/100\n",
            "2/2 [==============================] - 9s 7s/step - loss: 0.5255 - accuracy: 0.8000 - val_loss: 0.7300 - val_accuracy: 0.4500\n",
            "Epoch 72/100\n",
            "2/2 [==============================] - 9s 7s/step - loss: 0.5487 - accuracy: 0.7750 - val_loss: 0.7322 - val_accuracy: 0.4500\n",
            "Epoch 73/100\n",
            "2/2 [==============================] - 9s 7s/step - loss: 0.5470 - accuracy: 0.8250 - val_loss: 0.7304 - val_accuracy: 0.4500\n",
            "Epoch 74/100\n",
            "2/2 [==============================] - 9s 3s/step - loss: 0.5326 - accuracy: 0.8250 - val_loss: 0.7329 - val_accuracy: 0.4000\n",
            "Epoch 75/100\n",
            "2/2 [==============================] - 9s 7s/step - loss: 0.5363 - accuracy: 0.8000 - val_loss: 0.7331 - val_accuracy: 0.4500\n",
            "Epoch 76/100\n",
            "2/2 [==============================] - 9s 3s/step - loss: 0.5284 - accuracy: 0.8250 - val_loss: 0.7506 - val_accuracy: 0.4500\n",
            "Epoch 77/100\n",
            "2/2 [==============================] - 9s 3s/step - loss: 0.5374 - accuracy: 0.7000 - val_loss: 0.7316 - val_accuracy: 0.4500\n",
            "Epoch 78/100\n",
            "2/2 [==============================] - 9s 7s/step - loss: 0.5380 - accuracy: 0.8000 - val_loss: 0.7320 - val_accuracy: 0.4500\n",
            "Epoch 79/100\n",
            "2/2 [==============================] - 9s 7s/step - loss: 0.5057 - accuracy: 0.8500 - val_loss: 0.7293 - val_accuracy: 0.4500\n",
            "Epoch 80/100\n",
            "2/2 [==============================] - 9s 7s/step - loss: 0.5388 - accuracy: 0.8000 - val_loss: 0.7267 - val_accuracy: 0.4500\n",
            "Epoch 81/100\n",
            "2/2 [==============================] - 9s 7s/step - loss: 0.5128 - accuracy: 0.8500 - val_loss: 0.7302 - val_accuracy: 0.4500\n",
            "Epoch 82/100\n",
            "2/2 [==============================] - 9s 3s/step - loss: 0.5305 - accuracy: 0.8000 - val_loss: 0.8231 - val_accuracy: 0.5000\n",
            "Epoch 83/100\n",
            "2/2 [==============================] - 11s 9s/step - loss: 0.5478 - accuracy: 0.7500 - val_loss: 0.7403 - val_accuracy: 0.4500\n",
            "Epoch 84/100\n",
            "2/2 [==============================] - 9s 7s/step - loss: 0.5165 - accuracy: 0.8000 - val_loss: 0.7384 - val_accuracy: 0.4500\n",
            "Epoch 85/100\n",
            "2/2 [==============================] - 9s 3s/step - loss: 0.5091 - accuracy: 0.8250 - val_loss: 0.7422 - val_accuracy: 0.4500\n",
            "Epoch 86/100\n",
            "2/2 [==============================] - 9s 7s/step - loss: 0.5486 - accuracy: 0.7500 - val_loss: 0.7387 - val_accuracy: 0.4000\n",
            "Epoch 87/100\n",
            "2/2 [==============================] - 9s 7s/step - loss: 0.5273 - accuracy: 0.7500 - val_loss: 0.7402 - val_accuracy: 0.4500\n",
            "Epoch 88/100\n",
            "2/2 [==============================] - 8s 2s/step - loss: 0.5006 - accuracy: 0.7750 - val_loss: 0.7565 - val_accuracy: 0.4500\n",
            "Epoch 89/100\n",
            "2/2 [==============================] - 8s 2s/step - loss: 0.5163 - accuracy: 0.7750 - val_loss: 0.7628 - val_accuracy: 0.5000\n",
            "Epoch 90/100\n",
            "2/2 [==============================] - 8s 7s/step - loss: 0.5469 - accuracy: 0.7000 - val_loss: 0.7465 - val_accuracy: 0.4500\n",
            "Epoch 91/100\n",
            "2/2 [==============================] - 8s 7s/step - loss: 0.5326 - accuracy: 0.8000 - val_loss: 0.7461 - val_accuracy: 0.4500\n",
            "Epoch 92/100\n",
            "2/2 [==============================] - 8s 7s/step - loss: 0.4737 - accuracy: 0.8250 - val_loss: 0.7447 - val_accuracy: 0.4500\n",
            "Epoch 93/100\n",
            "2/2 [==============================] - 8s 2s/step - loss: 0.4772 - accuracy: 0.8250 - val_loss: 0.7569 - val_accuracy: 0.4500\n",
            "Epoch 94/100\n",
            "2/2 [==============================] - 8s 7s/step - loss: 0.5123 - accuracy: 0.7250 - val_loss: 0.7480 - val_accuracy: 0.4500\n",
            "Epoch 95/100\n",
            "2/2 [==============================] - 8s 7s/step - loss: 0.4845 - accuracy: 0.8250 - val_loss: 0.7530 - val_accuracy: 0.4500\n",
            "Epoch 96/100\n",
            "2/2 [==============================] - 8s 7s/step - loss: 0.4673 - accuracy: 0.8500 - val_loss: 0.7524 - val_accuracy: 0.4500\n",
            "Epoch 97/100\n",
            "2/2 [==============================] - 9s 7s/step - loss: 0.4795 - accuracy: 0.8000 - val_loss: 0.7557 - val_accuracy: 0.4500\n",
            "Epoch 98/100\n",
            "2/2 [==============================] - 8s 2s/step - loss: 0.4661 - accuracy: 0.8000 - val_loss: 0.7611 - val_accuracy: 0.4500\n",
            "Epoch 99/100\n",
            "2/2 [==============================] - 8s 7s/step - loss: 0.5606 - accuracy: 0.7500 - val_loss: 0.7478 - val_accuracy: 0.4500\n",
            "Epoch 100/100\n",
            "2/2 [==============================] - 8s 7s/step - loss: 0.4564 - accuracy: 0.8500 - val_loss: 0.7444 - val_accuracy: 0.4500\n"
          ]
        }
      ]
    },
    {
      "cell_type": "code",
      "source": [
        "test_loss, test_accuracy = model.evaluate(test)"
      ],
      "metadata": {
        "colab": {
          "base_uri": "https://localhost:8080/"
        },
        "id": "-58yRjY_bq0h",
        "outputId": "b9e7adc8-3caf-493e-a8a5-4ba3a27cb682"
      },
      "execution_count": null,
      "outputs": [
        {
          "output_type": "stream",
          "name": "stdout",
          "text": [
            "1/1 [==============================] - 1s 1s/step - loss: 0.7444 - accuracy: 0.4500\n"
          ]
        }
      ]
    },
    {
      "cell_type": "code",
      "source": [
        "test_loss"
      ],
      "metadata": {
        "colab": {
          "base_uri": "https://localhost:8080/"
        },
        "id": "gjyoC_mopgNA",
        "outputId": "f1cb39bc-45d0-4ca8-c8e7-c8fff19a19ca"
      },
      "execution_count": null,
      "outputs": [
        {
          "output_type": "execute_result",
          "data": {
            "text/plain": [
              "0.7444350719451904"
            ]
          },
          "metadata": {},
          "execution_count": 21
        }
      ]
    },
    {
      "cell_type": "code",
      "source": [
        "test_accuracy"
      ],
      "metadata": {
        "colab": {
          "base_uri": "https://localhost:8080/"
        },
        "id": "60vIarMW-Oec",
        "outputId": "856183d0-977d-4967-8cf0-5e1da5d53e1d"
      },
      "execution_count": null,
      "outputs": [
        {
          "output_type": "execute_result",
          "data": {
            "text/plain": [
              "0.550000011920929"
            ]
          },
          "metadata": {},
          "execution_count": 33
        }
      ]
    },
    {
      "cell_type": "code",
      "source": [
        "from matplotlib import pyplot as plt \n",
        "\n",
        "plt.plot(history.history['accuracy'])\n",
        "plt.plot(history.history['val_accuracy'])\n",
        "plt.title('Accuracy')\n",
        "plt.ylabel('accuracy')\n",
        "plt.xlabel('epochs')\n",
        "plt.legend(['train', 'test'], loc = 'upper right')\n",
        "plt.show()"
      ],
      "metadata": {
        "colab": {
          "base_uri": "https://localhost:8080/",
          "height": 295
        },
        "id": "PXpum-XCpgOs",
        "outputId": "58575c44-1775-434a-97ef-f47d8bfc6ae7"
      },
      "execution_count": null,
      "outputs": [
        {
          "output_type": "display_data",
          "data": {
            "text/plain": [
              "<Figure size 432x288 with 1 Axes>"
            ],
            "image/png": "[encoded data removed]"
          },
          "metadata": {
            "needs_background": "light"
          }
        }
      ]
    },
    {
      "cell_type": "code",
      "source": [
        "history =model.fit(train, validation_data = test, epochs =200)"
      ],
      "metadata": {
        "colab": {
          "base_uri": "https://localhost:8080/"
        },
        "id": "GylGB0YnpgRE",
        "outputId": "f12d3965-a1b8-4e89-f4af-4dcab6b2176f"
      },
      "execution_count": null,
      "outputs": [
        {
          "output_type": "stream",
          "name": "stdout",
          "text": [
            "Epoch 1/200\n",
            "2/2 [==============================] - 8s 7s/step - loss: 0.4517 - accuracy: 0.8500 - val_loss: 0.7472 - val_accuracy: 0.4500\n",
            "Epoch 2/200\n",
            "2/2 [==============================] - 8s 2s/step - loss: 0.4540 - accuracy: 0.8250 - val_loss: 0.7515 - val_accuracy: 0.4500\n",
            "Epoch 3/200\n",
            "2/2 [==============================] - 8s 2s/step - loss: 0.4477 - accuracy: 0.8000 - val_loss: 0.7521 - val_accuracy: 0.5000\n",
            "Epoch 4/200\n",
            "2/2 [==============================] - 8s 2s/step - loss: 0.4350 - accuracy: 0.8750 - val_loss: 0.7499 - val_accuracy: 0.4500\n",
            "Epoch 5/200\n",
            "2/2 [==============================] - 9s 2s/step - loss: 0.4521 - accuracy: 0.8250 - val_loss: 0.8168 - val_accuracy: 0.4500\n",
            "Epoch 6/200\n",
            "2/2 [==============================] - 10s 8s/step - loss: 0.5549 - accuracy: 0.7000 - val_loss: 0.7491 - val_accuracy: 0.4500\n",
            "Epoch 7/200\n",
            "2/2 [==============================] - 8s 3s/step - loss: 0.4604 - accuracy: 0.8000 - val_loss: 0.7842 - val_accuracy: 0.5000\n",
            "Epoch 8/200\n",
            "2/2 [==============================] - 8s 7s/step - loss: 0.4460 - accuracy: 0.8500 - val_loss: 0.7455 - val_accuracy: 0.4500\n",
            "Epoch 9/200\n",
            "2/2 [==============================] - 8s 7s/step - loss: 0.4342 - accuracy: 0.8250 - val_loss: 0.7427 - val_accuracy: 0.4500\n",
            "Epoch 10/200\n",
            "2/2 [==============================] - 8s 7s/step - loss: 0.5207 - accuracy: 0.7500 - val_loss: 0.7393 - val_accuracy: 0.4500\n",
            "Epoch 11/200\n",
            "2/2 [==============================] - 8s 7s/step - loss: 0.4615 - accuracy: 0.8250 - val_loss: 0.7375 - val_accuracy: 0.4500\n",
            "Epoch 12/200\n",
            "2/2 [==============================] - 8s 7s/step - loss: 0.4530 - accuracy: 0.8750 - val_loss: 0.7377 - val_accuracy: 0.4500\n",
            "Epoch 13/200\n",
            "2/2 [==============================] - 8s 2s/step - loss: 0.4254 - accuracy: 0.8500 - val_loss: 0.7464 - val_accuracy: 0.5000\n",
            "Epoch 14/200\n",
            "2/2 [==============================] - 8s 7s/step - loss: 0.4325 - accuracy: 0.8250 - val_loss: 0.7387 - val_accuracy: 0.4500\n",
            "Epoch 15/200\n",
            "2/2 [==============================] - 8s 2s/step - loss: 0.4147 - accuracy: 0.8250 - val_loss: 0.7383 - val_accuracy: 0.4500\n",
            "Epoch 16/200\n",
            "2/2 [==============================] - 8s 7s/step - loss: 0.4218 - accuracy: 0.8250 - val_loss: 0.7355 - val_accuracy: 0.4500\n",
            "Epoch 17/200\n",
            "2/2 [==============================] - 8s 7s/step - loss: 0.4350 - accuracy: 0.8250 - val_loss: 0.7340 - val_accuracy: 0.4500\n",
            "Epoch 18/200\n",
            "2/2 [==============================] - 8s 2s/step - loss: 0.4172 - accuracy: 0.8750 - val_loss: 0.7975 - val_accuracy: 0.6000\n",
            "Epoch 19/200\n",
            "2/2 [==============================] - 8s 2s/step - loss: 0.4512 - accuracy: 0.8250 - val_loss: 0.7331 - val_accuracy: 0.4500\n",
            "Epoch 20/200\n",
            "2/2 [==============================] - 8s 7s/step - loss: 0.4045 - accuracy: 0.8250 - val_loss: 0.7297 - val_accuracy: 0.4500\n",
            "Epoch 21/200\n",
            "2/2 [==============================] - 8s 7s/step - loss: 0.4169 - accuracy: 0.7750 - val_loss: 0.7382 - val_accuracy: 0.4500\n",
            "Epoch 22/200\n",
            "2/2 [==============================] - 8s 2s/step - loss: 0.4073 - accuracy: 0.8500 - val_loss: 0.7998 - val_accuracy: 0.6000\n",
            "Epoch 23/200\n",
            "2/2 [==============================] - 8s 2s/step - loss: 0.4216 - accuracy: 0.8250 - val_loss: 0.7355 - val_accuracy: 0.4500\n",
            "Epoch 24/200\n",
            "2/2 [==============================] - 8s 2s/step - loss: 0.4111 - accuracy: 0.8500 - val_loss: 0.7558 - val_accuracy: 0.5000\n",
            "Epoch 25/200\n",
            "2/2 [==============================] - 8s 2s/step - loss: 0.4077 - accuracy: 0.9000 - val_loss: 0.7452 - val_accuracy: 0.4500\n",
            "Epoch 26/200\n",
            "2/2 [==============================] - 8s 7s/step - loss: 0.4200 - accuracy: 0.8750 - val_loss: 0.7457 - val_accuracy: 0.5000\n",
            "Epoch 27/200\n",
            "2/2 [==============================] - 8s 7s/step - loss: 0.3791 - accuracy: 0.9000 - val_loss: 0.7458 - val_accuracy: 0.4500\n",
            "Epoch 28/200\n",
            "2/2 [==============================] - 8s 2s/step - loss: 0.3861 - accuracy: 0.8500 - val_loss: 0.8670 - val_accuracy: 0.5000\n",
            "Epoch 29/200\n",
            "2/2 [==============================] - 8s 2s/step - loss: 0.5282 - accuracy: 0.6750 - val_loss: 0.7898 - val_accuracy: 0.5500\n",
            "Epoch 30/200\n",
            "2/2 [==============================] - 8s 2s/step - loss: 0.4217 - accuracy: 0.8500 - val_loss: 0.7996 - val_accuracy: 0.6000\n",
            "Epoch 31/200\n",
            "2/2 [==============================] - 8s 2s/step - loss: 0.3901 - accuracy: 0.8500 - val_loss: 0.7588 - val_accuracy: 0.4500\n",
            "Epoch 32/200\n",
            "2/2 [==============================] - 8s 7s/step - loss: 0.4185 - accuracy: 0.7750 - val_loss: 0.7490 - val_accuracy: 0.4500\n",
            "Epoch 33/200\n",
            "2/2 [==============================] - 8s 7s/step - loss: 0.3899 - accuracy: 0.8750 - val_loss: 0.7462 - val_accuracy: 0.4500\n",
            "Epoch 34/200\n",
            "2/2 [==============================] - 8s 2s/step - loss: 0.3545 - accuracy: 0.9250 - val_loss: 0.7533 - val_accuracy: 0.5000\n",
            "Epoch 35/200\n",
            "2/2 [==============================] - 8s 7s/step - loss: 0.3981 - accuracy: 0.8750 - val_loss: 0.7577 - val_accuracy: 0.5000\n",
            "Epoch 36/200\n",
            "2/2 [==============================] - 8s 7s/step - loss: 0.3938 - accuracy: 0.8500 - val_loss: 0.7508 - val_accuracy: 0.5000\n",
            "Epoch 37/200\n",
            "2/2 [==============================] - 8s 2s/step - loss: 0.3536 - accuracy: 0.9500 - val_loss: 0.7461 - val_accuracy: 0.4500\n",
            "Epoch 38/200\n",
            "2/2 [==============================] - 8s 7s/step - loss: 0.3759 - accuracy: 0.8750 - val_loss: 0.7449 - val_accuracy: 0.5000\n",
            "Epoch 39/200\n",
            "2/2 [==============================] - 10s 8s/step - loss: 0.3664 - accuracy: 0.8500 - val_loss: 0.7468 - val_accuracy: 0.5000\n",
            "Epoch 40/200\n",
            "2/2 [==============================] - 8s 2s/step - loss: 0.3654 - accuracy: 0.8750 - val_loss: 0.7430 - val_accuracy: 0.4500\n",
            "Epoch 41/200\n",
            "2/2 [==============================] - 8s 7s/step - loss: 0.3985 - accuracy: 0.8250 - val_loss: 0.7478 - val_accuracy: 0.4500\n",
            "Epoch 42/200\n",
            "2/2 [==============================] - 8s 7s/step - loss: 0.3792 - accuracy: 0.8250 - val_loss: 0.7494 - val_accuracy: 0.4500\n",
            "Epoch 43/200\n",
            "2/2 [==============================] - 8s 7s/step - loss: 0.3935 - accuracy: 0.7750 - val_loss: 0.7543 - val_accuracy: 0.4000\n",
            "Epoch 44/200\n",
            "2/2 [==============================] - 8s 7s/step - loss: 0.4038 - accuracy: 0.8500 - val_loss: 0.7601 - val_accuracy: 0.4500\n",
            "Epoch 45/200\n",
            "2/2 [==============================] - 8s 2s/step - loss: 0.3470 - accuracy: 0.8500 - val_loss: 0.7778 - val_accuracy: 0.5000\n",
            "Epoch 46/200\n",
            "2/2 [==============================] - 8s 2s/step - loss: 0.3356 - accuracy: 0.8750 - val_loss: 0.8751 - val_accuracy: 0.6000\n",
            "Epoch 47/200\n",
            "2/2 [==============================] - 8s 7s/step - loss: 0.3416 - accuracy: 0.9000 - val_loss: 0.7738 - val_accuracy: 0.4500\n",
            "Epoch 48/200\n",
            "2/2 [==============================] - 8s 7s/step - loss: 0.3354 - accuracy: 0.9000 - val_loss: 0.7718 - val_accuracy: 0.4500\n",
            "Epoch 49/200\n",
            "2/2 [==============================] - 8s 2s/step - loss: 0.3272 - accuracy: 0.9000 - val_loss: 0.8493 - val_accuracy: 0.5000\n",
            "Epoch 50/200\n",
            "2/2 [==============================] - 8s 7s/step - loss: 0.3247 - accuracy: 0.8500 - val_loss: 0.7661 - val_accuracy: 0.5000\n",
            "Epoch 51/200\n",
            "2/2 [==============================] - 8s 2s/step - loss: 0.3444 - accuracy: 0.9000 - val_loss: 0.7695 - val_accuracy: 0.5000\n",
            "Epoch 52/200\n",
            "2/2 [==============================] - 8s 3s/step - loss: 0.3246 - accuracy: 0.9250 - val_loss: 0.7972 - val_accuracy: 0.5000\n",
            "Epoch 53/200\n",
            "2/2 [==============================] - 8s 2s/step - loss: 0.3525 - accuracy: 0.8750 - val_loss: 0.7920 - val_accuracy: 0.5000\n",
            "Epoch 54/200\n",
            "2/2 [==============================] - 8s 2s/step - loss: 0.3344 - accuracy: 0.9000 - val_loss: 0.7712 - val_accuracy: 0.4500\n",
            "Epoch 55/200\n",
            "2/2 [==============================] - 8s 7s/step - loss: 0.4007 - accuracy: 0.8000 - val_loss: 0.7718 - val_accuracy: 0.4500\n",
            "Epoch 56/200\n",
            "2/2 [==============================] - 8s 2s/step - loss: 0.3173 - accuracy: 0.9000 - val_loss: 0.8740 - val_accuracy: 0.6000\n",
            "Epoch 57/200\n",
            "2/2 [==============================] - 8s 2s/step - loss: 0.3357 - accuracy: 0.8750 - val_loss: 0.8275 - val_accuracy: 0.5500\n",
            "Epoch 58/200\n",
            "2/2 [==============================] - 8s 2s/step - loss: 0.3231 - accuracy: 0.9000 - val_loss: 0.9780 - val_accuracy: 0.5500\n",
            "Epoch 59/200\n",
            "2/2 [==============================] - 8s 7s/step - loss: 0.3464 - accuracy: 0.8250 - val_loss: 0.7754 - val_accuracy: 0.4000\n",
            "Epoch 60/200\n",
            "2/2 [==============================] - 8s 2s/step - loss: 0.2959 - accuracy: 0.9500 - val_loss: 0.7910 - val_accuracy: 0.5000\n",
            "Epoch 61/200\n",
            "2/2 [==============================] - 8s 7s/step - loss: 0.4069 - accuracy: 0.7500 - val_loss: 0.7913 - val_accuracy: 0.4500\n",
            "Epoch 62/200\n",
            "2/2 [==============================] - 8s 2s/step - loss: 0.2893 - accuracy: 0.9000 - val_loss: 0.7884 - val_accuracy: 0.4500\n",
            "Epoch 63/200\n",
            "2/2 [==============================] - 8s 2s/step - loss: 0.3037 - accuracy: 0.9250 - val_loss: 0.8352 - val_accuracy: 0.5000\n",
            "Epoch 64/200\n",
            "2/2 [==============================] - 8s 2s/step - loss: 0.3031 - accuracy: 0.9500 - val_loss: 0.8441 - val_accuracy: 0.5500\n",
            "Epoch 65/200\n",
            "2/2 [==============================] - 8s 7s/step - loss: 0.3174 - accuracy: 0.8750 - val_loss: 0.7853 - val_accuracy: 0.4000\n",
            "Epoch 66/200\n",
            "2/2 [==============================] - 8s 7s/step - loss: 0.3294 - accuracy: 0.9000 - val_loss: 0.7827 - val_accuracy: 0.5000\n",
            "Epoch 67/200\n",
            "2/2 [==============================] - 8s 7s/step - loss: 0.3101 - accuracy: 0.9000 - val_loss: 0.7811 - val_accuracy: 0.5000\n",
            "Epoch 68/200\n",
            "2/2 [==============================] - 8s 7s/step - loss: 0.3500 - accuracy: 0.8500 - val_loss: 0.8064 - val_accuracy: 0.5000\n",
            "Epoch 69/200\n",
            "2/2 [==============================] - 8s 2s/step - loss: 0.3115 - accuracy: 0.9000 - val_loss: 0.8141 - val_accuracy: 0.5000\n",
            "Epoch 70/200\n",
            "2/2 [==============================] - 8s 2s/step - loss: 0.2955 - accuracy: 0.8750 - val_loss: 0.8164 - val_accuracy: 0.5000\n",
            "Epoch 71/200\n",
            "2/2 [==============================] - 8s 7s/step - loss: 0.2652 - accuracy: 0.9500 - val_loss: 0.7952 - val_accuracy: 0.5000\n",
            "Epoch 72/200\n",
            "2/2 [==============================] - 10s 7s/step - loss: 0.2775 - accuracy: 0.9500 - val_loss: 0.7961 - val_accuracy: 0.5000\n",
            "Epoch 73/200\n",
            "2/2 [==============================] - 9s 3s/step - loss: 0.2763 - accuracy: 0.9500 - val_loss: 0.8186 - val_accuracy: 0.5000\n",
            "Epoch 74/200\n",
            "2/2 [==============================] - 14s 12s/step - loss: 0.5614 - accuracy: 0.6250 - val_loss: 0.8847 - val_accuracy: 0.5500\n",
            "Epoch 75/200\n",
            "2/2 [==============================] - 8s 2s/step - loss: 0.3583 - accuracy: 0.8500 - val_loss: 0.8722 - val_accuracy: 0.6000\n",
            "Epoch 76/200\n",
            "2/2 [==============================] - 9s 7s/step - loss: 0.2640 - accuracy: 0.9500 - val_loss: 0.7871 - val_accuracy: 0.5000\n",
            "Epoch 77/200\n",
            "2/2 [==============================] - 8s 7s/step - loss: 0.3349 - accuracy: 0.9000 - val_loss: 0.8138 - val_accuracy: 0.5000\n",
            "Epoch 78/200\n",
            "2/2 [==============================] - 9s 2s/step - loss: 0.2685 - accuracy: 0.9500 - val_loss: 0.8183 - val_accuracy: 0.5000\n",
            "Epoch 79/200\n",
            "2/2 [==============================] - 9s 7s/step - loss: 0.3183 - accuracy: 0.8750 - val_loss: 0.8112 - val_accuracy: 0.5000\n",
            "Epoch 80/200\n",
            "2/2 [==============================] - 8s 2s/step - loss: 0.2619 - accuracy: 0.9500 - val_loss: 0.8318 - val_accuracy: 0.5500\n",
            "Epoch 81/200\n",
            "2/2 [==============================] - 9s 2s/step - loss: 0.2747 - accuracy: 0.9250 - val_loss: 0.8048 - val_accuracy: 0.5000\n",
            "Epoch 82/200\n",
            "2/2 [==============================] - 8s 2s/step - loss: 0.2408 - accuracy: 0.9750 - val_loss: 0.8087 - val_accuracy: 0.5000\n",
            "Epoch 83/200\n",
            "2/2 [==============================] - 8s 7s/step - loss: 0.2436 - accuracy: 0.9750 - val_loss: 0.7957 - val_accuracy: 0.5000\n",
            "Epoch 84/200\n",
            "2/2 [==============================] - 9s 2s/step - loss: 0.2412 - accuracy: 0.9500 - val_loss: 0.8112 - val_accuracy: 0.5000\n",
            "Epoch 85/200\n",
            "2/2 [==============================] - 8s 7s/step - loss: 0.2287 - accuracy: 0.9750 - val_loss: 0.7995 - val_accuracy: 0.5000\n",
            "Epoch 86/200\n",
            "2/2 [==============================] - 8s 2s/step - loss: 0.2584 - accuracy: 0.9000 - val_loss: 0.8404 - val_accuracy: 0.5000\n",
            "Epoch 87/200\n",
            "2/2 [==============================] - 8s 2s/step - loss: 0.2452 - accuracy: 0.9250 - val_loss: 0.8142 - val_accuracy: 0.5000\n",
            "Epoch 88/200\n",
            "2/2 [==============================] - 8s 2s/step - loss: 0.2446 - accuracy: 0.9500 - val_loss: 0.8073 - val_accuracy: 0.5000\n",
            "Epoch 89/200\n",
            "2/2 [==============================] - 8s 7s/step - loss: 0.2847 - accuracy: 0.9250 - val_loss: 0.8238 - val_accuracy: 0.5000\n",
            "Epoch 90/200\n",
            "2/2 [==============================] - 8s 3s/step - loss: 0.2426 - accuracy: 0.9250 - val_loss: 0.8426 - val_accuracy: 0.5000\n",
            "Epoch 91/200\n",
            "2/2 [==============================] - 8s 2s/step - loss: 0.3103 - accuracy: 0.8750 - val_loss: 0.9858 - val_accuracy: 0.5000\n",
            "Epoch 92/200\n",
            "2/2 [==============================] - 8s 2s/step - loss: 0.3447 - accuracy: 0.8500 - val_loss: 0.8011 - val_accuracy: 0.5500\n",
            "Epoch 93/200\n",
            "2/2 [==============================] - 8s 2s/step - loss: 0.2312 - accuracy: 0.9500 - val_loss: 0.8915 - val_accuracy: 0.5500\n",
            "Epoch 94/200\n",
            "2/2 [==============================] - 8s 6s/step - loss: 0.2212 - accuracy: 0.9500 - val_loss: 0.7903 - val_accuracy: 0.5500\n",
            "Epoch 95/200\n",
            "2/2 [==============================] - 8s 7s/step - loss: 0.2075 - accuracy: 0.9500 - val_loss: 0.8015 - val_accuracy: 0.5500\n",
            "Epoch 96/200\n",
            "2/2 [==============================] - 8s 2s/step - loss: 0.2087 - accuracy: 1.0000 - val_loss: 0.7954 - val_accuracy: 0.5500\n",
            "Epoch 97/200\n",
            "2/2 [==============================] - 8s 2s/step - loss: 0.2284 - accuracy: 0.9750 - val_loss: 0.8187 - val_accuracy: 0.5500\n",
            "Epoch 98/200\n",
            "2/2 [==============================] - 8s 7s/step - loss: 0.2335 - accuracy: 0.9250 - val_loss: 0.8105 - val_accuracy: 0.5500\n",
            "Epoch 99/200\n",
            "2/2 [==============================] - 8s 7s/step - loss: 0.2087 - accuracy: 0.9750 - val_loss: 0.8145 - val_accuracy: 0.5500\n",
            "Epoch 100/200\n",
            "2/2 [==============================] - 8s 6s/step - loss: 0.2245 - accuracy: 0.9500 - val_loss: 0.8108 - val_accuracy: 0.6000\n",
            "Epoch 101/200\n",
            "2/2 [==============================] - 10s 3s/step - loss: 0.2027 - accuracy: 0.9750 - val_loss: 0.9018 - val_accuracy: 0.5000\n",
            "Epoch 102/200\n",
            "2/2 [==============================] - 8s 2s/step - loss: 0.2534 - accuracy: 0.8750 - val_loss: 0.8242 - val_accuracy: 0.5500\n",
            "Epoch 103/200\n",
            "2/2 [==============================] - 8s 2s/step - loss: 0.2016 - accuracy: 0.9750 - val_loss: 0.8251 - val_accuracy: 0.5500\n",
            "Epoch 104/200\n",
            "2/2 [==============================] - 8s 7s/step - loss: 0.4283 - accuracy: 0.8000 - val_loss: 0.9845 - val_accuracy: 0.5000\n",
            "Epoch 105/200\n",
            "2/2 [==============================] - 8s 3s/step - loss: 0.2967 - accuracy: 0.8750 - val_loss: 0.8927 - val_accuracy: 0.5000\n",
            "Epoch 106/200\n",
            "2/2 [==============================] - 8s 2s/step - loss: 0.2443 - accuracy: 0.9000 - val_loss: 0.8820 - val_accuracy: 0.5000\n",
            "Epoch 107/200\n",
            "2/2 [==============================] - 8s 2s/step - loss: 0.1929 - accuracy: 0.9750 - val_loss: 0.8410 - val_accuracy: 0.5500\n",
            "Epoch 108/200\n",
            "2/2 [==============================] - 8s 2s/step - loss: 0.2044 - accuracy: 0.9750 - val_loss: 0.9497 - val_accuracy: 0.4500\n",
            "Epoch 109/200\n",
            "2/2 [==============================] - 8s 2s/step - loss: 0.2671 - accuracy: 0.9250 - val_loss: 0.8462 - val_accuracy: 0.5500\n",
            "Epoch 110/200\n",
            "2/2 [==============================] - 8s 7s/step - loss: 0.2031 - accuracy: 0.9750 - val_loss: 0.8437 - val_accuracy: 0.5500\n",
            "Epoch 111/200\n",
            "2/2 [==============================] - 8s 2s/step - loss: 0.1978 - accuracy: 0.9750 - val_loss: 0.8464 - val_accuracy: 0.5500\n",
            "Epoch 112/200\n",
            "2/2 [==============================] - 8s 7s/step - loss: 0.2036 - accuracy: 0.9500 - val_loss: 0.8409 - val_accuracy: 0.5500\n",
            "Epoch 113/200\n",
            "2/2 [==============================] - 8s 2s/step - loss: 0.1988 - accuracy: 0.9750 - val_loss: 0.8592 - val_accuracy: 0.5500\n",
            "Epoch 114/200\n",
            "2/2 [==============================] - 8s 7s/step - loss: 0.1869 - accuracy: 1.0000 - val_loss: 0.8411 - val_accuracy: 0.5500\n",
            "Epoch 115/200\n",
            "2/2 [==============================] - 8s 7s/step - loss: 0.1736 - accuracy: 0.9750 - val_loss: 0.8444 - val_accuracy: 0.6000\n",
            "Epoch 116/200\n",
            "2/2 [==============================] - 8s 7s/step - loss: 0.2114 - accuracy: 0.9500 - val_loss: 0.8642 - val_accuracy: 0.5500\n",
            "Epoch 117/200\n",
            "2/2 [==============================] - 8s 7s/step - loss: 0.1924 - accuracy: 0.9250 - val_loss: 0.8356 - val_accuracy: 0.5500\n",
            "Epoch 118/200\n",
            "2/2 [==============================] - 8s 2s/step - loss: 0.1838 - accuracy: 0.9500 - val_loss: 0.8434 - val_accuracy: 0.6000\n",
            "Epoch 119/200\n",
            "2/2 [==============================] - 8s 2s/step - loss: 0.1795 - accuracy: 0.9500 - val_loss: 0.8320 - val_accuracy: 0.5500\n",
            "Epoch 120/200\n",
            "2/2 [==============================] - 8s 2s/step - loss: 0.1889 - accuracy: 0.9500 - val_loss: 0.9362 - val_accuracy: 0.5500\n",
            "Epoch 121/200\n",
            "2/2 [==============================] - 8s 2s/step - loss: 0.2073 - accuracy: 0.9250 - val_loss: 0.9829 - val_accuracy: 0.5000\n",
            "Epoch 122/200\n",
            "2/2 [==============================] - 8s 7s/step - loss: 0.2096 - accuracy: 0.9000 - val_loss: 0.8275 - val_accuracy: 0.6000\n",
            "Epoch 123/200\n",
            "2/2 [==============================] - 8s 2s/step - loss: 0.1827 - accuracy: 0.9500 - val_loss: 0.8281 - val_accuracy: 0.5500\n",
            "Epoch 124/200\n",
            "2/2 [==============================] - 8s 2s/step - loss: 0.1822 - accuracy: 0.9750 - val_loss: 0.8685 - val_accuracy: 0.6000\n",
            "Epoch 125/200\n",
            "2/2 [==============================] - 8s 2s/step - loss: 0.2199 - accuracy: 0.9250 - val_loss: 0.9770 - val_accuracy: 0.5000\n",
            "Epoch 126/200\n",
            "2/2 [==============================] - 8s 2s/step - loss: 0.3574 - accuracy: 0.8250 - val_loss: 1.2917 - val_accuracy: 0.5500\n",
            "Epoch 127/200\n",
            "2/2 [==============================] - 8s 7s/step - loss: 0.2081 - accuracy: 0.9500 - val_loss: 0.8199 - val_accuracy: 0.6000\n",
            "Epoch 128/200\n",
            "2/2 [==============================] - 8s 2s/step - loss: 0.1782 - accuracy: 0.9750 - val_loss: 0.9361 - val_accuracy: 0.5500\n",
            "Epoch 129/200\n",
            "2/2 [==============================] - 8s 2s/step - loss: 0.2387 - accuracy: 0.9000 - val_loss: 0.8612 - val_accuracy: 0.5500\n",
            "Epoch 130/200\n",
            "2/2 [==============================] - 8s 2s/step - loss: 0.1833 - accuracy: 0.9750 - val_loss: 0.8641 - val_accuracy: 0.5500\n",
            "Epoch 131/200\n",
            "2/2 [==============================] - 8s 2s/step - loss: 0.1689 - accuracy: 0.9750 - val_loss: 0.8360 - val_accuracy: 0.6000\n",
            "Epoch 132/200\n",
            "2/2 [==============================] - 8s 7s/step - loss: 0.1899 - accuracy: 0.9250 - val_loss: 0.8627 - val_accuracy: 0.5500\n",
            "Epoch 133/200\n",
            "2/2 [==============================] - 10s 4s/step - loss: 0.1634 - accuracy: 0.9750 - val_loss: 0.9970 - val_accuracy: 0.5000\n",
            "Epoch 134/200\n",
            "2/2 [==============================] - 8s 2s/step - loss: 0.2838 - accuracy: 0.9250 - val_loss: 0.8289 - val_accuracy: 0.5500\n",
            "Epoch 135/200\n",
            "2/2 [==============================] - 8s 2s/step - loss: 0.1521 - accuracy: 1.0000 - val_loss: 0.9027 - val_accuracy: 0.5000\n",
            "Epoch 136/200\n",
            "2/2 [==============================] - 8s 7s/step - loss: 0.4704 - accuracy: 0.7000 - val_loss: 0.9576 - val_accuracy: 0.4500\n",
            "Epoch 137/200\n",
            "2/2 [==============================] - 8s 2s/step - loss: 0.1983 - accuracy: 0.9250 - val_loss: 0.8970 - val_accuracy: 0.5500\n",
            "Epoch 138/200\n",
            "2/2 [==============================] - 8s 7s/step - loss: 0.1803 - accuracy: 0.9500 - val_loss: 0.8473 - val_accuracy: 0.5500\n",
            "Epoch 139/200\n",
            "2/2 [==============================] - 8s 2s/step - loss: 0.1567 - accuracy: 1.0000 - val_loss: 0.8529 - val_accuracy: 0.5500\n",
            "Epoch 140/200\n",
            "2/2 [==============================] - 8s 2s/step - loss: 0.1353 - accuracy: 1.0000 - val_loss: 0.8601 - val_accuracy: 0.5500\n",
            "Epoch 141/200\n",
            "2/2 [==============================] - 8s 2s/step - loss: 0.1616 - accuracy: 1.0000 - val_loss: 0.9669 - val_accuracy: 0.5000\n",
            "Epoch 142/200\n",
            "2/2 [==============================] - 8s 2s/step - loss: 0.1983 - accuracy: 0.9750 - val_loss: 0.8828 - val_accuracy: 0.5500\n",
            "Epoch 143/200\n",
            "2/2 [==============================] - 8s 2s/step - loss: 0.1651 - accuracy: 0.9500 - val_loss: 0.8851 - val_accuracy: 0.5500\n",
            "Epoch 144/200\n",
            "2/2 [==============================] - 8s 6s/step - loss: 0.1298 - accuracy: 1.0000 - val_loss: 0.8513 - val_accuracy: 0.6000\n",
            "Epoch 145/200\n",
            "2/2 [==============================] - 8s 7s/step - loss: 0.1453 - accuracy: 0.9750 - val_loss: 0.8541 - val_accuracy: 0.6000\n",
            "Epoch 146/200\n",
            "2/2 [==============================] - 8s 2s/step - loss: 0.1270 - accuracy: 1.0000 - val_loss: 0.8602 - val_accuracy: 0.5500\n",
            "Epoch 147/200\n",
            "2/2 [==============================] - 8s 2s/step - loss: 0.1354 - accuracy: 1.0000 - val_loss: 0.8679 - val_accuracy: 0.6000\n",
            "Epoch 148/200\n",
            "2/2 [==============================] - 8s 2s/step - loss: 0.1450 - accuracy: 0.9750 - val_loss: 0.8835 - val_accuracy: 0.5500\n",
            "Epoch 149/200\n",
            "2/2 [==============================] - 8s 7s/step - loss: 0.1559 - accuracy: 0.9750 - val_loss: 0.8916 - val_accuracy: 0.6000\n",
            "Epoch 150/200\n",
            "2/2 [==============================] - 8s 7s/step - loss: 0.1366 - accuracy: 1.0000 - val_loss: 0.8825 - val_accuracy: 0.6000\n",
            "Epoch 151/200\n",
            "2/2 [==============================] - 8s 2s/step - loss: 0.1126 - accuracy: 1.0000 - val_loss: 0.8867 - val_accuracy: 0.6000\n",
            "Epoch 152/200\n",
            "2/2 [==============================] - 8s 2s/step - loss: 0.1184 - accuracy: 0.9750 - val_loss: 0.9190 - val_accuracy: 0.5500\n",
            "Epoch 153/200\n",
            "2/2 [==============================] - 8s 2s/step - loss: 0.1376 - accuracy: 1.0000 - val_loss: 0.9354 - val_accuracy: 0.5500\n",
            "Epoch 154/200\n",
            "2/2 [==============================] - 8s 2s/step - loss: 0.1547 - accuracy: 0.9750 - val_loss: 0.9236 - val_accuracy: 0.5500\n",
            "Epoch 155/200\n",
            "2/2 [==============================] - 8s 7s/step - loss: 0.3963 - accuracy: 0.8500 - val_loss: 1.1828 - val_accuracy: 0.6000\n",
            "Epoch 156/200\n",
            "2/2 [==============================] - 8s 2s/step - loss: 0.3021 - accuracy: 0.8750 - val_loss: 1.4421 - val_accuracy: 0.5500\n",
            "Epoch 157/200\n",
            "2/2 [==============================] - 8s 2s/step - loss: 0.6012 - accuracy: 0.7000 - val_loss: 2.0439 - val_accuracy: 0.5000\n",
            "Epoch 158/200\n",
            "2/2 [==============================] - 8s 7s/step - loss: 1.0851 - accuracy: 0.5750 - val_loss: 1.0685 - val_accuracy: 0.5500\n",
            "Epoch 159/200\n",
            "2/2 [==============================] - 8s 7s/step - loss: 0.1728 - accuracy: 0.9250 - val_loss: 0.9221 - val_accuracy: 0.5500\n",
            "Epoch 160/200\n",
            "2/2 [==============================] - 8s 2s/step - loss: 0.1283 - accuracy: 0.9750 - val_loss: 0.9991 - val_accuracy: 0.5000\n",
            "Epoch 161/200\n",
            "2/2 [==============================] - 8s 7s/step - loss: 0.1146 - accuracy: 0.9750 - val_loss: 0.9211 - val_accuracy: 0.5500\n",
            "Epoch 162/200\n",
            "2/2 [==============================] - 8s 7s/step - loss: 0.1172 - accuracy: 1.0000 - val_loss: 0.9207 - val_accuracy: 0.5500\n",
            "Epoch 163/200\n",
            "2/2 [==============================] - 8s 2s/step - loss: 0.1269 - accuracy: 1.0000 - val_loss: 0.9640 - val_accuracy: 0.5500\n",
            "Epoch 164/200\n",
            "2/2 [==============================] - 10s 4s/step - loss: 0.1753 - accuracy: 0.9750 - val_loss: 1.0680 - val_accuracy: 0.4500\n",
            "Epoch 165/200\n",
            "2/2 [==============================] - 8s 7s/step - loss: 0.3602 - accuracy: 0.7750 - val_loss: 0.9788 - val_accuracy: 0.5500\n",
            "Epoch 166/200\n",
            "2/2 [==============================] - 8s 7s/step - loss: 0.1297 - accuracy: 0.9750 - val_loss: 0.9419 - val_accuracy: 0.5500\n",
            "Epoch 167/200\n",
            "2/2 [==============================] - 8s 2s/step - loss: 0.1200 - accuracy: 1.0000 - val_loss: 0.9759 - val_accuracy: 0.5500\n",
            "Epoch 168/200\n",
            "2/2 [==============================] - 8s 2s/step - loss: 0.1278 - accuracy: 0.9750 - val_loss: 0.9874 - val_accuracy: 0.5500\n",
            "Epoch 169/200\n",
            "2/2 [==============================] - 8s 7s/step - loss: 0.1151 - accuracy: 1.0000 - val_loss: 0.9286 - val_accuracy: 0.6000\n",
            "Epoch 170/200\n",
            "2/2 [==============================] - 8s 2s/step - loss: 0.1186 - accuracy: 1.0000 - val_loss: 0.9385 - val_accuracy: 0.6000\n",
            "Epoch 171/200\n",
            "2/2 [==============================] - 8s 7s/step - loss: 0.2203 - accuracy: 0.9000 - val_loss: 1.0510 - val_accuracy: 0.5000\n",
            "Epoch 172/200\n",
            "2/2 [==============================] - 8s 7s/step - loss: 0.1466 - accuracy: 0.9750 - val_loss: 0.9420 - val_accuracy: 0.6000\n",
            "Epoch 173/200\n",
            "2/2 [==============================] - 8s 2s/step - loss: 0.1102 - accuracy: 1.0000 - val_loss: 0.9802 - val_accuracy: 0.5500\n",
            "Epoch 174/200\n",
            "2/2 [==============================] - 8s 2s/step - loss: 0.1142 - accuracy: 1.0000 - val_loss: 0.9907 - val_accuracy: 0.5500\n",
            "Epoch 175/200\n",
            "2/2 [==============================] - 8s 3s/step - loss: 0.1545 - accuracy: 0.9750 - val_loss: 0.9967 - val_accuracy: 0.5500\n",
            "Epoch 176/200\n",
            "2/2 [==============================] - 8s 7s/step - loss: 0.1764 - accuracy: 0.9500 - val_loss: 0.9493 - val_accuracy: 0.6000\n",
            "Epoch 177/200\n",
            "2/2 [==============================] - 8s 2s/step - loss: 0.0956 - accuracy: 1.0000 - val_loss: 0.9494 - val_accuracy: 0.6000\n",
            "Epoch 178/200\n",
            "2/2 [==============================] - 8s 7s/step - loss: 0.0886 - accuracy: 1.0000 - val_loss: 0.9480 - val_accuracy: 0.6000\n",
            "Epoch 179/200\n",
            "2/2 [==============================] - 8s 7s/step - loss: 0.1082 - accuracy: 0.9750 - val_loss: 0.9679 - val_accuracy: 0.5500\n",
            "Epoch 180/200\n",
            "2/2 [==============================] - 8s 2s/step - loss: 0.1104 - accuracy: 1.0000 - val_loss: 1.0950 - val_accuracy: 0.5000\n",
            "Epoch 181/200\n",
            "2/2 [==============================] - 8s 7s/step - loss: 0.1166 - accuracy: 1.0000 - val_loss: 0.9594 - val_accuracy: 0.5500\n",
            "Epoch 182/200\n",
            "2/2 [==============================] - 8s 7s/step - loss: 0.1200 - accuracy: 1.0000 - val_loss: 0.9659 - val_accuracy: 0.6000\n",
            "Epoch 183/200\n",
            "2/2 [==============================] - 8s 7s/step - loss: 0.1253 - accuracy: 0.9500 - val_loss: 0.9508 - val_accuracy: 0.6000\n",
            "Epoch 184/200\n",
            "2/2 [==============================] - 8s 7s/step - loss: 0.1452 - accuracy: 0.9500 - val_loss: 0.9499 - val_accuracy: 0.6000\n",
            "Epoch 185/200\n",
            "2/2 [==============================] - 8s 2s/step - loss: 0.1003 - accuracy: 1.0000 - val_loss: 0.9689 - val_accuracy: 0.5500\n",
            "Epoch 186/200\n",
            "2/2 [==============================] - 8s 2s/step - loss: 0.0869 - accuracy: 1.0000 - val_loss: 0.9664 - val_accuracy: 0.6000\n",
            "Epoch 187/200\n",
            "2/2 [==============================] - 8s 7s/step - loss: 0.1098 - accuracy: 1.0000 - val_loss: 0.9746 - val_accuracy: 0.5500\n",
            "Epoch 188/200\n",
            "2/2 [==============================] - 8s 2s/step - loss: 0.0974 - accuracy: 1.0000 - val_loss: 0.9471 - val_accuracy: 0.6000\n",
            "Epoch 189/200\n",
            "2/2 [==============================] - 8s 7s/step - loss: 0.1841 - accuracy: 0.9750 - val_loss: 0.9842 - val_accuracy: 0.5500\n",
            "Epoch 190/200\n",
            "2/2 [==============================] - 8s 7s/step - loss: 0.0970 - accuracy: 1.0000 - val_loss: 0.9770 - val_accuracy: 0.5500\n",
            "Epoch 191/200\n",
            "2/2 [==============================] - 8s 2s/step - loss: 0.1074 - accuracy: 0.9750 - val_loss: 1.0042 - val_accuracy: 0.5500\n",
            "Epoch 192/200\n",
            "2/2 [==============================] - 8s 7s/step - loss: 0.1011 - accuracy: 1.0000 - val_loss: 0.9420 - val_accuracy: 0.6000\n",
            "Epoch 193/200\n",
            "2/2 [==============================] - 8s 2s/step - loss: 0.1033 - accuracy: 0.9750 - val_loss: 1.0051 - val_accuracy: 0.5500\n",
            "Epoch 194/200\n",
            "2/2 [==============================] - 8s 2s/step - loss: 0.1277 - accuracy: 1.0000 - val_loss: 0.9670 - val_accuracy: 0.6000\n",
            "Epoch 195/200\n",
            "2/2 [==============================] - 10s 2s/step - loss: 0.0908 - accuracy: 1.0000 - val_loss: 0.9853 - val_accuracy: 0.5500\n",
            "Epoch 196/200\n",
            "2/2 [==============================] - 9s 3s/step - loss: 0.0870 - accuracy: 1.0000 - val_loss: 1.0000 - val_accuracy: 0.5500\n",
            "Epoch 197/200\n",
            "2/2 [==============================] - 8s 7s/step - loss: 0.1069 - accuracy: 0.9750 - val_loss: 0.9572 - val_accuracy: 0.6000\n",
            "Epoch 198/200\n",
            "2/2 [==============================] - 8s 7s/step - loss: 0.0948 - accuracy: 1.0000 - val_loss: 0.9875 - val_accuracy: 0.5500\n",
            "Epoch 199/200\n",
            "2/2 [==============================] - 8s 7s/step - loss: 0.0796 - accuracy: 1.0000 - val_loss: 0.9754 - val_accuracy: 0.5500\n",
            "Epoch 200/200\n",
            "2/2 [==============================] - 8s 7s/step - loss: 0.0808 - accuracy: 1.0000 - val_loss: 0.9691 - val_accuracy: 0.5500\n"
          ]
        }
      ]
    },
    {
      "cell_type": "code",
      "source": [
        "test_loss, test_accuracy = model.evaluate(test)"
      ],
      "metadata": {
        "colab": {
          "base_uri": "https://localhost:8080/"
        },
        "id": "GihKIQbnpgXH",
        "outputId": "a1315cf5-a1fe-4d26-e097-39320db14589"
      },
      "execution_count": null,
      "outputs": [
        {
          "output_type": "stream",
          "name": "stdout",
          "text": [
            "1/1 [==============================] - 1s 1s/step - loss: 0.9691 - accuracy: 0.5500\n"
          ]
        }
      ]
    },
    {
      "cell_type": "code",
      "source": [
        "test_loss"
      ],
      "metadata": {
        "colab": {
          "base_uri": "https://localhost:8080/"
        },
        "id": "4J0Uz8v5bulo",
        "outputId": "93caf971-2e74-40b4-9c65-8f38769cf981"
      },
      "execution_count": null,
      "outputs": [
        {
          "output_type": "execute_result",
          "data": {
            "text/plain": [
              "0.969073474407196"
            ]
          },
          "metadata": {},
          "execution_count": 25
        }
      ]
    },
    {
      "cell_type": "code",
      "source": [
        "test_accuracy"
      ],
      "metadata": {
        "colab": {
          "base_uri": "https://localhost:8080/"
        },
        "id": "COnYJ6E5-I83",
        "outputId": "7f565650-e9ec-45d8-8a8a-df60bd994c69"
      },
      "execution_count": null,
      "outputs": [
        {
          "output_type": "execute_result",
          "data": {
            "text/plain": [
              "0.550000011920929"
            ]
          },
          "metadata": {},
          "execution_count": 32
        }
      ]
    },
    {
      "cell_type": "code",
      "source": [
        "from matplotlib import pyplot as plt \n",
        "\n",
        "plt.plot(history.history['accuracy'])\n",
        "plt.plot(history.history['val_accuracy'])\n",
        "plt.title('Accuracy')\n",
        "plt.ylabel('accuracy')\n",
        "plt.xlabel('epochs')\n",
        "plt.legend(['train', 'test'], loc = 'upper right')\n",
        "plt.show()"
      ],
      "metadata": {
        "colab": {
          "base_uri": "https://localhost:8080/",
          "height": 295
        },
        "id": "DY8ng6yJsflD",
        "outputId": "70d94c14-6849-4b41-c79b-73bf61604f5d"
      },
      "execution_count": null,
      "outputs": [
        {
          "output_type": "display_data",
          "data": {
            "text/plain": [
              "<Figure size 432x288 with 1 Axes>"
            ],
            "image/png": "[encoded data removed]"
          },
          "metadata": {
            "needs_background": "light"
          }
        }
      ]
    },
    {
      "cell_type": "code",
      "source": [
        "history =model.fit(train, validation_data = test, epochs =300)"
      ],
      "metadata": {
        "colab": {
          "base_uri": "https://localhost:8080/"
        },
        "id": "0o-T-sbZsfmW",
        "outputId": "36709fff-6411-4926-f9be-65861b870ca5"
      },
      "execution_count": null,
      "outputs": [
        {
          "output_type": "stream",
          "name": "stdout",
          "text": [
            "Epoch 1/300\n",
            "2/2 [==============================] - 8s 3s/step - loss: 0.0800 - accuracy: 1.0000 - val_loss: 0.9840 - val_accuracy: 0.5500\n",
            "Epoch 2/300\n",
            "2/2 [==============================] - 8s 7s/step - loss: 0.0944 - accuracy: 1.0000 - val_loss: 0.9699 - val_accuracy: 0.6000\n",
            "Epoch 3/300\n",
            "2/2 [==============================] - 8s 2s/step - loss: 0.0767 - accuracy: 1.0000 - val_loss: 1.0005 - val_accuracy: 0.5500\n",
            "Epoch 4/300\n",
            "2/2 [==============================] - 8s 7s/step - loss: 0.0720 - accuracy: 1.0000 - val_loss: 0.9679 - val_accuracy: 0.6000\n",
            "Epoch 5/300\n",
            "2/2 [==============================] - 8s 7s/step - loss: 0.1008 - accuracy: 1.0000 - val_loss: 0.9993 - val_accuracy: 0.5500\n",
            "Epoch 6/300\n",
            "2/2 [==============================] - 8s 2s/step - loss: 0.0728 - accuracy: 1.0000 - val_loss: 0.9875 - val_accuracy: 0.5500\n",
            "Epoch 7/300\n",
            "2/2 [==============================] - 8s 2s/step - loss: 0.0698 - accuracy: 1.0000 - val_loss: 0.9875 - val_accuracy: 0.6000\n",
            "Epoch 8/300\n",
            "2/2 [==============================] - 8s 2s/step - loss: 0.0819 - accuracy: 1.0000 - val_loss: 1.0955 - val_accuracy: 0.5000\n",
            "Epoch 9/300\n",
            "2/2 [==============================] - 8s 2s/step - loss: 0.1352 - accuracy: 0.9500 - val_loss: 1.0114 - val_accuracy: 0.6000\n",
            "Epoch 10/300\n",
            "2/2 [==============================] - 8s 2s/step - loss: 0.0983 - accuracy: 1.0000 - val_loss: 1.0922 - val_accuracy: 0.5000\n",
            "Epoch 11/300\n",
            "2/2 [==============================] - 8s 7s/step - loss: 0.1137 - accuracy: 1.0000 - val_loss: 1.0019 - val_accuracy: 0.6000\n",
            "Epoch 12/300\n",
            "2/2 [==============================] - 8s 7s/step - loss: 0.0702 - accuracy: 1.0000 - val_loss: 0.9920 - val_accuracy: 0.6000\n",
            "Epoch 13/300\n",
            "2/2 [==============================] - 8s 7s/step - loss: 0.0759 - accuracy: 1.0000 - val_loss: 0.9949 - val_accuracy: 0.6000\n",
            "Epoch 14/300\n",
            "2/2 [==============================] - 8s 2s/step - loss: 0.0710 - accuracy: 1.0000 - val_loss: 1.0243 - val_accuracy: 0.5500\n",
            "Epoch 15/300\n",
            "2/2 [==============================] - 8s 2s/step - loss: 0.0750 - accuracy: 1.0000 - val_loss: 0.9947 - val_accuracy: 0.5500\n",
            "Epoch 16/300\n",
            "2/2 [==============================] - 8s 7s/step - loss: 0.0709 - accuracy: 1.0000 - val_loss: 0.9877 - val_accuracy: 0.5500\n",
            "Epoch 17/300\n",
            "2/2 [==============================] - 8s 7s/step - loss: 0.0697 - accuracy: 1.0000 - val_loss: 0.9941 - val_accuracy: 0.5500\n",
            "Epoch 18/300\n",
            "2/2 [==============================] - 8s 2s/step - loss: 0.0749 - accuracy: 1.0000 - val_loss: 0.9923 - val_accuracy: 0.6000\n",
            "Epoch 19/300\n",
            "2/2 [==============================] - 8s 2s/step - loss: 0.0819 - accuracy: 0.9750 - val_loss: 1.0453 - val_accuracy: 0.5500\n",
            "Epoch 20/300\n",
            "2/2 [==============================] - 8s 7s/step - loss: 0.0743 - accuracy: 1.0000 - val_loss: 1.0065 - val_accuracy: 0.6000\n",
            "Epoch 21/300\n",
            "2/2 [==============================] - 8s 2s/step - loss: 0.0716 - accuracy: 1.0000 - val_loss: 1.0076 - val_accuracy: 0.6000\n",
            "Epoch 22/300\n",
            "2/2 [==============================] - 8s 2s/step - loss: 0.0568 - accuracy: 1.0000 - val_loss: 1.0719 - val_accuracy: 0.5500\n",
            "Epoch 23/300\n",
            "2/2 [==============================] - 8s 7s/step - loss: 0.1760 - accuracy: 0.9500 - val_loss: 1.0988 - val_accuracy: 0.5500\n",
            "Epoch 24/300\n",
            "2/2 [==============================] - 8s 2s/step - loss: 0.1176 - accuracy: 0.9750 - val_loss: 1.0639 - val_accuracy: 0.5500\n",
            "Epoch 25/300\n",
            "2/2 [==============================] - 8s 2s/step - loss: 0.0857 - accuracy: 0.9750 - val_loss: 1.0010 - val_accuracy: 0.6000\n",
            "Epoch 26/300\n",
            "2/2 [==============================] - 8s 7s/step - loss: 0.0672 - accuracy: 1.0000 - val_loss: 1.0046 - val_accuracy: 0.6000\n",
            "Epoch 27/300\n",
            "2/2 [==============================] - 8s 7s/step - loss: 0.0663 - accuracy: 1.0000 - val_loss: 1.0093 - val_accuracy: 0.6000\n",
            "Epoch 28/300\n",
            "2/2 [==============================] - 8s 2s/step - loss: 0.0584 - accuracy: 1.0000 - val_loss: 1.0563 - val_accuracy: 0.5500\n",
            "Epoch 29/300\n",
            "2/2 [==============================] - 8s 7s/step - loss: 0.0615 - accuracy: 1.0000 - val_loss: 1.0095 - val_accuracy: 0.6000\n",
            "Epoch 30/300\n",
            "2/2 [==============================] - 8s 2s/step - loss: 0.0582 - accuracy: 1.0000 - val_loss: 1.0188 - val_accuracy: 0.6000\n",
            "Epoch 31/300\n",
            "2/2 [==============================] - 9s 2s/step - loss: 0.0603 - accuracy: 1.0000 - val_loss: 1.0435 - val_accuracy: 0.5500\n",
            "Epoch 32/300\n",
            "2/2 [==============================] - 8s 2s/step - loss: 0.0692 - accuracy: 1.0000 - val_loss: 1.0975 - val_accuracy: 0.5000\n",
            "Epoch 33/300\n",
            "2/2 [==============================] - 8s 2s/step - loss: 0.0985 - accuracy: 0.9750 - val_loss: 1.0342 - val_accuracy: 0.6000\n",
            "Epoch 34/300\n",
            "2/2 [==============================] - 8s 2s/step - loss: 0.0606 - accuracy: 1.0000 - val_loss: 1.0494 - val_accuracy: 0.6000\n",
            "Epoch 35/300\n",
            "2/2 [==============================] - 8s 7s/step - loss: 0.0583 - accuracy: 1.0000 - val_loss: 1.0371 - val_accuracy: 0.6000\n",
            "Epoch 36/300\n",
            "2/2 [==============================] - 8s 2s/step - loss: 0.0644 - accuracy: 1.0000 - val_loss: 1.1119 - val_accuracy: 0.5500\n",
            "Epoch 37/300\n",
            "2/2 [==============================] - 8s 2s/step - loss: 0.0700 - accuracy: 1.0000 - val_loss: 1.0533 - val_accuracy: 0.6000\n",
            "Epoch 38/300\n",
            "2/2 [==============================] - 8s 7s/step - loss: 0.0571 - accuracy: 1.0000 - val_loss: 1.0610 - val_accuracy: 0.6000\n",
            "Epoch 39/300\n",
            "2/2 [==============================] - 8s 2s/step - loss: 0.0596 - accuracy: 1.0000 - val_loss: 1.0882 - val_accuracy: 0.5500\n",
            "Epoch 40/300\n",
            "2/2 [==============================] - 8s 2s/step - loss: 0.0633 - accuracy: 1.0000 - val_loss: 1.0461 - val_accuracy: 0.6000\n",
            "Epoch 41/300\n",
            "2/2 [==============================] - 8s 2s/step - loss: 0.0485 - accuracy: 1.0000 - val_loss: 1.0745 - val_accuracy: 0.6000\n",
            "Epoch 42/300\n",
            "2/2 [==============================] - 8s 7s/step - loss: 0.0616 - accuracy: 1.0000 - val_loss: 1.0500 - val_accuracy: 0.6000\n",
            "Epoch 43/300\n",
            "2/2 [==============================] - 8s 7s/step - loss: 0.0679 - accuracy: 1.0000 - val_loss: 1.0593 - val_accuracy: 0.5500\n",
            "Epoch 44/300\n",
            "2/2 [==============================] - 8s 2s/step - loss: 0.0505 - accuracy: 1.0000 - val_loss: 1.0761 - val_accuracy: 0.6000\n",
            "Epoch 45/300\n",
            "2/2 [==============================] - 8s 2s/step - loss: 0.0593 - accuracy: 1.0000 - val_loss: 1.0681 - val_accuracy: 0.6000\n",
            "Epoch 46/300\n",
            "2/2 [==============================] - 8s 7s/step - loss: 0.0655 - accuracy: 1.0000 - val_loss: 1.0835 - val_accuracy: 0.6000\n",
            "Epoch 47/300\n",
            "2/2 [==============================] - 8s 7s/step - loss: 0.0527 - accuracy: 1.0000 - val_loss: 1.0666 - val_accuracy: 0.6000\n",
            "Epoch 48/300\n",
            "2/2 [==============================] - 8s 7s/step - loss: 0.0548 - accuracy: 1.0000 - val_loss: 1.0721 - val_accuracy: 0.5500\n",
            "Epoch 49/300\n",
            "2/2 [==============================] - 8s 2s/step - loss: 0.0573 - accuracy: 1.0000 - val_loss: 1.0671 - val_accuracy: 0.6000\n",
            "Epoch 50/300\n",
            "2/2 [==============================] - 8s 7s/step - loss: 0.0548 - accuracy: 1.0000 - val_loss: 1.0726 - val_accuracy: 0.6000\n",
            "Epoch 51/300\n",
            "2/2 [==============================] - 8s 7s/step - loss: 0.0510 - accuracy: 1.0000 - val_loss: 1.0797 - val_accuracy: 0.5500\n",
            "Epoch 52/300\n",
            "2/2 [==============================] - 8s 7s/step - loss: 0.0773 - accuracy: 1.0000 - val_loss: 1.1338 - val_accuracy: 0.5500\n",
            "Epoch 53/300\n",
            "2/2 [==============================] - 8s 7s/step - loss: 0.0635 - accuracy: 1.0000 - val_loss: 1.0900 - val_accuracy: 0.6000\n",
            "Epoch 54/300\n",
            "2/2 [==============================] - 8s 7s/step - loss: 0.0464 - accuracy: 1.0000 - val_loss: 1.0893 - val_accuracy: 0.5500\n",
            "Epoch 55/300\n",
            "2/2 [==============================] - 8s 2s/step - loss: 0.0736 - accuracy: 0.9750 - val_loss: 1.2091 - val_accuracy: 0.5500\n",
            "Epoch 56/300\n",
            "2/2 [==============================] - 8s 7s/step - loss: 0.1107 - accuracy: 0.9750 - val_loss: 1.1498 - val_accuracy: 0.5500\n",
            "Epoch 57/300\n",
            "2/2 [==============================] - 8s 7s/step - loss: 0.0545 - accuracy: 1.0000 - val_loss: 1.1030 - val_accuracy: 0.6000\n",
            "Epoch 58/300\n",
            "2/2 [==============================] - 8s 2s/step - loss: 0.0599 - accuracy: 0.9750 - val_loss: 1.2703 - val_accuracy: 0.5500\n",
            "Epoch 59/300\n",
            "2/2 [==============================] - 8s 7s/step - loss: 0.0591 - accuracy: 0.9750 - val_loss: 1.0912 - val_accuracy: 0.6000\n",
            "Epoch 60/300\n",
            "2/2 [==============================] - 8s 7s/step - loss: 0.1015 - accuracy: 0.9750 - val_loss: 1.1208 - val_accuracy: 0.6000\n",
            "Epoch 61/300\n",
            "2/2 [==============================] - 10s 3s/step - loss: 0.0660 - accuracy: 1.0000 - val_loss: 1.1142 - val_accuracy: 0.5500\n",
            "Epoch 62/300\n",
            "2/2 [==============================] - 8s 7s/step - loss: 0.0517 - accuracy: 1.0000 - val_loss: 1.1196 - val_accuracy: 0.6000\n",
            "Epoch 63/300\n",
            "2/2 [==============================] - 8s 7s/step - loss: 0.0397 - accuracy: 1.0000 - val_loss: 1.1165 - val_accuracy: 0.5500\n",
            "Epoch 64/300\n",
            "2/2 [==============================] - 8s 7s/step - loss: 0.0598 - accuracy: 1.0000 - val_loss: 1.1234 - val_accuracy: 0.6000\n",
            "Epoch 65/300\n",
            "2/2 [==============================] - 8s 2s/step - loss: 0.0355 - accuracy: 1.0000 - val_loss: 1.1245 - val_accuracy: 0.5500\n",
            "Epoch 66/300\n",
            "2/2 [==============================] - 8s 7s/step - loss: 0.0572 - accuracy: 1.0000 - val_loss: 1.1201 - val_accuracy: 0.6000\n",
            "Epoch 67/300\n",
            "2/2 [==============================] - 8s 7s/step - loss: 0.0567 - accuracy: 1.0000 - val_loss: 1.1409 - val_accuracy: 0.6000\n",
            "Epoch 68/300\n",
            "2/2 [==============================] - 8s 2s/step - loss: 0.0463 - accuracy: 1.0000 - val_loss: 1.1590 - val_accuracy: 0.5500\n",
            "Epoch 69/300\n",
            "2/2 [==============================] - 8s 2s/step - loss: 0.0381 - accuracy: 1.0000 - val_loss: 1.1412 - val_accuracy: 0.5500\n",
            "Epoch 70/300\n",
            "2/2 [==============================] - 8s 7s/step - loss: 0.0564 - accuracy: 1.0000 - val_loss: 1.1594 - val_accuracy: 0.6000\n",
            "Epoch 71/300\n",
            "2/2 [==============================] - 8s 2s/step - loss: 0.0420 - accuracy: 1.0000 - val_loss: 1.1369 - val_accuracy: 0.6000\n",
            "Epoch 72/300\n",
            "2/2 [==============================] - 8s 2s/step - loss: 0.0322 - accuracy: 1.0000 - val_loss: 1.1405 - val_accuracy: 0.6000\n",
            "Epoch 73/300\n",
            "2/2 [==============================] - 8s 7s/step - loss: 0.0411 - accuracy: 1.0000 - val_loss: 1.1497 - val_accuracy: 0.6000\n",
            "Epoch 74/300\n",
            "2/2 [==============================] - 8s 3s/step - loss: 0.0336 - accuracy: 1.0000 - val_loss: 1.1532 - val_accuracy: 0.5500\n",
            "Epoch 75/300\n",
            "2/2 [==============================] - 8s 7s/step - loss: 0.0513 - accuracy: 1.0000 - val_loss: 1.1490 - val_accuracy: 0.5500\n",
            "Epoch 76/300\n",
            "2/2 [==============================] - 8s 2s/step - loss: 0.0380 - accuracy: 1.0000 - val_loss: 1.1366 - val_accuracy: 0.6000\n",
            "Epoch 77/300\n",
            "2/2 [==============================] - 8s 2s/step - loss: 0.0468 - accuracy: 1.0000 - val_loss: 1.2344 - val_accuracy: 0.5500\n",
            "Epoch 78/300\n",
            "2/2 [==============================] - 8s 2s/step - loss: 0.0754 - accuracy: 1.0000 - val_loss: 1.2243 - val_accuracy: 0.5500\n",
            "Epoch 79/300\n",
            "2/2 [==============================] - 8s 2s/step - loss: 0.0528 - accuracy: 1.0000 - val_loss: 1.1422 - val_accuracy: 0.6000\n",
            "Epoch 80/300\n",
            "2/2 [==============================] - 8s 7s/step - loss: 0.0284 - accuracy: 1.0000 - val_loss: 1.1385 - val_accuracy: 0.5500\n",
            "Epoch 81/300\n",
            "2/2 [==============================] - 8s 7s/step - loss: 0.0495 - accuracy: 1.0000 - val_loss: 1.1466 - val_accuracy: 0.5500\n",
            "Epoch 82/300\n",
            "2/2 [==============================] - 8s 2s/step - loss: 0.0395 - accuracy: 1.0000 - val_loss: 1.1482 - val_accuracy: 0.6000\n",
            "Epoch 83/300\n",
            "2/2 [==============================] - 8s 7s/step - loss: 0.0373 - accuracy: 1.0000 - val_loss: 1.1428 - val_accuracy: 0.6000\n",
            "Epoch 84/300\n",
            "2/2 [==============================] - 9s 7s/step - loss: 0.0435 - accuracy: 1.0000 - val_loss: 1.1497 - val_accuracy: 0.5500\n",
            "Epoch 85/300\n",
            "2/2 [==============================] - 10s 3s/step - loss: 0.0385 - accuracy: 1.0000 - val_loss: 1.1593 - val_accuracy: 0.5500\n",
            "Epoch 86/300\n",
            "2/2 [==============================] - 8s 3s/step - loss: 0.0376 - accuracy: 1.0000 - val_loss: 1.1543 - val_accuracy: 0.6000\n",
            "Epoch 87/300\n",
            "2/2 [==============================] - 8s 7s/step - loss: 0.0417 - accuracy: 1.0000 - val_loss: 1.1674 - val_accuracy: 0.5500\n",
            "Epoch 88/300\n",
            "2/2 [==============================] - 8s 2s/step - loss: 0.0425 - accuracy: 1.0000 - val_loss: 1.1782 - val_accuracy: 0.6000\n",
            "Epoch 89/300\n",
            "2/2 [==============================] - 8s 7s/step - loss: 0.0359 - accuracy: 1.0000 - val_loss: 1.1705 - val_accuracy: 0.5500\n",
            "Epoch 90/300\n",
            "2/2 [==============================] - 8s 7s/step - loss: 0.0391 - accuracy: 1.0000 - val_loss: 1.1852 - val_accuracy: 0.5500\n",
            "Epoch 91/300\n",
            "2/2 [==============================] - 11s 9s/step - loss: 0.0466 - accuracy: 1.0000 - val_loss: 1.1768 - val_accuracy: 0.6000\n",
            "Epoch 92/300\n",
            "2/2 [==============================] - 8s 7s/step - loss: 0.0364 - accuracy: 1.0000 - val_loss: 1.1810 - val_accuracy: 0.5500\n",
            "Epoch 93/300\n",
            "2/2 [==============================] - 8s 2s/step - loss: 0.0370 - accuracy: 1.0000 - val_loss: 1.2033 - val_accuracy: 0.6000\n",
            "Epoch 94/300\n",
            "2/2 [==============================] - 8s 7s/step - loss: 0.0366 - accuracy: 1.0000 - val_loss: 1.1861 - val_accuracy: 0.6000\n",
            "Epoch 95/300\n",
            "2/2 [==============================] - 8s 7s/step - loss: 0.0432 - accuracy: 1.0000 - val_loss: 1.1912 - val_accuracy: 0.6000\n",
            "Epoch 96/300\n",
            "2/2 [==============================] - 8s 7s/step - loss: 0.0665 - accuracy: 1.0000 - val_loss: 1.1899 - val_accuracy: 0.6000\n",
            "Epoch 97/300\n",
            "2/2 [==============================] - 8s 7s/step - loss: 0.0542 - accuracy: 1.0000 - val_loss: 1.1992 - val_accuracy: 0.6000\n",
            "Epoch 98/300\n",
            "2/2 [==============================] - 8s 2s/step - loss: 0.0382 - accuracy: 1.0000 - val_loss: 1.2053 - val_accuracy: 0.6000\n",
            "Epoch 99/300\n",
            "2/2 [==============================] - 8s 3s/step - loss: 0.0340 - accuracy: 1.0000 - val_loss: 1.2030 - val_accuracy: 0.6000\n",
            "Epoch 100/300\n",
            "2/2 [==============================] - 8s 7s/step - loss: 0.0403 - accuracy: 1.0000 - val_loss: 1.2159 - val_accuracy: 0.6000\n",
            "Epoch 101/300\n",
            "2/2 [==============================] - 9s 7s/step - loss: 0.0309 - accuracy: 1.0000 - val_loss: 1.2007 - val_accuracy: 0.6000\n",
            "Epoch 102/300\n",
            "2/2 [==============================] - 8s 2s/step - loss: 0.0341 - accuracy: 1.0000 - val_loss: 1.2040 - val_accuracy: 0.5500\n",
            "Epoch 103/300\n",
            "2/2 [==============================] - 8s 2s/step - loss: 0.0304 - accuracy: 1.0000 - val_loss: 1.2118 - val_accuracy: 0.6000\n",
            "Epoch 104/300\n",
            "2/2 [==============================] - 8s 7s/step - loss: 0.0384 - accuracy: 1.0000 - val_loss: 1.2218 - val_accuracy: 0.5500\n",
            "Epoch 105/300\n",
            "2/2 [==============================] - 8s 3s/step - loss: 0.0429 - accuracy: 1.0000 - val_loss: 1.3260 - val_accuracy: 0.5500\n",
            "Epoch 106/300\n",
            "2/2 [==============================] - 8s 2s/step - loss: 0.0578 - accuracy: 0.9750 - val_loss: 1.2253 - val_accuracy: 0.6000\n",
            "Epoch 107/300\n",
            "2/2 [==============================] - 8s 7s/step - loss: 0.0345 - accuracy: 1.0000 - val_loss: 1.2273 - val_accuracy: 0.6000\n",
            "Epoch 108/300\n",
            "2/2 [==============================] - 8s 2s/step - loss: 0.0341 - accuracy: 1.0000 - val_loss: 1.2920 - val_accuracy: 0.5500\n",
            "Epoch 109/300\n",
            "2/2 [==============================] - 8s 7s/step - loss: 0.0294 - accuracy: 1.0000 - val_loss: 1.2363 - val_accuracy: 0.5500\n",
            "Epoch 110/300\n",
            "2/2 [==============================] - 8s 7s/step - loss: 0.0321 - accuracy: 1.0000 - val_loss: 1.2318 - val_accuracy: 0.5500\n",
            "Epoch 111/300\n",
            "2/2 [==============================] - 8s 3s/step - loss: 0.0315 - accuracy: 1.0000 - val_loss: 1.2383 - val_accuracy: 0.6000\n",
            "Epoch 112/300\n",
            "2/2 [==============================] - 8s 7s/step - loss: 0.0428 - accuracy: 1.0000 - val_loss: 1.2355 - val_accuracy: 0.6000\n",
            "Epoch 113/300\n",
            "2/2 [==============================] - 8s 7s/step - loss: 0.0260 - accuracy: 1.0000 - val_loss: 1.2420 - val_accuracy: 0.5500\n",
            "Epoch 114/300\n",
            "2/2 [==============================] - 8s 2s/step - loss: 0.0364 - accuracy: 1.0000 - val_loss: 1.2425 - val_accuracy: 0.6000\n",
            "Epoch 115/300\n",
            "2/2 [==============================] - 8s 2s/step - loss: 0.0317 - accuracy: 1.0000 - val_loss: 1.2562 - val_accuracy: 0.6000\n",
            "Epoch 116/300\n",
            "2/2 [==============================] - 8s 2s/step - loss: 0.0414 - accuracy: 1.0000 - val_loss: 1.2389 - val_accuracy: 0.5500\n",
            "Epoch 117/300\n",
            "2/2 [==============================] - 8s 2s/step - loss: 0.0293 - accuracy: 1.0000 - val_loss: 1.2740 - val_accuracy: 0.5500\n",
            "Epoch 118/300\n",
            "2/2 [==============================] - 8s 7s/step - loss: 0.0373 - accuracy: 1.0000 - val_loss: 1.2400 - val_accuracy: 0.6000\n",
            "Epoch 119/300\n",
            "2/2 [==============================] - 9s 3s/step - loss: 0.0389 - accuracy: 1.0000 - val_loss: 1.2850 - val_accuracy: 0.6000\n",
            "Epoch 120/300\n",
            "2/2 [==============================] - 11s 9s/step - loss: 0.0277 - accuracy: 1.0000 - val_loss: 1.2511 - val_accuracy: 0.6000\n",
            "Epoch 121/300\n",
            "2/2 [==============================] - 8s 7s/step - loss: 0.0367 - accuracy: 1.0000 - val_loss: 1.2591 - val_accuracy: 0.5500\n",
            "Epoch 122/300\n",
            "2/2 [==============================] - 8s 2s/step - loss: 0.0259 - accuracy: 1.0000 - val_loss: 1.2913 - val_accuracy: 0.6000\n",
            "Epoch 123/300\n",
            "2/2 [==============================] - 8s 3s/step - loss: 0.0443 - accuracy: 1.0000 - val_loss: 1.2775 - val_accuracy: 0.5500\n",
            "Epoch 124/300\n",
            "2/2 [==============================] - 8s 3s/step - loss: 0.0359 - accuracy: 1.0000 - val_loss: 1.2664 - val_accuracy: 0.6000\n",
            "Epoch 125/300\n",
            "2/2 [==============================] - 8s 7s/step - loss: 0.0451 - accuracy: 1.0000 - val_loss: 1.2747 - val_accuracy: 0.5500\n",
            "Epoch 126/300\n",
            "2/2 [==============================] - 9s 7s/step - loss: 0.0298 - accuracy: 1.0000 - val_loss: 1.2627 - val_accuracy: 0.6000\n",
            "Epoch 127/300\n",
            "2/2 [==============================] - 8s 2s/step - loss: 0.0331 - accuracy: 1.0000 - val_loss: 1.2569 - val_accuracy: 0.6000\n",
            "Epoch 128/300\n",
            "2/2 [==============================] - 8s 3s/step - loss: 0.0348 - accuracy: 1.0000 - val_loss: 1.2619 - val_accuracy: 0.6000\n",
            "Epoch 129/300\n",
            "2/2 [==============================] - 8s 7s/step - loss: 0.0222 - accuracy: 1.0000 - val_loss: 1.2617 - val_accuracy: 0.5500\n",
            "Epoch 130/300\n",
            "2/2 [==============================] - 9s 7s/step - loss: 0.0288 - accuracy: 1.0000 - val_loss: 1.2594 - val_accuracy: 0.5500\n",
            "Epoch 131/300\n",
            "2/2 [==============================] - 8s 7s/step - loss: 0.0402 - accuracy: 1.0000 - val_loss: 1.2626 - val_accuracy: 0.6000\n",
            "Epoch 132/300\n",
            "2/2 [==============================] - 8s 3s/step - loss: 0.0266 - accuracy: 1.0000 - val_loss: 1.3075 - val_accuracy: 0.6000\n",
            "Epoch 133/300\n",
            "2/2 [==============================] - 8s 7s/step - loss: 0.0263 - accuracy: 1.0000 - val_loss: 1.2737 - val_accuracy: 0.5500\n",
            "Epoch 134/300\n",
            "2/2 [==============================] - 8s 7s/step - loss: 0.0247 - accuracy: 1.0000 - val_loss: 1.2811 - val_accuracy: 0.5500\n",
            "Epoch 135/300\n",
            "2/2 [==============================] - 9s 3s/step - loss: 0.0229 - accuracy: 1.0000 - val_loss: 1.2773 - val_accuracy: 0.5500\n",
            "Epoch 136/300\n",
            "2/2 [==============================] - 8s 3s/step - loss: 0.0253 - accuracy: 1.0000 - val_loss: 1.2910 - val_accuracy: 0.5500\n",
            "Epoch 137/300\n",
            "2/2 [==============================] - 8s 3s/step - loss: 0.0317 - accuracy: 1.0000 - val_loss: 1.3058 - val_accuracy: 0.6000\n",
            "Epoch 138/300\n",
            "2/2 [==============================] - 8s 3s/step - loss: 0.0354 - accuracy: 1.0000 - val_loss: 1.3300 - val_accuracy: 0.6000\n",
            "Epoch 139/300\n",
            "2/2 [==============================] - 8s 7s/step - loss: 0.0466 - accuracy: 1.0000 - val_loss: 1.2794 - val_accuracy: 0.5500\n",
            "Epoch 140/300\n",
            "2/2 [==============================] - 8s 7s/step - loss: 0.0230 - accuracy: 1.0000 - val_loss: 1.2810 - val_accuracy: 0.5500\n",
            "Epoch 141/300\n",
            "2/2 [==============================] - 8s 7s/step - loss: 0.0353 - accuracy: 1.0000 - val_loss: 1.2814 - val_accuracy: 0.5500\n",
            "Epoch 142/300\n",
            "2/2 [==============================] - 8s 7s/step - loss: 0.0301 - accuracy: 1.0000 - val_loss: 1.2792 - val_accuracy: 0.5500\n",
            "Epoch 143/300\n",
            "2/2 [==============================] - 8s 2s/step - loss: 0.0228 - accuracy: 1.0000 - val_loss: 1.2794 - val_accuracy: 0.5500\n",
            "Epoch 144/300\n",
            "2/2 [==============================] - 8s 2s/step - loss: 0.0247 - accuracy: 1.0000 - val_loss: 1.2829 - val_accuracy: 0.5500\n",
            "Epoch 145/300\n",
            "2/2 [==============================] - 8s 7s/step - loss: 0.0358 - accuracy: 1.0000 - val_loss: 1.2853 - val_accuracy: 0.6000\n",
            "Epoch 146/300\n",
            "2/2 [==============================] - 8s 2s/step - loss: 0.0319 - accuracy: 1.0000 - val_loss: 1.2883 - val_accuracy: 0.6000\n",
            "Epoch 147/300\n",
            "2/2 [==============================] - 8s 2s/step - loss: 0.0248 - accuracy: 1.0000 - val_loss: 1.2861 - val_accuracy: 0.5500\n",
            "Epoch 148/300\n",
            "2/2 [==============================] - 8s 2s/step - loss: 0.0212 - accuracy: 1.0000 - val_loss: 1.2888 - val_accuracy: 0.5500\n",
            "Epoch 149/300\n",
            "2/2 [==============================] - 11s 9s/step - loss: 0.0321 - accuracy: 1.0000 - val_loss: 1.2849 - val_accuracy: 0.6000\n",
            "Epoch 150/300\n",
            "2/2 [==============================] - 8s 7s/step - loss: 0.0256 - accuracy: 1.0000 - val_loss: 1.2888 - val_accuracy: 0.5500\n",
            "Epoch 151/300\n",
            "2/2 [==============================] - 10s 9s/step - loss: 0.0158 - accuracy: 1.0000 - val_loss: 1.2904 - val_accuracy: 0.6000\n",
            "Epoch 152/300\n",
            "2/2 [==============================] - 8s 7s/step - loss: 0.0213 - accuracy: 1.0000 - val_loss: 1.3030 - val_accuracy: 0.5500\n",
            "Epoch 153/300\n",
            "2/2 [==============================] - 8s 7s/step - loss: 0.0264 - accuracy: 1.0000 - val_loss: 1.3008 - val_accuracy: 0.6000\n",
            "Epoch 154/300\n",
            "2/2 [==============================] - 8s 7s/step - loss: 0.0207 - accuracy: 1.0000 - val_loss: 1.3110 - val_accuracy: 0.5500\n",
            "Epoch 155/300\n",
            "2/2 [==============================] - 8s 3s/step - loss: 0.0269 - accuracy: 1.0000 - val_loss: 1.3371 - val_accuracy: 0.6000\n",
            "Epoch 156/300\n",
            "2/2 [==============================] - 8s 3s/step - loss: 0.0242 - accuracy: 1.0000 - val_loss: 1.3166 - val_accuracy: 0.6000\n",
            "Epoch 157/300\n",
            "2/2 [==============================] - 8s 2s/step - loss: 0.0229 - accuracy: 1.0000 - val_loss: 1.3118 - val_accuracy: 0.5500\n",
            "Epoch 158/300\n",
            "2/2 [==============================] - 9s 3s/step - loss: 0.0218 - accuracy: 1.0000 - val_loss: 1.3396 - val_accuracy: 0.6000\n",
            "Epoch 159/300\n",
            "2/2 [==============================] - 8s 7s/step - loss: 0.0229 - accuracy: 1.0000 - val_loss: 1.3049 - val_accuracy: 0.6000\n",
            "Epoch 160/300\n",
            "2/2 [==============================] - 8s 3s/step - loss: 0.0270 - accuracy: 1.0000 - val_loss: 1.3071 - val_accuracy: 0.6000\n",
            "Epoch 161/300\n",
            "2/2 [==============================] - 8s 3s/step - loss: 0.0229 - accuracy: 1.0000 - val_loss: 1.3278 - val_accuracy: 0.6000\n",
            "Epoch 162/300\n",
            "2/2 [==============================] - 8s 7s/step - loss: 0.0304 - accuracy: 1.0000 - val_loss: 1.3013 - val_accuracy: 0.6000\n",
            "Epoch 163/300\n",
            "2/2 [==============================] - 9s 7s/step - loss: 0.0183 - accuracy: 1.0000 - val_loss: 1.3042 - val_accuracy: 0.6000\n",
            "Epoch 164/300\n",
            "2/2 [==============================] - 8s 3s/step - loss: 0.0197 - accuracy: 1.0000 - val_loss: 1.3217 - val_accuracy: 0.6000\n",
            "Epoch 165/300\n",
            "2/2 [==============================] - 8s 3s/step - loss: 0.0276 - accuracy: 1.0000 - val_loss: 1.3090 - val_accuracy: 0.5500\n",
            "Epoch 166/300\n",
            "2/2 [==============================] - 9s 7s/step - loss: 0.0246 - accuracy: 1.0000 - val_loss: 1.3020 - val_accuracy: 0.6000\n",
            "Epoch 167/300\n",
            "2/2 [==============================] - 8s 3s/step - loss: 0.0206 - accuracy: 1.0000 - val_loss: 1.3154 - val_accuracy: 0.5500\n",
            "Epoch 168/300\n",
            "2/2 [==============================] - 8s 3s/step - loss: 0.0238 - accuracy: 1.0000 - val_loss: 1.3260 - val_accuracy: 0.6000\n",
            "Epoch 169/300\n",
            "2/2 [==============================] - 8s 7s/step - loss: 0.0209 - accuracy: 1.0000 - val_loss: 1.3179 - val_accuracy: 0.5500\n",
            "Epoch 170/300\n",
            "2/2 [==============================] - 8s 7s/step - loss: 0.0204 - accuracy: 1.0000 - val_loss: 1.3100 - val_accuracy: 0.6000\n",
            "Epoch 171/300\n",
            "2/2 [==============================] - 8s 2s/step - loss: 0.0226 - accuracy: 1.0000 - val_loss: 1.3312 - val_accuracy: 0.6000\n",
            "Epoch 172/300\n",
            "2/2 [==============================] - 8s 2s/step - loss: 0.0222 - accuracy: 1.0000 - val_loss: 1.3271 - val_accuracy: 0.5500\n",
            "Epoch 173/300\n",
            "2/2 [==============================] - 8s 3s/step - loss: 0.0244 - accuracy: 1.0000 - val_loss: 1.3347 - val_accuracy: 0.5500\n",
            "Epoch 174/300\n",
            "2/2 [==============================] - 8s 7s/step - loss: 0.0257 - accuracy: 1.0000 - val_loss: 1.3217 - val_accuracy: 0.6000\n",
            "Epoch 175/300\n",
            "2/2 [==============================] - 8s 3s/step - loss: 0.0206 - accuracy: 1.0000 - val_loss: 1.3237 - val_accuracy: 0.6000\n",
            "Epoch 176/300\n",
            "2/2 [==============================] - 8s 3s/step - loss: 0.0169 - accuracy: 1.0000 - val_loss: 1.3359 - val_accuracy: 0.5500\n",
            "Epoch 177/300\n",
            "2/2 [==============================] - 8s 2s/step - loss: 0.0173 - accuracy: 1.0000 - val_loss: 1.3292 - val_accuracy: 0.5500\n",
            "Epoch 178/300\n",
            "2/2 [==============================] - 8s 7s/step - loss: 0.0189 - accuracy: 1.0000 - val_loss: 1.3348 - val_accuracy: 0.5500\n",
            "Epoch 179/300\n",
            "2/2 [==============================] - 10s 9s/step - loss: 0.0504 - accuracy: 1.0000 - val_loss: 1.3212 - val_accuracy: 0.6000\n",
            "Epoch 180/300\n",
            "2/2 [==============================] - 8s 2s/step - loss: 0.0199 - accuracy: 1.0000 - val_loss: 1.3322 - val_accuracy: 0.5500\n",
            "Epoch 181/300\n",
            "2/2 [==============================] - 8s 2s/step - loss: 0.0200 - accuracy: 1.0000 - val_loss: 1.3506 - val_accuracy: 0.6000\n",
            "Epoch 182/300\n",
            "2/2 [==============================] - 9s 2s/step - loss: 0.0301 - accuracy: 1.0000 - val_loss: 1.3922 - val_accuracy: 0.6000\n",
            "Epoch 183/300\n",
            "2/2 [==============================] - 8s 7s/step - loss: 0.0459 - accuracy: 1.0000 - val_loss: 1.3548 - val_accuracy: 0.5500\n",
            "Epoch 184/300\n",
            "2/2 [==============================] - 9s 7s/step - loss: 0.0161 - accuracy: 1.0000 - val_loss: 1.3492 - val_accuracy: 0.5500\n",
            "Epoch 185/300\n",
            "2/2 [==============================] - 8s 7s/step - loss: 0.0152 - accuracy: 1.0000 - val_loss: 1.3494 - val_accuracy: 0.5500\n",
            "Epoch 186/300\n",
            "2/2 [==============================] - 8s 3s/step - loss: 0.0222 - accuracy: 1.0000 - val_loss: 1.3490 - val_accuracy: 0.6000\n",
            "Epoch 187/300\n",
            "2/2 [==============================] - 9s 3s/step - loss: 0.0163 - accuracy: 1.0000 - val_loss: 1.3550 - val_accuracy: 0.6000\n",
            "Epoch 188/300\n",
            "2/2 [==============================] - 8s 7s/step - loss: 0.0191 - accuracy: 1.0000 - val_loss: 1.3593 - val_accuracy: 0.5500\n",
            "Epoch 189/300\n",
            "2/2 [==============================] - 8s 2s/step - loss: 0.0222 - accuracy: 1.0000 - val_loss: 1.3603 - val_accuracy: 0.6000\n",
            "Epoch 190/300\n",
            "2/2 [==============================] - 8s 2s/step - loss: 0.0175 - accuracy: 1.0000 - val_loss: 1.3601 - val_accuracy: 0.6000\n",
            "Epoch 191/300\n",
            "2/2 [==============================] - 8s 7s/step - loss: 0.0248 - accuracy: 1.0000 - val_loss: 1.3676 - val_accuracy: 0.5500\n",
            "Epoch 192/300\n",
            "2/2 [==============================] - 8s 7s/step - loss: 0.0155 - accuracy: 1.0000 - val_loss: 1.3735 - val_accuracy: 0.5500\n",
            "Epoch 193/300\n",
            "2/2 [==============================] - 8s 7s/step - loss: 0.0220 - accuracy: 1.0000 - val_loss: 1.3759 - val_accuracy: 0.5500\n",
            "Epoch 194/300\n",
            "2/2 [==============================] - 8s 3s/step - loss: 0.0190 - accuracy: 1.0000 - val_loss: 1.3833 - val_accuracy: 0.5500\n",
            "Epoch 195/300\n",
            "2/2 [==============================] - 9s 7s/step - loss: 0.0208 - accuracy: 1.0000 - val_loss: 1.3848 - val_accuracy: 0.5500\n",
            "Epoch 196/300\n",
            "2/2 [==============================] - 8s 7s/step - loss: 0.0218 - accuracy: 1.0000 - val_loss: 1.3737 - val_accuracy: 0.6000\n",
            "Epoch 197/300\n",
            "2/2 [==============================] - 8s 3s/step - loss: 0.0183 - accuracy: 1.0000 - val_loss: 1.3747 - val_accuracy: 0.6000\n",
            "Epoch 198/300\n",
            "2/2 [==============================] - 8s 2s/step - loss: 0.0216 - accuracy: 1.0000 - val_loss: 1.4055 - val_accuracy: 0.6000\n",
            "Epoch 199/300\n",
            "2/2 [==============================] - 8s 7s/step - loss: 0.0197 - accuracy: 1.0000 - val_loss: 1.3693 - val_accuracy: 0.6000\n",
            "Epoch 200/300\n",
            "2/2 [==============================] - 8s 7s/step - loss: 0.0287 - accuracy: 1.0000 - val_loss: 1.3785 - val_accuracy: 0.5500\n",
            "Epoch 201/300\n",
            "2/2 [==============================] - 8s 3s/step - loss: 0.0150 - accuracy: 1.0000 - val_loss: 1.3723 - val_accuracy: 0.6000\n",
            "Epoch 202/300\n",
            "2/2 [==============================] - 8s 3s/step - loss: 0.0216 - accuracy: 1.0000 - val_loss: 1.3745 - val_accuracy: 0.6000\n",
            "Epoch 203/300\n",
            "2/2 [==============================] - 8s 7s/step - loss: 0.0117 - accuracy: 1.0000 - val_loss: 1.3751 - val_accuracy: 0.6000\n",
            "Epoch 204/300\n",
            "2/2 [==============================] - 8s 7s/step - loss: 0.0156 - accuracy: 1.0000 - val_loss: 1.3784 - val_accuracy: 0.5500\n",
            "Epoch 205/300\n",
            "2/2 [==============================] - 8s 3s/step - loss: 0.0135 - accuracy: 1.0000 - val_loss: 1.3723 - val_accuracy: 0.5500\n",
            "Epoch 206/300\n",
            "2/2 [==============================] - 8s 7s/step - loss: 0.0225 - accuracy: 1.0000 - val_loss: 1.3712 - val_accuracy: 0.6000\n",
            "Epoch 207/300\n",
            "2/2 [==============================] - 8s 2s/step - loss: 0.0136 - accuracy: 1.0000 - val_loss: 1.3715 - val_accuracy: 0.6000\n",
            "Epoch 208/300\n",
            "2/2 [==============================] - 8s 2s/step - loss: 0.0180 - accuracy: 1.0000 - val_loss: 1.3736 - val_accuracy: 0.6000\n",
            "Epoch 209/300\n",
            "2/2 [==============================] - 10s 2s/step - loss: 0.0139 - accuracy: 1.0000 - val_loss: 1.3808 - val_accuracy: 0.5500\n",
            "Epoch 210/300\n",
            "2/2 [==============================] - 8s 7s/step - loss: 0.0149 - accuracy: 1.0000 - val_loss: 1.3764 - val_accuracy: 0.5500\n",
            "Epoch 211/300\n",
            "2/2 [==============================] - 9s 3s/step - loss: 0.0126 - accuracy: 1.0000 - val_loss: 1.3806 - val_accuracy: 0.5500\n",
            "Epoch 212/300\n",
            "2/2 [==============================] - 9s 7s/step - loss: 0.0169 - accuracy: 1.0000 - val_loss: 1.3826 - val_accuracy: 0.6000\n",
            "Epoch 213/300\n",
            "2/2 [==============================] - 8s 7s/step - loss: 0.0206 - accuracy: 1.0000 - val_loss: 1.3859 - val_accuracy: 0.6000\n",
            "Epoch 214/300\n",
            "2/2 [==============================] - 9s 7s/step - loss: 0.0181 - accuracy: 1.0000 - val_loss: 1.4000 - val_accuracy: 0.5500\n",
            "Epoch 215/300\n",
            "2/2 [==============================] - 9s 3s/step - loss: 0.0171 - accuracy: 1.0000 - val_loss: 1.4027 - val_accuracy: 0.6000\n",
            "Epoch 216/300\n",
            "2/2 [==============================] - 8s 3s/step - loss: 0.0197 - accuracy: 1.0000 - val_loss: 1.3996 - val_accuracy: 0.5500\n",
            "Epoch 217/300\n",
            "2/2 [==============================] - 8s 7s/step - loss: 0.0195 - accuracy: 1.0000 - val_loss: 1.4037 - val_accuracy: 0.5500\n",
            "Epoch 218/300\n",
            "2/2 [==============================] - 9s 3s/step - loss: 0.0148 - accuracy: 1.0000 - val_loss: 1.4091 - val_accuracy: 0.5500\n",
            "Epoch 219/300\n",
            "2/2 [==============================] - 9s 7s/step - loss: 0.0174 - accuracy: 1.0000 - val_loss: 1.3974 - val_accuracy: 0.6000\n",
            "Epoch 220/300\n",
            "2/2 [==============================] - 8s 7s/step - loss: 0.0160 - accuracy: 1.0000 - val_loss: 1.3981 - val_accuracy: 0.6000\n",
            "Epoch 221/300\n",
            "2/2 [==============================] - 9s 7s/step - loss: 0.0111 - accuracy: 1.0000 - val_loss: 1.4009 - val_accuracy: 0.6000\n",
            "Epoch 222/300\n",
            "2/2 [==============================] - 9s 3s/step - loss: 0.0157 - accuracy: 1.0000 - val_loss: 1.4059 - val_accuracy: 0.5500\n",
            "Epoch 223/300\n",
            "2/2 [==============================] - 9s 3s/step - loss: 0.0146 - accuracy: 1.0000 - val_loss: 1.4621 - val_accuracy: 0.6000\n",
            "Epoch 224/300\n",
            "2/2 [==============================] - 8s 3s/step - loss: 0.0195 - accuracy: 1.0000 - val_loss: 1.4141 - val_accuracy: 0.5500\n",
            "Epoch 225/300\n",
            "2/2 [==============================] - 8s 3s/step - loss: 0.0174 - accuracy: 1.0000 - val_loss: 1.4106 - val_accuracy: 0.6000\n",
            "Epoch 226/300\n",
            "2/2 [==============================] - 9s 7s/step - loss: 0.0293 - accuracy: 1.0000 - val_loss: 1.4104 - val_accuracy: 0.5500\n",
            "Epoch 227/300\n",
            "2/2 [==============================] - 8s 7s/step - loss: 0.0145 - accuracy: 1.0000 - val_loss: 1.4157 - val_accuracy: 0.5500\n",
            "Epoch 228/300\n",
            "2/2 [==============================] - 8s 3s/step - loss: 0.0196 - accuracy: 1.0000 - val_loss: 1.4191 - val_accuracy: 0.6000\n",
            "Epoch 229/300\n",
            "2/2 [==============================] - 8s 3s/step - loss: 0.0171 - accuracy: 1.0000 - val_loss: 1.4420 - val_accuracy: 0.6000\n",
            "Epoch 230/300\n",
            "2/2 [==============================] - 8s 7s/step - loss: 0.0128 - accuracy: 1.0000 - val_loss: 1.4133 - val_accuracy: 0.5500\n",
            "Epoch 231/300\n",
            "2/2 [==============================] - 9s 7s/step - loss: 0.0109 - accuracy: 1.0000 - val_loss: 1.4149 - val_accuracy: 0.5500\n",
            "Epoch 232/300\n",
            "2/2 [==============================] - 8s 7s/step - loss: 0.0128 - accuracy: 1.0000 - val_loss: 1.4125 - val_accuracy: 0.6000\n",
            "Epoch 233/300\n",
            "2/2 [==============================] - 9s 7s/step - loss: 0.0189 - accuracy: 1.0000 - val_loss: 1.4217 - val_accuracy: 0.5500\n",
            "Epoch 234/300\n",
            "2/2 [==============================] - 8s 3s/step - loss: 0.0157 - accuracy: 1.0000 - val_loss: 1.4278 - val_accuracy: 0.5500\n",
            "Epoch 235/300\n",
            "2/2 [==============================] - 9s 3s/step - loss: 0.0131 - accuracy: 1.0000 - val_loss: 1.4182 - val_accuracy: 0.5500\n",
            "Epoch 236/300\n",
            "2/2 [==============================] - 9s 7s/step - loss: 0.0141 - accuracy: 1.0000 - val_loss: 1.4205 - val_accuracy: 0.5500\n",
            "Epoch 237/300\n",
            "2/2 [==============================] - 8s 3s/step - loss: 0.0176 - accuracy: 1.0000 - val_loss: 1.4348 - val_accuracy: 0.6000\n",
            "Epoch 238/300\n",
            "2/2 [==============================] - 11s 3s/step - loss: 0.0119 - accuracy: 1.0000 - val_loss: 1.4257 - val_accuracy: 0.5500\n",
            "Epoch 239/300\n",
            "2/2 [==============================] - 9s 3s/step - loss: 0.0160 - accuracy: 1.0000 - val_loss: 1.4157 - val_accuracy: 0.6000\n",
            "Epoch 240/300\n",
            "2/2 [==============================] - 9s 3s/step - loss: 0.0133 - accuracy: 1.0000 - val_loss: 1.4183 - val_accuracy: 0.6000\n",
            "Epoch 241/300\n",
            "2/2 [==============================] - 9s 3s/step - loss: 0.0150 - accuracy: 1.0000 - val_loss: 1.4391 - val_accuracy: 0.6000\n",
            "Epoch 242/300\n",
            "2/2 [==============================] - 8s 7s/step - loss: 0.0122 - accuracy: 1.0000 - val_loss: 1.4286 - val_accuracy: 0.5500\n",
            "Epoch 243/300\n",
            "2/2 [==============================] - 8s 7s/step - loss: 0.0146 - accuracy: 1.0000 - val_loss: 1.4227 - val_accuracy: 0.6000\n",
            "Epoch 244/300\n",
            "2/2 [==============================] - 9s 3s/step - loss: 0.0240 - accuracy: 1.0000 - val_loss: 1.4249 - val_accuracy: 0.5500\n",
            "Epoch 245/300\n",
            "2/2 [==============================] - 8s 7s/step - loss: 0.0105 - accuracy: 1.0000 - val_loss: 1.4280 - val_accuracy: 0.5500\n",
            "Epoch 246/300\n",
            "2/2 [==============================] - 9s 3s/step - loss: 0.0133 - accuracy: 1.0000 - val_loss: 1.4230 - val_accuracy: 0.6000\n",
            "Epoch 247/300\n",
            "2/2 [==============================] - 8s 7s/step - loss: 0.0213 - accuracy: 1.0000 - val_loss: 1.4450 - val_accuracy: 0.5500\n",
            "Epoch 248/300\n",
            "2/2 [==============================] - 8s 7s/step - loss: 0.0144 - accuracy: 1.0000 - val_loss: 1.4347 - val_accuracy: 0.6000\n",
            "Epoch 249/300\n",
            "2/2 [==============================] - 8s 2s/step - loss: 0.0138 - accuracy: 1.0000 - val_loss: 1.4368 - val_accuracy: 0.6000\n",
            "Epoch 250/300\n",
            "2/2 [==============================] - 8s 7s/step - loss: 0.0157 - accuracy: 1.0000 - val_loss: 1.4378 - val_accuracy: 0.6000\n",
            "Epoch 251/300\n",
            "2/2 [==============================] - 8s 3s/step - loss: 0.0133 - accuracy: 1.0000 - val_loss: 1.4488 - val_accuracy: 0.5500\n",
            "Epoch 252/300\n",
            "2/2 [==============================] - 9s 3s/step - loss: 0.0149 - accuracy: 1.0000 - val_loss: 1.4508 - val_accuracy: 0.5500\n",
            "Epoch 253/300\n",
            "2/2 [==============================] - 8s 7s/step - loss: 0.0142 - accuracy: 1.0000 - val_loss: 1.4482 - val_accuracy: 0.5500\n",
            "Epoch 254/300\n",
            "2/2 [==============================] - 8s 3s/step - loss: 0.0131 - accuracy: 1.0000 - val_loss: 1.4525 - val_accuracy: 0.5500\n",
            "Epoch 255/300\n",
            "2/2 [==============================] - 8s 7s/step - loss: 0.0357 - accuracy: 1.0000 - val_loss: 1.4558 - val_accuracy: 0.5500\n",
            "Epoch 256/300\n",
            "2/2 [==============================] - 8s 2s/step - loss: 0.0124 - accuracy: 1.0000 - val_loss: 1.4680 - val_accuracy: 0.6000\n",
            "Epoch 257/300\n",
            "2/2 [==============================] - 9s 3s/step - loss: 0.0149 - accuracy: 1.0000 - val_loss: 1.4523 - val_accuracy: 0.6000\n",
            "Epoch 258/300\n",
            "2/2 [==============================] - 9s 3s/step - loss: 0.0157 - accuracy: 1.0000 - val_loss: 1.4551 - val_accuracy: 0.5500\n",
            "Epoch 259/300\n",
            "2/2 [==============================] - 9s 7s/step - loss: 0.0114 - accuracy: 1.0000 - val_loss: 1.4575 - val_accuracy: 0.5500\n",
            "Epoch 260/300\n",
            "2/2 [==============================] - 8s 3s/step - loss: 0.0146 - accuracy: 1.0000 - val_loss: 1.4758 - val_accuracy: 0.6000\n",
            "Epoch 261/300\n",
            "2/2 [==============================] - 8s 3s/step - loss: 0.0178 - accuracy: 1.0000 - val_loss: 1.4531 - val_accuracy: 0.6000\n",
            "Epoch 262/300\n",
            "2/2 [==============================] - 9s 3s/step - loss: 0.0132 - accuracy: 1.0000 - val_loss: 1.4793 - val_accuracy: 0.6000\n",
            "Epoch 263/300\n",
            "2/2 [==============================] - 8s 7s/step - loss: 0.0164 - accuracy: 1.0000 - val_loss: 1.4624 - val_accuracy: 0.6000\n",
            "Epoch 264/300\n",
            "2/2 [==============================] - 8s 7s/step - loss: 0.0128 - accuracy: 1.0000 - val_loss: 1.4610 - val_accuracy: 0.6000\n",
            "Epoch 265/300\n",
            "2/2 [==============================] - 8s 7s/step - loss: 0.0119 - accuracy: 1.0000 - val_loss: 1.4680 - val_accuracy: 0.5500\n",
            "Epoch 266/300\n",
            "2/2 [==============================] - 8s 3s/step - loss: 0.0112 - accuracy: 1.0000 - val_loss: 1.4633 - val_accuracy: 0.6000\n",
            "Epoch 267/300\n",
            "2/2 [==============================] - 9s 3s/step - loss: 0.0144 - accuracy: 1.0000 - val_loss: 1.4724 - val_accuracy: 0.5500\n",
            "Epoch 268/300\n",
            "2/2 [==============================] - 10s 9s/step - loss: 0.0189 - accuracy: 1.0000 - val_loss: 1.4762 - val_accuracy: 0.5500\n",
            "Epoch 269/300\n",
            "2/2 [==============================] - 9s 3s/step - loss: 0.0118 - accuracy: 1.0000 - val_loss: 1.4767 - val_accuracy: 0.6000\n",
            "Epoch 270/300\n",
            "2/2 [==============================] - 8s 3s/step - loss: 0.0169 - accuracy: 1.0000 - val_loss: 1.4868 - val_accuracy: 0.5500\n",
            "Epoch 271/300\n",
            "2/2 [==============================] - 8s 7s/step - loss: 0.0127 - accuracy: 1.0000 - val_loss: 1.4798 - val_accuracy: 0.5500\n",
            "Epoch 272/300\n",
            "2/2 [==============================] - 9s 3s/step - loss: 0.0092 - accuracy: 1.0000 - val_loss: 1.4864 - val_accuracy: 0.5500\n",
            "Epoch 273/300\n",
            "2/2 [==============================] - 9s 3s/step - loss: 0.0088 - accuracy: 1.0000 - val_loss: 1.4909 - val_accuracy: 0.5500\n",
            "Epoch 274/300\n",
            "2/2 [==============================] - 8s 7s/step - loss: 0.0160 - accuracy: 1.0000 - val_loss: 1.4948 - val_accuracy: 0.5500\n",
            "Epoch 275/300\n",
            "2/2 [==============================] - 9s 3s/step - loss: 0.0101 - accuracy: 1.0000 - val_loss: 1.4918 - val_accuracy: 0.5500\n",
            "Epoch 276/300\n",
            "2/2 [==============================] - 9s 3s/step - loss: 0.0147 - accuracy: 1.0000 - val_loss: 1.5017 - val_accuracy: 0.6000\n",
            "Epoch 277/300\n",
            "2/2 [==============================] - 8s 2s/step - loss: 0.0199 - accuracy: 1.0000 - val_loss: 1.5313 - val_accuracy: 0.6000\n",
            "Epoch 278/300\n",
            "2/2 [==============================] - 8s 3s/step - loss: 0.0123 - accuracy: 1.0000 - val_loss: 1.5055 - val_accuracy: 0.5500\n",
            "Epoch 279/300\n",
            "2/2 [==============================] - 9s 3s/step - loss: 0.0109 - accuracy: 1.0000 - val_loss: 1.5055 - val_accuracy: 0.5500\n",
            "Epoch 280/300\n",
            "2/2 [==============================] - 9s 7s/step - loss: 0.0115 - accuracy: 1.0000 - val_loss: 1.5042 - val_accuracy: 0.5500\n",
            "Epoch 281/300\n",
            "2/2 [==============================] - 8s 2s/step - loss: 0.0183 - accuracy: 1.0000 - val_loss: 1.5024 - val_accuracy: 0.6000\n",
            "Epoch 282/300\n",
            "2/2 [==============================] - 9s 3s/step - loss: 0.0125 - accuracy: 1.0000 - val_loss: 1.5046 - val_accuracy: 0.6000\n",
            "Epoch 283/300\n",
            "2/2 [==============================] - 9s 7s/step - loss: 0.0088 - accuracy: 1.0000 - val_loss: 1.4980 - val_accuracy: 0.6000\n",
            "Epoch 284/300\n",
            "2/2 [==============================] - 8s 7s/step - loss: 0.0151 - accuracy: 1.0000 - val_loss: 1.5080 - val_accuracy: 0.5500\n",
            "Epoch 285/300\n",
            "2/2 [==============================] - 8s 3s/step - loss: 0.0097 - accuracy: 1.0000 - val_loss: 1.5207 - val_accuracy: 0.6000\n",
            "Epoch 286/300\n",
            "2/2 [==============================] - 8s 7s/step - loss: 0.0191 - accuracy: 1.0000 - val_loss: 1.5016 - val_accuracy: 0.5500\n",
            "Epoch 287/300\n",
            "2/2 [==============================] - 9s 3s/step - loss: 0.0097 - accuracy: 1.0000 - val_loss: 1.5050 - val_accuracy: 0.5500\n",
            "Epoch 288/300\n",
            "2/2 [==============================] - 9s 7s/step - loss: 0.0248 - accuracy: 1.0000 - val_loss: 1.5025 - val_accuracy: 0.6000\n",
            "Epoch 289/300\n",
            "2/2 [==============================] - 8s 7s/step - loss: 0.0099 - accuracy: 1.0000 - val_loss: 1.4964 - val_accuracy: 0.6000\n",
            "Epoch 290/300\n",
            "2/2 [==============================] - 8s 7s/step - loss: 0.0113 - accuracy: 1.0000 - val_loss: 1.5002 - val_accuracy: 0.5500\n",
            "Epoch 291/300\n",
            "2/2 [==============================] - 8s 3s/step - loss: 0.0114 - accuracy: 1.0000 - val_loss: 1.5090 - val_accuracy: 0.5500\n",
            "Epoch 292/300\n",
            "2/2 [==============================] - 9s 7s/step - loss: 0.0164 - accuracy: 1.0000 - val_loss: 1.5065 - val_accuracy: 0.6000\n",
            "Epoch 293/300\n",
            "2/2 [==============================] - 8s 7s/step - loss: 0.0117 - accuracy: 1.0000 - val_loss: 1.5203 - val_accuracy: 0.5500\n",
            "Epoch 294/300\n",
            "2/2 [==============================] - 9s 7s/step - loss: 0.0093 - accuracy: 1.0000 - val_loss: 1.5192 - val_accuracy: 0.5500\n",
            "Epoch 295/300\n",
            "2/2 [==============================] - 9s 3s/step - loss: 0.0086 - accuracy: 1.0000 - val_loss: 1.5114 - val_accuracy: 0.6000\n",
            "Epoch 296/300\n",
            "2/2 [==============================] - 10s 8s/step - loss: 0.0129 - accuracy: 1.0000 - val_loss: 1.5225 - val_accuracy: 0.5500\n",
            "Epoch 297/300\n",
            "2/2 [==============================] - 8s 2s/step - loss: 0.0086 - accuracy: 1.0000 - val_loss: 1.5179 - val_accuracy: 0.6000\n",
            "Epoch 298/300\n",
            "2/2 [==============================] - 9s 3s/step - loss: 0.0121 - accuracy: 1.0000 - val_loss: 1.5235 - val_accuracy: 0.6000\n",
            "Epoch 299/300\n",
            "2/2 [==============================] - 9s 7s/step - loss: 0.0115 - accuracy: 1.0000 - val_loss: 1.5270 - val_accuracy: 0.6000\n",
            "Epoch 300/300\n",
            "2/2 [==============================] - 8s 3s/step - loss: 0.0121 - accuracy: 1.0000 - val_loss: 1.5300 - val_accuracy: 0.5500\n"
          ]
        }
      ]
    },
    {
      "cell_type": "code",
      "source": [
        "from matplotlib import pyplot as plt \n",
        "\n",
        "plt.plot(history.history['accuracy'])\n",
        "plt.plot(history.history['val_accuracy'])\n",
        "plt.title('Accuracy')\n",
        "plt.ylabel('accuracy')\n",
        "plt.xlabel('epochs')\n",
        "plt.legend(['train', 'test'], loc = 'upper right')\n",
        "plt.show()"
      ],
      "metadata": {
        "colab": {
          "base_uri": "https://localhost:8080/",
          "height": 295
        },
        "id": "UiGx8YL-sfoq",
        "outputId": "b9bb38cf-5c87-4af3-fa4c-feb34e83d78d"
      },
      "execution_count": null,
      "outputs": [
        {
          "output_type": "display_data",
          "data": {
            "text/plain": [
              "<Figure size 432x288 with 1 Axes>"
            ],
            "image/png": "[encoded data removed]"
          },
          "metadata": {
            "needs_background": "light"
          }
        }
      ]
    },
    {
      "cell_type": "code",
      "source": [
        "test_loss, test_accuracy = model.evaluate(test)"
      ],
      "metadata": {
        "colab": {
          "base_uri": "https://localhost:8080/"
        },
        "id": "vEP7B0Jqsfsi",
        "outputId": "f3c12837-ab2d-4091-8e69-3c82adb42ce0"
      },
      "execution_count": null,
      "outputs": [
        {
          "output_type": "stream",
          "name": "stdout",
          "text": [
            "1/1 [==============================] - 1s 1s/step - loss: 1.5300 - accuracy: 0.5500\n"
          ]
        }
      ]
    },
    {
      "cell_type": "code",
      "source": [
        "test_loss"
      ],
      "metadata": {
        "colab": {
          "base_uri": "https://localhost:8080/"
        },
        "id": "N72KPkQBsvGz",
        "outputId": "471bb6e0-d946-4c5b-d054-61eda6bf5ab6"
      },
      "execution_count": null,
      "outputs": [
        {
          "output_type": "execute_result",
          "data": {
            "text/plain": [
              "1.5300430059432983"
            ]
          },
          "metadata": {},
          "execution_count": 30
        }
      ]
    },
    {
      "cell_type": "code",
      "source": [
        "test_accuracy"
      ],
      "metadata": {
        "colab": {
          "base_uri": "https://localhost:8080/"
        },
        "id": "7ChHLliP-CY1",
        "outputId": "26fe9f20-5290-46a0-8473-c8bd03def8a1"
      },
      "execution_count": null,
      "outputs": [
        {
          "output_type": "execute_result",
          "data": {
            "text/plain": [
              "0.550000011920929"
            ]
          },
          "metadata": {},
          "execution_count": 31
        }
      ]
    },
    {
      "cell_type": "code",
      "source": [
        ""
      ],
      "metadata": {
        "id": "ElYCYxS5svQB"
      },
      "execution_count": null,
      "outputs": []
    }
  ]
}