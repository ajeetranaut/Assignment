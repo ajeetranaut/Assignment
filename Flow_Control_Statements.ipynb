{
  "nbformat": 4,
  "nbformat_minor": 0,
  "metadata": {
    "colab": {
      "provenance": [],
      "authorship_tag": "ABX9TyPqP5kvWTrTdY+a+ieaNjFX",
      "include_colab_link": true
    },
    "kernelspec": {
      "name": "python3",
      "display_name": "Python 3"
    },
    "language_info": {
      "name": "python"
    }
  },
  "cells": [
    {
      "cell_type": "markdown",
      "metadata": {
        "id": "view-in-github",
        "colab_type": "text"
      },
      "source": [
        "<a href=\"https://colab.research.google.com/github/ajeetranaut/Assignment/blob/master/Flow_Control_Statements.ipynb\" target=\"_parent\"><img src=\"https://colab.research.google.com/assets/colab-badge.svg\" alt=\"Open In Colab\"/></a>"
      ]
    },
    {
      "cell_type": "markdown",
      "source": [
        "\t\t================================================================\n",
        "\t\t\t\t\tFlow Control Statements in Python\n",
        "\t\t\t\t\t\t\t\t(OR)\n",
        "\t\t\t\t\tControl Structures in Python\n",
        "\t\t\t================================================================\n",
        "\n",
        "Index\n",
        "***************\n",
        "\n",
        "=>Purpose of Flow Control Statements in Python\n",
        "\n",
        "=>Types of Flow Control Statements in Python\n",
        "\n",
        "\t\tI ) Conditional OR Selection OR Branching Statements\n",
        "\t\t\t\ti) simple  'if' statement\n",
        "\t\t\t\tii) if..else statement\n",
        "\t\t\t\tiii) if ... elif...else statement\n",
        "\t\t\t\tiv) match case statement\n",
        "\t\t\t=>Programming Examples\n",
        "\t\tII) Looping OR Iterative OR Repetative Statements\n",
        "\t\t\t\ti) while loop  OR while...else loop\n",
        "\t\t\t\tii) for loop   OR for..else loop\n",
        "\t\t\t=>Programming Examples\n",
        "\t\tIII) Transfer Flow Statements\n",
        "\t\t\t\ti) break\n",
        "\t\t\t\tii) continue\n",
        "\t\t\t\tiii) pass\n",
        "\t\t\t\tiv) return\n",
        "\t\t\t=>Programming Examples\n",
        "=>Combined \tProgramming Examples on Conditional , Looping and ransfer Flow Statements\n",
        "\n",
        "-----------------------------------------------------------\n",
        "\n",
        "=>Inner OR Nested Loops\n",
        "\n",
        "\ti) while loop in while loop\n",
        "\n",
        "\tii) for loop in for loop\n",
        "\n",
        "\tiii) for loop in while loop\n",
        "\n",
        "\tiv) while loop in for loop\n",
        "\n",
        "=>Programming Examples\n",
        "\n",
        "*************************************************************************************************************************************"
      ],
      "metadata": {
        "id": "WhRo7n_UmOSt"
      }
    },
    {
      "cell_type": "markdown",
      "source": [
        "================================================================\n",
        "\n",
        "\t\t\t\t\tFlow Control Statements in Python\n",
        "\t\t\t\t\t\t\t\t(OR)\n",
        "\t\t\t\t\tControl Structures in Python\n",
        "\t\t\t================================================================\n",
        "\n",
        "=>The purpose of Flow Control Statements in Python is that \"To perform an Operation / Task One Time(X-Operation in the case\n",
        "     of True OR Y-Operation in the case of False) OR Perform Certain Operation Repeatedly OR Iteratively for Finite Number of Times Until Test Condition becomes False\".\n",
        "\n",
        "\n",
        "=>In Python Programming, we have 3 Types of Flow Control Statements .\n",
        "\n",
        "\t\t\t1. Conditional OR Selection OR Branching Statements\n",
        "\n",
        "\t\t\t2. Looping OR Iterative OR Repetative Statements\n",
        "\n",
        "\t\t\t3. Transfer Flow Statements\n",
        "==============================================================================================="
      ],
      "metadata": {
        "id": "HIPpIMWXmOMc"
      }
    },
    {
      "cell_type": "markdown",
      "source": [
        "\t=========================================================================\n",
        "\t\t\t1. Conditional OR Selection OR Branching Statements\n",
        "\t\t=========================================================================\n",
        "\n",
        "=>The purpose of Conditional OR Selection OR Branching Statements is that \"To Operform either X-Operation in the case of True  or Perform Y-Operation in the case of False Only Once\".\n",
        "\n",
        "=>In Python Programming, we have 4 Types of Conditional OR Selection OR Branching Statements. They are\n",
        "\n",
        "\n",
        "\t\t\t\t1. simple 'if' statement\n",
        "\n",
        "\t\t\t\t2. if..else statement\n",
        "\n",
        "\t\t\t\t3. if...elif..else statement\n",
        "        \n",
        "\t\t\t\t4. match case statement (Python 3.10 Version onwards)\n",
        "============================================================================================="
      ],
      "metadata": {
        "id": "q0fnTDpmmOIN"
      }
    },
    {
      "cell_type": "code",
      "source": [
        "#Moviee.py\n",
        "tkt=input(\"Do u have a Ticket(yes/no):\")\n",
        "if(tkt==\"yes\"):\n",
        " print(\"Enter into the theater\")\n",
        " print(\"watch the moviee\")\n",
        " print(\"Eat Pop Corn!!!\")\n",
        "print(\"Goto Home\")\n"
      ],
      "metadata": {
        "colab": {
          "base_uri": "https://localhost:8080/"
        },
        "id": "b6QWtcBxm8KV",
        "outputId": "bc56d0b8-df77-4050-8cb1-4f323df3e334"
      },
      "execution_count": null,
      "outputs": [
        {
          "output_type": "stream",
          "name": "stdout",
          "text": [
            "Do u have a Ticket(yes/no):yes\n",
            "Enter into the theater\n",
            "watch the moviee\n",
            "Eat Pop Corn!!!\n",
            "Goto Home\n"
          ]
        }
      ]
    },
    {
      "cell_type": "code",
      "source": [
        "#Program for deciding whether the given number is even or odd\n",
        "#SimpleIfEX1.py\n",
        "n=int(input(\"Enter a Number:\"))\n",
        "#check for even\n",
        "if(n%2==0):\n",
        "    print(\"{} is Even\".format(n))\n",
        "#check for odd\n",
        "if(n%2!=0):\n",
        "    print(\"{} is Odd\".format(n))\n",
        "print(\"Program Execution Completed!!!\")"
      ],
      "metadata": {
        "colab": {
          "base_uri": "https://localhost:8080/"
        },
        "id": "vKE6Ku4Em8D0",
        "outputId": "77be6121-0ff6-46fb-ba6e-5f44711cd237"
      },
      "execution_count": null,
      "outputs": [
        {
          "output_type": "stream",
          "name": "stdout",
          "text": [
            "Enter a Number:11\n",
            "11 is Odd\n",
            "Program Execution Completed!!!\n"
          ]
        }
      ]
    },
    {
      "cell_type": "code",
      "source": [
        "#Program for deciding whether the given number is +VE or -VE or Zero\n",
        "#SimpleIfEX2.py\n",
        "n=float(input(\"Enter a Number:\")) # n=-40\n",
        "if(n==0):\n",
        "    print(\"{} is ZERO\".format(n))\n",
        "if(n>0):\n",
        "    print(\"{} is +VE\".format(n))\n",
        "if(n<0):\n",
        "    print(\"{} is -VE\".format(n))\n",
        "print(\"Program Execution Completed\")"
      ],
      "metadata": {
        "colab": {
          "base_uri": "https://localhost:8080/"
        },
        "id": "dC4fsfsFm70s",
        "outputId": "e4e11287-6e2d-40b8-9c50-0a0ea1d0e3d6"
      },
      "execution_count": null,
      "outputs": [
        {
          "output_type": "stream",
          "name": "stdout",
          "text": [
            "Enter a Number:0\n",
            "0.0 is ZERO\n",
            "Program Execution Completed\n"
          ]
        }
      ]
    },
    {
      "cell_type": "code",
      "source": [
        "#Program deciding whether the value is Palindrome or Not\n",
        "#SimpleIfEX3.py\n",
        "n=input(\"Enter a Value:\")\n",
        "if(n.upper()==n[::-1].upper()):\n",
        "    print(\"{} is Palidrome\".format(n))\n",
        "if(n.lower()!=n[::-1].lower()):\n",
        "    print(\"{} is Not Palidrome\".format(n))"
      ],
      "metadata": {
        "colab": {
          "base_uri": "https://localhost:8080/"
        },
        "id": "3NFbHgFlnQRz",
        "outputId": "76b60738-d941-4bff-801d-548c2b129881"
      },
      "execution_count": null,
      "outputs": [
        {
          "output_type": "stream",
          "name": "stdout",
          "text": [
            "Enter a Value:dad\n",
            "dad is Palidrome\n"
          ]
        }
      ]
    },
    {
      "cell_type": "code",
      "source": [
        "#Program deciding whether the value is Palindrome or Not\n",
        "#SimpleIfEX3.py\n",
        "n=input(\"Enter a Value:\").upper()\n",
        "if(n==n[::-1]):\n",
        "    print(\"{} is Palidrome\".format(n))\n",
        "if(n!=n[::-1]):\n",
        "    print(\"{} is Not Palidrome\".format(n))"
      ],
      "metadata": {
        "colab": {
          "base_uri": "https://localhost:8080/"
        },
        "id": "0hJMWnSGnQGT",
        "outputId": "5f025507-7020-4901-8428-1ca7cd8f3226"
      },
      "execution_count": null,
      "outputs": [
        {
          "output_type": "stream",
          "name": "stdout",
          "text": [
            "Enter a Value:sas\n",
            "SAS is Palidrome\n"
          ]
        }
      ]
    },
    {
      "cell_type": "markdown",
      "source": [],
      "metadata": {
        "id": "CzkUbU3dmN6s"
      }
    },
    {
      "cell_type": "code",
      "execution_count": null,
      "metadata": {
        "colab": {
          "base_uri": "https://localhost:8080/"
        },
        "id": "AmhKOJb9kBlr",
        "outputId": "b9890903-057f-4d8c-fb06-9ced06532618"
      },
      "outputs": [
        {
          "output_type": "stream",
          "name": "stdout",
          "text": [
            "Enter any Digit:2\n",
            "2 is TWO\n"
          ]
        }
      ],
      "source": [
        "#Program for accepting any digit and display its name\n",
        "#DigitEx.py\n",
        "dictobj={0:\"ZERO\",1:\"ONE\",2:\"TWO\",3:\"THREE\",4:\"FOUR\",5:\"FIVE\",6:\"SIX\",7:\"SEVEN\",8:\"EIGHT\",9:\"NINE\",-1:\"-ONE\",-2:\"-TWO\",-3:\"-THREE\",-4:\"-FOUR\",-5:\"-FIVE\",-6:\"-SIX\",-7:\"-SEVEN\",-8:\"-EIGHT\",-9:\"-NINE\"}\n",
        "d=int(input(\"Enter any Digit:\")) # d=0 1 2 3 4 5 6 7 8 9\n",
        "res= dictobj.get(d)  if dictobj.get(d)!=None  else \"+VE NUMBER\" if d>9 else \"-VE NUMBER\"\n",
        "print(\"{} is {}\".format(d,res))"
      ]
    },
    {
      "cell_type": "code",
      "source": [
        "#Program for accepting any digit and display its name\n",
        "#DigitEx1.py\n",
        "dictobj={0:\"ZERO\",1:\"ONE\",2:\"TWO\",3:\"THREE\",4:\"FOUR\",5:\"FIVE\",6:\"SIX\",7:\"SEVEN\",8:\"EIGHT\",9:\"NINE\",-1:\"-ONE\",-2:\"-TWO\",-3:\"-THREE\",-4:\"-FOUR\",-5:\"-FIVE\",-6:\"-SIX\",-7:\"-SEVEN\",-8:\"-EIGHT\",-9:\"-NINE\"}\n",
        "d=int(input(\"Enter any Digit:\")) # d=0 1 2 3 4 5 6 7 8 9\n",
        "print(\"{} is {}\".format(d,dictobj.get(d)  if dictobj.get(d)!=None  else \"+VE NUMBER\" if d>9 else \"-VE NUMBER\"))"
      ],
      "metadata": {
        "colab": {
          "base_uri": "https://localhost:8080/"
        },
        "id": "4jSgzeLgkS1R",
        "outputId": "ffd2d39b-9eb9-4e26-d648-ffd3fd61050a"
      },
      "execution_count": null,
      "outputs": [
        {
          "output_type": "stream",
          "name": "stdout",
          "text": [
            "Enter any Digit:-4\n",
            "-4 is -FOUR\n"
          ]
        }
      ]
    },
    {
      "cell_type": "code",
      "source": [
        "#Program for deciding whether the given number is +VE or -VE or Zero\n",
        "#IfElIfEx1.py\n",
        "n=float(input(\"Enter a Number:\")) # n=10\n",
        "if(n>0):\n",
        "    print(\"{} is +VE\".format(n))\n",
        "elif(n<0):\n",
        "    print(\"{} is -VE\".format(n))\n",
        "else:\n",
        "    print(\"{} is ZERO\".format(n))\n",
        "print(\"Program Execution Completed\")"
      ],
      "metadata": {
        "colab": {
          "base_uri": "https://localhost:8080/"
        },
        "id": "a0WUOR4RkewN",
        "outputId": "d137c90c-036a-4957-bcc3-1774879cd508"
      },
      "execution_count": null,
      "outputs": [
        {
          "output_type": "stream",
          "name": "stdout",
          "text": [
            "Enter a Number:5\n",
            "5.0 is +VE\n",
            "Program Execution Completed\n"
          ]
        }
      ]
    },
    {
      "cell_type": "code",
      "source": [
        "#Program for accepting any digit and display its name\n",
        "#IfElIfEx2.py\n",
        "d=float(input(\"Enter Any Digit:\"))# d= 0 1 2 3 4 5 6 7 8 9\n",
        "if(d==0):\n",
        "    print(\"{} is ZERO\".format(d))\n",
        "elif(d==1):\n",
        "    print(\"{} is ONE\".format(d))\n",
        "elif(d==2):\n",
        "    print(\"{} is TWO\".format(d))\n",
        "elif(d==3):\n",
        "    print(\"{} is THREE\".format(d))\n",
        "elif(d==4):\n",
        "    print(\"{} is FOUR\".format(d))\n",
        "elif(d==5):\n",
        "    print(\"{} is FIVE\".format(d))\n",
        "elif(d==6):\n",
        "    print(\"{} is SIX\".format(d))\n",
        "elif(d==7):\n",
        "    print(\"{} is SEVEN\".format(d))\n",
        "elif(d==8):\n",
        "    print(\"{} is EIGHT\".format(d))\n",
        "elif(d==9):\n",
        "    print(\"{} is NINE\".format(d))\n",
        "elif(d in [-1,-2,-3,-4,-5,-6,-7,-8,-9]):\n",
        "    print(\"{} is -VE DIGIT\".format(d))\n",
        "elif(d not in [0,1,2,3,4,5,6,7,8,9]) and (d>=0):\n",
        "    print(\"{} is NUMBER\".format(d))\n",
        "elif(d<0):\n",
        "    print(\"{} is -NUMBER\".format(d))\n",
        "print(\"Program execution Completed\")"
      ],
      "metadata": {
        "colab": {
          "base_uri": "https://localhost:8080/"
        },
        "id": "oE8rSzK-ktJd",
        "outputId": "bfda9a89-d31a-43c6-9f78-68dc2912322a"
      },
      "execution_count": null,
      "outputs": [
        {
          "output_type": "stream",
          "name": "stdout",
          "text": [
            "Enter Any Digit:-7\n",
            "-7.0 is -VE DIGIT\n",
            "Program execution Completed\n"
          ]
        }
      ]
    },
    {
      "cell_type": "code",
      "source": [
        "#Program for deciding whether the given number is +VE or -VE or Zero\n",
        "#IfElseEx1.py\n",
        "n=float(input(\"Enter a Number:\")) # n=10\n",
        "if(n>0):\n",
        "    print(\"{} is +VE\".format(n))\n",
        "else:\n",
        "    if(n<0):\n",
        "        print(\"{} is -VE\".format(n))\n",
        "    else:\n",
        "        print(\"{} is ZERO\".format(n))\n",
        "print(\"Program Execution Completed\")"
      ],
      "metadata": {
        "colab": {
          "base_uri": "https://localhost:8080/"
        },
        "id": "EcAKxUXUk9Wc",
        "outputId": "3d93e35c-187e-4278-9ce5-bc5ba365655f"
      },
      "execution_count": null,
      "outputs": [
        {
          "output_type": "stream",
          "name": "stdout",
          "text": [
            "Enter a Number:45\n",
            "45.0 is +VE\n",
            "Program Execution Completed\n"
          ]
        }
      ]
    },
    {
      "cell_type": "code",
      "source": [
        "\n",
        "#Program for accepting any digit and display its name\n",
        "#IfElseEX2.py\n",
        "d=float(input(\"Enter Any Digit:\"))# d= 0 1 2 3 4 5 6 7 8 9\n",
        "if(d==0):\n",
        "    print(\"{} is ZERO\".format(d))\n",
        "else:\n",
        "    if(d==1):\n",
        "        print(\"{} is ONE\".format(d))\n",
        "    else:\n",
        "        if(d==2):\n",
        "            print(\"{} is TWO\".format(d))\n",
        "        else:\n",
        "            if(d==3):\n",
        "                print(\"{} is THREE\".format(d))\n",
        "            else:\n",
        "                if (d == 4):\n",
        "                    print(\"{} is FOUR\".format(d))\n",
        "                else:\n",
        "                    if (d == 5):\n",
        "                        print(\"{} is FIVE\".format(d))\n",
        "                    else:\n",
        "                        if (d == 6):\n",
        "                            print(\"{} is SIX\".format(d))\n",
        "                        else:\n",
        "                            if (d == 7):\n",
        "                                print(\"{} is SEVEN\".format(d))\n",
        "                            else:\n",
        "                                if (d == 8):\n",
        "                                    print(\"{} is EIGHT\".format(d))\n",
        "                                else:\n",
        "                                    if (d == 9):\n",
        "                                        print(\"{} is NINE\".format(d))\n",
        "                                    else:\n",
        "                                        if (d >9):\n",
        "                                            print(\"{} is NUMBER\".format(d))\n",
        "                                        else:\n",
        "                                            print(\"{} is -NUMBER\".format(d))\n",
        "print(\"Program execution Completed!!!\")"
      ],
      "metadata": {
        "colab": {
          "base_uri": "https://localhost:8080/"
        },
        "id": "EPegHlBeldD-",
        "outputId": "7624933c-30b7-4e68-93d3-b543b4c99b00"
      },
      "execution_count": null,
      "outputs": [
        {
          "output_type": "stream",
          "name": "stdout",
          "text": [
            "Enter Any Digit:45\n",
            "45.0 is NUMBER\n",
            "Program execution Completed!!!\n"
          ]
        }
      ]
    },
    {
      "cell_type": "code",
      "source": [
        "#Program for accepting any digit and display its name\n",
        "#SimpleIfEX5.py\n",
        "d=float(input(\"Enter Any Digit:\"))# d= 0 1 2 3 4 5 6 7 8 9\n",
        "if(d==0):\n",
        "    print(\"{} is ZERO\".format(d))\n",
        "if(d==1):\n",
        "    print(\"{} is ONE\".format(d))\n",
        "if(d==2):\n",
        "    print(\"{} is TWO\".format(d))\n",
        "if(d==3):\n",
        "    print(\"{} is THREE\".format(d))\n",
        "if(d==4):\n",
        "    print(\"{} is FOUR\".format(d))\n",
        "if(d==5):\n",
        "    print(\"{} is FIVE\".format(d))\n",
        "if(d==6):\n",
        "    print(\"{} is SIX\".format(d))\n",
        "if(d==7):\n",
        "    print(\"{} is SEVEN\".format(d))\n",
        "if(d==8):\n",
        "    print(\"{} is EIGHT\".format(d))\n",
        "if(d==9):\n",
        "    print(\"{} is NINE\".format(d))\n",
        "if(d not in [0,1,2,3,4,5,6,7,8,9]) and (d>=0):\n",
        "    print(\"{} is NUMBER\".format(d))\n",
        "if(d<0):\n",
        "    print(\"{} is -NUMBER\".format(d))"
      ],
      "metadata": {
        "colab": {
          "base_uri": "https://localhost:8080/"
        },
        "id": "9SSAG6lalwYL",
        "outputId": "4cf4b12a-91da-407c-cef2-3fe030bcc558"
      },
      "execution_count": null,
      "outputs": [
        {
          "output_type": "stream",
          "name": "stdout",
          "text": [
            "Enter Any Digit:789\n",
            "789.0 is NUMBER\n"
          ]
        }
      ]
    },
    {
      "cell_type": "code",
      "source": [],
      "metadata": {
        "id": "LHuo4RRDl8bD"
      },
      "execution_count": null,
      "outputs": []
    }
  ]
}