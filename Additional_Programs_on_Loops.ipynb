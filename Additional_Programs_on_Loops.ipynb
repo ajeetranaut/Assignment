{
  "nbformat": 4,
  "nbformat_minor": 0,
  "metadata": {
    "colab": {
      "provenance": [],
      "authorship_tag": "ABX9TyOhxgwKeKmP+l+Y3xGpBmPi",
      "include_colab_link": true
    },
    "kernelspec": {
      "name": "python3",
      "display_name": "Python 3"
    },
    "language_info": {
      "name": "python"
    }
  },
  "cells": [
    {
      "cell_type": "markdown",
      "metadata": {
        "id": "view-in-github",
        "colab_type": "text"
      },
      "source": [
        "<a href=\"https://colab.research.google.com/github/ajeetranaut/Assignment/blob/master/Additional_Programs_on_Loops.ipynb\" target=\"_parent\"><img src=\"https://colab.research.google.com/assets/colab-badge.svg\" alt=\"Open In Colab\"/></a>"
      ]
    },
    {
      "cell_type": "code",
      "execution_count": null,
      "metadata": {
        "colab": {
          "base_uri": "https://localhost:8080/"
        },
        "id": "p1sQ6YE6Y7ki",
        "outputId": "6f50136f-bb19-4651-b81d-4ac05592b11d"
      },
      "outputs": [
        {
          "output_type": "stream",
          "name": "stdout",
          "text": [
            "Enter Any Name:ajeetranaut@gmail.com\n",
            "ajeetranaut@gmail.com Is Invalid Name\n"
          ]
        }
      ],
      "source": [
        "#Program for validating the name of person,place and product\n",
        "name=input(\"Enter Any Name:\")# Name=Guido Van Rossum\n",
        "namewords=name.split()\n",
        "res=True\n",
        "for word in namewords:\n",
        "    if( not word.isalpha()):\n",
        "        res=False\n",
        "        break\n",
        "if(res):\n",
        "    print(\"{} is Valid Name:\".format(name))\n",
        "else:\n",
        "    print(\"{} Is Invalid Name\".format(name))"
      ]
    },
    {
      "cell_type": "code",
      "source": [
        "#StudentMarksReportEx1.py\n",
        "#Accept Student Number and Validate--100 to 200\n",
        "while(True):\n",
        "    sno=int(input(\"Enter Student Number(100-200):\"))\n",
        "    if(sno<100) or (sno>200):\n",
        "        print(\"\\t{} is Invalid Student Number:\".format(sno))\n",
        "    else:\n",
        "        break\n",
        "#Validate Name\n",
        "while(True):\n",
        "    name=input(\"Enter Studenty Name:\")# Name=Guido Van Rossum\n",
        "    namewords=name.split()\n",
        "    res=True\n",
        "    for word in namewords:\n",
        "        if( not word.isalpha()):\n",
        "            res=False\n",
        "            break\n",
        "    if(res):\n",
        "        break\n",
        "    else:\n",
        "        print(\"\\t{} is Invalid Student Name-try again\".format(name))\n",
        "#Accept Student Marks in C Lang\n",
        "while(True):\n",
        "    cm=input(\"Enter Marks in C lang:\")\n",
        "    if(cm.isdigit()) and (0<=int(cm)<=100):\n",
        "        break\n",
        "    else:\n",
        "        print(\"\\t{} Invalid Marks in C Lang-try again\".format(cm))\n",
        "#Accept Student Marks in C++ Lang\n",
        "while(True):\n",
        "    cppm=input(\"Enter Marks in C++ lang:\")\n",
        "    if(cppm.isdigit()) and (0<=int(cppm)<=100):\n",
        "        break\n",
        "    else:\n",
        "        print(\"\\t{} Invalid Marks in C++ Lang-try again\".format(cppm))\n",
        "#Accept Student Marks in Python Lang\n",
        "while(True):\n",
        "    pym=input(\"Enter Marks in PYTHON lang:\")\n",
        "    if(pym.isdigit()) and (0<=int(pym)<=100):\n",
        "        break\n",
        "    else:\n",
        "        print(\"\\t{} Invalid Marks in Python Lang-try again\".format(pym))\n",
        "#Compute Total and Percentage\n",
        "totmarks=int(cm)+int(cppm)+int(pym)\n",
        "percent=(totmarks/300)*100\n",
        "#Check for Failed Students\n",
        "if(int(cm)<40) or (int(cppm)<40) or (int(pym)<40):\n",
        "    grade=\"FAIL\"\n",
        "else:\n",
        "    if(300>=totmarks>=250):\n",
        "        grade=\"DISTINCTION\"\n",
        "    elif(totmarks in range(200,250)):\n",
        "        grade=\"FIRST\"\n",
        "    elif(totmarks in range(150,200)):\n",
        "        grade=\"SECOND\"\n",
        "    elif(totmarks>=120) and (totmarks<=149):\n",
        "        grade=\"THIRD\"\n",
        "#Display Student Marks Report\n",
        "print(\"*\"*50)\n",
        "print(\"\\tSTUDENT MARKS REPORT\")\n",
        "print(\"*\"*50)\n",
        "print(\"\\tStudent Number:{}\".format(sno))\n",
        "print(\"\\tStudent Name:{}\".format(name))\n",
        "print(\"\\tStudent Marks in C:{}\".format(cm))\n",
        "print(\"\\tStudent Marks in C++:{}\".format(cppm))\n",
        "print(\"\\tStudent Marks in PYTHON:{}\".format(pym))\n",
        "print(\"------------------------------------------\")\n",
        "print(\"\\tTOTAL MARKS:{}\".format(totmarks))\n",
        "print(\"\\tPERCETAGE OF MARKS:{}\".format(percent))\n",
        "print(\"\\tSTUDENT GRADE:{}\".format(grade))\n",
        "print(\"*\"*50)"
      ],
      "metadata": {
        "colab": {
          "base_uri": "https://localhost:8080/"
        },
        "id": "HfZI_rL3ZGcr",
        "outputId": "d1e8fdd3-3f5c-4781-a42f-7d0800bc9b9e"
      },
      "execution_count": null,
      "outputs": [
        {
          "output_type": "stream",
          "name": "stdout",
          "text": [
            "Enter Student Number(100-200):150\n",
            "Enter Studenty Name:ajeet singh\n",
            "Enter Marks in C lang:78\n",
            "Enter Marks in C++ lang:87\n",
            "Enter Marks in PYTHON lang:98\n",
            "**************************************************\n",
            "\tSTUDENT MARKS REPORT\n",
            "**************************************************\n",
            "\tStudent Number:150\n",
            "\tStudent Name:ajeet singh\n",
            "\tStudent Marks in C:78\n",
            "\tStudent Marks in C++:87\n",
            "\tStudent Marks in PYTHON:98\n",
            "------------------------------------------\n",
            "\tTOTAL MARKS:263\n",
            "\tPERCETAGE OF MARKS:87.66666666666667\n",
            "\tSTUDENT GRADE:DISTINCTION\n",
            "**************************************************\n"
          ]
        }
      ]
    },
    {
      "cell_type": "code",
      "source": [
        "#StudentMarksReportEx1.py\n",
        "#Accept Student Number and Validate--100 to 200\n",
        "while(True):\n",
        "    while(True):\n",
        "        sno=int(input(\"Enter Student Number(100-200):\"))\n",
        "        if(sno<100) or (sno>200):\n",
        "            print(\"\\t{} is Invalid Student Number:\".format(sno))\n",
        "        else:\n",
        "            break\n",
        "    #Validate Name\n",
        "    while(True):\n",
        "        name=input(\"Enter Studenty Name:\")# Name=Guido Van Rossum\n",
        "        namewords=name.split()\n",
        "        res=True\n",
        "        for word in namewords:\n",
        "            if( not word.isalpha()):\n",
        "                res=False\n",
        "                break\n",
        "        if(res):\n",
        "            break\n",
        "        else:\n",
        "            print(\"\\t{} is Invalid Student Name-try again\".format(name))\n",
        "    #Accept Student Marks in C Lang\n",
        "    while(True):\n",
        "        cm=input(\"Enter Marks in C lang:\")\n",
        "        if(cm.isdigit()) and (0<=int(cm)<=100):\n",
        "            break\n",
        "        else:\n",
        "            print(\"\\t{} Invalid Marks in C Lang-try again\".format(cm))\n",
        "    #Accept Student Marks in C++ Lang\n",
        "    while(True):\n",
        "        cppm=input(\"Enter Marks in C++ lang:\")\n",
        "        if(cppm.isdigit()) and (0<=int(cppm)<=100):\n",
        "            break\n",
        "        else:\n",
        "            print(\"\\t{} Invalid Marks in C++ Lang-try again\".format(cppm))\n",
        "    #Accept Student Marks in Python Lang\n",
        "    while(True):\n",
        "        pym=input(\"Enter Marks in PYTHON lang:\")\n",
        "        if(pym.isdigit()) and (0<=int(pym)<=100):\n",
        "            break\n",
        "        else:\n",
        "            print(\"\\t{} Invalid Marks in Python Lang-try again\".format(pym))\n",
        "    #Compute Total and Percentage\n",
        "    totmarks=int(cm)+int(cppm)+int(pym)\n",
        "    percent=(totmarks/300)*100\n",
        "    #Check for Failed Students\n",
        "    if(int(cm)<40) or (int(cppm)<40) or (int(pym)<40):\n",
        "        grade=\"FAIL\"\n",
        "    else:\n",
        "        if(300<=totmarks>=250):\n",
        "            grade=\"DISTINCTION\"\n",
        "        elif(totmarks in range(200,250)):\n",
        "            grade=\"FIRST\"\n",
        "        elif(totmarks in range(150,200)):\n",
        "            grade=\"SECOND\"\n",
        "        elif(totmarks>=120) and (totmarks<=149):\n",
        "            grade=\"THIRD\"\n",
        "    #Display Student Marks Report\n",
        "    print(\"*\"*50)\n",
        "    print(\"\\tSTUDENT MARKS REPORT\")\n",
        "    print(\"*\"*50)\n",
        "    print(\"\\tStudent Number:{}\".format(sno))\n",
        "    print(\"\\tStudent Name:{}\".format(name))\n",
        "    print(\"\\tStudent Marks in C:{}\".format(cm))\n",
        "    print(\"\\tStudent Marks in C++:{}\".format(cppm))\n",
        "    print(\"\\tStudent Marks in PYTHON:{}\".format(pym))\n",
        "    print(\"------------------------------------------\")\n",
        "    print(\"\\tTOTAL MARKS:{}\".format(totmarks))\n",
        "    print(\"\\tPERCETAGE OF MARKS:{}\".format(percent))\n",
        "    print(\"\\tSTUDENT GRADE:{}\".format(grade))\n",
        "    print(\"*\"*50)\n",
        "    ch=input(\"Do u want to another student data(yes/no):\")\n",
        "    if(ch.lower()==\"no\"):\n",
        "        break"
      ],
      "metadata": {
        "colab": {
          "base_uri": "https://localhost:8080/"
        },
        "id": "FcP5xeXPZ0ZW",
        "outputId": "796b5cfe-076e-4714-d35d-da366c215873"
      },
      "execution_count": null,
      "outputs": [
        {
          "name": "stdout",
          "output_type": "stream",
          "text": [
            "Enter Student Number(100-200):159\n",
            "Enter Studenty Name:ajeet singh\n",
            "Enter Marks in C lang:98\n",
            "Enter Marks in C++ lang:89\n",
            "Enter Marks in PYTHON lang:78\n",
            "**************************************************\n",
            "\tSTUDENT MARKS REPORT\n",
            "**************************************************\n",
            "\tStudent Number:159\n",
            "\tStudent Name:ajeet singh\n",
            "\tStudent Marks in C:98\n",
            "\tStudent Marks in C++:89\n",
            "\tStudent Marks in PYTHON:78\n",
            "------------------------------------------\n",
            "\tTOTAL MARKS:265\n",
            "\tPERCETAGE OF MARKS:88.33333333333333\n",
            "\tSTUDENT GRADE:DISTINCTION\n",
            "**************************************************\n",
            "Do u want to another student data(yes/no):no\n"
          ]
        }
      ]
    },
    {
      "cell_type": "code",
      "source": [
        "#VoterEx1.py\n",
        "age=int(input(\"Enter Age of Citizen:\"))\n",
        "if(age>=18):\n",
        "    print(\"{} Years Citizen is Eligible Vote:\".format(age))\n",
        "else:\n",
        "    print(\"{} Years Citizen is not Eligible Vote:\".format(age))"
      ],
      "metadata": {
        "colab": {
          "base_uri": "https://localhost:8080/"
        },
        "id": "piv7lZmShK1f",
        "outputId": "f58c509f-17c2-4783-a90b-d4c9241dc3f6"
      },
      "execution_count": null,
      "outputs": [
        {
          "output_type": "stream",
          "name": "stdout",
          "text": [
            "Enter Age of Citizen:45\n",
            "45 Years Citizen is Eligible Vote:\n"
          ]
        }
      ]
    },
    {
      "cell_type": "code",
      "source": [
        "#VoterEx2.py\n",
        "while(True):\n",
        "    age=int(input(\"Enter Age of Citizen:\"))\n",
        "    if(age<=17) or (age>100):\n",
        "        print(\"\\t{} Years Citizen is not Eligible Vote-try Again:\".format(age))\n",
        "    else:\n",
        "        print(\"{} Years Citizen is  Eligible Vote:\".format(age))\n",
        "        break"
      ],
      "metadata": {
        "colab": {
          "base_uri": "https://localhost:8080/"
        },
        "id": "-P_OtdeOhZLe",
        "outputId": "4dcbc762-3ca5-452c-824d-6d3e06eacda6"
      },
      "execution_count": null,
      "outputs": [
        {
          "output_type": "stream",
          "name": "stdout",
          "text": [
            "Enter Age of Citizen:147\n",
            "\t147 Years Citizen is not Eligible Vote-try Again:\n",
            "Enter Age of Citizen:45\n",
            "45 Years Citizen is  Eligible Vote:\n"
          ]
        }
      ]
    },
    {
      "cell_type": "code",
      "source": [],
      "metadata": {
        "id": "1feXFZ-2he51"
      },
      "execution_count": null,
      "outputs": []
    }
  ]
}