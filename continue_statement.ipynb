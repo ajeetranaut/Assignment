{
  "nbformat": 4,
  "nbformat_minor": 0,
  "metadata": {
    "colab": {
      "provenance": [],
      "authorship_tag": "ABX9TyOGLV2oG9AianXRgRbZJYqA",
      "include_colab_link": true
    },
    "kernelspec": {
      "name": "python3",
      "display_name": "Python 3"
    },
    "language_info": {
      "name": "python"
    }
  },
  "cells": [
    {
      "cell_type": "markdown",
      "metadata": {
        "id": "view-in-github",
        "colab_type": "text"
      },
      "source": [
        "<a href=\"https://colab.research.google.com/github/ajeetranaut/Assignment/blob/master/continue_statement.ipynb\" target=\"_parent\"><img src=\"https://colab.research.google.com/assets/colab-badge.svg\" alt=\"Open In Colab\"/></a>"
      ]
    },
    {
      "cell_type": "code",
      "execution_count": null,
      "metadata": {
        "id": "oLdQjKhIwMH_"
      },
      "outputs": [],
      "source": []
    },
    {
      "cell_type": "markdown",
      "source": [
        "\t\t\t\t\t\t-------------------------------------\n",
        "\t\t\t\t\t\t2. continue statement\n",
        "\t\t\t\t\t\t-------------------------------------\n",
        "=>continue is a keyword\n",
        "\n",
        "=>continue statement is used for making the PVM to go to the top of the loop without executing the following statements which are written after continue statement for that current Iteration only.\n",
        "\n",
        "=>continue statement  to be used always inside of loops.\n",
        "\n",
        "=>when we use continue statement inside of loop then else part of corresponding loop also executes provided loop condition becomes false.\n",
        "\n",
        "-----------------\n",
        "=>Syntax:-\n",
        "----------------\n",
        "\t\t\tfor varname   in Iterable-object:\n",
        "\t\t\t     ------------------------------------------\n",
        "\t\t\t     if ( Test Cond):\n",
        "\t\t\t          continue\n",
        "\t\t\t     statement-1  # written after continue statement\n",
        "\t\t\t     statement-2\n",
        "\t\t\t     statement-n\n",
        "\t\t\t-----------------------------------------\n",
        "\t\t\t-----------------------------------------\n",
        "\n",
        "\n",
        "=>Syntax:-\n",
        "----------------\n",
        "\t\t\twhile (Test Cond):\n",
        "\t\t\t     ------------------------------------------\n",
        "\t\t\t     if ( Test Cond):\n",
        "\t\t\t          continue\n",
        "\t\t\t     statement-1  # written after continue stateemnt\n",
        "\t\t\t     statement-2\n",
        "\t\t\t     statement-n\n",
        "\t\t\t-----------------------------------------\n",
        "\t\t\t-----------------------------------------\n",
        "\n",
        "\n",
        "===========================X=================================="
      ],
      "metadata": {
        "id": "VzEKt6kiwMq7"
      }
    },
    {
      "cell_type": "code",
      "source": [
        "#Program for demonstrating continue statement\n",
        "#ContinueStmtEx1.py\n",
        "s=\"PYTHON\"\n",
        "print(\"By using for loop without continue stmt\")\n",
        "for ch in s:\n",
        "    print(ch)\n",
        "else:\n",
        "    print(\"else part of for loop without continue stmt\")\n",
        "print(\"-------------------------------------\")\n",
        "#My Requriment is to display PYHON\n",
        "print(\"By using for loop with continue stmt\")\n",
        "for ch in s:\n",
        "    if (ch==\"T\"):\n",
        "        continue\n",
        "    print(ch)\n",
        "else:\n",
        "    print(\"else part of for loop with continue stmt\")\n",
        "print(\"-------------------------------------\")"
      ],
      "metadata": {
        "colab": {
          "base_uri": "https://localhost:8080/"
        },
        "id": "68iXSgA4wjXa",
        "outputId": "0cdc38d3-52e7-4da6-d28b-87d20c0af514"
      },
      "execution_count": null,
      "outputs": [
        {
          "output_type": "stream",
          "name": "stdout",
          "text": [
            "By using for loop without continue stmt\n",
            "P\n",
            "Y\n",
            "T\n",
            "H\n",
            "O\n",
            "N\n",
            "else part of for loop without continue stmt\n",
            "-------------------------------------\n",
            "By using for loop with continue stmt\n",
            "P\n",
            "Y\n",
            "H\n",
            "O\n",
            "N\n",
            "else part of for loop with continue stmt\n",
            "-------------------------------------\n"
          ]
        }
      ]
    },
    {
      "cell_type": "code",
      "source": [],
      "metadata": {
        "id": "NO7WYo26w3Qs"
      },
      "execution_count": null,
      "outputs": []
    }
  ]
}