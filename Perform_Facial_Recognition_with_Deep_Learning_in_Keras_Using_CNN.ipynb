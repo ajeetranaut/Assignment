{
  "nbformat": 4,
  "nbformat_minor": 0,
  "metadata": {
    "colab": {
      "name": "Perform Facial Recognition with Deep Learning in Keras Using CNN.ipynb",
      "provenance": [],
      "authorship_tag": "ABX9TyNBXh2HehUeWT/yNlROHqP7",
      "include_colab_link": true
    },
    "kernelspec": {
      "name": "python3",
      "display_name": "Python 3"
    },
    "language_info": {
      "name": "python"
    }
  },
  "cells": [
    {
      "cell_type": "markdown",
      "metadata": {
        "id": "view-in-github",
        "colab_type": "text"
      },
      "source": [
        "<a href=\"https://colab.research.google.com/github/ajeetranaut/Assignment/blob/master/Perform_Facial_Recognition_with_Deep_Learning_in_Keras_Using_CNN.ipynb\" target=\"_parent\"><img src=\"https://colab.research.google.com/assets/colab-badge.svg\" alt=\"Open In Colab\"/></a>"
      ]
    },
    {
      "cell_type": "markdown",
      "source": [
        "## Required libraries:"
      ],
      "metadata": {
        "id": "0fsknyoNN5Wb"
      }
    },
    {
      "cell_type": "code",
      "execution_count": 3,
      "metadata": {
        "id": "BBxn2LuMNJMH"
      },
      "outputs": [],
      "source": [
        "import keras\n",
        "from keras.models import Sequential\n",
        "from keras.layers import Conv2D, MaxPooling2D, Dense, Flatten, Dropout\n",
        "#from keras.optimizers import Adam\n",
        "from keras.callbacks import TensorBoard\n",
        "\n",
        "import numpy as np\n",
        "import pandas as pd\n",
        "import matplotlib.pyplot as plt\n",
        "from sklearn.model_selection import train_test_split\n",
        "\n",
        "from sklearn.metrics import confusion_matrix\n",
        "from sklearn.metrics import classification_report\n",
        "from sklearn.metrics import roc_curve, auc\n",
        "from sklearn.metrics import accuracy_score\n",
        "from keras.utils import np_utils\n",
        "import itertools"
      ]
    },
    {
      "cell_type": "code",
      "source": [
        "import numpy as np\n",
        "import tensorflow as tf"
      ],
      "metadata": {
        "id": "HzdO78CnPzx9"
      },
      "execution_count": 7,
      "outputs": []
    },
    {
      "cell_type": "code",
      "source": [
        "from tensorflow.keras.optimizers import Adam\n",
        "\n",
        "from tensorflow.keras.optimizers import Adam"
      ],
      "metadata": {
        "id": "iC8mGgRxNPA5"
      },
      "execution_count": 2,
      "outputs": []
    },
    {
      "cell_type": "markdown",
      "source": [
        "## Loading Dataset"
      ],
      "metadata": {
        "id": "7T3osDyMekSg"
      }
    },
    {
      "cell_type": "code",
      "source": [
        "#load dataset\n",
        "data = np.load('/content/ORL_faces.npz') \n",
        "\n",
        "# load the \"Train Images\"\n",
        "x_train = data['trainX']\n",
        "#normalize every image\n",
        "x_train = np.array(x_train,dtype='float32')/255\n",
        "\n",
        "x_test = data['testX']\n",
        "x_test = np.array(x_test,dtype='float32')/255\n",
        "\n",
        "# load the Label of Images\n",
        "y_train= data['trainY']\n",
        "y_test= data['testY']\n",
        "\n",
        "# show the train and test Data format\n",
        "print('x_train : {}'.format(x_train[:]))\n",
        "print('Y-train shape: {}'.format(y_train))\n",
        "print('x_test shape: {}'.format(x_test.shape))"
      ],
      "metadata": {
        "colab": {
          "base_uri": "https://localhost:8080/"
        },
        "id": "BvvM_R2bNtdZ",
        "outputId": "3b3605b2-3344-45d0-d610-eca9645e1990"
      },
      "execution_count": 8,
      "outputs": [
        {
          "output_type": "stream",
          "name": "stdout",
          "text": [
            "x_train : [[0.1882353  0.19215687 0.1764706  ... 0.18431373 0.18039216 0.18039216]\n",
            " [0.23529412 0.23529412 0.24313726 ... 0.1254902  0.13333334 0.13333334]\n",
            " [0.15294118 0.17254902 0.20784314 ... 0.11372549 0.10196079 0.11372549]\n",
            " ...\n",
            " [0.44705883 0.45882353 0.44705883 ... 0.38431373 0.3764706  0.38431373]\n",
            " [0.4117647  0.4117647  0.41960785 ... 0.21176471 0.18431373 0.16078432]\n",
            " [0.45490196 0.44705883 0.45882353 ... 0.37254903 0.39215687 0.39607844]]\n",
            "Y-train shape: [ 0  0  0  0  0  0  0  0  0  0  0  0  1  1  1  1  1  1  1  1  1  1  1  1\n",
            "  2  2  2  2  2  2  2  2  2  2  2  2  3  3  3  3  3  3  3  3  3  3  3  3\n",
            "  4  4  4  4  4  4  4  4  4  4  4  4  5  5  5  5  5  5  5  5  5  5  5  5\n",
            "  6  6  6  6  6  6  6  6  6  6  6  6  7  7  7  7  7  7  7  7  7  7  7  7\n",
            "  8  8  8  8  8  8  8  8  8  8  8  8  9  9  9  9  9  9  9  9  9  9  9  9\n",
            " 10 10 10 10 10 10 10 10 10 10 10 10 11 11 11 11 11 11 11 11 11 11 11 11\n",
            " 12 12 12 12 12 12 12 12 12 12 12 12 13 13 13 13 13 13 13 13 13 13 13 13\n",
            " 14 14 14 14 14 14 14 14 14 14 14 14 15 15 15 15 15 15 15 15 15 15 15 15\n",
            " 16 16 16 16 16 16 16 16 16 16 16 16 17 17 17 17 17 17 17 17 17 17 17 17\n",
            " 18 18 18 18 18 18 18 18 18 18 18 18 19 19 19 19 19 19 19 19 19 19 19 19]\n",
            "x_test shape: (160, 10304)\n"
          ]
        }
      ]
    },
    {
      "cell_type": "markdown",
      "source": [
        "## Splitting DataSet"
      ],
      "metadata": {
        "id": "zL9cNb2feyRS"
      }
    },
    {
      "cell_type": "code",
      "source": [
        "x_train, x_valid, y_train, y_valid= train_test_split(\n",
        "    x_train, y_train, test_size=.05, random_state=1234,)"
      ],
      "metadata": {
        "id": "6pm8AY3qPnyM"
      },
      "execution_count": 10,
      "outputs": []
    },
    {
      "cell_type": "markdown",
      "source": [
        "## Changing Image Size for the use of CNN"
      ],
      "metadata": {
        "id": "CMp2ZkfFe3oc"
      }
    },
    {
      "cell_type": "code",
      "source": [
        "im_rows=112\n",
        "im_cols=92\n",
        "batch_size=512\n",
        "im_shape=(im_rows, im_cols, 1)\n",
        "\n",
        "#change the size of images\n",
        "x_train = x_train.reshape(x_train.shape[0], *im_shape)\n",
        "x_test = x_test.reshape(x_test.shape[0], *im_shape)\n",
        "x_valid = x_valid.reshape(x_valid.shape[0], *im_shape)\n",
        "\n",
        "print('x_train shape: {}'.format(y_train.shape[0]))\n",
        "print('x_test shape: {}'.format(y_test.shape))"
      ],
      "metadata": {
        "colab": {
          "base_uri": "https://localhost:8080/"
        },
        "id": "DIt9aC2cQBVV",
        "outputId": "f32b9d66-d361-431c-bc26-3b30cec43ad3"
      },
      "execution_count": 11,
      "outputs": [
        {
          "output_type": "stream",
          "name": "stdout",
          "text": [
            "x_train shape: 228\n",
            "x_test shape: (160,)\n"
          ]
        }
      ]
    },
    {
      "cell_type": "markdown",
      "source": [
        "## Building CNN model: CNN have 3 main layer:\n",
        "\n",
        "1-Convolotional layer\n",
        "\n",
        "2- pooling layer\n",
        "\n",
        "3- fully connected layer"
      ],
      "metadata": {
        "id": "KhpcIufCfIdQ"
      }
    },
    {
      "cell_type": "code",
      "source": [
        "#filters= the depth of output image or kernels\n",
        "\n",
        "cnn_model= Sequential([\n",
        "    Conv2D(filters=36, kernel_size=7, activation='relu', input_shape= im_shape),\n",
        "    MaxPooling2D(pool_size=2),\n",
        "    Conv2D(filters=54, kernel_size=5, activation='relu', input_shape= im_shape),\n",
        "    MaxPooling2D(pool_size=2),\n",
        "    Flatten(),\n",
        "    Dense(2024, activation='relu'),\n",
        "     Dropout(0.5),\n",
        "    Dense(1024, activation='relu'),\n",
        "    Dropout(0.5),\n",
        "    Dense(512, activation='relu'),\n",
        "    Dropout(0.5),\n",
        "    #20 is the number of outputs\n",
        "    Dense(20, activation='softmax')  \n",
        "])\n",
        "\n",
        "cnn_model.compile(\n",
        "    loss='sparse_categorical_crossentropy',#'categorical_crossentropy',\n",
        "    optimizer=Adam(lr=0.0001),\n",
        "    metrics=['accuracy']\n",
        ")"
      ],
      "metadata": {
        "colab": {
          "base_uri": "https://localhost:8080/"
        },
        "id": "T9Kk4ZzTQF7V",
        "outputId": "8cd751dd-c03f-4915-fbb0-1be12741dc04"
      },
      "execution_count": 12,
      "outputs": [
        {
          "output_type": "stream",
          "name": "stderr",
          "text": [
            "/usr/local/lib/python3.7/dist-packages/keras/optimizer_v2/adam.py:105: UserWarning: The `lr` argument is deprecated, use `learning_rate` instead.\n",
            "  super(Adam, self).__init__(name, **kwargs)\n"
          ]
        }
      ]
    },
    {
      "cell_type": "markdown",
      "source": [
        "## model's parameters."
      ],
      "metadata": {
        "id": "icxi50_efeTG"
      }
    },
    {
      "cell_type": "code",
      "source": [
        "cnn_model.summary()"
      ],
      "metadata": {
        "colab": {
          "base_uri": "https://localhost:8080/"
        },
        "id": "uHH3n6mlQK51",
        "outputId": "1d07396a-1d3f-49d0-896c-78b40c2f1b43"
      },
      "execution_count": 13,
      "outputs": [
        {
          "output_type": "stream",
          "name": "stdout",
          "text": [
            "Model: \"sequential\"\n",
            "_________________________________________________________________\n",
            " Layer (type)                Output Shape              Param #   \n",
            "=================================================================\n",
            " conv2d (Conv2D)             (None, 106, 86, 36)       1800      \n",
            "                                                                 \n",
            " max_pooling2d (MaxPooling2D  (None, 53, 43, 36)       0         \n",
            " )                                                               \n",
            "                                                                 \n",
            " conv2d_1 (Conv2D)           (None, 49, 39, 54)        48654     \n",
            "                                                                 \n",
            " max_pooling2d_1 (MaxPooling  (None, 24, 19, 54)       0         \n",
            " 2D)                                                             \n",
            "                                                                 \n",
            " flatten (Flatten)           (None, 24624)             0         \n",
            "                                                                 \n",
            " dense (Dense)               (None, 2024)              49841000  \n",
            "                                                                 \n",
            " dropout (Dropout)           (None, 2024)              0         \n",
            "                                                                 \n",
            " dense_1 (Dense)             (None, 1024)              2073600   \n",
            "                                                                 \n",
            " dropout_1 (Dropout)         (None, 1024)              0         \n",
            "                                                                 \n",
            " dense_2 (Dense)             (None, 512)               524800    \n",
            "                                                                 \n",
            " dropout_2 (Dropout)         (None, 512)               0         \n",
            "                                                                 \n",
            " dense_3 (Dense)             (None, 20)                10260     \n",
            "                                                                 \n",
            "=================================================================\n",
            "Total params: 52,500,114\n",
            "Trainable params: 52,500,114\n",
            "Non-trainable params: 0\n",
            "_________________________________________________________________\n"
          ]
        }
      ]
    },
    {
      "cell_type": "markdown",
      "source": [
        "## Training of the model"
      ],
      "metadata": {
        "id": "mptRmMnHfhEv"
      }
    },
    {
      "cell_type": "code",
      "source": [
        "history=cnn_model.fit(\n",
        "    np.array(x_train), np.array(y_train), batch_size=512,\n",
        "    epochs=250, verbose=2,\n",
        "    validation_data=(np.array(x_valid),np.array(y_valid)),\n",
        ")"
      ],
      "metadata": {
        "colab": {
          "base_uri": "https://localhost:8080/"
        },
        "id": "oeKmAfTMQUIe",
        "outputId": "0f0abead-63c3-4b51-9cf2-b07ece2aaac6"
      },
      "execution_count": 14,
      "outputs": [
        {
          "output_type": "stream",
          "name": "stdout",
          "text": [
            "Epoch 1/250\n",
            "1/1 - 9s - loss: 3.0151 - accuracy: 0.0395 - val_loss: 2.9746 - val_accuracy: 0.0833 - 9s/epoch - 9s/step\n",
            "Epoch 2/250\n",
            "1/1 - 7s - loss: 3.0096 - accuracy: 0.0614 - val_loss: 2.9850 - val_accuracy: 0.0000e+00 - 7s/epoch - 7s/step\n",
            "Epoch 3/250\n",
            "1/1 - 7s - loss: 3.0224 - accuracy: 0.0746 - val_loss: 2.9873 - val_accuracy: 0.0000e+00 - 7s/epoch - 7s/step\n",
            "Epoch 4/250\n",
            "1/1 - 7s - loss: 3.0010 - accuracy: 0.0746 - val_loss: 2.9907 - val_accuracy: 0.0833 - 7s/epoch - 7s/step\n",
            "Epoch 5/250\n",
            "1/1 - 7s - loss: 3.0372 - accuracy: 0.0351 - val_loss: 2.9917 - val_accuracy: 0.2500 - 7s/epoch - 7s/step\n",
            "Epoch 6/250\n",
            "1/1 - 10s - loss: 3.0266 - accuracy: 0.0570 - val_loss: 2.9918 - val_accuracy: 0.0833 - 10s/epoch - 10s/step\n",
            "Epoch 7/250\n",
            "1/1 - 7s - loss: 2.9911 - accuracy: 0.0746 - val_loss: 2.9921 - val_accuracy: 0.0833 - 7s/epoch - 7s/step\n",
            "Epoch 8/250\n",
            "1/1 - 7s - loss: 2.9922 - accuracy: 0.0746 - val_loss: 2.9921 - val_accuracy: 0.0833 - 7s/epoch - 7s/step\n",
            "Epoch 9/250\n",
            "1/1 - 10s - loss: 2.9753 - accuracy: 0.0702 - val_loss: 2.9933 - val_accuracy: 0.0833 - 10s/epoch - 10s/step\n",
            "Epoch 10/250\n",
            "1/1 - 9s - loss: 2.9902 - accuracy: 0.0570 - val_loss: 2.9930 - val_accuracy: 0.0833 - 9s/epoch - 9s/step\n",
            "Epoch 11/250\n",
            "1/1 - 7s - loss: 2.9741 - accuracy: 0.0789 - val_loss: 2.9914 - val_accuracy: 0.0833 - 7s/epoch - 7s/step\n",
            "Epoch 12/250\n",
            "1/1 - 7s - loss: 2.9829 - accuracy: 0.0526 - val_loss: 2.9893 - val_accuracy: 0.0833 - 7s/epoch - 7s/step\n",
            "Epoch 13/250\n",
            "1/1 - 12s - loss: 2.9753 - accuracy: 0.0614 - val_loss: 2.9870 - val_accuracy: 0.0833 - 12s/epoch - 12s/step\n",
            "Epoch 14/250\n",
            "1/1 - 13s - loss: 2.9709 - accuracy: 0.0833 - val_loss: 2.9862 - val_accuracy: 0.0000e+00 - 13s/epoch - 13s/step\n",
            "Epoch 15/250\n",
            "1/1 - 8s - loss: 2.9632 - accuracy: 0.0833 - val_loss: 2.9859 - val_accuracy: 0.0833 - 8s/epoch - 8s/step\n",
            "Epoch 16/250\n",
            "1/1 - 8s - loss: 2.9605 - accuracy: 0.0921 - val_loss: 2.9849 - val_accuracy: 0.0000e+00 - 8s/epoch - 8s/step\n",
            "Epoch 17/250\n",
            "1/1 - 8s - loss: 2.9477 - accuracy: 0.0921 - val_loss: 2.9844 - val_accuracy: 0.0000e+00 - 8s/epoch - 8s/step\n",
            "Epoch 18/250\n",
            "1/1 - 8s - loss: 2.9520 - accuracy: 0.1053 - val_loss: 2.9841 - val_accuracy: 0.0000e+00 - 8s/epoch - 8s/step\n",
            "Epoch 19/250\n",
            "1/1 - 8s - loss: 2.9442 - accuracy: 0.1272 - val_loss: 2.9818 - val_accuracy: 0.0000e+00 - 8s/epoch - 8s/step\n",
            "Epoch 20/250\n",
            "1/1 - 8s - loss: 2.9414 - accuracy: 0.1447 - val_loss: 2.9784 - val_accuracy: 0.0000e+00 - 8s/epoch - 8s/step\n",
            "Epoch 21/250\n",
            "1/1 - 8s - loss: 2.9345 - accuracy: 0.1447 - val_loss: 2.9739 - val_accuracy: 0.0000e+00 - 8s/epoch - 8s/step\n",
            "Epoch 22/250\n",
            "1/1 - 8s - loss: 2.9280 - accuracy: 0.1272 - val_loss: 2.9677 - val_accuracy: 0.0000e+00 - 8s/epoch - 8s/step\n",
            "Epoch 23/250\n",
            "1/1 - 8s - loss: 2.9272 - accuracy: 0.1491 - val_loss: 2.9613 - val_accuracy: 0.0000e+00 - 8s/epoch - 8s/step\n",
            "Epoch 24/250\n",
            "1/1 - 8s - loss: 2.9181 - accuracy: 0.1404 - val_loss: 2.9538 - val_accuracy: 0.0000e+00 - 8s/epoch - 8s/step\n",
            "Epoch 25/250\n",
            "1/1 - 9s - loss: 2.8927 - accuracy: 0.1754 - val_loss: 2.9461 - val_accuracy: 0.0000e+00 - 9s/epoch - 9s/step\n",
            "Epoch 26/250\n",
            "1/1 - 8s - loss: 2.8690 - accuracy: 0.1974 - val_loss: 2.9383 - val_accuracy: 0.0000e+00 - 8s/epoch - 8s/step\n",
            "Epoch 27/250\n",
            "1/1 - 8s - loss: 2.8670 - accuracy: 0.2061 - val_loss: 2.9317 - val_accuracy: 0.0000e+00 - 8s/epoch - 8s/step\n",
            "Epoch 28/250\n",
            "1/1 - 8s - loss: 2.8335 - accuracy: 0.2281 - val_loss: 2.9248 - val_accuracy: 0.0000e+00 - 8s/epoch - 8s/step\n",
            "Epoch 29/250\n",
            "1/1 - 8s - loss: 2.8464 - accuracy: 0.1667 - val_loss: 2.9162 - val_accuracy: 0.0000e+00 - 8s/epoch - 8s/step\n",
            "Epoch 30/250\n",
            "1/1 - 8s - loss: 2.8402 - accuracy: 0.1360 - val_loss: 2.9047 - val_accuracy: 0.0833 - 8s/epoch - 8s/step\n",
            "Epoch 31/250\n",
            "1/1 - 8s - loss: 2.8247 - accuracy: 0.1798 - val_loss: 2.8916 - val_accuracy: 0.0833 - 8s/epoch - 8s/step\n",
            "Epoch 32/250\n",
            "1/1 - 8s - loss: 2.7743 - accuracy: 0.1798 - val_loss: 2.8775 - val_accuracy: 0.0833 - 8s/epoch - 8s/step\n",
            "Epoch 33/250\n",
            "1/1 - 8s - loss: 2.7856 - accuracy: 0.1974 - val_loss: 2.8609 - val_accuracy: 0.0833 - 8s/epoch - 8s/step\n",
            "Epoch 34/250\n",
            "1/1 - 7s - loss: 2.7780 - accuracy: 0.1667 - val_loss: 2.8368 - val_accuracy: 0.0833 - 7s/epoch - 7s/step\n",
            "Epoch 35/250\n",
            "1/1 - 7s - loss: 2.7122 - accuracy: 0.2500 - val_loss: 2.8099 - val_accuracy: 0.0833 - 7s/epoch - 7s/step\n",
            "Epoch 36/250\n",
            "1/1 - 7s - loss: 2.7060 - accuracy: 0.2456 - val_loss: 2.7862 - val_accuracy: 0.0833 - 7s/epoch - 7s/step\n",
            "Epoch 37/250\n",
            "1/1 - 8s - loss: 2.6422 - accuracy: 0.2763 - val_loss: 2.7588 - val_accuracy: 0.0833 - 8s/epoch - 8s/step\n",
            "Epoch 38/250\n",
            "1/1 - 8s - loss: 2.6597 - accuracy: 0.2675 - val_loss: 2.7265 - val_accuracy: 0.0833 - 8s/epoch - 8s/step\n",
            "Epoch 39/250\n",
            "1/1 - 8s - loss: 2.6057 - accuracy: 0.2632 - val_loss: 2.6940 - val_accuracy: 0.1667 - 8s/epoch - 8s/step\n",
            "Epoch 40/250\n",
            "1/1 - 8s - loss: 2.5612 - accuracy: 0.2851 - val_loss: 2.6625 - val_accuracy: 0.1667 - 8s/epoch - 8s/step\n",
            "Epoch 41/250\n",
            "1/1 - 9s - loss: 2.5779 - accuracy: 0.2719 - val_loss: 2.6231 - val_accuracy: 0.1667 - 9s/epoch - 9s/step\n",
            "Epoch 42/250\n",
            "1/1 - 8s - loss: 2.5401 - accuracy: 0.2982 - val_loss: 2.5704 - val_accuracy: 0.2500 - 8s/epoch - 8s/step\n",
            "Epoch 43/250\n",
            "1/1 - 8s - loss: 2.4922 - accuracy: 0.3114 - val_loss: 2.5169 - val_accuracy: 0.3333 - 8s/epoch - 8s/step\n",
            "Epoch 44/250\n",
            "1/1 - 8s - loss: 2.4698 - accuracy: 0.2807 - val_loss: 2.4580 - val_accuracy: 0.4167 - 8s/epoch - 8s/step\n",
            "Epoch 45/250\n",
            "1/1 - 8s - loss: 2.3497 - accuracy: 0.3860 - val_loss: 2.3948 - val_accuracy: 0.4167 - 8s/epoch - 8s/step\n",
            "Epoch 46/250\n",
            "1/1 - 8s - loss: 2.3480 - accuracy: 0.3246 - val_loss: 2.3296 - val_accuracy: 0.4167 - 8s/epoch - 8s/step\n",
            "Epoch 47/250\n",
            "1/1 - 8s - loss: 2.3456 - accuracy: 0.3728 - val_loss: 2.2703 - val_accuracy: 0.4167 - 8s/epoch - 8s/step\n",
            "Epoch 48/250\n",
            "1/1 - 8s - loss: 2.2676 - accuracy: 0.4079 - val_loss: 2.2106 - val_accuracy: 0.5000 - 8s/epoch - 8s/step\n",
            "Epoch 49/250\n",
            "1/1 - 8s - loss: 2.2108 - accuracy: 0.3640 - val_loss: 2.1510 - val_accuracy: 0.5000 - 8s/epoch - 8s/step\n",
            "Epoch 50/250\n",
            "1/1 - 8s - loss: 2.1450 - accuracy: 0.4254 - val_loss: 2.0931 - val_accuracy: 0.5000 - 8s/epoch - 8s/step\n",
            "Epoch 51/250\n",
            "1/1 - 7s - loss: 2.0577 - accuracy: 0.4386 - val_loss: 2.0301 - val_accuracy: 0.4167 - 7s/epoch - 7s/step\n",
            "Epoch 52/250\n",
            "1/1 - 7s - loss: 1.9377 - accuracy: 0.4605 - val_loss: 1.9535 - val_accuracy: 0.5000 - 7s/epoch - 7s/step\n",
            "Epoch 53/250\n",
            "1/1 - 7s - loss: 2.0230 - accuracy: 0.4123 - val_loss: 1.8801 - val_accuracy: 0.5000 - 7s/epoch - 7s/step\n",
            "Epoch 54/250\n",
            "1/1 - 7s - loss: 1.8866 - accuracy: 0.4693 - val_loss: 1.8093 - val_accuracy: 0.5833 - 7s/epoch - 7s/step\n",
            "Epoch 55/250\n",
            "1/1 - 7s - loss: 1.8284 - accuracy: 0.4430 - val_loss: 1.7460 - val_accuracy: 0.6667 - 7s/epoch - 7s/step\n",
            "Epoch 56/250\n",
            "1/1 - 7s - loss: 1.7978 - accuracy: 0.4737 - val_loss: 1.6761 - val_accuracy: 0.6667 - 7s/epoch - 7s/step\n",
            "Epoch 57/250\n",
            "1/1 - 8s - loss: 1.7737 - accuracy: 0.4518 - val_loss: 1.5959 - val_accuracy: 0.6667 - 8s/epoch - 8s/step\n",
            "Epoch 58/250\n",
            "1/1 - 8s - loss: 1.7012 - accuracy: 0.5175 - val_loss: 1.5284 - val_accuracy: 0.6667 - 8s/epoch - 8s/step\n",
            "Epoch 59/250\n",
            "1/1 - 7s - loss: 1.5816 - accuracy: 0.5746 - val_loss: 1.4566 - val_accuracy: 0.8333 - 7s/epoch - 7s/step\n",
            "Epoch 60/250\n",
            "1/1 - 7s - loss: 1.6109 - accuracy: 0.5439 - val_loss: 1.3957 - val_accuracy: 0.8333 - 7s/epoch - 7s/step\n",
            "Epoch 61/250\n",
            "1/1 - 7s - loss: 1.4703 - accuracy: 0.5965 - val_loss: 1.3381 - val_accuracy: 0.7500 - 7s/epoch - 7s/step\n",
            "Epoch 62/250\n",
            "1/1 - 7s - loss: 1.4495 - accuracy: 0.5789 - val_loss: 1.2791 - val_accuracy: 0.8333 - 7s/epoch - 7s/step\n",
            "Epoch 63/250\n",
            "1/1 - 7s - loss: 1.3515 - accuracy: 0.6140 - val_loss: 1.1891 - val_accuracy: 0.9167 - 7s/epoch - 7s/step\n",
            "Epoch 64/250\n",
            "1/1 - 7s - loss: 1.3033 - accuracy: 0.6009 - val_loss: 1.0937 - val_accuracy: 0.8333 - 7s/epoch - 7s/step\n",
            "Epoch 65/250\n",
            "1/1 - 7s - loss: 1.1596 - accuracy: 0.6842 - val_loss: 1.0033 - val_accuracy: 0.8333 - 7s/epoch - 7s/step\n",
            "Epoch 66/250\n",
            "1/1 - 8s - loss: 1.2156 - accuracy: 0.6404 - val_loss: 0.9177 - val_accuracy: 0.9167 - 8s/epoch - 8s/step\n",
            "Epoch 67/250\n",
            "1/1 - 7s - loss: 1.1432 - accuracy: 0.6886 - val_loss: 0.8315 - val_accuracy: 0.9167 - 7s/epoch - 7s/step\n",
            "Epoch 68/250\n",
            "1/1 - 7s - loss: 1.1493 - accuracy: 0.6711 - val_loss: 0.7553 - val_accuracy: 1.0000 - 7s/epoch - 7s/step\n",
            "Epoch 69/250\n",
            "1/1 - 8s - loss: 1.0341 - accuracy: 0.6754 - val_loss: 0.7016 - val_accuracy: 1.0000 - 8s/epoch - 8s/step\n",
            "Epoch 70/250\n",
            "1/1 - 7s - loss: 0.9534 - accuracy: 0.7193 - val_loss: 0.6590 - val_accuracy: 1.0000 - 7s/epoch - 7s/step\n",
            "Epoch 71/250\n",
            "1/1 - 7s - loss: 0.9178 - accuracy: 0.7456 - val_loss: 0.6156 - val_accuracy: 1.0000 - 7s/epoch - 7s/step\n",
            "Epoch 72/250\n",
            "1/1 - 7s - loss: 0.9717 - accuracy: 0.7061 - val_loss: 0.5886 - val_accuracy: 1.0000 - 7s/epoch - 7s/step\n",
            "Epoch 73/250\n",
            "1/1 - 7s - loss: 0.9108 - accuracy: 0.7588 - val_loss: 0.5652 - val_accuracy: 1.0000 - 7s/epoch - 7s/step\n",
            "Epoch 74/250\n",
            "1/1 - 9s - loss: 0.8618 - accuracy: 0.7281 - val_loss: 0.5439 - val_accuracy: 1.0000 - 9s/epoch - 9s/step\n",
            "Epoch 75/250\n",
            "1/1 - 7s - loss: 0.7610 - accuracy: 0.7851 - val_loss: 0.5150 - val_accuracy: 1.0000 - 7s/epoch - 7s/step\n",
            "Epoch 76/250\n",
            "1/1 - 8s - loss: 0.7341 - accuracy: 0.7939 - val_loss: 0.4658 - val_accuracy: 1.0000 - 8s/epoch - 8s/step\n",
            "Epoch 77/250\n",
            "1/1 - 8s - loss: 0.6795 - accuracy: 0.8114 - val_loss: 0.4153 - val_accuracy: 1.0000 - 8s/epoch - 8s/step\n",
            "Epoch 78/250\n",
            "1/1 - 8s - loss: 0.6999 - accuracy: 0.8026 - val_loss: 0.3776 - val_accuracy: 1.0000 - 8s/epoch - 8s/step\n",
            "Epoch 79/250\n",
            "1/1 - 7s - loss: 0.7089 - accuracy: 0.8070 - val_loss: 0.3448 - val_accuracy: 1.0000 - 7s/epoch - 7s/step\n",
            "Epoch 80/250\n",
            "1/1 - 7s - loss: 0.6139 - accuracy: 0.8421 - val_loss: 0.3310 - val_accuracy: 0.9167 - 7s/epoch - 7s/step\n",
            "Epoch 81/250\n",
            "1/1 - 8s - loss: 0.6204 - accuracy: 0.8158 - val_loss: 0.3234 - val_accuracy: 0.9167 - 8s/epoch - 8s/step\n",
            "Epoch 82/250\n",
            "1/1 - 7s - loss: 0.5989 - accuracy: 0.8333 - val_loss: 0.3070 - val_accuracy: 0.9167 - 7s/epoch - 7s/step\n",
            "Epoch 83/250\n",
            "1/1 - 7s - loss: 0.6205 - accuracy: 0.8202 - val_loss: 0.2698 - val_accuracy: 0.9167 - 7s/epoch - 7s/step\n",
            "Epoch 84/250\n",
            "1/1 - 7s - loss: 0.4664 - accuracy: 0.8904 - val_loss: 0.2417 - val_accuracy: 1.0000 - 7s/epoch - 7s/step\n",
            "Epoch 85/250\n",
            "1/1 - 7s - loss: 0.5005 - accuracy: 0.8509 - val_loss: 0.2117 - val_accuracy: 1.0000 - 7s/epoch - 7s/step\n",
            "Epoch 86/250\n",
            "1/1 - 7s - loss: 0.4458 - accuracy: 0.8860 - val_loss: 0.1935 - val_accuracy: 1.0000 - 7s/epoch - 7s/step\n",
            "Epoch 87/250\n",
            "1/1 - 7s - loss: 0.4590 - accuracy: 0.8640 - val_loss: 0.1905 - val_accuracy: 0.9167 - 7s/epoch - 7s/step\n",
            "Epoch 88/250\n",
            "1/1 - 7s - loss: 0.4344 - accuracy: 0.8860 - val_loss: 0.1673 - val_accuracy: 1.0000 - 7s/epoch - 7s/step\n",
            "Epoch 89/250\n",
            "1/1 - 7s - loss: 0.3762 - accuracy: 0.9123 - val_loss: 0.1344 - val_accuracy: 1.0000 - 7s/epoch - 7s/step\n",
            "Epoch 90/250\n",
            "1/1 - 7s - loss: 0.4280 - accuracy: 0.8772 - val_loss: 0.1165 - val_accuracy: 1.0000 - 7s/epoch - 7s/step\n",
            "Epoch 91/250\n",
            "1/1 - 9s - loss: 0.3407 - accuracy: 0.9079 - val_loss: 0.1091 - val_accuracy: 1.0000 - 9s/epoch - 9s/step\n",
            "Epoch 92/250\n",
            "1/1 - 7s - loss: 0.3502 - accuracy: 0.8947 - val_loss: 0.1100 - val_accuracy: 1.0000 - 7s/epoch - 7s/step\n",
            "Epoch 93/250\n",
            "1/1 - 7s - loss: 0.3142 - accuracy: 0.9254 - val_loss: 0.1201 - val_accuracy: 1.0000 - 7s/epoch - 7s/step\n",
            "Epoch 94/250\n",
            "1/1 - 7s - loss: 0.2662 - accuracy: 0.9474 - val_loss: 0.1260 - val_accuracy: 1.0000 - 7s/epoch - 7s/step\n",
            "Epoch 95/250\n",
            "1/1 - 8s - loss: 0.2834 - accuracy: 0.9211 - val_loss: 0.1230 - val_accuracy: 1.0000 - 8s/epoch - 8s/step\n",
            "Epoch 96/250\n",
            "1/1 - 7s - loss: 0.2817 - accuracy: 0.9474 - val_loss: 0.1103 - val_accuracy: 1.0000 - 7s/epoch - 7s/step\n",
            "Epoch 97/250\n",
            "1/1 - 7s - loss: 0.2509 - accuracy: 0.9386 - val_loss: 0.0871 - val_accuracy: 1.0000 - 7s/epoch - 7s/step\n",
            "Epoch 98/250\n",
            "1/1 - 7s - loss: 0.2995 - accuracy: 0.9167 - val_loss: 0.0773 - val_accuracy: 1.0000 - 7s/epoch - 7s/step\n",
            "Epoch 99/250\n",
            "1/1 - 7s - loss: 0.1988 - accuracy: 0.9474 - val_loss: 0.0759 - val_accuracy: 1.0000 - 7s/epoch - 7s/step\n",
            "Epoch 100/250\n",
            "1/1 - 7s - loss: 0.2048 - accuracy: 0.9518 - val_loss: 0.0866 - val_accuracy: 1.0000 - 7s/epoch - 7s/step\n",
            "Epoch 101/250\n",
            "1/1 - 7s - loss: 0.1989 - accuracy: 0.9298 - val_loss: 0.0929 - val_accuracy: 1.0000 - 7s/epoch - 7s/step\n",
            "Epoch 102/250\n",
            "1/1 - 7s - loss: 0.1953 - accuracy: 0.9561 - val_loss: 0.0762 - val_accuracy: 1.0000 - 7s/epoch - 7s/step\n",
            "Epoch 103/250\n",
            "1/1 - 7s - loss: 0.1363 - accuracy: 0.9868 - val_loss: 0.0519 - val_accuracy: 1.0000 - 7s/epoch - 7s/step\n",
            "Epoch 104/250\n",
            "1/1 - 7s - loss: 0.1774 - accuracy: 0.9474 - val_loss: 0.0375 - val_accuracy: 1.0000 - 7s/epoch - 7s/step\n",
            "Epoch 105/250\n",
            "1/1 - 7s - loss: 0.1934 - accuracy: 0.9518 - val_loss: 0.0333 - val_accuracy: 1.0000 - 7s/epoch - 7s/step\n",
            "Epoch 106/250\n",
            "1/1 - 8s - loss: 0.2439 - accuracy: 0.9298 - val_loss: 0.0335 - val_accuracy: 1.0000 - 8s/epoch - 8s/step\n",
            "Epoch 107/250\n",
            "1/1 - 9s - loss: 0.1861 - accuracy: 0.9561 - val_loss: 0.0419 - val_accuracy: 1.0000 - 9s/epoch - 9s/step\n",
            "Epoch 108/250\n",
            "1/1 - 7s - loss: 0.1393 - accuracy: 0.9781 - val_loss: 0.0474 - val_accuracy: 1.0000 - 7s/epoch - 7s/step\n",
            "Epoch 109/250\n",
            "1/1 - 7s - loss: 0.1490 - accuracy: 0.9737 - val_loss: 0.0462 - val_accuracy: 1.0000 - 7s/epoch - 7s/step\n",
            "Epoch 110/250\n",
            "1/1 - 7s - loss: 0.1797 - accuracy: 0.9430 - val_loss: 0.0436 - val_accuracy: 1.0000 - 7s/epoch - 7s/step\n",
            "Epoch 111/250\n",
            "1/1 - 8s - loss: 0.1429 - accuracy: 0.9693 - val_loss: 0.0380 - val_accuracy: 1.0000 - 8s/epoch - 8s/step\n",
            "Epoch 112/250\n",
            "1/1 - 8s - loss: 0.1230 - accuracy: 0.9781 - val_loss: 0.0309 - val_accuracy: 1.0000 - 8s/epoch - 8s/step\n",
            "Epoch 113/250\n",
            "1/1 - 7s - loss: 0.1115 - accuracy: 0.9781 - val_loss: 0.0276 - val_accuracy: 1.0000 - 7s/epoch - 7s/step\n",
            "Epoch 114/250\n",
            "1/1 - 8s - loss: 0.1589 - accuracy: 0.9605 - val_loss: 0.0274 - val_accuracy: 1.0000 - 8s/epoch - 8s/step\n",
            "Epoch 115/250\n",
            "1/1 - 7s - loss: 0.1424 - accuracy: 0.9605 - val_loss: 0.0309 - val_accuracy: 1.0000 - 7s/epoch - 7s/step\n",
            "Epoch 116/250\n",
            "1/1 - 7s - loss: 0.1131 - accuracy: 0.9781 - val_loss: 0.0347 - val_accuracy: 1.0000 - 7s/epoch - 7s/step\n",
            "Epoch 117/250\n",
            "1/1 - 7s - loss: 0.1106 - accuracy: 0.9693 - val_loss: 0.0384 - val_accuracy: 1.0000 - 7s/epoch - 7s/step\n",
            "Epoch 118/250\n",
            "1/1 - 7s - loss: 0.1003 - accuracy: 0.9737 - val_loss: 0.0424 - val_accuracy: 1.0000 - 7s/epoch - 7s/step\n",
            "Epoch 119/250\n",
            "1/1 - 7s - loss: 0.0944 - accuracy: 0.9825 - val_loss: 0.0286 - val_accuracy: 1.0000 - 7s/epoch - 7s/step\n",
            "Epoch 120/250\n",
            "1/1 - 7s - loss: 0.1093 - accuracy: 0.9825 - val_loss: 0.0238 - val_accuracy: 1.0000 - 7s/epoch - 7s/step\n",
            "Epoch 121/250\n",
            "1/1 - 7s - loss: 0.0779 - accuracy: 0.9912 - val_loss: 0.0207 - val_accuracy: 1.0000 - 7s/epoch - 7s/step\n",
            "Epoch 122/250\n",
            "1/1 - 8s - loss: 0.1030 - accuracy: 0.9737 - val_loss: 0.0206 - val_accuracy: 1.0000 - 8s/epoch - 8s/step\n",
            "Epoch 123/250\n",
            "1/1 - 9s - loss: 0.0716 - accuracy: 0.9912 - val_loss: 0.0225 - val_accuracy: 1.0000 - 9s/epoch - 9s/step\n",
            "Epoch 124/250\n",
            "1/1 - 7s - loss: 0.1151 - accuracy: 0.9561 - val_loss: 0.0208 - val_accuracy: 1.0000 - 7s/epoch - 7s/step\n",
            "Epoch 125/250\n",
            "1/1 - 8s - loss: 0.1023 - accuracy: 0.9737 - val_loss: 0.0227 - val_accuracy: 1.0000 - 8s/epoch - 8s/step\n",
            "Epoch 126/250\n",
            "1/1 - 7s - loss: 0.0812 - accuracy: 0.9825 - val_loss: 0.0185 - val_accuracy: 1.0000 - 7s/epoch - 7s/step\n",
            "Epoch 127/250\n",
            "1/1 - 7s - loss: 0.1014 - accuracy: 0.9868 - val_loss: 0.0186 - val_accuracy: 1.0000 - 7s/epoch - 7s/step\n",
            "Epoch 128/250\n",
            "1/1 - 7s - loss: 0.0721 - accuracy: 0.9825 - val_loss: 0.0190 - val_accuracy: 1.0000 - 7s/epoch - 7s/step\n",
            "Epoch 129/250\n",
            "1/1 - 7s - loss: 0.0650 - accuracy: 0.9868 - val_loss: 0.0179 - val_accuracy: 1.0000 - 7s/epoch - 7s/step\n",
            "Epoch 130/250\n",
            "1/1 - 7s - loss: 0.0976 - accuracy: 0.9693 - val_loss: 0.0161 - val_accuracy: 1.0000 - 7s/epoch - 7s/step\n",
            "Epoch 131/250\n",
            "1/1 - 8s - loss: 0.0728 - accuracy: 0.9868 - val_loss: 0.0142 - val_accuracy: 1.0000 - 8s/epoch - 8s/step\n",
            "Epoch 132/250\n",
            "1/1 - 7s - loss: 0.0579 - accuracy: 0.9956 - val_loss: 0.0137 - val_accuracy: 1.0000 - 7s/epoch - 7s/step\n",
            "Epoch 133/250\n",
            "1/1 - 8s - loss: 0.0687 - accuracy: 0.9825 - val_loss: 0.0159 - val_accuracy: 1.0000 - 8s/epoch - 8s/step\n",
            "Epoch 134/250\n",
            "1/1 - 7s - loss: 0.1049 - accuracy: 0.9649 - val_loss: 0.0184 - val_accuracy: 1.0000 - 7s/epoch - 7s/step\n",
            "Epoch 135/250\n",
            "1/1 - 7s - loss: 0.0638 - accuracy: 0.9956 - val_loss: 0.0208 - val_accuracy: 1.0000 - 7s/epoch - 7s/step\n",
            "Epoch 136/250\n",
            "1/1 - 7s - loss: 0.0462 - accuracy: 0.9912 - val_loss: 0.0202 - val_accuracy: 1.0000 - 7s/epoch - 7s/step\n",
            "Epoch 137/250\n",
            "1/1 - 7s - loss: 0.0459 - accuracy: 1.0000 - val_loss: 0.0164 - val_accuracy: 1.0000 - 7s/epoch - 7s/step\n",
            "Epoch 138/250\n",
            "1/1 - 7s - loss: 0.0555 - accuracy: 0.9825 - val_loss: 0.0105 - val_accuracy: 1.0000 - 7s/epoch - 7s/step\n",
            "Epoch 139/250\n",
            "1/1 - 8s - loss: 0.0499 - accuracy: 0.9868 - val_loss: 0.0071 - val_accuracy: 1.0000 - 8s/epoch - 8s/step\n",
            "Epoch 140/250\n",
            "1/1 - 8s - loss: 0.0551 - accuracy: 0.9825 - val_loss: 0.0062 - val_accuracy: 1.0000 - 8s/epoch - 8s/step\n",
            "Epoch 141/250\n",
            "1/1 - 7s - loss: 0.0588 - accuracy: 0.9912 - val_loss: 0.0060 - val_accuracy: 1.0000 - 7s/epoch - 7s/step\n",
            "Epoch 142/250\n",
            "1/1 - 7s - loss: 0.0436 - accuracy: 0.9912 - val_loss: 0.0073 - val_accuracy: 1.0000 - 7s/epoch - 7s/step\n",
            "Epoch 143/250\n",
            "1/1 - 7s - loss: 0.0310 - accuracy: 0.9956 - val_loss: 0.0094 - val_accuracy: 1.0000 - 7s/epoch - 7s/step\n",
            "Epoch 144/250\n",
            "1/1 - 8s - loss: 0.0452 - accuracy: 0.9912 - val_loss: 0.0131 - val_accuracy: 1.0000 - 8s/epoch - 8s/step\n",
            "Epoch 145/250\n",
            "1/1 - 7s - loss: 0.0601 - accuracy: 0.9868 - val_loss: 0.0138 - val_accuracy: 1.0000 - 7s/epoch - 7s/step\n",
            "Epoch 146/250\n",
            "1/1 - 7s - loss: 0.0379 - accuracy: 1.0000 - val_loss: 0.0133 - val_accuracy: 1.0000 - 7s/epoch - 7s/step\n",
            "Epoch 147/250\n",
            "1/1 - 7s - loss: 0.0713 - accuracy: 0.9693 - val_loss: 0.0110 - val_accuracy: 1.0000 - 7s/epoch - 7s/step\n",
            "Epoch 148/250\n",
            "1/1 - 7s - loss: 0.0411 - accuracy: 0.9956 - val_loss: 0.0102 - val_accuracy: 1.0000 - 7s/epoch - 7s/step\n",
            "Epoch 149/250\n",
            "1/1 - 8s - loss: 0.0636 - accuracy: 0.9825 - val_loss: 0.0125 - val_accuracy: 1.0000 - 8s/epoch - 8s/step\n",
            "Epoch 150/250\n",
            "1/1 - 7s - loss: 0.0666 - accuracy: 0.9868 - val_loss: 0.0123 - val_accuracy: 1.0000 - 7s/epoch - 7s/step\n",
            "Epoch 151/250\n",
            "1/1 - 7s - loss: 0.0733 - accuracy: 0.9737 - val_loss: 0.0109 - val_accuracy: 1.0000 - 7s/epoch - 7s/step\n",
            "Epoch 152/250\n",
            "1/1 - 7s - loss: 0.0425 - accuracy: 0.9956 - val_loss: 0.0078 - val_accuracy: 1.0000 - 7s/epoch - 7s/step\n",
            "Epoch 153/250\n",
            "1/1 - 7s - loss: 0.0353 - accuracy: 0.9956 - val_loss: 0.0055 - val_accuracy: 1.0000 - 7s/epoch - 7s/step\n",
            "Epoch 154/250\n",
            "1/1 - 7s - loss: 0.0434 - accuracy: 1.0000 - val_loss: 0.0041 - val_accuracy: 1.0000 - 7s/epoch - 7s/step\n",
            "Epoch 155/250\n",
            "1/1 - 7s - loss: 0.0267 - accuracy: 0.9956 - val_loss: 0.0031 - val_accuracy: 1.0000 - 7s/epoch - 7s/step\n",
            "Epoch 156/250\n",
            "1/1 - 8s - loss: 0.0385 - accuracy: 0.9912 - val_loss: 0.0032 - val_accuracy: 1.0000 - 8s/epoch - 8s/step\n",
            "Epoch 157/250\n",
            "1/1 - 7s - loss: 0.0429 - accuracy: 0.9868 - val_loss: 0.0049 - val_accuracy: 1.0000 - 7s/epoch - 7s/step\n",
            "Epoch 158/250\n",
            "1/1 - 7s - loss: 0.0231 - accuracy: 1.0000 - val_loss: 0.0078 - val_accuracy: 1.0000 - 7s/epoch - 7s/step\n",
            "Epoch 159/250\n",
            "1/1 - 8s - loss: 0.0301 - accuracy: 1.0000 - val_loss: 0.0106 - val_accuracy: 1.0000 - 8s/epoch - 8s/step\n",
            "Epoch 160/250\n",
            "1/1 - 7s - loss: 0.0277 - accuracy: 0.9956 - val_loss: 0.0107 - val_accuracy: 1.0000 - 7s/epoch - 7s/step\n",
            "Epoch 161/250\n",
            "1/1 - 8s - loss: 0.0261 - accuracy: 1.0000 - val_loss: 0.0082 - val_accuracy: 1.0000 - 8s/epoch - 8s/step\n",
            "Epoch 162/250\n",
            "1/1 - 7s - loss: 0.0538 - accuracy: 0.9868 - val_loss: 0.0056 - val_accuracy: 1.0000 - 7s/epoch - 7s/step\n",
            "Epoch 163/250\n",
            "1/1 - 8s - loss: 0.0213 - accuracy: 1.0000 - val_loss: 0.0039 - val_accuracy: 1.0000 - 8s/epoch - 8s/step\n",
            "Epoch 164/250\n",
            "1/1 - 7s - loss: 0.0390 - accuracy: 0.9868 - val_loss: 0.0026 - val_accuracy: 1.0000 - 7s/epoch - 7s/step\n",
            "Epoch 165/250\n",
            "1/1 - 8s - loss: 0.0336 - accuracy: 0.9912 - val_loss: 0.0021 - val_accuracy: 1.0000 - 8s/epoch - 8s/step\n",
            "Epoch 166/250\n",
            "1/1 - 7s - loss: 0.0530 - accuracy: 0.9868 - val_loss: 0.0019 - val_accuracy: 1.0000 - 7s/epoch - 7s/step\n",
            "Epoch 167/250\n",
            "1/1 - 8s - loss: 0.0302 - accuracy: 1.0000 - val_loss: 0.0020 - val_accuracy: 1.0000 - 8s/epoch - 8s/step\n",
            "Epoch 168/250\n",
            "1/1 - 8s - loss: 0.0300 - accuracy: 1.0000 - val_loss: 0.0027 - val_accuracy: 1.0000 - 8s/epoch - 8s/step\n",
            "Epoch 169/250\n",
            "1/1 - 7s - loss: 0.0202 - accuracy: 0.9956 - val_loss: 0.0040 - val_accuracy: 1.0000 - 7s/epoch - 7s/step\n",
            "Epoch 170/250\n",
            "1/1 - 7s - loss: 0.0532 - accuracy: 0.9825 - val_loss: 0.0065 - val_accuracy: 1.0000 - 7s/epoch - 7s/step\n",
            "Epoch 171/250\n",
            "1/1 - 7s - loss: 0.0483 - accuracy: 0.9868 - val_loss: 0.0110 - val_accuracy: 1.0000 - 7s/epoch - 7s/step\n",
            "Epoch 172/250\n",
            "1/1 - 8s - loss: 0.0210 - accuracy: 1.0000 - val_loss: 0.0137 - val_accuracy: 1.0000 - 8s/epoch - 8s/step\n",
            "Epoch 173/250\n",
            "1/1 - 8s - loss: 0.0263 - accuracy: 0.9956 - val_loss: 0.0091 - val_accuracy: 1.0000 - 8s/epoch - 8s/step\n",
            "Epoch 174/250\n",
            "1/1 - 7s - loss: 0.0152 - accuracy: 1.0000 - val_loss: 0.0047 - val_accuracy: 1.0000 - 7s/epoch - 7s/step\n",
            "Epoch 175/250\n",
            "1/1 - 7s - loss: 0.0313 - accuracy: 0.9912 - val_loss: 0.0026 - val_accuracy: 1.0000 - 7s/epoch - 7s/step\n",
            "Epoch 176/250\n",
            "1/1 - 7s - loss: 0.0536 - accuracy: 0.9868 - val_loss: 0.0014 - val_accuracy: 1.0000 - 7s/epoch - 7s/step\n",
            "Epoch 177/250\n",
            "1/1 - 7s - loss: 0.0193 - accuracy: 1.0000 - val_loss: 0.0011 - val_accuracy: 1.0000 - 7s/epoch - 7s/step\n",
            "Epoch 178/250\n",
            "1/1 - 7s - loss: 0.0417 - accuracy: 0.9912 - val_loss: 0.0010 - val_accuracy: 1.0000 - 7s/epoch - 7s/step\n",
            "Epoch 179/250\n",
            "1/1 - 7s - loss: 0.0459 - accuracy: 0.9912 - val_loss: 0.0014 - val_accuracy: 1.0000 - 7s/epoch - 7s/step\n",
            "Epoch 180/250\n",
            "1/1 - 7s - loss: 0.0194 - accuracy: 0.9956 - val_loss: 0.0028 - val_accuracy: 1.0000 - 7s/epoch - 7s/step\n",
            "Epoch 181/250\n",
            "1/1 - 7s - loss: 0.0155 - accuracy: 1.0000 - val_loss: 0.0068 - val_accuracy: 1.0000 - 7s/epoch - 7s/step\n",
            "Epoch 182/250\n",
            "1/1 - 7s - loss: 0.0193 - accuracy: 1.0000 - val_loss: 0.0166 - val_accuracy: 1.0000 - 7s/epoch - 7s/step\n",
            "Epoch 183/250\n",
            "1/1 - 8s - loss: 0.0287 - accuracy: 0.9956 - val_loss: 0.0267 - val_accuracy: 1.0000 - 8s/epoch - 8s/step\n",
            "Epoch 184/250\n",
            "1/1 - 8s - loss: 0.0497 - accuracy: 0.9825 - val_loss: 0.0210 - val_accuracy: 1.0000 - 8s/epoch - 8s/step\n",
            "Epoch 185/250\n",
            "1/1 - 7s - loss: 0.0247 - accuracy: 0.9956 - val_loss: 0.0153 - val_accuracy: 1.0000 - 7s/epoch - 7s/step\n",
            "Epoch 186/250\n",
            "1/1 - 7s - loss: 0.0333 - accuracy: 0.9912 - val_loss: 0.0098 - val_accuracy: 1.0000 - 7s/epoch - 7s/step\n",
            "Epoch 187/250\n",
            "1/1 - 7s - loss: 0.0360 - accuracy: 0.9956 - val_loss: 0.0054 - val_accuracy: 1.0000 - 7s/epoch - 7s/step\n",
            "Epoch 188/250\n",
            "1/1 - 7s - loss: 0.0284 - accuracy: 0.9956 - val_loss: 0.0032 - val_accuracy: 1.0000 - 7s/epoch - 7s/step\n",
            "Epoch 189/250\n",
            "1/1 - 8s - loss: 0.0183 - accuracy: 0.9956 - val_loss: 0.0023 - val_accuracy: 1.0000 - 8s/epoch - 8s/step\n",
            "Epoch 190/250\n",
            "1/1 - 7s - loss: 0.0248 - accuracy: 0.9956 - val_loss: 0.0020 - val_accuracy: 1.0000 - 7s/epoch - 7s/step\n",
            "Epoch 191/250\n",
            "1/1 - 8s - loss: 0.0238 - accuracy: 0.9956 - val_loss: 0.0018 - val_accuracy: 1.0000 - 8s/epoch - 8s/step\n",
            "Epoch 192/250\n",
            "1/1 - 7s - loss: 0.0519 - accuracy: 0.9868 - val_loss: 0.0025 - val_accuracy: 1.0000 - 7s/epoch - 7s/step\n",
            "Epoch 193/250\n",
            "1/1 - 7s - loss: 0.0270 - accuracy: 0.9956 - val_loss: 0.0045 - val_accuracy: 1.0000 - 7s/epoch - 7s/step\n",
            "Epoch 194/250\n",
            "1/1 - 8s - loss: 0.0165 - accuracy: 0.9956 - val_loss: 0.0082 - val_accuracy: 1.0000 - 8s/epoch - 8s/step\n",
            "Epoch 195/250\n",
            "1/1 - 8s - loss: 0.0192 - accuracy: 1.0000 - val_loss: 0.0128 - val_accuracy: 1.0000 - 8s/epoch - 8s/step\n",
            "Epoch 196/250\n",
            "1/1 - 8s - loss: 0.0206 - accuracy: 1.0000 - val_loss: 0.0176 - val_accuracy: 1.0000 - 8s/epoch - 8s/step\n",
            "Epoch 197/250\n",
            "1/1 - 7s - loss: 0.0417 - accuracy: 0.9825 - val_loss: 0.0137 - val_accuracy: 1.0000 - 7s/epoch - 7s/step\n",
            "Epoch 198/250\n",
            "1/1 - 8s - loss: 0.0215 - accuracy: 1.0000 - val_loss: 0.0080 - val_accuracy: 1.0000 - 8s/epoch - 8s/step\n",
            "Epoch 199/250\n",
            "1/1 - 8s - loss: 0.0134 - accuracy: 1.0000 - val_loss: 0.0043 - val_accuracy: 1.0000 - 8s/epoch - 8s/step\n",
            "Epoch 200/250\n",
            "1/1 - 8s - loss: 0.0296 - accuracy: 0.9956 - val_loss: 0.0023 - val_accuracy: 1.0000 - 8s/epoch - 8s/step\n",
            "Epoch 201/250\n",
            "1/1 - 8s - loss: 0.0145 - accuracy: 1.0000 - val_loss: 0.0014 - val_accuracy: 1.0000 - 8s/epoch - 8s/step\n",
            "Epoch 202/250\n",
            "1/1 - 8s - loss: 0.0162 - accuracy: 1.0000 - val_loss: 0.0011 - val_accuracy: 1.0000 - 8s/epoch - 8s/step\n",
            "Epoch 203/250\n",
            "1/1 - 7s - loss: 0.0137 - accuracy: 1.0000 - val_loss: 0.0010 - val_accuracy: 1.0000 - 7s/epoch - 7s/step\n",
            "Epoch 204/250\n",
            "1/1 - 7s - loss: 0.0180 - accuracy: 0.9956 - val_loss: 0.0010 - val_accuracy: 1.0000 - 7s/epoch - 7s/step\n",
            "Epoch 205/250\n",
            "1/1 - 9s - loss: 0.0338 - accuracy: 0.9912 - val_loss: 0.0012 - val_accuracy: 1.0000 - 9s/epoch - 9s/step\n",
            "Epoch 206/250\n",
            "1/1 - 7s - loss: 0.0109 - accuracy: 1.0000 - val_loss: 0.0016 - val_accuracy: 1.0000 - 7s/epoch - 7s/step\n",
            "Epoch 207/250\n",
            "1/1 - 7s - loss: 0.0288 - accuracy: 0.9912 - val_loss: 0.0019 - val_accuracy: 1.0000 - 7s/epoch - 7s/step\n",
            "Epoch 208/250\n",
            "1/1 - 7s - loss: 0.0183 - accuracy: 0.9956 - val_loss: 0.0023 - val_accuracy: 1.0000 - 7s/epoch - 7s/step\n",
            "Epoch 209/250\n",
            "1/1 - 7s - loss: 0.0132 - accuracy: 0.9956 - val_loss: 0.0025 - val_accuracy: 1.0000 - 7s/epoch - 7s/step\n",
            "Epoch 210/250\n",
            "1/1 - 7s - loss: 0.0132 - accuracy: 1.0000 - val_loss: 0.0028 - val_accuracy: 1.0000 - 7s/epoch - 7s/step\n",
            "Epoch 211/250\n",
            "1/1 - 7s - loss: 0.0152 - accuracy: 1.0000 - val_loss: 0.0029 - val_accuracy: 1.0000 - 7s/epoch - 7s/step\n",
            "Epoch 212/250\n",
            "1/1 - 7s - loss: 0.0326 - accuracy: 0.9956 - val_loss: 0.0022 - val_accuracy: 1.0000 - 7s/epoch - 7s/step\n",
            "Epoch 213/250\n",
            "1/1 - 7s - loss: 0.0117 - accuracy: 1.0000 - val_loss: 0.0016 - val_accuracy: 1.0000 - 7s/epoch - 7s/step\n",
            "Epoch 214/250\n",
            "1/1 - 7s - loss: 0.0185 - accuracy: 1.0000 - val_loss: 0.0012 - val_accuracy: 1.0000 - 7s/epoch - 7s/step\n",
            "Epoch 215/250\n",
            "1/1 - 7s - loss: 0.0111 - accuracy: 1.0000 - val_loss: 0.0010 - val_accuracy: 1.0000 - 7s/epoch - 7s/step\n",
            "Epoch 216/250\n",
            "1/1 - 7s - loss: 0.0099 - accuracy: 1.0000 - val_loss: 9.7299e-04 - val_accuracy: 1.0000 - 7s/epoch - 7s/step\n",
            "Epoch 217/250\n",
            "1/1 - 7s - loss: 0.0207 - accuracy: 0.9912 - val_loss: 0.0011 - val_accuracy: 1.0000 - 7s/epoch - 7s/step\n",
            "Epoch 218/250\n",
            "1/1 - 7s - loss: 0.0089 - accuracy: 1.0000 - val_loss: 0.0013 - val_accuracy: 1.0000 - 7s/epoch - 7s/step\n",
            "Epoch 219/250\n",
            "1/1 - 7s - loss: 0.0135 - accuracy: 1.0000 - val_loss: 0.0014 - val_accuracy: 1.0000 - 7s/epoch - 7s/step\n",
            "Epoch 220/250\n",
            "1/1 - 7s - loss: 0.0090 - accuracy: 1.0000 - val_loss: 0.0015 - val_accuracy: 1.0000 - 7s/epoch - 7s/step\n",
            "Epoch 221/250\n",
            "1/1 - 7s - loss: 0.0107 - accuracy: 1.0000 - val_loss: 0.0015 - val_accuracy: 1.0000 - 7s/epoch - 7s/step\n",
            "Epoch 222/250\n",
            "1/1 - 8s - loss: 0.0179 - accuracy: 0.9956 - val_loss: 0.0011 - val_accuracy: 1.0000 - 8s/epoch - 8s/step\n",
            "Epoch 223/250\n",
            "1/1 - 7s - loss: 0.0094 - accuracy: 1.0000 - val_loss: 8.1829e-04 - val_accuracy: 1.0000 - 7s/epoch - 7s/step\n",
            "Epoch 224/250\n",
            "1/1 - 7s - loss: 0.0097 - accuracy: 1.0000 - val_loss: 6.8193e-04 - val_accuracy: 1.0000 - 7s/epoch - 7s/step\n",
            "Epoch 225/250\n",
            "1/1 - 7s - loss: 0.0156 - accuracy: 0.9956 - val_loss: 5.8049e-04 - val_accuracy: 1.0000 - 7s/epoch - 7s/step\n",
            "Epoch 226/250\n",
            "1/1 - 7s - loss: 0.0227 - accuracy: 0.9912 - val_loss: 5.2355e-04 - val_accuracy: 1.0000 - 7s/epoch - 7s/step\n",
            "Epoch 227/250\n",
            "1/1 - 7s - loss: 0.0097 - accuracy: 1.0000 - val_loss: 4.8950e-04 - val_accuracy: 1.0000 - 7s/epoch - 7s/step\n",
            "Epoch 228/250\n",
            "1/1 - 7s - loss: 0.0172 - accuracy: 0.9956 - val_loss: 4.3612e-04 - val_accuracy: 1.0000 - 7s/epoch - 7s/step\n",
            "Epoch 229/250\n",
            "1/1 - 7s - loss: 0.0136 - accuracy: 1.0000 - val_loss: 3.9428e-04 - val_accuracy: 1.0000 - 7s/epoch - 7s/step\n",
            "Epoch 230/250\n",
            "1/1 - 7s - loss: 0.0109 - accuracy: 1.0000 - val_loss: 3.8615e-04 - val_accuracy: 1.0000 - 7s/epoch - 7s/step\n",
            "Epoch 231/250\n",
            "1/1 - 7s - loss: 0.0120 - accuracy: 1.0000 - val_loss: 4.1902e-04 - val_accuracy: 1.0000 - 7s/epoch - 7s/step\n",
            "Epoch 232/250\n",
            "1/1 - 7s - loss: 0.0167 - accuracy: 1.0000 - val_loss: 5.2337e-04 - val_accuracy: 1.0000 - 7s/epoch - 7s/step\n",
            "Epoch 233/250\n",
            "1/1 - 7s - loss: 0.0094 - accuracy: 1.0000 - val_loss: 7.0818e-04 - val_accuracy: 1.0000 - 7s/epoch - 7s/step\n",
            "Epoch 234/250\n",
            "1/1 - 7s - loss: 0.0133 - accuracy: 0.9956 - val_loss: 0.0012 - val_accuracy: 1.0000 - 7s/epoch - 7s/step\n",
            "Epoch 235/250\n",
            "1/1 - 7s - loss: 0.0169 - accuracy: 0.9956 - val_loss: 0.0020 - val_accuracy: 1.0000 - 7s/epoch - 7s/step\n",
            "Epoch 236/250\n",
            "1/1 - 7s - loss: 0.0106 - accuracy: 0.9956 - val_loss: 0.0023 - val_accuracy: 1.0000 - 7s/epoch - 7s/step\n",
            "Epoch 237/250\n",
            "1/1 - 7s - loss: 0.0136 - accuracy: 1.0000 - val_loss: 0.0021 - val_accuracy: 1.0000 - 7s/epoch - 7s/step\n",
            "Epoch 238/250\n",
            "1/1 - 8s - loss: 0.0126 - accuracy: 1.0000 - val_loss: 0.0019 - val_accuracy: 1.0000 - 8s/epoch - 8s/step\n",
            "Epoch 239/250\n",
            "1/1 - 7s - loss: 0.0124 - accuracy: 1.0000 - val_loss: 0.0015 - val_accuracy: 1.0000 - 7s/epoch - 7s/step\n",
            "Epoch 240/250\n",
            "1/1 - 7s - loss: 0.0150 - accuracy: 1.0000 - val_loss: 9.6199e-04 - val_accuracy: 1.0000 - 7s/epoch - 7s/step\n",
            "Epoch 241/250\n",
            "1/1 - 7s - loss: 0.0228 - accuracy: 0.9912 - val_loss: 5.5849e-04 - val_accuracy: 1.0000 - 7s/epoch - 7s/step\n",
            "Epoch 242/250\n",
            "1/1 - 7s - loss: 0.0069 - accuracy: 1.0000 - val_loss: 3.9752e-04 - val_accuracy: 1.0000 - 7s/epoch - 7s/step\n",
            "Epoch 243/250\n",
            "1/1 - 7s - loss: 0.0104 - accuracy: 1.0000 - val_loss: 3.3768e-04 - val_accuracy: 1.0000 - 7s/epoch - 7s/step\n",
            "Epoch 244/250\n",
            "1/1 - 7s - loss: 0.0317 - accuracy: 0.9912 - val_loss: 3.6772e-04 - val_accuracy: 1.0000 - 7s/epoch - 7s/step\n",
            "Epoch 245/250\n",
            "1/1 - 7s - loss: 0.0059 - accuracy: 1.0000 - val_loss: 4.4376e-04 - val_accuracy: 1.0000 - 7s/epoch - 7s/step\n",
            "Epoch 246/250\n",
            "1/1 - 7s - loss: 0.0104 - accuracy: 0.9956 - val_loss: 6.1189e-04 - val_accuracy: 1.0000 - 7s/epoch - 7s/step\n",
            "Epoch 247/250\n",
            "1/1 - 7s - loss: 0.0065 - accuracy: 1.0000 - val_loss: 8.1877e-04 - val_accuracy: 1.0000 - 7s/epoch - 7s/step\n",
            "Epoch 248/250\n",
            "1/1 - 7s - loss: 0.0084 - accuracy: 1.0000 - val_loss: 0.0010 - val_accuracy: 1.0000 - 7s/epoch - 7s/step\n",
            "Epoch 249/250\n",
            "1/1 - 7s - loss: 0.0086 - accuracy: 1.0000 - val_loss: 0.0014 - val_accuracy: 1.0000 - 7s/epoch - 7s/step\n",
            "Epoch 250/250\n",
            "1/1 - 8s - loss: 0.0115 - accuracy: 0.9956 - val_loss: 0.0018 - val_accuracy: 1.0000 - 8s/epoch - 8s/step\n"
          ]
        }
      ]
    },
    {
      "cell_type": "markdown",
      "source": [
        "## Evaluate the test data"
      ],
      "metadata": {
        "id": "96WOodLkfran"
      }
    },
    {
      "cell_type": "code",
      "source": [
        "scor = cnn_model.evaluate( np.array(x_test),  np.array(y_test), verbose=0)\n",
        "\n",
        "print('test los {:.4f}'.format(scor[0]))\n",
        "print('test acc {:.4f}'.format(scor[1]))"
      ],
      "metadata": {
        "colab": {
          "base_uri": "https://localhost:8080/"
        },
        "id": "Zk_rplFcQamn",
        "outputId": "8ca58edb-99da-4b34-c936-2f862dff2575"
      },
      "execution_count": 15,
      "outputs": [
        {
          "output_type": "stream",
          "name": "stdout",
          "text": [
            "test los 0.3640\n",
            "test acc 0.9375\n"
          ]
        }
      ]
    },
    {
      "cell_type": "markdown",
      "source": [
        "## plotting the result"
      ],
      "metadata": {
        "id": "3LejSD_lf1zm"
      }
    },
    {
      "cell_type": "code",
      "source": [
        "#print(history.history.keys())"
      ],
      "metadata": {
        "colab": {
          "base_uri": "https://localhost:8080/"
        },
        "id": "MYCTNz03ZJ67",
        "outputId": "6d5f34bb-0176-40dc-f253-9b5b191792d3"
      },
      "execution_count": 18,
      "outputs": [
        {
          "output_type": "stream",
          "name": "stdout",
          "text": [
            "dict_keys(['loss', 'accuracy', 'val_loss', 'val_accuracy'])\n"
          ]
        }
      ]
    },
    {
      "cell_type": "code",
      "source": [
        "# list all data in history\n",
        "print(history.history.keys())\n",
        "# summarize history for accuracy\n",
        "plt.plot(history.history['accuracy'])\n",
        "plt.plot(history.history['val_accuracy'])\n",
        "plt.title('model accuracy')\n",
        "plt.ylabel('accuracy')\n",
        "plt.xlabel('epoch')\n",
        "plt.legend(['train', 'test'], loc='upper left')\n",
        "plt.show()\n",
        "# summarize history for loss\n",
        "plt.plot(history.history['loss'])\n",
        "plt.plot(history.history['val_loss'])\n",
        "plt.title('model loss')\n",
        "plt.ylabel('loss')\n",
        "plt.xlabel('epoch')\n",
        "plt.legend(['train', 'test'], loc='upper left')\n",
        "plt.show()"
      ],
      "metadata": {
        "colab": {
          "base_uri": "https://localhost:8080/",
          "height": 591
        },
        "id": "QNHKdjW8QlEk",
        "outputId": "497e94a9-5bf1-41e6-d0f8-acc9d2d237ce"
      },
      "execution_count": 19,
      "outputs": [
        {
          "output_type": "stream",
          "name": "stdout",
          "text": [
            "dict_keys(['loss', 'accuracy', 'val_loss', 'val_accuracy'])\n"
          ]
        },
        {
          "output_type": "display_data",
          "data": {
            "text/plain": [
              "<Figure size 432x288 with 1 Axes>"
            ],
            "image/png": "[encoded data removed]"
          },
          "metadata": {
            "needs_background": "light"
          }
        },
        {
          "output_type": "display_data",
          "data": {
            "text/plain": [
              "<Figure size 432x288 with 1 Axes>"
            ],
            "image/png": "[encoded data removed]"
          },
          "metadata": {
            "needs_background": "light"
          }
        }
      ]
    },
    {
      "cell_type": "markdown",
      "source": [
        "## Ploting the confusion matrix"
      ],
      "metadata": {
        "id": "JxCpziBNf9Dv"
      }
    },
    {
      "cell_type": "code",
      "source": [
        "predicted =np.array( cnn_model.predict(x_test))\n",
        "#print(predicted)\n",
        "#print(y_test)\n",
        "#ynew = cnn_model.predict_classes(x_test)\n",
        "ynew=(cnn_model.predict(x_test) > 0.5).astype(\"int32\")\n",
        "ynew=np.argmax(ynew, axis=1)\n",
        "\n",
        "Acc=accuracy_score(y_test, ynew)\n",
        "print(\"accuracy : \")\n",
        "print(Acc)\n",
        "#/tn, fp, fn, tp = confusion_matrix(np.array(y_test), ynew).ravel()\n",
        "cnf_matrix=confusion_matrix(np.array(y_test), ynew)\n",
        "\n",
        "y_test1 = np_utils.to_categorical(y_test, 20)\n",
        "\n",
        "\n",
        "\n",
        "def plot_confusion_matrix(cm, classes,\n",
        "                          normalize=False,\n",
        "                          title='Confusion matrix',\n",
        "                          cmap=plt.cm.Blues):\n",
        "    \"\"\"\n",
        "    This function prints and plots the confusion matrix.\n",
        "    Normalization can be applied by setting `normalize=True`.\n",
        "    \"\"\"\n",
        "    if normalize:\n",
        "        cm = cm.astype('float') / cm.sum(axis=1)[:, np.newaxis]\n",
        "        #print(\"Normalized confusion matrix\")\n",
        "    else:\n",
        "        print('Confusion matrix, without normalization')\n",
        "\n",
        "    #print(cm)\n",
        "    plt.imshow(cm, interpolation='nearest', cmap=cmap)\n",
        "    plt.title(title)\n",
        "    plt.colorbar()\n",
        "    tick_marks = np.arange(len(classes))\n",
        "    plt.xticks(tick_marks, classes, rotation=45)\n",
        "    plt.yticks(tick_marks, classes)\n",
        "\n",
        "    fmt = '.2f' if normalize else 'd'\n",
        "    thresh = cm.max() / 2.\n",
        "    for i, j in itertools.product(range(cm.shape[0]), range(cm.shape[1])):\n",
        "        plt.text(j, i, format(cm[i, j], fmt),\n",
        "                 horizontalalignment=\"center\",\n",
        "                 color=\"white\" if cm[i, j] > thresh else \"black\")\n",
        "\n",
        "    plt.tight_layout()\n",
        "    plt.ylabel('True label')\n",
        "    plt.xlabel('Predicted label')\n",
        "    plt.show()\n",
        "\n",
        "\n",
        "print('Confusion matrix, without normalization')\n",
        "print(cnf_matrix)\n",
        "\n",
        "plt.figure()\n",
        "plot_confusion_matrix(cnf_matrix[1:10,1:10], classes=[0,1,2,3,4,5,6,7,8,9],\n",
        "                      title='Confusion matrix, without normalization')\n",
        "\n",
        "plt.figure()\n",
        "plot_confusion_matrix(cnf_matrix[11:20,11:20], classes=[10,11,12,13,14,15,16,17,18,19],\n",
        "                      title='Confusion matrix, without normalization')\n",
        "\n",
        "print(\"Confusion matrix:\\n%s\" % confusion_matrix(np.array(y_test), ynew))\n",
        "print(classification_report(np.array(y_test), ynew))"
      ],
      "metadata": {
        "colab": {
          "base_uri": "https://localhost:8080/",
          "height": 1000
        },
        "id": "ryDUPufcQ0tX",
        "outputId": "02e91b9b-bf86-4ce9-ad94-5a88adb76548"
      },
      "execution_count": 26,
      "outputs": [
        {
          "output_type": "stream",
          "name": "stdout",
          "text": [
            "accuracy : \n",
            "0.9375\n",
            "Confusion matrix, without normalization\n",
            "[[8 0 0 0 0 0 0 0 0 0 0 0 0 0 0 0 0 0 0 0]\n",
            " [0 8 0 0 0 0 0 0 0 0 0 0 0 0 0 0 0 0 0 0]\n",
            " [0 0 8 0 0 0 0 0 0 0 0 0 0 0 0 0 0 0 0 0]\n",
            " [0 0 0 8 0 0 0 0 0 0 0 0 0 0 0 0 0 0 0 0]\n",
            " [0 0 0 0 6 0 0 0 0 0 0 0 0 0 0 0 0 2 0 0]\n",
            " [0 0 0 0 0 8 0 0 0 0 0 0 0 0 0 0 0 0 0 0]\n",
            " [0 0 0 0 0 0 8 0 0 0 0 0 0 0 0 0 0 0 0 0]\n",
            " [0 0 0 0 0 0 0 8 0 0 0 0 0 0 0 0 0 0 0 0]\n",
            " [0 0 0 0 0 0 0 0 8 0 0 0 0 0 0 0 0 0 0 0]\n",
            " [2 0 0 0 0 0 0 0 0 6 0 0 0 0 0 0 0 0 0 0]\n",
            " [0 0 0 0 0 0 0 0 0 0 8 0 0 0 0 0 0 0 0 0]\n",
            " [0 0 0 0 0 0 0 0 0 0 0 8 0 0 0 0 0 0 0 0]\n",
            " [0 0 0 0 0 0 0 0 0 0 0 0 8 0 0 0 0 0 0 0]\n",
            " [0 0 0 0 0 0 0 0 0 0 0 0 0 8 0 0 0 0 0 0]\n",
            " [0 0 0 0 0 0 0 0 0 0 0 0 0 0 7 0 0 0 0 1]\n",
            " [1 0 0 0 0 0 0 0 0 0 0 0 2 0 0 5 0 0 0 0]\n",
            " [0 0 0 0 0 0 0 0 0 0 0 0 0 0 0 0 8 0 0 0]\n",
            " [0 0 0 0 0 0 0 0 0 0 0 0 0 0 0 0 0 8 0 0]\n",
            " [0 0 0 0 0 0 0 2 0 0 0 0 0 0 0 0 0 0 6 0]\n",
            " [0 0 0 0 0 0 0 0 0 0 0 0 0 0 0 0 0 0 0 8]]\n",
            "Confusion matrix, without normalization\n"
          ]
        },
        {
          "output_type": "display_data",
          "data": {
            "text/plain": [
              "<Figure size 432x288 with 2 Axes>"
            ],
            "image/png": "[encoded data removed]"
          },
          "metadata": {
            "needs_background": "light"
          }
        },
        {
          "output_type": "stream",
          "name": "stdout",
          "text": [
            "Confusion matrix, without normalization\n"
          ]
        },
        {
          "output_type": "display_data",
          "data": {
            "text/plain": [
              "<Figure size 432x288 with 2 Axes>"
            ],
            "image/png": "[encoded data removed]"
          },
          "metadata": {
            "needs_background": "light"
          }
        },
        {
          "output_type": "stream",
          "name": "stdout",
          "text": [
            "Confusion matrix:\n",
            "[[8 0 0 0 0 0 0 0 0 0 0 0 0 0 0 0 0 0 0 0]\n",
            " [0 8 0 0 0 0 0 0 0 0 0 0 0 0 0 0 0 0 0 0]\n",
            " [0 0 8 0 0 0 0 0 0 0 0 0 0 0 0 0 0 0 0 0]\n",
            " [0 0 0 8 0 0 0 0 0 0 0 0 0 0 0 0 0 0 0 0]\n",
            " [0 0 0 0 6 0 0 0 0 0 0 0 0 0 0 0 0 2 0 0]\n",
            " [0 0 0 0 0 8 0 0 0 0 0 0 0 0 0 0 0 0 0 0]\n",
            " [0 0 0 0 0 0 8 0 0 0 0 0 0 0 0 0 0 0 0 0]\n",
            " [0 0 0 0 0 0 0 8 0 0 0 0 0 0 0 0 0 0 0 0]\n",
            " [0 0 0 0 0 0 0 0 8 0 0 0 0 0 0 0 0 0 0 0]\n",
            " [2 0 0 0 0 0 0 0 0 6 0 0 0 0 0 0 0 0 0 0]\n",
            " [0 0 0 0 0 0 0 0 0 0 8 0 0 0 0 0 0 0 0 0]\n",
            " [0 0 0 0 0 0 0 0 0 0 0 8 0 0 0 0 0 0 0 0]\n",
            " [0 0 0 0 0 0 0 0 0 0 0 0 8 0 0 0 0 0 0 0]\n",
            " [0 0 0 0 0 0 0 0 0 0 0 0 0 8 0 0 0 0 0 0]\n",
            " [0 0 0 0 0 0 0 0 0 0 0 0 0 0 7 0 0 0 0 1]\n",
            " [1 0 0 0 0 0 0 0 0 0 0 0 2 0 0 5 0 0 0 0]\n",
            " [0 0 0 0 0 0 0 0 0 0 0 0 0 0 0 0 8 0 0 0]\n",
            " [0 0 0 0 0 0 0 0 0 0 0 0 0 0 0 0 0 8 0 0]\n",
            " [0 0 0 0 0 0 0 2 0 0 0 0 0 0 0 0 0 0 6 0]\n",
            " [0 0 0 0 0 0 0 0 0 0 0 0 0 0 0 0 0 0 0 8]]\n",
            "              precision    recall  f1-score   support\n",
            "\n",
            "           0       0.73      1.00      0.84         8\n",
            "           1       1.00      1.00      1.00         8\n",
            "           2       1.00      1.00      1.00         8\n",
            "           3       1.00      1.00      1.00         8\n",
            "           4       1.00      0.75      0.86         8\n",
            "           5       1.00      1.00      1.00         8\n",
            "           6       1.00      1.00      1.00         8\n",
            "           7       0.80      1.00      0.89         8\n",
            "           8       1.00      1.00      1.00         8\n",
            "           9       1.00      0.75      0.86         8\n",
            "          10       1.00      1.00      1.00         8\n",
            "          11       1.00      1.00      1.00         8\n",
            "          12       0.80      1.00      0.89         8\n",
            "          13       1.00      1.00      1.00         8\n",
            "          14       1.00      0.88      0.93         8\n",
            "          15       1.00      0.62      0.77         8\n",
            "          16       1.00      1.00      1.00         8\n",
            "          17       0.80      1.00      0.89         8\n",
            "          18       1.00      0.75      0.86         8\n",
            "          19       0.89      1.00      0.94         8\n",
            "\n",
            "    accuracy                           0.94       160\n",
            "   macro avg       0.95      0.94      0.94       160\n",
            "weighted avg       0.95      0.94      0.94       160\n",
            "\n"
          ]
        }
      ]
    },
    {
      "cell_type": "code",
      "source": [
        ""
      ],
      "metadata": {
        "id": "ZtTIT1ZxYGP6"
      },
      "execution_count": null,
      "outputs": []
    }
  ]
}