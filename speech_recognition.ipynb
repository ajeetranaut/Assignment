{
  "nbformat": 4,
  "nbformat_minor": 0,
  "metadata": {
    "colab": {
      "provenance": [],
      "collapsed_sections": [],
      "authorship_tag": "ABX9TyOTMh8/JTbTHnR0Dt6xB3BH",
      "include_colab_link": true
    },
    "kernelspec": {
      "name": "python3",
      "display_name": "Python 3"
    },
    "language_info": {
      "name": "python"
    }
  },
  "cells": [
    {
      "cell_type": "markdown",
      "metadata": {
        "id": "view-in-github",
        "colab_type": "text"
      },
      "source": [
        "<a href=\"https://colab.research.google.com/github/ajeetranaut/Assignment/blob/master/speech_recognition.ipynb\" target=\"_parent\"><img src=\"https://colab.research.google.com/assets/colab-badge.svg\" alt=\"Open In Colab\"/></a>"
      ]
    },
    {
      "cell_type": "code",
      "execution_count": 1,
      "metadata": {
        "colab": {
          "base_uri": "https://localhost:8080/"
        },
        "id": "TEDp6qLL8uN6",
        "outputId": "93a5820f-0c97-4a2f-aa70-b7f20e1870d2"
      },
      "outputs": [
        {
          "output_type": "stream",
          "name": "stdout",
          "text": [
            "Looking in indexes: https://pypi.org/simple, https://us-python.pkg.dev/colab-wheels/public/simple/\n",
            "Collecting SpeechRecognition\n",
            "  Downloading SpeechRecognition-3.8.1-py2.py3-none-any.whl (32.8 MB)\n",
            "\u001b[K     |████████████████████████████████| 32.8 MB 1.3 MB/s \n",
            "\u001b[?25hInstalling collected packages: SpeechRecognition\n",
            "Successfully installed SpeechRecognition-3.8.1\n"
          ]
        }
      ],
      "source": [
        "pip install SpeechRecognition"
      ]
    },
    {
      "cell_type": "code",
      "source": [
        "import speech_recognition as sr"
      ],
      "metadata": {
        "id": "0zHiLqgo81gt"
      },
      "execution_count": 2,
      "outputs": []
    },
    {
      "cell_type": "code",
      "source": [
        "r = sr.Recognizer()"
      ],
      "metadata": {
        "id": "tN5mv9VP96w3"
      },
      "execution_count": 3,
      "outputs": []
    },
    {
      "cell_type": "code",
      "source": [
        "with sr.AudioFile(\"/content/Recording2.wav\") as source:\n",
        "  audio = r.record(source)"
      ],
      "metadata": {
        "id": "lCgW_OS4-z7l"
      },
      "execution_count": 4,
      "outputs": []
    },
    {
      "cell_type": "code",
      "source": [
        "r.recognize_google(audio)"
      ],
      "metadata": {
        "colab": {
          "base_uri": "https://localhost:8080/",
          "height": 36
        },
        "id": "Ps97kLN3_-It",
        "outputId": "75194e9c-4790-45e6-f223-7a0113e006d6"
      },
      "execution_count": 5,
      "outputs": [
        {
          "output_type": "execute_result",
          "data": {
            "text/plain": [
              "'I am so happy to make my first speech-to-text converter'"
            ],
            "application/vnd.google.colaboratory.intrinsic+json": {
              "type": "string"
            }
          },
          "metadata": {},
          "execution_count": 5
        }
      ]
    },
    {
      "cell_type": "code",
      "source": [
        "reco = sr.Recognizer()"
      ],
      "metadata": {
        "id": "nC0J8TzrAHs4"
      },
      "execution_count": 6,
      "outputs": []
    },
    {
      "cell_type": "code",
      "source": [
        "with sr.AudioFile(\"/content/Tap Review.wav\") as source:\n",
        "  audio = reco.record(source)"
      ],
      "metadata": {
        "id": "Ad2zuBaEK8To"
      },
      "execution_count": 7,
      "outputs": []
    },
    {
      "cell_type": "code",
      "source": [
        "result=reco.recognize_google(audio,show_all=True)"
      ],
      "metadata": {
        "id": "5k720_jfLE97"
      },
      "execution_count": 10,
      "outputs": []
    },
    {
      "cell_type": "code",
      "source": [
        "result"
      ],
      "metadata": {
        "colab": {
          "base_uri": "https://localhost:8080/"
        },
        "id": "3By-OC6ILPAZ",
        "outputId": "ed264448-f108-4b37-a62f-62eb8c480cb1"
      },
      "execution_count": 11,
      "outputs": [
        {
          "output_type": "execute_result",
          "data": {
            "text/plain": [
              "{'alternative': [{'transcript': 'I love this little Bluetooth speaker the Bluetooth connectivity is good sound quality is amazing I listen to music all the time and I use Alexa all the time',\n",
              "   'confidence': 0.7611748},\n",
              "  {'transcript': 'I love this little dude speaker the Bluetooth connectivity is good sound quality is amazing I listen to music all the time and I use Alexa all the time'},\n",
              "  {'transcript': 'I love this little Bluetooth speaker the Bluetooth connectivity is good the sound quality is amazing I listen to music all the time and I use Alexa all the time'},\n",
              "  {'transcript': 'I love this little Bluetooth speaker the Bluetooth connectivity is good but sound quality is amazing I listen to music all the time and I use Alexa all the time'},\n",
              "  {'transcript': 'I love this little speaker the Bluetooth connectivity is good sound quality is amazing I listen to music all the time and I use Alexa all the time'}],\n",
              " 'final': True}"
            ]
          },
          "metadata": {},
          "execution_count": 11
        }
      ]
    },
    {
      "cell_type": "code",
      "source": [
        "text_data = result['alternative'][0]['transcript']"
      ],
      "metadata": {
        "id": "kBckhNi0LfNc"
      },
      "execution_count": 12,
      "outputs": []
    },
    {
      "cell_type": "code",
      "source": [
        "text_data"
      ],
      "metadata": {
        "colab": {
          "base_uri": "https://localhost:8080/",
          "height": 53
        },
        "id": "Lsm8JWsdLzNz",
        "outputId": "ad617a9a-d559-42dd-f410-07a282e88d79"
      },
      "execution_count": 13,
      "outputs": [
        {
          "output_type": "execute_result",
          "data": {
            "text/plain": [
              "'I love this little Bluetooth speaker the Bluetooth connectivity is good sound quality is amazing I listen to music all the time and I use Alexa all the time'"
            ],
            "application/vnd.google.colaboratory.intrinsic+json": {
              "type": "string"
            }
          },
          "metadata": {},
          "execution_count": 13
        }
      ]
    },
    {
      "cell_type": "code",
      "source": [
        "import nltk\n",
        "nltk.download('punkt')\n",
        "token = [token for token in nltk.word_tokenize(text_data)]"
      ],
      "metadata": {
        "colab": {
          "base_uri": "https://localhost:8080/"
        },
        "id": "anrL4uNNL2C9",
        "outputId": "f53cb8fa-aa1c-48c9-b3a0-b83f22355344"
      },
      "execution_count": 16,
      "outputs": [
        {
          "output_type": "stream",
          "name": "stderr",
          "text": [
            "[nltk_data] Downloading package punkt to /root/nltk_data...\n",
            "[nltk_data]   Unzipping tokenizers/punkt.zip.\n"
          ]
        }
      ]
    },
    {
      "cell_type": "code",
      "source": [
        "from nltk.corpus import stopwords\n",
        "nltk.download('stopwords')"
      ],
      "metadata": {
        "colab": {
          "base_uri": "https://localhost:8080/"
        },
        "id": "Ia0KpLw1MLA0",
        "outputId": "e0b0ea7b-57c0-497c-b6a3-a5728c6943d3"
      },
      "execution_count": 17,
      "outputs": [
        {
          "output_type": "stream",
          "name": "stderr",
          "text": [
            "[nltk_data] Downloading package stopwords to /root/nltk_data...\n",
            "[nltk_data]   Unzipping corpora/stopwords.zip.\n"
          ]
        },
        {
          "output_type": "execute_result",
          "data": {
            "text/plain": [
              "True"
            ]
          },
          "metadata": {},
          "execution_count": 17
        }
      ]
    },
    {
      "cell_type": "code",
      "source": [
        "final_text = [term for term in token if term not in nltk.corpus.stopwords.words('english')]"
      ],
      "metadata": {
        "id": "jzGqYh6wMr5A"
      },
      "execution_count": 19,
      "outputs": []
    },
    {
      "cell_type": "code",
      "source": [
        "final_text"
      ],
      "metadata": {
        "colab": {
          "base_uri": "https://localhost:8080/"
        },
        "id": "ijXLUL4hM7XX",
        "outputId": "0cb3090c-67ec-406e-aa89-2d98be403003"
      },
      "execution_count": 20,
      "outputs": [
        {
          "output_type": "execute_result",
          "data": {
            "text/plain": [
              "['I',\n",
              " 'love',\n",
              " 'little',\n",
              " 'Bluetooth',\n",
              " 'speaker',\n",
              " 'Bluetooth',\n",
              " 'connectivity',\n",
              " 'good',\n",
              " 'sound',\n",
              " 'quality',\n",
              " 'amazing',\n",
              " 'I',\n",
              " 'listen',\n",
              " 'music',\n",
              " 'time',\n",
              " 'I',\n",
              " 'use',\n",
              " 'Alexa',\n",
              " 'time']"
            ]
          },
          "metadata": {},
          "execution_count": 20
        }
      ]
    },
    {
      "cell_type": "code",
      "source": [
        "from collections import Counter\n",
        "freq = Counter(remove)\n",
        "freq.most_common(10)"
      ],
      "metadata": {
        "colab": {
          "base_uri": "https://localhost:8080/"
        },
        "id": "N_pX7lhbND8S",
        "outputId": "e05792d3-a45b-459b-a3a5-449f57e4bfff"
      },
      "execution_count": 21,
      "outputs": [
        {
          "output_type": "execute_result",
          "data": {
            "text/plain": [
              "[('I', 3),\n",
              " ('Bluetooth', 2),\n",
              " ('time', 2),\n",
              " ('love', 1),\n",
              " ('little', 1),\n",
              " ('speaker', 1),\n",
              " ('connectivity', 1),\n",
              " ('good', 1),\n",
              " ('sound', 1),\n",
              " ('quality', 1)]"
            ]
          },
          "metadata": {},
          "execution_count": 21
        }
      ]
    },
    {
      "cell_type": "code",
      "source": [
        "most_common_text=freq.most_common(10)"
      ],
      "metadata": {
        "id": "aZo3SgeIPsN6"
      },
      "execution_count": 24,
      "outputs": []
    },
    {
      "cell_type": "code",
      "source": [
        "feature_list = ['sound','Bluetooth','voice','battary','speaker']"
      ],
      "metadata": {
        "id": "pB_z3K6fNcJy"
      },
      "execution_count": 28,
      "outputs": []
    },
    {
      "cell_type": "code",
      "source": [
        "features_found = [item[0] for item in most_common_text if item[0] in feature_list]"
      ],
      "metadata": {
        "id": "nMNy-v9lOOh0"
      },
      "execution_count": 29,
      "outputs": []
    },
    {
      "cell_type": "code",
      "source": [
        "features_found"
      ],
      "metadata": {
        "colab": {
          "base_uri": "https://localhost:8080/"
        },
        "id": "5jtdcXQFPmKw",
        "outputId": "5ecfb9e2-2a25-4b3c-b21c-965b3115490a"
      },
      "execution_count": 30,
      "outputs": [
        {
          "output_type": "execute_result",
          "data": {
            "text/plain": [
              "['Bluetooth', 'speaker', 'sound']"
            ]
          },
          "metadata": {},
          "execution_count": 30
        }
      ]
    },
    {
      "cell_type": "code",
      "source": [],
      "metadata": {
        "id": "yU4pZDTpP7le"
      },
      "execution_count": null,
      "outputs": []
    }
  ]
}